{
 "cells": [
  {
   "cell_type": "markdown",
   "id": "aaa7b0de",
   "metadata": {},
   "source": [
    "**This is exploration of the BigG (Trucking company dataset). The trucks have a complete stop if they have the spn-code of 5246, spn-1569 and fmi 31 is 75% derate. The objectiv eis to figure out the spn/fmi codde combination withi 3-6 hour window to call the truck from the road and save the cost of toweing and have the delivery on time using alternative.**"
   ]
  },
  {
   "cell_type": "markdown",
   "id": "2bb2e7a1",
   "metadata": {},
   "source": [
    "**Data code**\n",
    "**QCVehDiagOnboardData –**\n",
    " \n",
    "Id -  the record Id\n",
    "Name – the name of the diagnostic\n",
    "Value – the value for that diagnostic\n",
    "FaultId – foreign key to the QCJ1939Fault record\n",
    "\n",
    " \n",
    "These are the engine data parameters that are sent with the engine faults.\n",
    " \n",
    "**QCJ1939Fault –**\n",
    " \n",
    "**ESS_Id** – the event subscriber service event that contained the fault\n",
    "**EventTimeStamp** – when the event took place\n",
    "**eventDescription** – brief text of meaning of the code (not always present)\n",
    "**actionDescription** – never seen this filled in\n",
    "**ecuSoftwareVersion** – version string from the reporting vehicle computer system\n",
    "**ecuSerialNumber** – Serial number of the reporting Engine Control Module (ECM)\n",
    "**ecuModel** -Model of the reporting ECM\n",
    "**ecuMake** – Manufacturer of the reporting ECM\n",
    "**ecuSource** –\n",
    "**spn** – Fault code being reported\n",
    "**fmi** – Failure Mode associated with the Fault Code\n",
    "**active**– whether the code is being set or being removed\n",
    "**activeTransitionCount** – Number of times code has been set/unset\n",
    "**faultValue** – never seen used\n",
    "**EquipmentID** – Assigned truck number of the unit in question\n",
    "**MCTNumber**– Communications Terminal assigned to the truck\n",
    "**Latitude** – Latitude at time of event\n",
    "**Longitude** – Longitude at time of event\n",
    "**LocationTimeStamp** – Time latitude and longitude were obtained\n"
   ]
  },
  {
   "cell_type": "code",
   "execution_count": 2,
   "id": "cbba0f06",
   "metadata": {},
   "outputs": [],
   "source": [
    "#Libraries need for work\n",
    "\n",
    "import pandas as pd\n",
    "from datetime import datetime\n",
    "\n",
    "\n",
    "\n",
    "from sklearn.linear_model import LogisticRegression\n",
    "\n",
    "from sklearn.model_selection import train_test_split\n",
    "from sklearn.cluster import KMeans\n",
    "from sklearn.pipeline import Pipeline\n",
    "from sklearn.preprocessing import StandardScaler\n",
    "from sklearn.impute import SimpleImputer\n",
    "\n",
    "#we need to create a conda environment for pycaret and then pip install the packages after activating and rerun the notebook.\n",
    "# from pycaret.classification import *\n",
    "# from pycaret.regression import *\n",
    "# from pycaret.time_series import *\n",
    "\n",
    "import seaborn as sns\n",
    "import matplotlib.pyplot as plt\n",
    "\n",
    "from sklearn.metrics import classification_report, accuracy_score, confusion_matrix"
   ]
  },
  {
   "cell_type": "code",
   "execution_count": 4,
   "id": "5dfba914",
   "metadata": {},
   "outputs": [
    {
     "name": "stderr",
     "output_type": "stream",
     "text": [
      "C:\\Users\\upadh\\anaconda3\\lib\\site-packages\\openpyxl\\worksheet\\_read_only.py:79: UserWarning: Data Validation extension is not supported and will be removed\n",
      "  for idx, row in parser.parse():\n"
     ]
    }
   ],
   "source": [
    "#Reading the data files\n",
    "\n",
    "faults = pd.read_csv(\"../data/J1939Faults.csv\",low_memory=False,\n",
    "                     parse_dates=['EventTimeStamp', 'LocationTimeStamp'])\n",
    "    #initial reading we saw it has date time object so we will keep them as date time. \n",
    "    #Also we saw the waning for memmory because of which we were loosing observations, so we will have low_memmory =False\n",
    "\n",
    "diagnostic = pd.read_csv(\"../data/VehicleDiagnosticOnboardData.csv\")\n",
    "service = pd.read_excel(\"../data/Service Fault Codes_1_0_0_167.xlsx\")"
   ]
  },
  {
   "cell_type": "markdown",
   "id": "26799c78",
   "metadata": {},
   "source": [
    "**Looking for data structure in the read csv**"
   ]
  },
  {
   "cell_type": "code",
   "execution_count": 7,
   "id": "c769fdb9",
   "metadata": {},
   "outputs": [
    {
     "data": {
      "text/plain": [
       "(7124, 14)"
      ]
     },
     "execution_count": 7,
     "metadata": {},
     "output_type": "execute_result"
    }
   ],
   "source": [
    "faults.shape #(1187335, 20)\n",
    "diagnostic.shape #(12821626, 4)\n",
    "service.shape #service.shape #"
   ]
  },
  {
   "cell_type": "code",
   "execution_count": 8,
   "id": "c38a3003",
   "metadata": {},
   "outputs": [
    {
     "data": {
      "text/html": [
       "<div>\n",
       "<style scoped>\n",
       "    .dataframe tbody tr th:only-of-type {\n",
       "        vertical-align: middle;\n",
       "    }\n",
       "\n",
       "    .dataframe tbody tr th {\n",
       "        vertical-align: top;\n",
       "    }\n",
       "\n",
       "    .dataframe thead th {\n",
       "        text-align: right;\n",
       "    }\n",
       "</style>\n",
       "<table border=\"1\" class=\"dataframe\">\n",
       "  <thead>\n",
       "    <tr style=\"text-align: right;\">\n",
       "      <th></th>\n",
       "      <th>RecordID</th>\n",
       "      <th>ESS_Id</th>\n",
       "      <th>EventTimeStamp</th>\n",
       "      <th>eventDescription</th>\n",
       "      <th>actionDescription</th>\n",
       "      <th>ecuSoftwareVersion</th>\n",
       "      <th>ecuSerialNumber</th>\n",
       "      <th>ecuModel</th>\n",
       "      <th>ecuMake</th>\n",
       "      <th>ecuSource</th>\n",
       "      <th>spn</th>\n",
       "      <th>fmi</th>\n",
       "      <th>active</th>\n",
       "      <th>activeTransitionCount</th>\n",
       "      <th>faultValue</th>\n",
       "      <th>EquipmentID</th>\n",
       "      <th>MCTNumber</th>\n",
       "      <th>Latitude</th>\n",
       "      <th>Longitude</th>\n",
       "      <th>LocationTimeStamp</th>\n",
       "    </tr>\n",
       "  </thead>\n",
       "  <tbody>\n",
       "    <tr>\n",
       "      <th>0</th>\n",
       "      <td>1</td>\n",
       "      <td>990349</td>\n",
       "      <td>2015-02-21 10:47:13</td>\n",
       "      <td>Low (Severity Low) Engine Coolant Level</td>\n",
       "      <td>NaN</td>\n",
       "      <td>unknown</td>\n",
       "      <td>unknown</td>\n",
       "      <td>unknown</td>\n",
       "      <td>unknown</td>\n",
       "      <td>0</td>\n",
       "      <td>111</td>\n",
       "      <td>17</td>\n",
       "      <td>True</td>\n",
       "      <td>2</td>\n",
       "      <td>NaN</td>\n",
       "      <td>1439</td>\n",
       "      <td>105354361</td>\n",
       "      <td>38.857638</td>\n",
       "      <td>-84.626851</td>\n",
       "      <td>2015-02-21 11:34:25</td>\n",
       "    </tr>\n",
       "    <tr>\n",
       "      <th>1</th>\n",
       "      <td>2</td>\n",
       "      <td>990360</td>\n",
       "      <td>2015-02-21 11:34:34</td>\n",
       "      <td>NaN</td>\n",
       "      <td>NaN</td>\n",
       "      <td>unknown</td>\n",
       "      <td>unknown</td>\n",
       "      <td>unknown</td>\n",
       "      <td>unknown</td>\n",
       "      <td>11</td>\n",
       "      <td>629</td>\n",
       "      <td>12</td>\n",
       "      <td>True</td>\n",
       "      <td>127</td>\n",
       "      <td>NaN</td>\n",
       "      <td>1439</td>\n",
       "      <td>105354361</td>\n",
       "      <td>38.857638</td>\n",
       "      <td>-84.626851</td>\n",
       "      <td>2015-02-21 11:35:10</td>\n",
       "    </tr>\n",
       "  </tbody>\n",
       "</table>\n",
       "</div>"
      ],
      "text/plain": [
       "   RecordID  ESS_Id      EventTimeStamp  \\\n",
       "0         1  990349 2015-02-21 10:47:13   \n",
       "1         2  990360 2015-02-21 11:34:34   \n",
       "\n",
       "                          eventDescription  actionDescription  \\\n",
       "0  Low (Severity Low) Engine Coolant Level                NaN   \n",
       "1                                      NaN                NaN   \n",
       "\n",
       "  ecuSoftwareVersion ecuSerialNumber ecuModel  ecuMake  ecuSource  spn  fmi  \\\n",
       "0            unknown         unknown  unknown  unknown          0  111   17   \n",
       "1            unknown         unknown  unknown  unknown         11  629   12   \n",
       "\n",
       "   active  activeTransitionCount  faultValue EquipmentID  MCTNumber  \\\n",
       "0    True                      2         NaN        1439  105354361   \n",
       "1    True                    127         NaN        1439  105354361   \n",
       "\n",
       "    Latitude  Longitude   LocationTimeStamp  \n",
       "0  38.857638 -84.626851 2015-02-21 11:34:25  \n",
       "1  38.857638 -84.626851 2015-02-21 11:35:10  "
      ]
     },
     "execution_count": 8,
     "metadata": {},
     "output_type": "execute_result"
    }
   ],
   "source": [
    "faults.head(2)"
   ]
  },
  {
   "cell_type": "code",
   "execution_count": 9,
   "id": "0fb109ee",
   "metadata": {},
   "outputs": [
    {
     "name": "stdout",
     "output_type": "stream",
     "text": [
      "<class 'pandas.core.frame.DataFrame'>\n",
      "RangeIndex: 1187335 entries, 0 to 1187334\n",
      "Data columns (total 20 columns):\n",
      " #   Column                 Non-Null Count    Dtype         \n",
      "---  ------                 --------------    -----         \n",
      " 0   RecordID               1187335 non-null  int64         \n",
      " 1   ESS_Id                 1187335 non-null  int64         \n",
      " 2   EventTimeStamp         1187335 non-null  datetime64[ns]\n",
      " 3   eventDescription       1126490 non-null  object        \n",
      " 4   actionDescription      0 non-null        float64       \n",
      " 5   ecuSoftwareVersion     891285 non-null   object        \n",
      " 6   ecuSerialNumber        844318 non-null   object        \n",
      " 7   ecuModel               1122577 non-null  object        \n",
      " 8   ecuMake                1122577 non-null  object        \n",
      " 9   ecuSource              1187335 non-null  int64         \n",
      " 10  spn                    1187335 non-null  int64         \n",
      " 11  fmi                    1187335 non-null  int64         \n",
      " 12  active                 1187335 non-null  bool          \n",
      " 13  activeTransitionCount  1187335 non-null  int64         \n",
      " 14  faultValue             0 non-null        float64       \n",
      " 15  EquipmentID            1187335 non-null  object        \n",
      " 16  MCTNumber              1187335 non-null  int64         \n",
      " 17  Latitude               1187335 non-null  float64       \n",
      " 18  Longitude              1187335 non-null  float64       \n",
      " 19  LocationTimeStamp      1187335 non-null  datetime64[ns]\n",
      "dtypes: bool(1), datetime64[ns](2), float64(4), int64(7), object(6)\n",
      "memory usage: 173.2+ MB\n"
     ]
    }
   ],
   "source": [
    "faults.info()"
   ]
  },
  {
   "cell_type": "code",
   "execution_count": 12,
   "id": "c278eb54",
   "metadata": {},
   "outputs": [
    {
     "data": {
      "text/plain": [
       "RecordID                       0\n",
       "ESS_Id                         0\n",
       "EventTimeStamp                 0\n",
       "eventDescription           60845\n",
       "actionDescription        1187335\n",
       "ecuSoftwareVersion        296050\n",
       "ecuSerialNumber           343017\n",
       "ecuModel                   64758\n",
       "ecuMake                    64758\n",
       "ecuSource                      0\n",
       "spn                            0\n",
       "fmi                            0\n",
       "active                         0\n",
       "activeTransitionCount          0\n",
       "faultValue               1187335\n",
       "EquipmentID                    0\n",
       "MCTNumber                      0\n",
       "Latitude                       0\n",
       "Longitude                      0\n",
       "LocationTimeStamp              0\n",
       "dtype: int64"
      ]
     },
     "execution_count": 12,
     "metadata": {},
     "output_type": "execute_result"
    }
   ],
   "source": [
    "faults.describe()\n",
    "faults.isna().sum()"
   ]
  },
  {
   "cell_type": "code",
   "execution_count": 33,
   "id": "a85c528a",
   "metadata": {},
   "outputs": [
    {
     "data": {
      "text/plain": [
       "<Axes: title={'center': 'Observations_per_year'}, ylabel='Number of Observations'>"
      ]
     },
     "execution_count": 33,
     "metadata": {},
     "output_type": "execute_result"
    },
    {
     "data": {
      "image/png": "[encoded data removed]",
      "text/plain": [
       "<Figure size 640x480 with 1 Axes>"
      ]
     },
     "metadata": {},
     "output_type": "display_data"
    }
   ],
   "source": [
    "faults.columns\n",
    "faults['EventTimeStamp'].value_counts()\n",
    "(faults['EventTimeStamp']\n",
    " .dt.year\n",
    " .value_counts()\n",
    " .sort_values(ascending = False)\n",
    " .plot(kind=\"bar\", \n",
    "       title = 'Observations_per_year',\n",
    "       xlabel='', ylabel='Number of Observations'))\n",
    "#date time has year dt.year extracts year from it"
   ]
  },
  {
   "cell_type": "code",
   "execution_count": 34,
   "id": "fa3a76dc",
   "metadata": {},
   "outputs": [
    {
     "data": {
      "text/plain": [
       "<Axes: title={'center': 'Observations_per_year'}, ylabel='Number of Observations'>"
      ]
     },
     "execution_count": 34,
     "metadata": {},
     "output_type": "execute_result"
    },
    {
     "data": {
      "image/png": "[encoded data removed]",
      "text/plain": [
       "<Figure size 640x480 with 1 Axes>"
      ]
     },
     "metadata": {},
     "output_type": "display_data"
    }
   ],
   "source": [
    "(faults['LocationTimeStamp']\n",
    " .dt.year\n",
    " .value_counts()\n",
    " .sort_values(ascending = False)\n",
    " .plot(kind=\"bar\", \n",
    "       title = 'Observations_per_year',\n",
    "       xlabel='',\n",
    "       ylabel='Number of Observations'))\n",
    "#date time has year dt.year extracts year from it"
   ]
  },
  {
   "cell_type": "code",
   "execution_count": 35,
   "id": "8d9788f4",
   "metadata": {},
   "outputs": [
    {
     "data": {
      "text/plain": [
       "2016    332403\n",
       "2015    325826\n",
       "2017    254923\n",
       "2018    144578\n",
       "2019    112204\n",
       "2020     17198\n",
       "2000       192\n",
       "2011         8\n",
       "1969         2\n",
       "2014         1\n",
       "Name: LocationTimeStamp, dtype: int64"
      ]
     },
     "execution_count": 35,
     "metadata": {},
     "output_type": "execute_result"
    }
   ],
   "source": [
    "faults['EventTimeStamp'].dt.year.unique()\n",
    "faults['EventTimeStamp'].dt.year.value_counts()\n",
    "faults['LocationTimeStamp'].dt.year.value_counts()"
   ]
  },
  {
   "cell_type": "code",
   "execution_count": 55,
   "id": "075b3c0b",
   "metadata": {},
   "outputs": [
    {
     "data": {
      "text/plain": [
       "<Axes: title={'center': 'Equipment_Id'}, ylabel='Number of Observations'>"
      ]
     },
     "execution_count": 55,
     "metadata": {},
     "output_type": "execute_result"
    },
    {
     "data": {
      "image/png": "[encoded data removed]",
      "text/plain": [
       "<Figure size 640x480 with 1 Axes>"
      ]
     },
     "metadata": {},
     "output_type": "display_data"
    }
   ],
   "source": [
    "faults['EquipmentID'].nunique() #1122\n",
    "(faults['EquipmentID'].value_counts().sort_values()\n",
    " .plot(kind=\"bar\", \n",
    "       title = 'Equipment_Id',\n",
    "       xlabel= (''),\n",
    "       ylabel='Number of Observations'))"
   ]
  },
  {
   "cell_type": "code",
   "execution_count": 61,
   "id": "c539923c",
   "metadata": {},
   "outputs": [
    {
     "data": {
      "text/html": [
       "<div>\n",
       "<style scoped>\n",
       "    .dataframe tbody tr th:only-of-type {\n",
       "        vertical-align: middle;\n",
       "    }\n",
       "\n",
       "    .dataframe tbody tr th {\n",
       "        vertical-align: top;\n",
       "    }\n",
       "\n",
       "    .dataframe thead th {\n",
       "        text-align: right;\n",
       "    }\n",
       "</style>\n",
       "<table border=\"1\" class=\"dataframe\">\n",
       "  <thead>\n",
       "    <tr style=\"text-align: right;\">\n",
       "      <th></th>\n",
       "      <th>EquipmentID</th>\n",
       "    </tr>\n",
       "  </thead>\n",
       "  <tbody>\n",
       "    <tr>\n",
       "      <th>4</th>\n",
       "      <td>1158964</td>\n",
       "    </tr>\n",
       "    <tr>\n",
       "      <th>3</th>\n",
       "      <td>26179</td>\n",
       "    </tr>\n",
       "    <tr>\n",
       "      <th>9</th>\n",
       "      <td>2150</td>\n",
       "    </tr>\n",
       "    <tr>\n",
       "      <th>5</th>\n",
       "      <td>23</td>\n",
       "    </tr>\n",
       "    <tr>\n",
       "      <th>10</th>\n",
       "      <td>19</td>\n",
       "    </tr>\n",
       "  </tbody>\n",
       "</table>\n",
       "</div>"
      ],
      "text/plain": [
       "    EquipmentID\n",
       "4       1158964\n",
       "3         26179\n",
       "9          2150\n",
       "5            23\n",
       "10           19"
      ]
     },
     "execution_count": 61,
     "metadata": {},
     "output_type": "execute_result"
    }
   ],
   "source": [
    "#the EuipmentId is a string character and has length varrying from character lnrth 3 4, 5, and 9 and 10\n",
    "faults['EquipmentID'].str.len().nunique() #5\n",
    "faults['EquipmentID'].str.len().value_counts().sort_values(ascending=False).to_frame()\n"
   ]
  },
  {
   "cell_type": "code",
   "execution_count": 63,
   "id": "cef472b9",
   "metadata": {},
   "outputs": [
    {
     "data": {
      "text/plain": [
       "True     608454\n",
       "False    578881\n",
       "Name: active, dtype: int64"
      ]
     },
     "execution_count": 63,
     "metadata": {},
     "output_type": "execute_result"
    }
   ],
   "source": [
    "faults['active'].value_counts()"
   ]
  },
  {
   "cell_type": "code",
   "execution_count": null,
   "id": "9b4ada9f",
   "metadata": {},
   "outputs": [],
   "source": [
    "faults['spn'].nunique() #450\n",
    "faults['fmi'].nunique() #26\n",
    "faults[(faults['spn'] == 1569)].shape #10927 observations\n",
    "faults[(faults['spn'] == 5246)].shape #1195 observations\n",
    "\n",
    "faults.groupby('EquipmentID')[(faults['spn'] == 1569)]"
   ]
  },
  {
   "cell_type": "markdown",
   "id": "8c04a6e2",
   "metadata": {},
   "source": [
    "**SUMMARY faults df:**\n",
    "\n",
    "It has 1187335 (1.18 X10^6) obseravtions and 20 features.\n",
    "The columns are ['RecordID', 'ESS_Id', 'EventTimeStamp', 'eventDescription',\n",
    "       'actionDescription', 'ecuSoftwareVersion', 'ecuSerialNumber',\n",
    "       'ecuModel', 'ecuMake', 'ecuSource', 'spn', 'fmi', 'active',\n",
    "       'activeTransitionCount', 'faultValue', 'EquipmentID', 'MCTNumber',\n",
    "       'Latitude', 'Longitude', 'LocationTimeStamp']\n",
    "We have following structure two datetime (EventTimeStamp,  LocationTimeStamp), Object (ecuSoftwareVersion,ecuSerialNumber, ecuModel,  ecuMake, EquipmentID )\n",
    "we have 4 floats including Latitite and Longitude but the actionDescription and faultValue  are all null \n",
    "**so we will drop actionDescription and faultValue columns.**\n",
    "Rest are all int64.\n",
    "\n",
    "0   RecordID               1187335 non-null  int64         \n",
    " 1   ESS_Id                 1187335 non-null  int64         \n",
    " 2   EventTimeStamp         1187335 non-null  datetime64[ns]\n",
    " 3   eventDescription       1126490 non-null  object        \n",
    " 4   actionDescription      0 non-null        float64       \n",
    " 5   ecuSoftwareVersion     891285 non-null   object        \n",
    " 6   ecuSerialNumber        844318 non-null   object        \n",
    " 7   ecuModel               1122577 non-null  object        \n",
    " 8   ecuMake                1122577 non-null  object        \n",
    " 9   ecuSource              1187335 non-null  int64         \n",
    " 10  spn                    1187335 non-null  int64         \n",
    " 11  fmi                    1187335 non-null  int64         \n",
    " 12  active                 1187335 non-null  bool          \n",
    " 13  activeTransitionCount  1187335 non-null  int64         \n",
    " 14  faultValue             0 non-null        float64       \n",
    " 15  EquipmentID            1187335 non-null  object        \n",
    " 16  MCTNumber              1187335 non-null  int64         \n",
    " 17  Latitude               1187335 non-null  float64       \n",
    " 18  Longitude              1187335 non-null  float64       \n",
    " 19  LocationTimeStamp      1187335 non-null  datetime64[ns]\n",
    "    \n",
    "The event starts at **[ 2000, 2002, 2009,2010, 2011, 2015, 2016, 2017, 2018, 2019,  2020, 2026]**,\n",
    "but the 2011(244),2000(219),2010(58), 2009(24),2026(3),2002(1) have a total of 541 observations. \n",
    "\n",
    "**in the LocationTimeStamp we also have 2014(1),2000(192), 2011(8), 1969(2)\n",
    "**So we will drop the years below 2014.**\n",
    "\n",
    "We have a total of 1122 unique EquipmentID. The string character is of 5 different length most observations are of string character of 3 and 4 there are also some 5 but then we have 9 and 10.\n",
    "As mentioned by the BigG  **we will drop the id which more than 5 character.**\n",
    "\n",
    "The lat and long column will be used for finding how close the truck is one of the three servce stations.\n",
    "**One degree of latitude equals approximately 364,000 feet (69 miles). One-degree of longitude equals 288,200 feet (54.6 miles)**\n",
    "so **we will drop those observations which are within 1 mile radii of the service station.**\n",
    "\n",
    "Also the **active** code which are **False** means that the fault code is fixed so we will also drop those rows.\n",
    "The lat long of the three stations are also provided.\n",
    "\n",
    "There 450 uniues spn codes."
   ]
  },
  {
   "cell_type": "markdown",
   "id": "bf7a88fd",
   "metadata": {},
   "source": [
    "***cleaning the faults the df***"
   ]
  },
  {
   "cell_type": "code",
   "execution_count": null,
   "id": "7d2381d7",
   "metadata": {},
   "outputs": [],
   "source": [
    "#finding the distance from the nearest service stations\n",
    "\n"
   ]
  }
 ],
 "metadata": {
  "kernelspec": {
   "display_name": "Python 3 (ipykernel)",
   "language": "python",
   "name": "python3"
  },
  "language_info": {
   "codemirror_mode": {
    "name": "ipython",
    "version": 3
   },
   "file_extension": ".py",
   "mimetype": "text/x-python",
   "name": "python",
   "nbconvert_exporter": "python",
   "pygments_lexer": "ipython3",
   "version": "3.9.16"
  }
 },
 "nbformat": 4,
 "nbformat_minor": 5
}
