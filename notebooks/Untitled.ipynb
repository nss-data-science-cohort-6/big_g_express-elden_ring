{
 "cells": [
  {
   "cell_type": "markdown",
   "id": "95c535e5",
   "metadata": {},
   "source": [
    "### This notebook is in mypycaret environment to test the models for BigG_express data using the data merged df that were craeted in the previous notebook"
   ]
  },
  {
   "cell_type": "code",
   "execution_count": null,
   "id": "13ca9c7d",
   "metadata": {},
   "outputs": [],
   "source": []
  },
  {
   "cell_type": "code",
   "execution_count": 1,
   "id": "1b214d25",
   "metadata": {},
   "outputs": [],
   "source": [
    "#Libraries need for work\n",
    "\n",
    "import pandas as pd\n",
    "from datetime import datetime, timedelta\n",
    "\n",
    "\n",
    "\n",
    "from sklearn.linear_model import LogisticRegression\n",
    "\n",
    "from sklearn.model_selection import train_test_split\n",
    "from sklearn.cluster import KMeans\n",
    "from sklearn.pipeline import Pipeline\n",
    "from sklearn.preprocessing import StandardScaler\n",
    "from sklearn.impute import SimpleImputer\n",
    "\n",
    "#we need to create a conda environment for pycaret and then pip install the packages after activating and rerun the notebook.\n",
    "from pycaret.classification import *\n",
    "from pycaret.regression import *\n",
    "from pycaret.time_series import *\n",
    "\n",
    "import seaborn as sns\n",
    "import matplotlib.pyplot as plt\n",
    "import numpy as np\n",
    "from sklearn.metrics import classification_report, accuracy_score, confusion_matrix"
   ]
  },
  {
   "cell_type": "code",
   "execution_count": 2,
   "id": "0237e53f",
   "metadata": {},
   "outputs": [],
   "source": [
    "faults_clean = pd.read_csv(\"../data/faults_clean.csv\")"
   ]
  },
  {
   "cell_type": "code",
   "execution_count": 3,
   "id": "74395007",
   "metadata": {},
   "outputs": [
    {
     "name": "stdout",
     "output_type": "stream",
     "text": [
      "<class 'pandas.core.frame.DataFrame'>\n",
      "RangeIndex: 546674 entries, 0 to 546673\n",
      "Data columns (total 19 columns):\n",
      " #   Column                 Non-Null Count   Dtype  \n",
      "---  ------                 --------------   -----  \n",
      " 0   Unnamed: 0             546674 non-null  int64  \n",
      " 1   RecordID               546674 non-null  int64  \n",
      " 2   ESS_Id                 546674 non-null  int64  \n",
      " 3   EventTimeStamp         546674 non-null  object \n",
      " 4   eventDescription       517014 non-null  object \n",
      " 5   ecuSoftwareVersion     414247 non-null  object \n",
      " 6   ecuSerialNumber        393180 non-null  object \n",
      " 7   ecuModel               518571 non-null  object \n",
      " 8   ecuMake                518571 non-null  object \n",
      " 9   ecuSource              546674 non-null  int64  \n",
      " 10  spn                    546674 non-null  int64  \n",
      " 11  fmi                    546674 non-null  int64  \n",
      " 12  active                 546674 non-null  bool   \n",
      " 13  activeTransitionCount  546674 non-null  int64  \n",
      " 14  EquipmentID            546674 non-null  object \n",
      " 15  MCTNumber              546674 non-null  int64  \n",
      " 16  Latitude               546674 non-null  float64\n",
      " 17  Longitude              546674 non-null  float64\n",
      " 18  LocationTimeStamp      546674 non-null  object \n",
      "dtypes: bool(1), float64(2), int64(8), object(8)\n",
      "memory usage: 75.6+ MB\n"
     ]
    },
    {
     "data": {
      "text/plain": [
       "{bool: ['active'], int64: ['Unnamed: 0', 'RecordID', 'ESS_Id', 'ecuSource', 'spn', 'fmi', 'activeTransitionCount', 'MCTNumber'], float64: ['Latitude', 'Longitude'], object: ['EventTimeStamp', 'eventDescription', 'ecuSoftwareVersion', 'ecuSerialNumber', 'ecuModel', 'ecuMake', 'EquipmentID', 'LocationTimeStamp']}"
      ]
     },
     "execution_count": 3,
     "metadata": {},
     "output_type": "execute_result"
    }
   ],
   "source": [
    "faults_clean.shape\n",
    "faults_clean.info()\n",
    "faults_clean.columns.to_series().groupby(faults_clean.dtypes).groups"
   ]
  },
  {
   "cell_type": "code",
   "execution_count": 4,
   "id": "6af7cf12",
   "metadata": {},
   "outputs": [],
   "source": [
    "derate_target = pd.read_pickle('../data/derate_target.pk')"
   ]
  },
  {
   "cell_type": "code",
   "execution_count": 5,
   "id": "fddb6ec2",
   "metadata": {},
   "outputs": [
    {
     "data": {
      "text/plain": [
       "(546674, 2)"
      ]
     },
     "execution_count": 5,
     "metadata": {},
     "output_type": "execute_result"
    }
   ],
   "source": [
    "derate_target.shape"
   ]
  },
  {
   "cell_type": "code",
   "execution_count": 6,
   "id": "90d40118",
   "metadata": {},
   "outputs": [],
   "source": [
    "derate_feature = pd.read_pickle('../data/derate_features.pk')"
   ]
  },
  {
   "cell_type": "code",
   "execution_count": 7,
   "id": "dfc760fc",
   "metadata": {},
   "outputs": [
    {
     "data": {
      "text/plain": [
       "(546674, 461)"
      ]
     },
     "execution_count": 7,
     "metadata": {},
     "output_type": "execute_result"
    }
   ],
   "source": [
    "derate_feature.shape"
   ]
  },
  {
   "cell_type": "code",
   "execution_count": 8,
   "id": "551ddffb",
   "metadata": {},
   "outputs": [
    {
     "name": "stdout",
     "output_type": "stream",
     "text": [
      "<class 'pandas.core.frame.DataFrame'>\n",
      "Int64Index: 546674 entries, 536775 to 70148\n",
      "Columns: 461 entries, RecordID to target\n",
      "dtypes: bool(1), datetime64[ns](2), float64(419), int32(1), int64(6), object(32)\n",
      "memory usage: 1.9+ GB\n"
     ]
    },
    {
     "data": {
      "text/plain": [
       "{bool: ['active'], int64: ['RecordID', 'spn', 'fmi', 'ecuSource', 'spn', 'fmi'], float64: ['Latitude', 'Longitude', 'spn_0', 'spn_100', 'spn_101', 'spn_102', 'spn_1023', 'spn_1024', 'spn_1028', 'spn_103', 'spn_1043', 'spn_1045', 'spn_105', 'spn_1056', 'spn_1059', 'spn_1067', 'spn_1068', 'spn_107', 'spn_1071', 'spn_1072', 'spn_1075', 'spn_1078', 'spn_108', 'spn_1081', 'spn_110', 'spn_111', 'spn_1127', 'spn_114863', 'spn_116', 'spn_1172', 'spn_1176', 'spn_118', 'spn_1209', 'spn_1213', 'spn_1231', 'spn_1235', 'spn_1236', 'spn_1239', 'spn_1247', 'spn_125', 'spn_127', 'spn_1279', 'spn_1321', 'spn_1322', 'spn_1323', 'spn_1324', 'spn_1325', 'spn_1326', 'spn_1327', 'spn_1328', 'spn_1347', 'spn_1349', 'spn_13600', 'spn_139296', 'spn_1464', 'spn_1481', 'spn_1482', 'spn_1483', 'spn_1487', 'spn_153', 'spn_153931', 'spn_1569', 'spn_157', 'spn_158', 'spn_16', 'spn_160', 'spn_1612', 'spn_1659', 'spn_1668', 'spn_167', 'spn_1675', 'spn_168', 'spn_17096', 'spn_171', 'spn_173', 'spn_174', 'spn_175', 'spn_17590', 'spn_1761', 'spn_177', 'spn_1787', 'spn_1807', 'spn_1808', 'spn_1809', 'spn_1815', 'spn_184', 'spn_188', 'spn_190', 'spn_191', 'spn_196608', 'spn_2000', 'spn_2017', 'spn_2023', 'spn_2029', 'spn_228', 'spn_235', 'spn_236', 'spn_237', 'spn_245', 'spn_247', ...], datetime64[ns]: ['LocationTimeStamp', 'EventTimeStamp'], int32: ['target'], object: ['AcceleratorPedal', 'BarometricPressure', 'CruiseControlSetSpeed', 'DistanceLtd', 'EngineCoolantTemperature', 'EngineLoad', 'EngineOilPressure', 'EngineOilTemperature', 'EngineRpm', 'EngineTimeLtd', 'FuelLevel', 'FuelLtd', 'FuelRate', 'FuelTemperature', 'IntakeManifoldTemperature', 'LampStatus', 'ServiceDistance', 'Speed', 'SwitchedBatteryVoltage', 'Throttle', 'TurboBoostPressure', 'eventDescription', 'ecuSoftwareVersion', 'ecuSerialNumber', 'ecuModel', 'ecuMake', 'activeTransitionCount', 'EquipmentID_x', 'MCTNumber', 'SPN_FMI', 'EquipmentID_y', 'spn_fmi']}"
      ]
     },
     "execution_count": 8,
     "metadata": {},
     "output_type": "execute_result"
    }
   ],
   "source": [
    "derate_feature.info()\n",
    "derate_feature.columns.to_series().groupby(derate_feature.dtypes).groups"
   ]
  },
  {
   "cell_type": "code",
   "execution_count": 9,
   "id": "cb332fc5",
   "metadata": {},
   "outputs": [
    {
     "data": {
      "text/plain": [
       "(546674, 2)"
      ]
     },
     "execution_count": 9,
     "metadata": {},
     "output_type": "execute_result"
    }
   ],
   "source": [
    "derate_target.shape #(546674, 2)"
   ]
  },
  {
   "cell_type": "code",
   "execution_count": 10,
   "id": "3e3a6cd6",
   "metadata": {},
   "outputs": [
    {
     "data": {
      "text/plain": [
       "(546674, 461)"
      ]
     },
     "execution_count": 10,
     "metadata": {},
     "output_type": "execute_result"
    }
   ],
   "source": [
    "derate_feature.shape #(546674, 461)"
   ]
  },
  {
   "cell_type": "code",
   "execution_count": 11,
   "id": "d745b5e5",
   "metadata": {},
   "outputs": [
    {
     "data": {
      "text/plain": [
       "0"
      ]
     },
     "execution_count": 11,
     "metadata": {},
     "output_type": "execute_result"
    }
   ],
   "source": [
    "derate_feature['DistanceLtd'].isna().sum()"
   ]
  },
  {
   "cell_type": "code",
   "execution_count": 12,
   "id": "04d25c0a",
   "metadata": {},
   "outputs": [],
   "source": [
    "# derate_feature.columns.to_list()\n"
   ]
  },
  {
   "cell_type": "code",
   "execution_count": 13,
   "id": "da95bcd0",
   "metadata": {},
   "outputs": [
    {
     "data": {
      "text/plain": [
       "'ecuSoftwareVersion'"
      ]
     },
     "execution_count": 13,
     "metadata": {},
     "output_type": "execute_result"
    }
   ],
   "source": [
    "#how to find a column where a particula string exists\n",
    "# word = 'Low (Severity Low) Engine Coolant Level' #this string is causing problem which is present in event description so going to drop that column as well\n",
    "word = 'unknown'\n",
    "derate_feature.columns[derate_feature[derate_feature==word].notna().sum()>0][0]"
   ]
  },
  {
   "cell_type": "code",
   "execution_count": 14,
   "id": "de2c90fd",
   "metadata": {},
   "outputs": [],
   "source": [
    "# X = derate_feature.drop(columns=['EquipmentID_y', 'eventDescription', 'ecuSoftwareVersion', 'active',\n",
    "#                                  'ecuModel', 'ecuMake', 'activeTransitionCount', 'EquipmentID_x',\n",
    "#                                  'MCTNumber', 'SPN_FMI', 'EquipmentID_y', 'spn_fmi','EventTimeStamp',\n",
    "# 'Latitude',\n",
    "#  'Longitude',\n",
    "#  'LocationTimeStamp',\n",
    "#  'SPN_FMI',\n",
    "#  'target'])\n",
    "\n",
    "X= derate_feature[['AcceleratorPedal', 'BarometricPressure', 'CruiseControlSetSpeed', 'DistanceLtd', 'EngineCoolantTemperature', 'EngineLoad', 'EngineOilPressure', 'EngineOilTemperature', 'EngineRpm', 'EngineTimeLtd', 'FuelLevel', 'FuelLtd', 'FuelRate', 'FuelTemperature', 'IntakeManifoldTemperature', \n",
    "                'LampStatus', 'ServiceDistance', 'Speed', 'SwitchedBatteryVoltage', 'Throttle', 'TurboBoostPressure',]]\n",
    "y = derate_feature[['target']]\n",
    "\n",
    "X_train, X_test, y_train, y_test = train_test_split(X, y, random_state = 321)\n",
    "\n",
    "# linreg_base = LinearRegression().fit(X_train_sm1, y_train_sm1)# \n",
    "\n",
    "# X_train_added2.columns\n",
    "# X_train_added2.head(10)"
   ]
  },
  {
   "cell_type": "code",
   "execution_count": 15,
   "id": "abad3242",
   "metadata": {},
   "outputs": [
    {
     "name": "stdout",
     "output_type": "stream",
     "text": [
      "(410005, 21)\n",
      "(136669, 21)\n",
      "(136669, 1)\n"
     ]
    }
   ],
   "source": [
    "print(X_train.shape)\n",
    "print(X_test.shape)\n",
    "print(y_test.shape)"
   ]
  },
  {
   "cell_type": "code",
   "execution_count": 16,
   "id": "055ebec6",
   "metadata": {},
   "outputs": [],
   "source": [
    "from sklearn.impute import SimpleImputer\n",
    "logReg_scaler = Pipeline(\n",
    "    steps = [\n",
    "        ('impute', SimpleImputer()), #fills average of the column if there are NaN missing values\n",
    "        ('scaler', StandardScaler()),\n",
    "        ('log_reg', LogisticRegression(C = 0.01)) #started from 0.01, 0,001, \n",
    "    ]\n",
    ").fit(X_train, y_train)"
   ]
  },
  {
   "cell_type": "code",
   "execution_count": 17,
   "id": "18b54142",
   "metadata": {},
   "outputs": [],
   "source": [
    "# fit the model on X_test data\n",
    "logreg1 = logReg_scaler.predict(X_test)"
   ]
  },
  {
   "cell_type": "code",
   "execution_count": 18,
   "id": "b849ab03",
   "metadata": {},
   "outputs": [
    {
     "data": {
      "text/plain": [
       "0.9971902918730656"
      ]
     },
     "execution_count": 18,
     "metadata": {},
     "output_type": "execute_result"
    }
   ],
   "source": [
    "#finding the accuracy score\n",
    "\n",
    "accuracy_score(y_test, logreg1)"
   ]
  },
  {
   "cell_type": "code",
   "execution_count": 19,
   "id": "b25ff50e",
   "metadata": {
    "scrolled": true
   },
   "outputs": [
    {
     "data": {
      "text/html": [
       "<div>\n",
       "<style scoped>\n",
       "    .dataframe tbody tr th:only-of-type {\n",
       "        vertical-align: middle;\n",
       "    }\n",
       "\n",
       "    .dataframe tbody tr th {\n",
       "        vertical-align: top;\n",
       "    }\n",
       "\n",
       "    .dataframe thead th {\n",
       "        text-align: right;\n",
       "    }\n",
       "</style>\n",
       "<table border=\"1\" class=\"dataframe\">\n",
       "  <thead>\n",
       "    <tr style=\"text-align: right;\">\n",
       "      <th></th>\n",
       "      <th>feature</th>\n",
       "      <th>coefficient</th>\n",
       "      <th>ex_coefficient</th>\n",
       "    </tr>\n",
       "  </thead>\n",
       "  <tbody>\n",
       "    <tr>\n",
       "      <th>8</th>\n",
       "      <td>EngineRpm</td>\n",
       "      <td>-0.395508</td>\n",
       "      <td>0.673338</td>\n",
       "    </tr>\n",
       "    <tr>\n",
       "      <th>1</th>\n",
       "      <td>BarometricPressure</td>\n",
       "      <td>-0.283382</td>\n",
       "      <td>0.753232</td>\n",
       "    </tr>\n",
       "    <tr>\n",
       "      <th>6</th>\n",
       "      <td>EngineOilPressure</td>\n",
       "      <td>-0.242197</td>\n",
       "      <td>0.784902</td>\n",
       "    </tr>\n",
       "    <tr>\n",
       "      <th>14</th>\n",
       "      <td>IntakeManifoldTemperature</td>\n",
       "      <td>-0.165102</td>\n",
       "      <td>0.847807</td>\n",
       "    </tr>\n",
       "    <tr>\n",
       "      <th>11</th>\n",
       "      <td>FuelLtd</td>\n",
       "      <td>-0.075440</td>\n",
       "      <td>0.927336</td>\n",
       "    </tr>\n",
       "    <tr>\n",
       "      <th>10</th>\n",
       "      <td>FuelLevel</td>\n",
       "      <td>-0.055616</td>\n",
       "      <td>0.945902</td>\n",
       "    </tr>\n",
       "    <tr>\n",
       "      <th>4</th>\n",
       "      <td>EngineCoolantTemperature</td>\n",
       "      <td>-0.033965</td>\n",
       "      <td>0.966606</td>\n",
       "    </tr>\n",
       "    <tr>\n",
       "      <th>0</th>\n",
       "      <td>AcceleratorPedal</td>\n",
       "      <td>-0.018691</td>\n",
       "      <td>0.981482</td>\n",
       "    </tr>\n",
       "    <tr>\n",
       "      <th>7</th>\n",
       "      <td>EngineOilTemperature</td>\n",
       "      <td>-0.010503</td>\n",
       "      <td>0.989552</td>\n",
       "    </tr>\n",
       "    <tr>\n",
       "      <th>17</th>\n",
       "      <td>Speed</td>\n",
       "      <td>-0.009411</td>\n",
       "      <td>0.990633</td>\n",
       "    </tr>\n",
       "    <tr>\n",
       "      <th>19</th>\n",
       "      <td>Throttle</td>\n",
       "      <td>-0.008737</td>\n",
       "      <td>0.991301</td>\n",
       "    </tr>\n",
       "    <tr>\n",
       "      <th>2</th>\n",
       "      <td>CruiseControlSetSpeed</td>\n",
       "      <td>0.002522</td>\n",
       "      <td>1.002525</td>\n",
       "    </tr>\n",
       "    <tr>\n",
       "      <th>12</th>\n",
       "      <td>FuelRate</td>\n",
       "      <td>0.005822</td>\n",
       "      <td>1.005839</td>\n",
       "    </tr>\n",
       "    <tr>\n",
       "      <th>16</th>\n",
       "      <td>ServiceDistance</td>\n",
       "      <td>0.006454</td>\n",
       "      <td>1.006475</td>\n",
       "    </tr>\n",
       "    <tr>\n",
       "      <th>20</th>\n",
       "      <td>TurboBoostPressure</td>\n",
       "      <td>0.021855</td>\n",
       "      <td>1.022096</td>\n",
       "    </tr>\n",
       "    <tr>\n",
       "      <th>5</th>\n",
       "      <td>EngineLoad</td>\n",
       "      <td>0.066960</td>\n",
       "      <td>1.069252</td>\n",
       "    </tr>\n",
       "    <tr>\n",
       "      <th>9</th>\n",
       "      <td>EngineTimeLtd</td>\n",
       "      <td>0.115870</td>\n",
       "      <td>1.122850</td>\n",
       "    </tr>\n",
       "    <tr>\n",
       "      <th>18</th>\n",
       "      <td>SwitchedBatteryVoltage</td>\n",
       "      <td>0.161459</td>\n",
       "      <td>1.175225</td>\n",
       "    </tr>\n",
       "    <tr>\n",
       "      <th>3</th>\n",
       "      <td>DistanceLtd</td>\n",
       "      <td>0.274643</td>\n",
       "      <td>1.316060</td>\n",
       "    </tr>\n",
       "    <tr>\n",
       "      <th>13</th>\n",
       "      <td>FuelTemperature</td>\n",
       "      <td>0.466743</td>\n",
       "      <td>1.594791</td>\n",
       "    </tr>\n",
       "    <tr>\n",
       "      <th>15</th>\n",
       "      <td>LampStatus</td>\n",
       "      <td>0.475885</td>\n",
       "      <td>1.609439</td>\n",
       "    </tr>\n",
       "  </tbody>\n",
       "</table>\n",
       "</div>"
      ],
      "text/plain": [
       "                      feature  coefficient  ex_coefficient\n",
       "8                   EngineRpm    -0.395508        0.673338\n",
       "1          BarometricPressure    -0.283382        0.753232\n",
       "6           EngineOilPressure    -0.242197        0.784902\n",
       "14  IntakeManifoldTemperature    -0.165102        0.847807\n",
       "11                    FuelLtd    -0.075440        0.927336\n",
       "10                  FuelLevel    -0.055616        0.945902\n",
       "4    EngineCoolantTemperature    -0.033965        0.966606\n",
       "0            AcceleratorPedal    -0.018691        0.981482\n",
       "7        EngineOilTemperature    -0.010503        0.989552\n",
       "17                      Speed    -0.009411        0.990633\n",
       "19                   Throttle    -0.008737        0.991301\n",
       "2       CruiseControlSetSpeed     0.002522        1.002525\n",
       "12                   FuelRate     0.005822        1.005839\n",
       "16            ServiceDistance     0.006454        1.006475\n",
       "20         TurboBoostPressure     0.021855        1.022096\n",
       "5                  EngineLoad     0.066960        1.069252\n",
       "9               EngineTimeLtd     0.115870        1.122850\n",
       "18     SwitchedBatteryVoltage     0.161459        1.175225\n",
       "3                 DistanceLtd     0.274643        1.316060\n",
       "13            FuelTemperature     0.466743        1.594791\n",
       "15                 LampStatus     0.475885        1.609439"
      ]
     },
     "execution_count": 19,
     "metadata": {},
     "output_type": "execute_result"
    }
   ],
   "source": [
    "pd.DataFrame({'feature': logReg_scaler['impute'].get_feature_names_out(),\n",
    "                             'coefficient': logReg_scaler['log_reg'].coef_[0],\n",
    "             \"ex_coefficient\": np.exp(logReg_scaler['log_reg'].coef_[0])}).sort_values(by='coefficient')\n",
    "#every drop in the x-feature affects the predicted probability by the ex_coefficient"
   ]
  },
  {
   "cell_type": "code",
   "execution_count": 20,
   "id": "e09e8769",
   "metadata": {},
   "outputs": [
    {
     "data": {
      "text/plain": [
       "array([[136285,      2],\n",
       "       [   382,      0]], dtype=int64)"
      ]
     },
     "execution_count": 20,
     "metadata": {},
     "output_type": "execute_result"
    }
   ],
   "source": [
    "confusion_matrix(y_test, logReg_scaler.predict(X_test))"
   ]
  },
  {
   "cell_type": "code",
   "execution_count": 21,
   "id": "7695e5f6",
   "metadata": {},
   "outputs": [],
   "source": [
    "from cm import plot_confusion_matrix #cm is function writen by Michael"
   ]
  },
  {
   "cell_type": "code",
   "execution_count": 22,
   "id": "1626a183",
   "metadata": {},
   "outputs": [
    {
     "data": {
      "image/png": "[encoded data removed]",
      "text/plain": [
       "<Figure size 600x600 with 1 Axes>"
      ]
     },
     "metadata": {},
     "output_type": "display_data"
    }
   ],
   "source": [
    "plot_confusion_matrix(y_test, logReg_scaler.predict(X_test), labels = ['No_Derate', 'Derate']);"
   ]
  },
  {
   "cell_type": "code",
   "execution_count": 23,
   "id": "a2361ad8",
   "metadata": {},
   "outputs": [],
   "source": [
    "from sklearn.metrics import confusion_matrix, ConfusionMatrixDisplay"
   ]
  },
  {
   "cell_type": "code",
   "execution_count": 24,
   "id": "03c7309f",
   "metadata": {},
   "outputs": [
    {
     "data": {
      "image/png": "[encoded data removed]",
      "text/plain": [
       "<Figure size 600x600 with 1 Axes>"
      ]
     },
     "metadata": {},
     "output_type": "display_data"
    }
   ],
   "source": [
    "plot_confusion_matrix(y_test, logReg_scaler.predict(X_test), labels = ['No_Derate', 'Derate'], metric = 'accuracy');"
   ]
  },
  {
   "cell_type": "code",
   "execution_count": 25,
   "id": "e769d0de",
   "metadata": {},
   "outputs": [],
   "source": [
    "from sklearn.metrics import roc_auc_score"
   ]
  },
  {
   "cell_type": "code",
   "execution_count": 26,
   "id": "8c12e5bb",
   "metadata": {},
   "outputs": [
    {
     "data": {
      "text/plain": [
       "0.8525730675299205"
      ]
     },
     "execution_count": 26,
     "metadata": {},
     "output_type": "execute_result"
    }
   ],
   "source": [
    "roc_auc_score(y_test, logReg_scaler.predict_proba(X_test)[:,1] )"
   ]
  },
  {
   "cell_type": "code",
   "execution_count": 27,
   "id": "fff70d52",
   "metadata": {},
   "outputs": [
    {
     "data": {
      "text/plain": [
       "853"
      ]
     },
     "execution_count": 27,
     "metadata": {},
     "output_type": "execute_result"
    }
   ],
   "source": [
    "derate_feature['EquipmentID_x'].nunique() #1042\n",
    "derate_feature.loc[derate_feature['target']==1]['EquipmentID_x'].nunique() #189\n",
    "\n",
    "#list of the all trucks EquipentID where derate happened\n",
    "derate_trucks = derate_feature.loc[derate_feature['target']==1]['EquipmentID_x'].unique()\n",
    "\n",
    "#list of the all trucks EquipentID in faults table\n",
    "all_trucks = derate_feature['EquipmentID_x'].unique()\n",
    "\n",
    "#list of the all trucks EquipentID which did not have any derate\n",
    "no_derate = all_trucks[np.isin(all_trucks, derate_trucks, invert=True)]\n",
    "\n",
    "len(no_derate) #853\n",
    "# derate_feature.loc[derate_feature['target']==0]['EquipmentID_x'].nunique()"
   ]
  },
  {
   "cell_type": "code",
   "execution_count": 28,
   "id": "02b42e23",
   "metadata": {},
   "outputs": [
    {
     "data": {
      "text/plain": [
       "546674"
      ]
     },
     "execution_count": 28,
     "metadata": {},
     "output_type": "execute_result"
    }
   ],
   "source": [
    "174932+371742"
   ]
  },
  {
   "cell_type": "code",
   "execution_count": 29,
   "id": "b04fe1dc",
   "metadata": {},
   "outputs": [
    {
     "data": {
      "text/plain": [
       "(174932, 461)"
      ]
     },
     "execution_count": 29,
     "metadata": {},
     "output_type": "execute_result"
    }
   ],
   "source": [
    "df_derate = derate_feature[(derate_feature['EquipmentID_x'].isin(derate_trucks))]\n",
    "df_derate.shape #(174932, 461)"
   ]
  },
  {
   "cell_type": "code",
   "execution_count": 30,
   "id": "7c4269a5",
   "metadata": {},
   "outputs": [],
   "source": [
    "df_no = derate_feature[(derate_feature['EquipmentID_x'].isin(no_derate))] #371742 rows × 461 columns"
   ]
  },
  {
   "cell_type": "code",
   "execution_count": 31,
   "id": "b877895e",
   "metadata": {},
   "outputs": [
    {
     "data": {
      "text/html": [
       "<div>\n",
       "<style scoped>\n",
       "    .dataframe tbody tr th:only-of-type {\n",
       "        vertical-align: middle;\n",
       "    }\n",
       "\n",
       "    .dataframe tbody tr th {\n",
       "        vertical-align: top;\n",
       "    }\n",
       "\n",
       "    .dataframe thead th {\n",
       "        text-align: right;\n",
       "    }\n",
       "</style>\n",
       "<table border=\"1\" class=\"dataframe\">\n",
       "  <thead>\n",
       "    <tr style=\"text-align: right;\">\n",
       "      <th></th>\n",
       "      <th>RecordID</th>\n",
       "      <th>spn</th>\n",
       "      <th>fmi</th>\n",
       "      <th>AcceleratorPedal</th>\n",
       "      <th>BarometricPressure</th>\n",
       "      <th>CruiseControlSetSpeed</th>\n",
       "      <th>DistanceLtd</th>\n",
       "      <th>EngineCoolantTemperature</th>\n",
       "      <th>EngineLoad</th>\n",
       "      <th>EngineOilPressure</th>\n",
       "      <th>...</th>\n",
       "      <th>spn_94</th>\n",
       "      <th>spn_940</th>\n",
       "      <th>spn_941</th>\n",
       "      <th>spn_95</th>\n",
       "      <th>spn_96</th>\n",
       "      <th>spn_97</th>\n",
       "      <th>spn_976</th>\n",
       "      <th>spn_98</th>\n",
       "      <th>spn_fmi</th>\n",
       "      <th>target</th>\n",
       "    </tr>\n",
       "  </thead>\n",
       "  <tbody>\n",
       "    <tr>\n",
       "      <th>444126</th>\n",
       "      <td>1248431</td>\n",
       "      <td>96</td>\n",
       "      <td>3</td>\n",
       "      <td>0.0</td>\n",
       "      <td>14.645</td>\n",
       "      <td>66.48672</td>\n",
       "      <td>443434.9</td>\n",
       "      <td>186.8</td>\n",
       "      <td>12.0</td>\n",
       "      <td>22.62</td>\n",
       "      <td>...</td>\n",
       "      <td>0.0</td>\n",
       "      <td>0.0</td>\n",
       "      <td>0.0</td>\n",
       "      <td>0.0</td>\n",
       "      <td>1.0</td>\n",
       "      <td>0.0</td>\n",
       "      <td>0.0</td>\n",
       "      <td>0.0</td>\n",
       "      <td>96_3</td>\n",
       "      <td>0</td>\n",
       "    </tr>\n",
       "    <tr>\n",
       "      <th>444127</th>\n",
       "      <td>1248432</td>\n",
       "      <td>829</td>\n",
       "      <td>3</td>\n",
       "      <td>0.0</td>\n",
       "      <td>14.645</td>\n",
       "      <td>66.48672</td>\n",
       "      <td>443434.9</td>\n",
       "      <td>186.8</td>\n",
       "      <td>12.0</td>\n",
       "      <td>22.62</td>\n",
       "      <td>...</td>\n",
       "      <td>0.0</td>\n",
       "      <td>0.0</td>\n",
       "      <td>0.0</td>\n",
       "      <td>0.0</td>\n",
       "      <td>1.0</td>\n",
       "      <td>0.0</td>\n",
       "      <td>0.0</td>\n",
       "      <td>0.0</td>\n",
       "      <td>829_3</td>\n",
       "      <td>0</td>\n",
       "    </tr>\n",
       "    <tr>\n",
       "      <th>444128</th>\n",
       "      <td>1248425</td>\n",
       "      <td>829</td>\n",
       "      <td>3</td>\n",
       "      <td>0.0</td>\n",
       "      <td>14.645</td>\n",
       "      <td>66.48672</td>\n",
       "      <td>443434.3</td>\n",
       "      <td>185.0</td>\n",
       "      <td>17.0</td>\n",
       "      <td>22.04</td>\n",
       "      <td>...</td>\n",
       "      <td>0.0</td>\n",
       "      <td>0.0</td>\n",
       "      <td>0.0</td>\n",
       "      <td>0.0</td>\n",
       "      <td>1.0</td>\n",
       "      <td>0.0</td>\n",
       "      <td>0.0</td>\n",
       "      <td>0.0</td>\n",
       "      <td>829_3</td>\n",
       "      <td>0</td>\n",
       "    </tr>\n",
       "    <tr>\n",
       "      <th>444129</th>\n",
       "      <td>1248426</td>\n",
       "      <td>96</td>\n",
       "      <td>3</td>\n",
       "      <td>0.0</td>\n",
       "      <td>14.645</td>\n",
       "      <td>66.48672</td>\n",
       "      <td>443434.3</td>\n",
       "      <td>185.0</td>\n",
       "      <td>17.0</td>\n",
       "      <td>22.04</td>\n",
       "      <td>...</td>\n",
       "      <td>0.0</td>\n",
       "      <td>0.0</td>\n",
       "      <td>0.0</td>\n",
       "      <td>0.0</td>\n",
       "      <td>2.0</td>\n",
       "      <td>0.0</td>\n",
       "      <td>0.0</td>\n",
       "      <td>0.0</td>\n",
       "      <td>96_3</td>\n",
       "      <td>0</td>\n",
       "    </tr>\n",
       "    <tr>\n",
       "      <th>444130</th>\n",
       "      <td>1248394</td>\n",
       "      <td>96</td>\n",
       "      <td>3</td>\n",
       "      <td>0.0</td>\n",
       "      <td>14.645</td>\n",
       "      <td>66.48672</td>\n",
       "      <td>443424.0</td>\n",
       "      <td>185.0</td>\n",
       "      <td>12.0</td>\n",
       "      <td>24.94</td>\n",
       "      <td>...</td>\n",
       "      <td>0.0</td>\n",
       "      <td>0.0</td>\n",
       "      <td>0.0</td>\n",
       "      <td>0.0</td>\n",
       "      <td>3.0</td>\n",
       "      <td>0.0</td>\n",
       "      <td>0.0</td>\n",
       "      <td>0.0</td>\n",
       "      <td>96_3</td>\n",
       "      <td>0</td>\n",
       "    </tr>\n",
       "    <tr>\n",
       "      <th>...</th>\n",
       "      <td>...</td>\n",
       "      <td>...</td>\n",
       "      <td>...</td>\n",
       "      <td>...</td>\n",
       "      <td>...</td>\n",
       "      <td>...</td>\n",
       "      <td>...</td>\n",
       "      <td>...</td>\n",
       "      <td>...</td>\n",
       "      <td>...</td>\n",
       "      <td>...</td>\n",
       "      <td>...</td>\n",
       "      <td>...</td>\n",
       "      <td>...</td>\n",
       "      <td>...</td>\n",
       "      <td>...</td>\n",
       "      <td>...</td>\n",
       "      <td>...</td>\n",
       "      <td>...</td>\n",
       "      <td>...</td>\n",
       "      <td>...</td>\n",
       "    </tr>\n",
       "    <tr>\n",
       "      <th>157880</th>\n",
       "      <td>17</td>\n",
       "      <td>111</td>\n",
       "      <td>17</td>\n",
       "      <td>37.2</td>\n",
       "      <td>14.1375</td>\n",
       "      <td>66.48672</td>\n",
       "      <td>268575.9</td>\n",
       "      <td>183.2</td>\n",
       "      <td>26.0</td>\n",
       "      <td>33.64</td>\n",
       "      <td>...</td>\n",
       "      <td>0.0</td>\n",
       "      <td>0.0</td>\n",
       "      <td>0.0</td>\n",
       "      <td>0.0</td>\n",
       "      <td>0.0</td>\n",
       "      <td>0.0</td>\n",
       "      <td>0.0</td>\n",
       "      <td>0.0</td>\n",
       "      <td>111_17</td>\n",
       "      <td>0</td>\n",
       "    </tr>\n",
       "    <tr>\n",
       "      <th>36118</th>\n",
       "      <td>62</td>\n",
       "      <td>111</td>\n",
       "      <td>17</td>\n",
       "      <td>57.6</td>\n",
       "      <td>14.4275</td>\n",
       "      <td>64.6226</td>\n",
       "      <td>470383.5</td>\n",
       "      <td>190.4</td>\n",
       "      <td>46.0</td>\n",
       "      <td>35.96</td>\n",
       "      <td>...</td>\n",
       "      <td>0.0</td>\n",
       "      <td>0.0</td>\n",
       "      <td>0.0</td>\n",
       "      <td>0.0</td>\n",
       "      <td>0.0</td>\n",
       "      <td>0.0</td>\n",
       "      <td>0.0</td>\n",
       "      <td>0.0</td>\n",
       "      <td>111_17</td>\n",
       "      <td>0</td>\n",
       "    </tr>\n",
       "    <tr>\n",
       "      <th>126238</th>\n",
       "      <td>11</td>\n",
       "      <td>111</td>\n",
       "      <td>17</td>\n",
       "      <td>0.0</td>\n",
       "      <td>14.1375</td>\n",
       "      <td>64.6226</td>\n",
       "      <td>257885.9</td>\n",
       "      <td>181.4</td>\n",
       "      <td>80.0</td>\n",
       "      <td>34.22</td>\n",
       "      <td>...</td>\n",
       "      <td>0.0</td>\n",
       "      <td>0.0</td>\n",
       "      <td>0.0</td>\n",
       "      <td>0.0</td>\n",
       "      <td>0.0</td>\n",
       "      <td>0.0</td>\n",
       "      <td>0.0</td>\n",
       "      <td>0.0</td>\n",
       "      <td>111_17</td>\n",
       "      <td>0</td>\n",
       "    </tr>\n",
       "    <tr>\n",
       "      <th>36119</th>\n",
       "      <td>6</td>\n",
       "      <td>111</td>\n",
       "      <td>17</td>\n",
       "      <td>48.0</td>\n",
       "      <td>14.4275</td>\n",
       "      <td>64.6226</td>\n",
       "      <td>470381.4</td>\n",
       "      <td>181.4</td>\n",
       "      <td>30.0</td>\n",
       "      <td>38.28</td>\n",
       "      <td>...</td>\n",
       "      <td>0.0</td>\n",
       "      <td>0.0</td>\n",
       "      <td>0.0</td>\n",
       "      <td>0.0</td>\n",
       "      <td>0.0</td>\n",
       "      <td>0.0</td>\n",
       "      <td>0.0</td>\n",
       "      <td>0.0</td>\n",
       "      <td>111_17</td>\n",
       "      <td>0</td>\n",
       "    </tr>\n",
       "    <tr>\n",
       "      <th>70148</th>\n",
       "      <td>1760</td>\n",
       "      <td>523530</td>\n",
       "      <td>31</td>\n",
       "      <td>47.966667</td>\n",
       "      <td>14.32412</td>\n",
       "      <td>66.337131</td>\n",
       "      <td>541743.336574</td>\n",
       "      <td>175.083333</td>\n",
       "      <td>34.134259</td>\n",
       "      <td>31.113241</td>\n",
       "      <td>...</td>\n",
       "      <td>0.0</td>\n",
       "      <td>0.0</td>\n",
       "      <td>0.0</td>\n",
       "      <td>0.0</td>\n",
       "      <td>0.0</td>\n",
       "      <td>0.0</td>\n",
       "      <td>0.0</td>\n",
       "      <td>0.0</td>\n",
       "      <td>523530_31</td>\n",
       "      <td>0</td>\n",
       "    </tr>\n",
       "  </tbody>\n",
       "</table>\n",
       "<p>174932 rows × 461 columns</p>\n",
       "</div>"
      ],
      "text/plain": [
       "        RecordID     spn  fmi AcceleratorPedal BarometricPressure  \\\n",
       "444126   1248431      96    3              0.0             14.645   \n",
       "444127   1248432     829    3              0.0             14.645   \n",
       "444128   1248425     829    3              0.0             14.645   \n",
       "444129   1248426      96    3              0.0             14.645   \n",
       "444130   1248394      96    3              0.0             14.645   \n",
       "...          ...     ...  ...              ...                ...   \n",
       "157880        17     111   17             37.2            14.1375   \n",
       "36118         62     111   17             57.6            14.4275   \n",
       "126238        11     111   17              0.0            14.1375   \n",
       "36119          6     111   17             48.0            14.4275   \n",
       "70148       1760  523530   31        47.966667           14.32412   \n",
       "\n",
       "       CruiseControlSetSpeed    DistanceLtd EngineCoolantTemperature  \\\n",
       "444126              66.48672       443434.9                    186.8   \n",
       "444127              66.48672       443434.9                    186.8   \n",
       "444128              66.48672       443434.3                    185.0   \n",
       "444129              66.48672       443434.3                    185.0   \n",
       "444130              66.48672       443424.0                    185.0   \n",
       "...                      ...            ...                      ...   \n",
       "157880              66.48672       268575.9                    183.2   \n",
       "36118                64.6226       470383.5                    190.4   \n",
       "126238               64.6226       257885.9                    181.4   \n",
       "36119                64.6226       470381.4                    181.4   \n",
       "70148              66.337131  541743.336574               175.083333   \n",
       "\n",
       "       EngineLoad EngineOilPressure  ... spn_94 spn_940 spn_941 spn_95 spn_96  \\\n",
       "444126       12.0             22.62  ...    0.0     0.0     0.0    0.0    1.0   \n",
       "444127       12.0             22.62  ...    0.0     0.0     0.0    0.0    1.0   \n",
       "444128       17.0             22.04  ...    0.0     0.0     0.0    0.0    1.0   \n",
       "444129       17.0             22.04  ...    0.0     0.0     0.0    0.0    2.0   \n",
       "444130       12.0             24.94  ...    0.0     0.0     0.0    0.0    3.0   \n",
       "...           ...               ...  ...    ...     ...     ...    ...    ...   \n",
       "157880       26.0             33.64  ...    0.0     0.0     0.0    0.0    0.0   \n",
       "36118        46.0             35.96  ...    0.0     0.0     0.0    0.0    0.0   \n",
       "126238       80.0             34.22  ...    0.0     0.0     0.0    0.0    0.0   \n",
       "36119        30.0             38.28  ...    0.0     0.0     0.0    0.0    0.0   \n",
       "70148   34.134259         31.113241  ...    0.0     0.0     0.0    0.0    0.0   \n",
       "\n",
       "       spn_97 spn_976 spn_98    spn_fmi target  \n",
       "444126    0.0     0.0    0.0       96_3      0  \n",
       "444127    0.0     0.0    0.0      829_3      0  \n",
       "444128    0.0     0.0    0.0      829_3      0  \n",
       "444129    0.0     0.0    0.0       96_3      0  \n",
       "444130    0.0     0.0    0.0       96_3      0  \n",
       "...       ...     ...    ...        ...    ...  \n",
       "157880    0.0     0.0    0.0     111_17      0  \n",
       "36118     0.0     0.0    0.0     111_17      0  \n",
       "126238    0.0     0.0    0.0     111_17      0  \n",
       "36119     0.0     0.0    0.0     111_17      0  \n",
       "70148     0.0     0.0    0.0  523530_31      0  \n",
       "\n",
       "[174932 rows x 461 columns]"
      ]
     },
     "execution_count": 31,
     "metadata": {},
     "output_type": "execute_result"
    }
   ],
   "source": [
    "df_derate"
   ]
  },
  {
   "cell_type": "code",
   "execution_count": 32,
   "id": "f0eb6c3a",
   "metadata": {},
   "outputs": [],
   "source": [
    "#Now we will divide in train test trucks with derate or noderate with each truck(EquipmentID) either in train or test not both."
   ]
  },
  {
   "cell_type": "code",
   "execution_count": 33,
   "id": "6cf8d195",
   "metadata": {},
   "outputs": [
    {
     "name": "stdout",
     "output_type": "stream",
     "text": [
      "(139945, 460)\n",
      "(34987, 460)\n",
      "(139945, 1)\n",
      "(34987, 1)\n"
     ]
    }
   ],
   "source": [
    "##Making the 80/20 split in the train/test among all the trucks with derate\n",
    "X = df_derate.drop(columns=['target'])\n",
    "y= df_derate[['target']]\n",
    "\n",
    "X_train_derate, X_test_derate, y_train_derate, y_test_derate = train_test_split(X, y, train_size = 0.8,\n",
    "                                                                                test_size = 0.2, \n",
    "                                                                                random_state = 321)\n",
    "\n",
    "print(X_train_derate.shape)\n",
    "print(X_test_derate.shape)\n",
    "print(y_train_derate.shape)\n",
    "print(y_test_derate.shape)"
   ]
  },
  {
   "cell_type": "code",
   "execution_count": 34,
   "id": "340903f6",
   "metadata": {},
   "outputs": [
    {
     "name": "stdout",
     "output_type": "stream",
     "text": [
      "(297393, 460)\n",
      "(74349, 460)\n",
      "(297393, 1)\n",
      "(74349, 1)\n"
     ]
    }
   ],
   "source": [
    "##Making the 80/20 split in the train/test among all the trucks with noderate\n",
    "\n",
    "X_no = df_no.drop(columns=['target'])\n",
    "y_no= df_no[['target']]\n",
    "\n",
    "X_train_noderate, X_test_noderate, y_train_noderate, y_test_noderate = train_test_split(X_no, y_no, train_size = 0.8,\n",
    "                                                                                test_size = 0.2, \n",
    "                                                                                random_state = 321)\n",
    "\n",
    "print(X_train_noderate.shape)\n",
    "print(X_test_noderate.shape)\n",
    "print(y_train_noderate.shape)\n",
    "print(y_test_noderate.shape)"
   ]
  },
  {
   "cell_type": "code",
   "execution_count": 35,
   "id": "531705cb",
   "metadata": {},
   "outputs": [],
   "source": [
    "## Putting the derate_train and non_derate_train together like wise doing that with the test\n",
    "# df = all_trucks[~all_trucks[['EquipmentID']].isin(derate_trucks).any(axis=1)]\n",
    "# pd.concat([data1, data2], axis=0)\n",
    "\n",
    "X_train1 = pd.concat([X_train_derate, X_train_noderate], axis=0) #437338 rows × 460 columns\n",
    "\n",
    "X_test1 = pd.concat([X_test_derate, X_test_noderate], axis=0) #109336 rows × 460 columns\n",
    "\n",
    "y_train1 = pd.concat([y_train_derate, y_train_noderate], axis=0) #437338 rows × 1 columns\n",
    "\n",
    "y_test1 = pd.concat([y_test_derate, y_test_noderate], axis=0) #109336 rows × 1 columns"
   ]
  },
  {
   "cell_type": "code",
   "execution_count": 36,
   "id": "accad953",
   "metadata": {},
   "outputs": [
    {
     "data": {
      "text/plain": [
       "0    436221\n",
       "1      1117\n",
       "Name: target, dtype: int64"
      ]
     },
     "execution_count": 36,
     "metadata": {},
     "output_type": "execute_result"
    }
   ],
   "source": [
    "#cases take out due to 25% or more missing values\n",
    "y_train1['target'].value_counts()"
   ]
  },
  {
   "cell_type": "code",
   "execution_count": 37,
   "id": "14123beb",
   "metadata": {},
   "outputs": [
    {
     "data": {
      "text/plain": [
       "0    109064\n",
       "1       272\n",
       "Name: target, dtype: int64"
      ]
     },
     "execution_count": 37,
     "metadata": {},
     "output_type": "execute_result"
    }
   ],
   "source": [
    "#cases take out due to 25% or more missing values\n",
    "y_test1['target'].value_counts()"
   ]
  },
  {
   "cell_type": "raw",
   "id": "f11913c7",
   "metadata": {},
   "source": [
    "pip install imblearn"
   ]
  },
  {
   "cell_type": "code",
   "execution_count": 38,
   "id": "fe5145ab",
   "metadata": {},
   "outputs": [
    {
     "name": "stdout",
     "output_type": "stream",
     "text": [
      "<class 'pandas.core.frame.DataFrame'>\n",
      "Int64Index: 437338 entries, 170963 to 212282\n",
      "Columns: 460 entries, RecordID to spn_fmi\n",
      "dtypes: bool(1), datetime64[ns](2), float64(419), int64(6), object(32)\n",
      "memory usage: 1.5+ GB\n"
     ]
    },
    {
     "data": {
      "text/plain": [
       "{bool: ['active'], int64: ['RecordID', 'spn', 'fmi', 'ecuSource', 'spn', 'fmi'], float64: ['Latitude', 'Longitude', 'spn_0', 'spn_100', 'spn_101', 'spn_102', 'spn_1023', 'spn_1024', 'spn_1028', 'spn_103', 'spn_1043', 'spn_1045', 'spn_105', 'spn_1056', 'spn_1059', 'spn_1067', 'spn_1068', 'spn_107', 'spn_1071', 'spn_1072', 'spn_1075', 'spn_1078', 'spn_108', 'spn_1081', 'spn_110', 'spn_111', 'spn_1127', 'spn_114863', 'spn_116', 'spn_1172', 'spn_1176', 'spn_118', 'spn_1209', 'spn_1213', 'spn_1231', 'spn_1235', 'spn_1236', 'spn_1239', 'spn_1247', 'spn_125', 'spn_127', 'spn_1279', 'spn_1321', 'spn_1322', 'spn_1323', 'spn_1324', 'spn_1325', 'spn_1326', 'spn_1327', 'spn_1328', 'spn_1347', 'spn_1349', 'spn_13600', 'spn_139296', 'spn_1464', 'spn_1481', 'spn_1482', 'spn_1483', 'spn_1487', 'spn_153', 'spn_153931', 'spn_1569', 'spn_157', 'spn_158', 'spn_16', 'spn_160', 'spn_1612', 'spn_1659', 'spn_1668', 'spn_167', 'spn_1675', 'spn_168', 'spn_17096', 'spn_171', 'spn_173', 'spn_174', 'spn_175', 'spn_17590', 'spn_1761', 'spn_177', 'spn_1787', 'spn_1807', 'spn_1808', 'spn_1809', 'spn_1815', 'spn_184', 'spn_188', 'spn_190', 'spn_191', 'spn_196608', 'spn_2000', 'spn_2017', 'spn_2023', 'spn_2029', 'spn_228', 'spn_235', 'spn_236', 'spn_237', 'spn_245', 'spn_247', ...], datetime64[ns]: ['LocationTimeStamp', 'EventTimeStamp'], object: ['AcceleratorPedal', 'BarometricPressure', 'CruiseControlSetSpeed', 'DistanceLtd', 'EngineCoolantTemperature', 'EngineLoad', 'EngineOilPressure', 'EngineOilTemperature', 'EngineRpm', 'EngineTimeLtd', 'FuelLevel', 'FuelLtd', 'FuelRate', 'FuelTemperature', 'IntakeManifoldTemperature', 'LampStatus', 'ServiceDistance', 'Speed', 'SwitchedBatteryVoltage', 'Throttle', 'TurboBoostPressure', 'eventDescription', 'ecuSoftwareVersion', 'ecuSerialNumber', 'ecuModel', 'ecuMake', 'activeTransitionCount', 'EquipmentID_x', 'MCTNumber', 'SPN_FMI', 'EquipmentID_y', 'spn_fmi']}"
      ]
     },
     "execution_count": 38,
     "metadata": {},
     "output_type": "execute_result"
    }
   ],
   "source": [
    "X_train1.info()\n",
    "X_train1.columns.to_series().groupby(X_train1.dtypes).groups"
   ]
  },
  {
   "cell_type": "code",
   "execution_count": 39,
   "id": "4629be48",
   "metadata": {},
   "outputs": [],
   "source": [
    "chosen_cl = ['RecordID', 'spn', 'fmi', 'AcceleratorPedal', 'BarometricPressure', 'CruiseControlSetSpeed', 'DistanceLtd', \n",
    " 'EngineCoolantTemperature', 'EngineLoad', 'EngineOilPressure', 'EngineOilTemperature', 'EngineRpm', \n",
    " 'EngineTimeLtd', 'FuelLevel', 'FuelLtd', 'FuelRate', 'FuelTemperature', 'IntakeManifoldTemperature',\n",
    " 'LampStatus', 'ServiceDistance', 'Speed', 'SwitchedBatteryVoltage', 'Throttle', 'TurboBoostPressure',\n",
    "  'spn_fmi'\n",
    "]"
   ]
  },
  {
   "cell_type": "code",
   "execution_count": 40,
   "id": "805c8e7d",
   "metadata": {},
   "outputs": [
    {
     "data": {
      "text/plain": [
       "{bool: ['active'], int64: ['RecordID', 'spn', 'fmi', 'ecuSource', 'spn', 'fmi'], float64: ['Latitude', 'Longitude', 'spn_0', 'spn_100', 'spn_101', 'spn_102', 'spn_1023', 'spn_1024', 'spn_1028', 'spn_103', 'spn_1043', 'spn_1045', 'spn_105', 'spn_1056', 'spn_1059', 'spn_1067', 'spn_1068', 'spn_107', 'spn_1071', 'spn_1072', 'spn_1075', 'spn_1078', 'spn_108', 'spn_1081', 'spn_110', 'spn_111', 'spn_1127', 'spn_114863', 'spn_116', 'spn_1172', 'spn_1176', 'spn_118', 'spn_1209', 'spn_1213', 'spn_1231', 'spn_1235', 'spn_1236', 'spn_1239', 'spn_1247', 'spn_125', 'spn_127', 'spn_1279', 'spn_1321', 'spn_1322', 'spn_1323', 'spn_1324', 'spn_1325', 'spn_1326', 'spn_1327', 'spn_1328', 'spn_1347', 'spn_1349', 'spn_13600', 'spn_139296', 'spn_1464', 'spn_1481', 'spn_1482', 'spn_1483', 'spn_1487', 'spn_153', 'spn_153931', 'spn_1569', 'spn_157', 'spn_158', 'spn_16', 'spn_160', 'spn_1612', 'spn_1659', 'spn_1668', 'spn_167', 'spn_1675', 'spn_168', 'spn_17096', 'spn_171', 'spn_173', 'spn_174', 'spn_175', 'spn_17590', 'spn_1761', 'spn_177', 'spn_1787', 'spn_1807', 'spn_1808', 'spn_1809', 'spn_1815', 'spn_184', 'spn_188', 'spn_190', 'spn_191', 'spn_196608', 'spn_2000', 'spn_2017', 'spn_2023', 'spn_2029', 'spn_228', 'spn_235', 'spn_236', 'spn_237', 'spn_245', 'spn_247', ...], datetime64[ns]: ['LocationTimeStamp', 'EventTimeStamp'], object: ['AcceleratorPedal', 'BarometricPressure', 'CruiseControlSetSpeed', 'DistanceLtd', 'EngineCoolantTemperature', 'EngineLoad', 'EngineOilPressure', 'EngineOilTemperature', 'EngineRpm', 'EngineTimeLtd', 'FuelLevel', 'FuelLtd', 'FuelRate', 'FuelTemperature', 'IntakeManifoldTemperature', 'LampStatus', 'ServiceDistance', 'Speed', 'SwitchedBatteryVoltage', 'Throttle', 'TurboBoostPressure', 'eventDescription', 'ecuSoftwareVersion', 'ecuSerialNumber', 'ecuModel', 'ecuMake', 'activeTransitionCount', 'EquipmentID_x', 'MCTNumber', 'SPN_FMI', 'EquipmentID_y', 'spn_fmi']}"
      ]
     },
     "execution_count": 40,
     "metadata": {},
     "output_type": "execute_result"
    }
   ],
   "source": [
    "X_train_derate.columns.to_series().groupby(X_train_derate.dtypes).groups"
   ]
  },
  {
   "cell_type": "code",
   "execution_count": 41,
   "id": "9429a1a0",
   "metadata": {},
   "outputs": [
    {
     "name": "stdout",
     "output_type": "stream",
     "text": [
      "<class 'pandas.core.frame.DataFrame'>\n",
      "Int64Index: 437338 entries, 170963 to 212282\n",
      "Data columns (total 27 columns):\n",
      " #   Column                     Non-Null Count   Dtype \n",
      "---  ------                     --------------   ----- \n",
      " 0   RecordID                   437338 non-null  int64 \n",
      " 1   spn                        437338 non-null  int64 \n",
      " 2   spn                        437338 non-null  int64 \n",
      " 3   fmi                        437338 non-null  int64 \n",
      " 4   fmi                        437338 non-null  int64 \n",
      " 5   AcceleratorPedal           417879 non-null  object\n",
      " 6   BarometricPressure         437338 non-null  object\n",
      " 7   CruiseControlSetSpeed      428271 non-null  object\n",
      " 8   DistanceLtd                437338 non-null  object\n",
      " 9   EngineCoolantTemperature   437338 non-null  object\n",
      " 10  EngineLoad                 437338 non-null  object\n",
      " 11  EngineOilPressure          437338 non-null  object\n",
      " 12  EngineOilTemperature       437338 non-null  object\n",
      " 13  EngineRpm                  437338 non-null  object\n",
      " 14  EngineTimeLtd              434253 non-null  object\n",
      " 15  FuelLevel                  422215 non-null  object\n",
      " 16  FuelLtd                    437338 non-null  object\n",
      " 17  FuelRate                   437338 non-null  object\n",
      " 18  FuelTemperature            285687 non-null  object\n",
      " 19  IntakeManifoldTemperature  437338 non-null  object\n",
      " 20  LampStatus                 437338 non-null  object\n",
      " 21  ServiceDistance            149 non-null     object\n",
      " 22  Speed                      437338 non-null  object\n",
      " 23  SwitchedBatteryVoltage     346681 non-null  object\n",
      " 24  Throttle                   307479 non-null  object\n",
      " 25  TurboBoostPressure         437338 non-null  object\n",
      " 26  spn_fmi                    437338 non-null  object\n",
      "dtypes: int64(5), object(22)\n",
      "memory usage: 93.4+ MB\n"
     ]
    }
   ],
   "source": [
    "X_train1_short = X_train1[chosen_cl]\n",
    "X_train1_short.shape #(437338, 28)\n",
    "X_train1_short.info()"
   ]
  },
  {
   "cell_type": "code",
   "execution_count": 42,
   "id": "97416311",
   "metadata": {},
   "outputs": [
    {
     "data": {
      "text/plain": [
       "(109336, 27)"
      ]
     },
     "execution_count": 42,
     "metadata": {},
     "output_type": "execute_result"
    }
   ],
   "source": [
    "X_test1_short = X_test1[chosen_cl]\n",
    "X_test1_short.shape #(109336, 28)"
   ]
  },
  {
   "cell_type": "code",
   "execution_count": 43,
   "id": "0a69de59",
   "metadata": {},
   "outputs": [],
   "source": [
    "from sklearn.preprocessing import OneHotEncoder"
   ]
  },
  {
   "cell_type": "code",
   "execution_count": null,
   "id": "44a2f0e2",
   "metadata": {},
   "outputs": [],
   "source": []
  },
  {
   "cell_type": "raw",
   "id": "49d3bd98",
   "metadata": {},
   "source": [
    "from imblearn.over_sampling import SMOTE\n",
    "oversampler = SMOTE(k_neighbors=5, random_state=42)\n",
    "X_smote, y_smote = oversampler.fit_resample(X_train, y_train)\n",
    "y_smote.value_counts()\n",
    "gbr_smoted = Pipeline(\n",
    "    steps = [\n",
    "        ('gb', GradientBoostingClassifier(verbose=True))#n_estimators = 1000, learning_rate=0.01\n",
    "    ]\n",
    ")\n",
    "\n",
    "gbr_smoted.fit(X_smote, y_smote)\n",
    "y_predict = gbr_smoted.predict(X_train)\n",
    "confusion_matrix(y_train, y_predict)\n",
    "confusion_matrix(y_test, gbr.predict(X_test))\n",
    "confusion_matrix(y_test, gbr_smoted.predict(X_test))\n",
    "print(classification_report(y_train, y_predict))"
   ]
  },
  {
   "cell_type": "markdown",
   "id": "7fd61a68",
   "metadata": {},
   "source": [
    "#### Running the above logReg_sclaer pipeline with the equipment clustered train test split data\n",
    "1. X_train1_short\n",
    "2. X_test1_short\n",
    "3. y_train1\n",
    "4. y_test1"
   ]
  },
  {
   "cell_type": "code",
   "execution_count": 44,
   "id": "dfc330d9",
   "metadata": {},
   "outputs": [
    {
     "data": {
      "text/html": [
       "<div>\n",
       "<style scoped>\n",
       "    .dataframe tbody tr th:only-of-type {\n",
       "        vertical-align: middle;\n",
       "    }\n",
       "\n",
       "    .dataframe tbody tr th {\n",
       "        vertical-align: top;\n",
       "    }\n",
       "\n",
       "    .dataframe thead th {\n",
       "        text-align: right;\n",
       "    }\n",
       "</style>\n",
       "<table border=\"1\" class=\"dataframe\">\n",
       "  <thead>\n",
       "    <tr style=\"text-align: right;\">\n",
       "      <th></th>\n",
       "      <th>target</th>\n",
       "    </tr>\n",
       "  </thead>\n",
       "  <tbody>\n",
       "    <tr>\n",
       "      <th>170963</th>\n",
       "      <td>0</td>\n",
       "    </tr>\n",
       "    <tr>\n",
       "      <th>423364</th>\n",
       "      <td>0</td>\n",
       "    </tr>\n",
       "    <tr>\n",
       "      <th>419070</th>\n",
       "      <td>0</td>\n",
       "    </tr>\n",
       "    <tr>\n",
       "      <th>368390</th>\n",
       "      <td>0</td>\n",
       "    </tr>\n",
       "    <tr>\n",
       "      <th>114639</th>\n",
       "      <td>0</td>\n",
       "    </tr>\n",
       "  </tbody>\n",
       "</table>\n",
       "</div>"
      ],
      "text/plain": [
       "        target\n",
       "170963       0\n",
       "423364       0\n",
       "419070       0\n",
       "368390       0\n",
       "114639       0"
      ]
     },
     "execution_count": 44,
     "metadata": {},
     "output_type": "execute_result"
    }
   ],
   "source": [
    "y_train1.head()"
   ]
  },
  {
   "cell_type": "raw",
   "id": "cefc5464",
   "metadata": {},
   "source": [
    "## Steps for logreg model\n",
    "\n",
    "#from sklearn.impute import SimpleImputer\n",
    "#step1\n",
    "logReg_scaler = Pipeline(\n",
    "    steps = [\n",
    "        ('impute', SimpleImputer()), #fills average of the column if there are NaN missing values\n",
    "        ('scaler', StandardScaler()),\n",
    "        ('log_reg', LogisticRegression(C = 0.01)) #started from 0.01, 0,001, \n",
    "    ]\n",
    ").fit(X_train1_short, y_train1['target'])\n",
    "\n",
    "#step2\n",
    "logreg1 = logReg_scaler.predict(X_test1_short)\n",
    "\n",
    "#step3\n",
    "accuracy_score(y_test1['target'], logreg1) \n",
    "\n",
    "#step4 ROC_AUC \n",
    "roc_auc_score(y_test1['target'], logReg_scaler.predict_proba(X_test1_short)[:,1] )\n",
    "\n",
    "#step5\n",
    "#extracting the features\n",
    "pd.DataFrame({'feature': logReg_scaler['impute'].get_feature_names_out(),\n",
    "                             'coefficient': logReg_scaler['log_reg'].coef_[0],\n",
    "             \"ex_coefficient\": np.exp(logReg_scaler['log_reg'].coef_[0])}).sort_values(by='coefficient')\n",
    "#every drop in the x-feature affects the predicted probability by the ex_coefficient\n",
    "\n",
    "#step6 confusion matrix\n",
    "confusion_matrix(y_test1['target'], logReg_scaler.predict(X_test1_short))\n",
    "\n",
    "##step7 plotting matrix\n",
    "plot_confusion_matrix(y_test1['target'], logReg_scaler.predict(X_test1_short), labels = ['No_Derate(0)', 'Derate'], metric = 'accuracy');"
   ]
  },
  {
   "cell_type": "code",
   "execution_count": 45,
   "id": "a5ac827a",
   "metadata": {},
   "outputs": [],
   "source": [
    "#from sklearn.impute import SimpleImputer\n",
    "#step1\n",
    "logReg_scaler = Pipeline(\n",
    "    steps = [\n",
    "        ('impute', SimpleImputer()), #fills average of the column if there are NaN missing values\n",
    "        ('scaler', StandardScaler()),\n",
    "        ('log_reg', LogisticRegression(C = 0.01)) #started from 0.01, 0,001, \n",
    "    ]\n",
    ").fit(X_train1_short, y_train1['target'])"
   ]
  },
  {
   "cell_type": "code",
   "execution_count": 46,
   "id": "85ecc73f",
   "metadata": {},
   "outputs": [],
   "source": [
    "#step2\n",
    "logreg1 = logReg_scaler.predict(X_test1_short)"
   ]
  },
  {
   "cell_type": "code",
   "execution_count": 47,
   "id": "77b750c5",
   "metadata": {},
   "outputs": [
    {
     "data": {
      "text/plain": [
       "0.9974939635618644"
      ]
     },
     "execution_count": 47,
     "metadata": {},
     "output_type": "execute_result"
    }
   ],
   "source": [
    "#step3\n",
    "accuracy_score(y_test1['target'], logreg1) #0.9974939635618644(c=0.01), 0.997484817443477(0.001)"
   ]
  },
  {
   "cell_type": "code",
   "execution_count": 48,
   "id": "c2261af1",
   "metadata": {},
   "outputs": [
    {
     "data": {
      "text/plain": [
       "0.8308154736991987"
      ]
     },
     "execution_count": 48,
     "metadata": {},
     "output_type": "execute_result"
    }
   ],
   "source": [
    "#step4 ROC_AUC \n",
    "roc_auc_score(y_test1['target'], logReg_scaler.predict_proba(X_test1_short)[:,1] )"
   ]
  },
  {
   "cell_type": "code",
   "execution_count": 49,
   "id": "136a15c5",
   "metadata": {},
   "outputs": [
    {
     "data": {
      "text/html": [
       "<div>\n",
       "<style scoped>\n",
       "    .dataframe tbody tr th:only-of-type {\n",
       "        vertical-align: middle;\n",
       "    }\n",
       "\n",
       "    .dataframe tbody tr th {\n",
       "        vertical-align: top;\n",
       "    }\n",
       "\n",
       "    .dataframe thead th {\n",
       "        text-align: right;\n",
       "    }\n",
       "</style>\n",
       "<table border=\"1\" class=\"dataframe\">\n",
       "  <thead>\n",
       "    <tr style=\"text-align: right;\">\n",
       "      <th></th>\n",
       "      <th>feature</th>\n",
       "      <th>coefficient</th>\n",
       "      <th>ex_coefficient</th>\n",
       "    </tr>\n",
       "  </thead>\n",
       "  <tbody>\n",
       "    <tr>\n",
       "      <th>13</th>\n",
       "      <td>EngineRpm</td>\n",
       "      <td>-0.522999</td>\n",
       "      <td>0.592740</td>\n",
       "    </tr>\n",
       "    <tr>\n",
       "      <th>6</th>\n",
       "      <td>BarometricPressure</td>\n",
       "      <td>-0.340799</td>\n",
       "      <td>0.711202</td>\n",
       "    </tr>\n",
       "    <tr>\n",
       "      <th>11</th>\n",
       "      <td>EngineOilPressure</td>\n",
       "      <td>-0.332666</td>\n",
       "      <td>0.717010</td>\n",
       "    </tr>\n",
       "    <tr>\n",
       "      <th>19</th>\n",
       "      <td>IntakeManifoldTemperature</td>\n",
       "      <td>-0.115845</td>\n",
       "      <td>0.890614</td>\n",
       "    </tr>\n",
       "    <tr>\n",
       "      <th>26</th>\n",
       "      <td>spn_fmi</td>\n",
       "      <td>-0.104665</td>\n",
       "      <td>0.900626</td>\n",
       "    </tr>\n",
       "    <tr>\n",
       "      <th>9</th>\n",
       "      <td>EngineCoolantTemperature</td>\n",
       "      <td>-0.092996</td>\n",
       "      <td>0.911197</td>\n",
       "    </tr>\n",
       "    <tr>\n",
       "      <th>24</th>\n",
       "      <td>Throttle</td>\n",
       "      <td>-0.074923</td>\n",
       "      <td>0.927815</td>\n",
       "    </tr>\n",
       "    <tr>\n",
       "      <th>16</th>\n",
       "      <td>FuelLtd</td>\n",
       "      <td>-0.072049</td>\n",
       "      <td>0.930486</td>\n",
       "    </tr>\n",
       "    <tr>\n",
       "      <th>15</th>\n",
       "      <td>FuelLevel</td>\n",
       "      <td>-0.061007</td>\n",
       "      <td>0.940817</td>\n",
       "    </tr>\n",
       "    <tr>\n",
       "      <th>22</th>\n",
       "      <td>Speed</td>\n",
       "      <td>-0.007758</td>\n",
       "      <td>0.992272</td>\n",
       "    </tr>\n",
       "    <tr>\n",
       "      <th>10</th>\n",
       "      <td>EngineLoad</td>\n",
       "      <td>-0.004745</td>\n",
       "      <td>0.995266</td>\n",
       "    </tr>\n",
       "    <tr>\n",
       "      <th>5</th>\n",
       "      <td>AcceleratorPedal</td>\n",
       "      <td>-0.001164</td>\n",
       "      <td>0.998836</td>\n",
       "    </tr>\n",
       "    <tr>\n",
       "      <th>12</th>\n",
       "      <td>EngineOilTemperature</td>\n",
       "      <td>0.002755</td>\n",
       "      <td>1.002759</td>\n",
       "    </tr>\n",
       "    <tr>\n",
       "      <th>21</th>\n",
       "      <td>ServiceDistance</td>\n",
       "      <td>0.004072</td>\n",
       "      <td>1.004081</td>\n",
       "    </tr>\n",
       "    <tr>\n",
       "      <th>25</th>\n",
       "      <td>TurboBoostPressure</td>\n",
       "      <td>0.013057</td>\n",
       "      <td>1.013142</td>\n",
       "    </tr>\n",
       "    <tr>\n",
       "      <th>17</th>\n",
       "      <td>FuelRate</td>\n",
       "      <td>0.015181</td>\n",
       "      <td>1.015297</td>\n",
       "    </tr>\n",
       "    <tr>\n",
       "      <th>1</th>\n",
       "      <td>spn</td>\n",
       "      <td>0.025919</td>\n",
       "      <td>1.026258</td>\n",
       "    </tr>\n",
       "    <tr>\n",
       "      <th>2</th>\n",
       "      <td>spn</td>\n",
       "      <td>0.025919</td>\n",
       "      <td>1.026258</td>\n",
       "    </tr>\n",
       "    <tr>\n",
       "      <th>7</th>\n",
       "      <td>CruiseControlSetSpeed</td>\n",
       "      <td>0.059964</td>\n",
       "      <td>1.061799</td>\n",
       "    </tr>\n",
       "    <tr>\n",
       "      <th>23</th>\n",
       "      <td>SwitchedBatteryVoltage</td>\n",
       "      <td>0.067207</td>\n",
       "      <td>1.069517</td>\n",
       "    </tr>\n",
       "    <tr>\n",
       "      <th>14</th>\n",
       "      <td>EngineTimeLtd</td>\n",
       "      <td>0.113770</td>\n",
       "      <td>1.120494</td>\n",
       "    </tr>\n",
       "    <tr>\n",
       "      <th>0</th>\n",
       "      <td>RecordID</td>\n",
       "      <td>0.179646</td>\n",
       "      <td>1.196794</td>\n",
       "    </tr>\n",
       "    <tr>\n",
       "      <th>4</th>\n",
       "      <td>fmi</td>\n",
       "      <td>0.230579</td>\n",
       "      <td>1.259329</td>\n",
       "    </tr>\n",
       "    <tr>\n",
       "      <th>3</th>\n",
       "      <td>fmi</td>\n",
       "      <td>0.230579</td>\n",
       "      <td>1.259329</td>\n",
       "    </tr>\n",
       "    <tr>\n",
       "      <th>8</th>\n",
       "      <td>DistanceLtd</td>\n",
       "      <td>0.264055</td>\n",
       "      <td>1.302200</td>\n",
       "    </tr>\n",
       "    <tr>\n",
       "      <th>20</th>\n",
       "      <td>LampStatus</td>\n",
       "      <td>0.478792</td>\n",
       "      <td>1.614123</td>\n",
       "    </tr>\n",
       "    <tr>\n",
       "      <th>18</th>\n",
       "      <td>FuelTemperature</td>\n",
       "      <td>0.490287</td>\n",
       "      <td>1.632784</td>\n",
       "    </tr>\n",
       "  </tbody>\n",
       "</table>\n",
       "</div>"
      ],
      "text/plain": [
       "                      feature  coefficient  ex_coefficient\n",
       "13                  EngineRpm    -0.522999        0.592740\n",
       "6          BarometricPressure    -0.340799        0.711202\n",
       "11          EngineOilPressure    -0.332666        0.717010\n",
       "19  IntakeManifoldTemperature    -0.115845        0.890614\n",
       "26                    spn_fmi    -0.104665        0.900626\n",
       "9    EngineCoolantTemperature    -0.092996        0.911197\n",
       "24                   Throttle    -0.074923        0.927815\n",
       "16                    FuelLtd    -0.072049        0.930486\n",
       "15                  FuelLevel    -0.061007        0.940817\n",
       "22                      Speed    -0.007758        0.992272\n",
       "10                 EngineLoad    -0.004745        0.995266\n",
       "5            AcceleratorPedal    -0.001164        0.998836\n",
       "12       EngineOilTemperature     0.002755        1.002759\n",
       "21            ServiceDistance     0.004072        1.004081\n",
       "25         TurboBoostPressure     0.013057        1.013142\n",
       "17                   FuelRate     0.015181        1.015297\n",
       "1                         spn     0.025919        1.026258\n",
       "2                         spn     0.025919        1.026258\n",
       "7       CruiseControlSetSpeed     0.059964        1.061799\n",
       "23     SwitchedBatteryVoltage     0.067207        1.069517\n",
       "14              EngineTimeLtd     0.113770        1.120494\n",
       "0                    RecordID     0.179646        1.196794\n",
       "4                         fmi     0.230579        1.259329\n",
       "3                         fmi     0.230579        1.259329\n",
       "8                 DistanceLtd     0.264055        1.302200\n",
       "20                 LampStatus     0.478792        1.614123\n",
       "18            FuelTemperature     0.490287        1.632784"
      ]
     },
     "execution_count": 49,
     "metadata": {},
     "output_type": "execute_result"
    }
   ],
   "source": [
    "#step5\n",
    "#extracting the features\n",
    "pd.DataFrame({'feature': logReg_scaler['impute'].get_feature_names_out(),\n",
    "                             'coefficient': logReg_scaler['log_reg'].coef_[0],\n",
    "             \"ex_coefficient\": np.exp(logReg_scaler['log_reg'].coef_[0])}).sort_values(by='coefficient')\n",
    "#every drop in the x-feature affects the predicted probability by the ex_coefficient"
   ]
  },
  {
   "cell_type": "code",
   "execution_count": 50,
   "id": "c2680fb3",
   "metadata": {},
   "outputs": [
    {
     "data": {
      "text/plain": [
       "array([[109062,      2],\n",
       "       [   272,      0]], dtype=int64)"
      ]
     },
     "execution_count": 50,
     "metadata": {},
     "output_type": "execute_result"
    }
   ],
   "source": [
    "#step6 confusion matrix\n",
    "confusion_matrix(y_test1['target'], logReg_scaler.predict(X_test1_short))"
   ]
  },
  {
   "cell_type": "code",
   "execution_count": 51,
   "id": "71931727",
   "metadata": {},
   "outputs": [
    {
     "data": {
      "image/png": "[encoded data removed]",
      "text/plain": [
       "<Figure size 600x600 with 1 Axes>"
      ]
     },
     "metadata": {},
     "output_type": "display_data"
    }
   ],
   "source": [
    "##step7 plotting matrix\n",
    "plot_confusion_matrix(y_test1['target'], logReg_scaler.predict(X_test1_short), labels = ['No_Derate(0)', 'Derate'], metric = 'accuracy');"
   ]
  },
  {
   "cell_type": "markdown",
   "id": "49174b55",
   "metadata": {},
   "source": [
    "### using the fixed train test split improved slightly and False Negative reduced reduced from 382 to 272.\n",
    "#### using OneHotEncoder on spn_fmi"
   ]
  },
  {
   "cell_type": "code",
   "execution_count": 52,
   "id": "48b4a034",
   "metadata": {},
   "outputs": [],
   "source": [
    "?OneHotEncoder\n",
    "#Do get_dummies then split then join\n",
    "#, remainder='passthrough'"
   ]
  },
  {
   "cell_type": "code",
   "execution_count": 53,
   "id": "1c396c3f",
   "metadata": {},
   "outputs": [],
   "source": [
    "#from sklearn.impute import SimpleImputer\n",
    "from sklearn.compose import ColumnTransformer\n",
    "from sklearn.preprocessing import OneHotEncoder\n",
    "#step1\n",
    "logReg_scaler_ohe = Pipeline(\n",
    "    steps = [\n",
    "        ('ct', ColumnTransformer(\n",
    "            transformers = [\n",
    "                ('ohe', OneHotEncoder(sparse=False, \n",
    "                                     handle_unknown=\"ignore\"), ['spn_fmi'])])),\n",
    "                                                                      \n",
    "        ('impute', SimpleImputer()), #fills average of the column if there are NaN missing values\n",
    "        ('scaler', StandardScaler()),\n",
    "        ('log_reg', LogisticRegression(C = 0.01)) #started from 0.01, 0,001, \n",
    "    ]\n",
    ").fit(X_train1_short, y_train1['target'])"
   ]
  },
  {
   "cell_type": "code",
   "execution_count": 54,
   "id": "cc7e5a11",
   "metadata": {},
   "outputs": [
    {
     "data": {
      "text/plain": [
       "(437338, 27)"
      ]
     },
     "execution_count": 54,
     "metadata": {},
     "output_type": "execute_result"
    }
   ],
   "source": [
    "X_train1_short.shape"
   ]
  },
  {
   "cell_type": "code",
   "execution_count": 55,
   "id": "4500a3ca",
   "metadata": {},
   "outputs": [
    {
     "data": {
      "text/plain": [
       "(109336, 27)"
      ]
     },
     "execution_count": 55,
     "metadata": {},
     "output_type": "execute_result"
    }
   ],
   "source": [
    "X_test1_short.shape"
   ]
  },
  {
   "cell_type": "code",
   "execution_count": 56,
   "id": "00f03bf6",
   "metadata": {},
   "outputs": [
    {
     "data": {
      "text/plain": [
       "(5, 953)"
      ]
     },
     "execution_count": 56,
     "metadata": {},
     "output_type": "execute_result"
    }
   ],
   "source": [
    "# logReg_scaler_ohe['ct'].transform(X_test1_short).shape #(109336, 983)\n",
    "\n",
    "logReg_scaler_ohe['ct'].transform(X_train1_short.head(5)).shape"
   ]
  },
  {
   "cell_type": "code",
   "execution_count": 57,
   "id": "e0265c8a",
   "metadata": {},
   "outputs": [
    {
     "data": {
      "text/html": [
       "<style>#sk-container-id-1 {color: black;background-color: white;}#sk-container-id-1 pre{padding: 0;}#sk-container-id-1 div.sk-toggleable {background-color: white;}#sk-container-id-1 label.sk-toggleable__label {cursor: pointer;display: block;width: 100%;margin-bottom: 0;padding: 0.3em;box-sizing: border-box;text-align: center;}#sk-container-id-1 label.sk-toggleable__label-arrow:before {content: \"▸\";float: left;margin-right: 0.25em;color: #696969;}#sk-container-id-1 label.sk-toggleable__label-arrow:hover:before {color: black;}#sk-container-id-1 div.sk-estimator:hover label.sk-toggleable__label-arrow:before {color: black;}#sk-container-id-1 div.sk-toggleable__content {max-height: 0;max-width: 0;overflow: hidden;text-align: left;background-color: #f0f8ff;}#sk-container-id-1 div.sk-toggleable__content pre {margin: 0.2em;color: black;border-radius: 0.25em;background-color: #f0f8ff;}#sk-container-id-1 input.sk-toggleable__control:checked~div.sk-toggleable__content {max-height: 200px;max-width: 100%;overflow: auto;}#sk-container-id-1 input.sk-toggleable__control:checked~label.sk-toggleable__label-arrow:before {content: \"▾\";}#sk-container-id-1 div.sk-estimator input.sk-toggleable__control:checked~label.sk-toggleable__label {background-color: #d4ebff;}#sk-container-id-1 div.sk-label input.sk-toggleable__control:checked~label.sk-toggleable__label {background-color: #d4ebff;}#sk-container-id-1 input.sk-hidden--visually {border: 0;clip: rect(1px 1px 1px 1px);clip: rect(1px, 1px, 1px, 1px);height: 1px;margin: -1px;overflow: hidden;padding: 0;position: absolute;width: 1px;}#sk-container-id-1 div.sk-estimator {font-family: monospace;background-color: #f0f8ff;border: 1px dotted black;border-radius: 0.25em;box-sizing: border-box;margin-bottom: 0.5em;}#sk-container-id-1 div.sk-estimator:hover {background-color: #d4ebff;}#sk-container-id-1 div.sk-parallel-item::after {content: \"\";width: 100%;border-bottom: 1px solid gray;flex-grow: 1;}#sk-container-id-1 div.sk-label:hover label.sk-toggleable__label {background-color: #d4ebff;}#sk-container-id-1 div.sk-serial::before {content: \"\";position: absolute;border-left: 1px solid gray;box-sizing: border-box;top: 0;bottom: 0;left: 50%;z-index: 0;}#sk-container-id-1 div.sk-serial {display: flex;flex-direction: column;align-items: center;background-color: white;padding-right: 0.2em;padding-left: 0.2em;position: relative;}#sk-container-id-1 div.sk-item {position: relative;z-index: 1;}#sk-container-id-1 div.sk-parallel {display: flex;align-items: stretch;justify-content: center;background-color: white;position: relative;}#sk-container-id-1 div.sk-item::before, #sk-container-id-1 div.sk-parallel-item::before {content: \"\";position: absolute;border-left: 1px solid gray;box-sizing: border-box;top: 0;bottom: 0;left: 50%;z-index: -1;}#sk-container-id-1 div.sk-parallel-item {display: flex;flex-direction: column;z-index: 1;position: relative;background-color: white;}#sk-container-id-1 div.sk-parallel-item:first-child::after {align-self: flex-end;width: 50%;}#sk-container-id-1 div.sk-parallel-item:last-child::after {align-self: flex-start;width: 50%;}#sk-container-id-1 div.sk-parallel-item:only-child::after {width: 0;}#sk-container-id-1 div.sk-dashed-wrapped {border: 1px dashed gray;margin: 0 0.4em 0.5em 0.4em;box-sizing: border-box;padding-bottom: 0.4em;background-color: white;}#sk-container-id-1 div.sk-label label {font-family: monospace;font-weight: bold;display: inline-block;line-height: 1.2em;}#sk-container-id-1 div.sk-label-container {text-align: center;}#sk-container-id-1 div.sk-container {/* jupyter's `normalize.less` sets `[hidden] { display: none; }` but bootstrap.min.css set `[hidden] { display: none !important; }` so we also need the `!important` here to be able to override the default hidden behavior on the sphinx rendered scikit-learn.org. See: https://github.com/scikit-learn/scikit-learn/issues/21755 */display: inline-block !important;position: relative;}#sk-container-id-1 div.sk-text-repr-fallback {display: none;}</style><div id=\"sk-container-id-1\" class=\"sk-top-container\"><div class=\"sk-text-repr-fallback\"><pre>Pipeline(steps=[(&#x27;ct&#x27;,\n",
       "                 ColumnTransformer(transformers=[(&#x27;ohe&#x27;,\n",
       "                                                  OneHotEncoder(handle_unknown=&#x27;ignore&#x27;,\n",
       "                                                                sparse=False),\n",
       "                                                  [&#x27;spn_fmi&#x27;])])),\n",
       "                (&#x27;impute&#x27;, SimpleImputer()), (&#x27;scaler&#x27;, StandardScaler()),\n",
       "                (&#x27;log_reg&#x27;, LogisticRegression(C=0.01))])</pre><b>In a Jupyter environment, please rerun this cell to show the HTML representation or trust the notebook. <br />On GitHub, the HTML representation is unable to render, please try loading this page with nbviewer.org.</b></div><div class=\"sk-container\" hidden><div class=\"sk-item sk-dashed-wrapped\"><div class=\"sk-label-container\"><div class=\"sk-label sk-toggleable\"><input class=\"sk-toggleable__control sk-hidden--visually\" id=\"sk-estimator-id-1\" type=\"checkbox\" ><label for=\"sk-estimator-id-1\" class=\"sk-toggleable__label sk-toggleable__label-arrow\">Pipeline</label><div class=\"sk-toggleable__content\"><pre>Pipeline(steps=[(&#x27;ct&#x27;,\n",
       "                 ColumnTransformer(transformers=[(&#x27;ohe&#x27;,\n",
       "                                                  OneHotEncoder(handle_unknown=&#x27;ignore&#x27;,\n",
       "                                                                sparse=False),\n",
       "                                                  [&#x27;spn_fmi&#x27;])])),\n",
       "                (&#x27;impute&#x27;, SimpleImputer()), (&#x27;scaler&#x27;, StandardScaler()),\n",
       "                (&#x27;log_reg&#x27;, LogisticRegression(C=0.01))])</pre></div></div></div><div class=\"sk-serial\"><div class=\"sk-item sk-dashed-wrapped\"><div class=\"sk-label-container\"><div class=\"sk-label sk-toggleable\"><input class=\"sk-toggleable__control sk-hidden--visually\" id=\"sk-estimator-id-2\" type=\"checkbox\" ><label for=\"sk-estimator-id-2\" class=\"sk-toggleable__label sk-toggleable__label-arrow\">ct: ColumnTransformer</label><div class=\"sk-toggleable__content\"><pre>ColumnTransformer(transformers=[(&#x27;ohe&#x27;,\n",
       "                                 OneHotEncoder(handle_unknown=&#x27;ignore&#x27;,\n",
       "                                               sparse=False),\n",
       "                                 [&#x27;spn_fmi&#x27;])])</pre></div></div></div><div class=\"sk-parallel\"><div class=\"sk-parallel-item\"><div class=\"sk-item\"><div class=\"sk-label-container\"><div class=\"sk-label sk-toggleable\"><input class=\"sk-toggleable__control sk-hidden--visually\" id=\"sk-estimator-id-3\" type=\"checkbox\" ><label for=\"sk-estimator-id-3\" class=\"sk-toggleable__label sk-toggleable__label-arrow\">ohe</label><div class=\"sk-toggleable__content\"><pre>[&#x27;spn_fmi&#x27;]</pre></div></div></div><div class=\"sk-serial\"><div class=\"sk-item\"><div class=\"sk-estimator sk-toggleable\"><input class=\"sk-toggleable__control sk-hidden--visually\" id=\"sk-estimator-id-4\" type=\"checkbox\" ><label for=\"sk-estimator-id-4\" class=\"sk-toggleable__label sk-toggleable__label-arrow\">OneHotEncoder</label><div class=\"sk-toggleable__content\"><pre>OneHotEncoder(handle_unknown=&#x27;ignore&#x27;, sparse=False)</pre></div></div></div></div></div></div></div></div><div class=\"sk-item\"><div class=\"sk-estimator sk-toggleable\"><input class=\"sk-toggleable__control sk-hidden--visually\" id=\"sk-estimator-id-5\" type=\"checkbox\" ><label for=\"sk-estimator-id-5\" class=\"sk-toggleable__label sk-toggleable__label-arrow\">SimpleImputer</label><div class=\"sk-toggleable__content\"><pre>SimpleImputer()</pre></div></div></div><div class=\"sk-item\"><div class=\"sk-estimator sk-toggleable\"><input class=\"sk-toggleable__control sk-hidden--visually\" id=\"sk-estimator-id-6\" type=\"checkbox\" ><label for=\"sk-estimator-id-6\" class=\"sk-toggleable__label sk-toggleable__label-arrow\">StandardScaler</label><div class=\"sk-toggleable__content\"><pre>StandardScaler()</pre></div></div></div><div class=\"sk-item\"><div class=\"sk-estimator sk-toggleable\"><input class=\"sk-toggleable__control sk-hidden--visually\" id=\"sk-estimator-id-7\" type=\"checkbox\" ><label for=\"sk-estimator-id-7\" class=\"sk-toggleable__label sk-toggleable__label-arrow\">LogisticRegression</label><div class=\"sk-toggleable__content\"><pre>LogisticRegression(C=0.01)</pre></div></div></div></div></div></div></div>"
      ],
      "text/plain": [
       "Pipeline(steps=[('ct',\n",
       "                 ColumnTransformer(transformers=[('ohe',\n",
       "                                                  OneHotEncoder(handle_unknown='ignore',\n",
       "                                                                sparse=False),\n",
       "                                                  ['spn_fmi'])])),\n",
       "                ('impute', SimpleImputer()), ('scaler', StandardScaler()),\n",
       "                ('log_reg', LogisticRegression(C=0.01))])"
      ]
     },
     "execution_count": 57,
     "metadata": {},
     "output_type": "execute_result"
    }
   ],
   "source": [
    "logReg_scaler_ohe "
   ]
  },
  {
   "cell_type": "code",
   "execution_count": 58,
   "id": "05743359",
   "metadata": {},
   "outputs": [],
   "source": [
    "ohe = logReg_scaler_ohe.predict(X_train1_short.head(5))"
   ]
  },
  {
   "cell_type": "code",
   "execution_count": 59,
   "id": "e14bcf39",
   "metadata": {},
   "outputs": [],
   "source": [
    "##valueerror \"X has 983 features, but SimpleImputer is expecting 979 features as input.\""
   ]
  },
  {
   "cell_type": "raw",
   "id": "9ca64b15",
   "metadata": {},
   "source": [
    "accuracy_score(y_test1['target'], ohe) #is showing error alueError: Found input variables with inconsistent numbers of samples: [109336, 5]\n"
   ]
  },
  {
   "cell_type": "code",
   "execution_count": 60,
   "id": "2d474404",
   "metadata": {},
   "outputs": [
    {
     "data": {
      "text/plain": [
       "array([[109060,      4],\n",
       "       [   157,    115]], dtype=int64)"
      ]
     },
     "execution_count": 60,
     "metadata": {},
     "output_type": "execute_result"
    }
   ],
   "source": [
    "confusion_matrix(y_test1['target'], logReg_scaler_ohe.predict(X_test1_short))"
   ]
  },
  {
   "cell_type": "code",
   "execution_count": 61,
   "id": "7b352767",
   "metadata": {},
   "outputs": [
    {
     "data": {
      "image/png": "[encoded data removed]",
      "text/plain": [
       "<Figure size 600x600 with 1 Axes>"
      ]
     },
     "metadata": {},
     "output_type": "display_data"
    }
   ],
   "source": [
    "##step7 plotting matrix\n",
    "plot_confusion_matrix(y_test1['target'], logReg_scaler_ohe.predict(X_test1_short), labels = ['No_Derate(0)', 'Derate'], metric = 'accuracy');"
   ]
  },
  {
   "cell_type": "code",
   "execution_count": 62,
   "id": "cd3a8c90",
   "metadata": {},
   "outputs": [
    {
     "data": {
      "text/html": [
       "<div>\n",
       "<style scoped>\n",
       "    .dataframe tbody tr th:only-of-type {\n",
       "        vertical-align: middle;\n",
       "    }\n",
       "\n",
       "    .dataframe tbody tr th {\n",
       "        vertical-align: top;\n",
       "    }\n",
       "\n",
       "    .dataframe thead th {\n",
       "        text-align: right;\n",
       "    }\n",
       "</style>\n",
       "<table border=\"1\" class=\"dataframe\">\n",
       "  <thead>\n",
       "    <tr style=\"text-align: right;\">\n",
       "      <th></th>\n",
       "      <th>feature</th>\n",
       "      <th>coefficient</th>\n",
       "      <th>ex_coefficient</th>\n",
       "    </tr>\n",
       "  </thead>\n",
       "  <tbody>\n",
       "    <tr>\n",
       "      <th>919</th>\n",
       "      <td>ohe__spn_fmi_929_9</td>\n",
       "      <td>-0.251312</td>\n",
       "      <td>0.777780</td>\n",
       "    </tr>\n",
       "    <tr>\n",
       "      <th>893</th>\n",
       "      <td>ohe__spn_fmi_829_3</td>\n",
       "      <td>-0.099789</td>\n",
       "      <td>0.905028</td>\n",
       "    </tr>\n",
       "    <tr>\n",
       "      <th>947</th>\n",
       "      <td>ohe__spn_fmi_97_15</td>\n",
       "      <td>-0.089091</td>\n",
       "      <td>0.914762</td>\n",
       "    </tr>\n",
       "    <tr>\n",
       "      <th>949</th>\n",
       "      <td>ohe__spn_fmi_97_3</td>\n",
       "      <td>-0.063578</td>\n",
       "      <td>0.938401</td>\n",
       "    </tr>\n",
       "    <tr>\n",
       "      <th>559</th>\n",
       "      <td>ohe__spn_fmi_51923_0</td>\n",
       "      <td>-0.058184</td>\n",
       "      <td>0.943476</td>\n",
       "    </tr>\n",
       "    <tr>\n",
       "      <th>...</th>\n",
       "      <td>...</td>\n",
       "      <td>...</td>\n",
       "      <td>...</td>\n",
       "    </tr>\n",
       "    <tr>\n",
       "      <th>586</th>\n",
       "      <td>ohe__spn_fmi_5246_16</td>\n",
       "      <td>0.163377</td>\n",
       "      <td>1.177481</td>\n",
       "    </tr>\n",
       "    <tr>\n",
       "      <th>188</th>\n",
       "      <td>ohe__spn_fmi_1761_19</td>\n",
       "      <td>0.164688</td>\n",
       "      <td>1.179025</td>\n",
       "    </tr>\n",
       "    <tr>\n",
       "      <th>50</th>\n",
       "      <td>ohe__spn_fmi_1068_2</td>\n",
       "      <td>0.190217</td>\n",
       "      <td>1.209511</td>\n",
       "    </tr>\n",
       "    <tr>\n",
       "      <th>583</th>\n",
       "      <td>ohe__spn_fmi_5246_0</td>\n",
       "      <td>0.328008</td>\n",
       "      <td>1.388201</td>\n",
       "    </tr>\n",
       "    <tr>\n",
       "      <th>138</th>\n",
       "      <td>ohe__spn_fmi_1569_31</td>\n",
       "      <td>0.458046</td>\n",
       "      <td>1.580982</td>\n",
       "    </tr>\n",
       "  </tbody>\n",
       "</table>\n",
       "<p>953 rows × 3 columns</p>\n",
       "</div>"
      ],
      "text/plain": [
       "                  feature  coefficient  ex_coefficient\n",
       "919    ohe__spn_fmi_929_9    -0.251312        0.777780\n",
       "893    ohe__spn_fmi_829_3    -0.099789        0.905028\n",
       "947    ohe__spn_fmi_97_15    -0.089091        0.914762\n",
       "949     ohe__spn_fmi_97_3    -0.063578        0.938401\n",
       "559  ohe__spn_fmi_51923_0    -0.058184        0.943476\n",
       "..                    ...          ...             ...\n",
       "586  ohe__spn_fmi_5246_16     0.163377        1.177481\n",
       "188  ohe__spn_fmi_1761_19     0.164688        1.179025\n",
       "50    ohe__spn_fmi_1068_2     0.190217        1.209511\n",
       "583   ohe__spn_fmi_5246_0     0.328008        1.388201\n",
       "138  ohe__spn_fmi_1569_31     0.458046        1.580982\n",
       "\n",
       "[953 rows x 3 columns]"
      ]
     },
     "execution_count": 62,
     "metadata": {},
     "output_type": "execute_result"
    }
   ],
   "source": [
    "#step5\n",
    "#extracting the features\n",
    "pd.DataFrame({'feature': logReg_scaler_ohe['ct'].get_feature_names_out(),\n",
    "                             'coefficient': logReg_scaler_ohe['log_reg'].coef_[0],\n",
    "             \"ex_coefficient\": np.exp(logReg_scaler_ohe['log_reg'].coef_[0])}).sort_values(by='coefficient')\n",
    "#every drop in the x-feature affects the predicted probability by the ex_coefficient"
   ]
  },
  {
   "cell_type": "code",
   "execution_count": 63,
   "id": "300c4776",
   "metadata": {},
   "outputs": [
    {
     "data": {
      "text/plain": [
       "(139945, 460)"
      ]
     },
     "execution_count": 63,
     "metadata": {},
     "output_type": "execute_result"
    }
   ],
   "source": [
    "X_train_derate.shape #\n",
    "(139945, 460)"
   ]
  },
  {
   "cell_type": "code",
   "execution_count": 64,
   "id": "10474ef5",
   "metadata": {},
   "outputs": [
    {
     "data": {
      "text/plain": [
       "numpy.timedelta64(159042545000000,'us')"
      ]
     },
     "execution_count": 64,
     "metadata": {},
     "output_type": "execute_result"
    }
   ],
   "source": [
    "(np.datetime64(X_train_derate['EventTimeStamp'].max())-np.datetime64(X_train_derate['EventTimeStamp'].min())) #the entire data spans over 1840 days"
   ]
  },
  {
   "cell_type": "code",
   "execution_count": 66,
   "id": "13747da9",
   "metadata": {},
   "outputs": [
    {
     "data": {
      "text/plain": [
       "numpy.timedelta64(159042545000000,'us')"
      ]
     },
     "execution_count": 66,
     "metadata": {},
     "output_type": "execute_result"
    }
   ],
   "source": [
    "(np.datetime64(X_train_derate['EventTimeStamp'].max())-np.datetime64(X_train_derate['EventTimeStamp'].min()))"
   ]
  },
  {
   "cell_type": "code",
   "execution_count": 67,
   "id": "1958440d",
   "metadata": {},
   "outputs": [
    {
     "ename": "SyntaxError",
     "evalue": "invalid syntax (1729808362.py, line 1)",
     "output_type": "error",
     "traceback": [
      "\u001b[1;36m  Cell \u001b[1;32mIn[67], line 1\u001b[1;36m\u001b[0m\n\u001b[1;33m    (np.datetime64(X_train_derate.['EventTimeStamp'].max()))\u001b[0m\n\u001b[1;37m                                  ^\u001b[0m\n\u001b[1;31mSyntaxError\u001b[0m\u001b[1;31m:\u001b[0m invalid syntax\n"
     ]
    }
   ],
   "source": [
    "(np.datetime64(X_train_derate.['EventTimeStamp'].max()))\n",
    "#      np.datetime64(X_train_derate.groupby('EquipmentID_x')['EventTimeStamp'].min()))"
   ]
  },
  {
   "cell_type": "markdown",
   "id": "b3f62662",
   "metadata": {},
   "source": [
    "## dearte trucks mean delta time in observations = Timedelta('997 days 10:54:11.164021152')"
   ]
  },
  {
   "cell_type": "code",
   "execution_count": 70,
   "id": "6bf57404",
   "metadata": {},
   "outputs": [
    {
     "data": {
      "text/plain": [
       "<Axes: xlabel='EquipmentID_x'>"
      ]
     },
     "execution_count": 70,
     "metadata": {},
     "output_type": "execute_result"
    },
    {
     "data": {
      "image/png": "[encoded data removed]",
      "text/plain": [
       "<Figure size 800x550 with 1 Axes>"
      ]
     },
     "metadata": {},
     "output_type": "display_data"
    }
   ],
   "source": [
    "((df_derate.groupby('EquipmentID_x')['EventTimeStamp'].max())-\n",
    " (df_derate.groupby('EquipmentID_x')['EventTimeStamp'].min())).mean()\n",
    "\n",
    "(((df_derate.groupby('EquipmentID_x')['EventTimeStamp'].max())\n",
    " -\n",
    " (df_derate.groupby('EquipmentID_x')['EventTimeStamp'].min()))).to_frame().sort_values('EventTimeStamp',\n",
    "                                                                                           ascending=False).head(20).plot()"
   ]
  },
  {
   "cell_type": "markdown",
   "id": "95d1084e",
   "metadata": {},
   "source": [
    "## Nodearte trucks mean delta in observations = timeTimedelta('776 days 15:51:34.592028136')"
   ]
  },
  {
   "cell_type": "code",
   "execution_count": 71,
   "id": "bdfdcc04",
   "metadata": {},
   "outputs": [
    {
     "data": {
      "text/html": [
       "<div>\n",
       "<style scoped>\n",
       "    .dataframe tbody tr th:only-of-type {\n",
       "        vertical-align: middle;\n",
       "    }\n",
       "\n",
       "    .dataframe tbody tr th {\n",
       "        vertical-align: top;\n",
       "    }\n",
       "\n",
       "    .dataframe thead th {\n",
       "        text-align: right;\n",
       "    }\n",
       "</style>\n",
       "<table border=\"1\" class=\"dataframe\">\n",
       "  <thead>\n",
       "    <tr style=\"text-align: right;\">\n",
       "      <th></th>\n",
       "      <th>EventTimeStamp</th>\n",
       "    </tr>\n",
       "    <tr>\n",
       "      <th>EquipmentID_x</th>\n",
       "      <th></th>\n",
       "    </tr>\n",
       "  </thead>\n",
       "  <tbody>\n",
       "    <tr>\n",
       "      <th>2351</th>\n",
       "      <td>70 days 15:56:58</td>\n",
       "    </tr>\n",
       "    <tr>\n",
       "      <th>2325</th>\n",
       "      <td>67 days 07:42:27</td>\n",
       "    </tr>\n",
       "    <tr>\n",
       "      <th>2353</th>\n",
       "      <td>64 days 16:46:54</td>\n",
       "    </tr>\n",
       "    <tr>\n",
       "      <th>2331</th>\n",
       "      <td>62 days 21:01:52</td>\n",
       "    </tr>\n",
       "    <tr>\n",
       "      <th>2289</th>\n",
       "      <td>62 days 00:20:10</td>\n",
       "    </tr>\n",
       "    <tr>\n",
       "      <th>2366</th>\n",
       "      <td>61 days 08:12:51</td>\n",
       "    </tr>\n",
       "    <tr>\n",
       "      <th>2186</th>\n",
       "      <td>56 days 09:54:57</td>\n",
       "    </tr>\n",
       "    <tr>\n",
       "      <th>2341</th>\n",
       "      <td>54 days 17:54:36</td>\n",
       "    </tr>\n",
       "    <tr>\n",
       "      <th>2334</th>\n",
       "      <td>53 days 20:10:40</td>\n",
       "    </tr>\n",
       "    <tr>\n",
       "      <th>2300</th>\n",
       "      <td>52 days 16:07:20</td>\n",
       "    </tr>\n",
       "    <tr>\n",
       "      <th>2377</th>\n",
       "      <td>52 days 00:31:39</td>\n",
       "    </tr>\n",
       "    <tr>\n",
       "      <th>1328</th>\n",
       "      <td>50 days 21:50:17</td>\n",
       "    </tr>\n",
       "    <tr>\n",
       "      <th>2371</th>\n",
       "      <td>49 days 14:13:36</td>\n",
       "    </tr>\n",
       "    <tr>\n",
       "      <th>2355</th>\n",
       "      <td>49 days 04:24:37</td>\n",
       "    </tr>\n",
       "    <tr>\n",
       "      <th>2229</th>\n",
       "      <td>45 days 00:32:00</td>\n",
       "    </tr>\n",
       "    <tr>\n",
       "      <th>2362</th>\n",
       "      <td>44 days 10:13:12</td>\n",
       "    </tr>\n",
       "    <tr>\n",
       "      <th>2275</th>\n",
       "      <td>41 days 07:02:09</td>\n",
       "    </tr>\n",
       "    <tr>\n",
       "      <th>2374</th>\n",
       "      <td>39 days 01:34:26</td>\n",
       "    </tr>\n",
       "    <tr>\n",
       "      <th>2364</th>\n",
       "      <td>38 days 16:30:33</td>\n",
       "    </tr>\n",
       "    <tr>\n",
       "      <th>2375</th>\n",
       "      <td>38 days 12:19:56</td>\n",
       "    </tr>\n",
       "    <tr>\n",
       "      <th>2363</th>\n",
       "      <td>38 days 11:06:46</td>\n",
       "    </tr>\n",
       "    <tr>\n",
       "      <th>2308</th>\n",
       "      <td>34 days 14:01:13</td>\n",
       "    </tr>\n",
       "    <tr>\n",
       "      <th>2354</th>\n",
       "      <td>29 days 23:05:19</td>\n",
       "    </tr>\n",
       "    <tr>\n",
       "      <th>2312</th>\n",
       "      <td>29 days 18:43:32</td>\n",
       "    </tr>\n",
       "    <tr>\n",
       "      <th>2370</th>\n",
       "      <td>23 days 18:48:45</td>\n",
       "    </tr>\n",
       "    <tr>\n",
       "      <th>1327</th>\n",
       "      <td>21 days 17:05:35</td>\n",
       "    </tr>\n",
       "    <tr>\n",
       "      <th>2376</th>\n",
       "      <td>19 days 01:35:25</td>\n",
       "    </tr>\n",
       "    <tr>\n",
       "      <th>2311</th>\n",
       "      <td>18 days 15:43:20</td>\n",
       "    </tr>\n",
       "    <tr>\n",
       "      <th>2343</th>\n",
       "      <td>12 days 19:48:57</td>\n",
       "    </tr>\n",
       "    <tr>\n",
       "      <th>2352</th>\n",
       "      <td>12 days 00:06:47</td>\n",
       "    </tr>\n",
       "    <tr>\n",
       "      <th>2369</th>\n",
       "      <td>7 days 18:35:28</td>\n",
       "    </tr>\n",
       "    <tr>\n",
       "      <th>1548</th>\n",
       "      <td>5 days 14:25:40</td>\n",
       "    </tr>\n",
       "    <tr>\n",
       "      <th>2297</th>\n",
       "      <td>5 days 11:41:28</td>\n",
       "    </tr>\n",
       "    <tr>\n",
       "      <th>1402</th>\n",
       "      <td>3 days 15:00:58</td>\n",
       "    </tr>\n",
       "    <tr>\n",
       "      <th>2358</th>\n",
       "      <td>3 days 11:26:02</td>\n",
       "    </tr>\n",
       "    <tr>\n",
       "      <th>2360</th>\n",
       "      <td>2 days 22:12:24</td>\n",
       "    </tr>\n",
       "    <tr>\n",
       "      <th>R1762</th>\n",
       "      <td>1 days 23:27:05</td>\n",
       "    </tr>\n",
       "    <tr>\n",
       "      <th>2368</th>\n",
       "      <td>1 days 09:29:38</td>\n",
       "    </tr>\n",
       "    <tr>\n",
       "      <th>2247</th>\n",
       "      <td>1 days 05:19:47</td>\n",
       "    </tr>\n",
       "    <tr>\n",
       "      <th>1410</th>\n",
       "      <td>0 days 02:30:42</td>\n",
       "    </tr>\n",
       "    <tr>\n",
       "      <th>2185A</th>\n",
       "      <td>0 days 00:53:47</td>\n",
       "    </tr>\n",
       "    <tr>\n",
       "      <th>2359</th>\n",
       "      <td>0 days 00:02:11</td>\n",
       "    </tr>\n",
       "    <tr>\n",
       "      <th>2248</th>\n",
       "      <td>0 days 00:00:01</td>\n",
       "    </tr>\n",
       "    <tr>\n",
       "      <th>2238</th>\n",
       "      <td>0 days 00:00:00</td>\n",
       "    </tr>\n",
       "    <tr>\n",
       "      <th>2381</th>\n",
       "      <td>0 days 00:00:00</td>\n",
       "    </tr>\n",
       "    <tr>\n",
       "      <th>2380</th>\n",
       "      <td>0 days 00:00:00</td>\n",
       "    </tr>\n",
       "    <tr>\n",
       "      <th>2274</th>\n",
       "      <td>0 days 00:00:00</td>\n",
       "    </tr>\n",
       "    <tr>\n",
       "      <th>2298</th>\n",
       "      <td>0 days 00:00:00</td>\n",
       "    </tr>\n",
       "    <tr>\n",
       "      <th>2356</th>\n",
       "      <td>0 days 00:00:00</td>\n",
       "    </tr>\n",
       "    <tr>\n",
       "      <th>R1764</th>\n",
       "      <td>0 days 00:00:00</td>\n",
       "    </tr>\n",
       "  </tbody>\n",
       "</table>\n",
       "</div>"
      ],
      "text/plain": [
       "                EventTimeStamp\n",
       "EquipmentID_x                 \n",
       "2351          70 days 15:56:58\n",
       "2325          67 days 07:42:27\n",
       "2353          64 days 16:46:54\n",
       "2331          62 days 21:01:52\n",
       "2289          62 days 00:20:10\n",
       "2366          61 days 08:12:51\n",
       "2186          56 days 09:54:57\n",
       "2341          54 days 17:54:36\n",
       "2334          53 days 20:10:40\n",
       "2300          52 days 16:07:20\n",
       "2377          52 days 00:31:39\n",
       "1328          50 days 21:50:17\n",
       "2371          49 days 14:13:36\n",
       "2355          49 days 04:24:37\n",
       "2229          45 days 00:32:00\n",
       "2362          44 days 10:13:12\n",
       "2275          41 days 07:02:09\n",
       "2374          39 days 01:34:26\n",
       "2364          38 days 16:30:33\n",
       "2375          38 days 12:19:56\n",
       "2363          38 days 11:06:46\n",
       "2308          34 days 14:01:13\n",
       "2354          29 days 23:05:19\n",
       "2312          29 days 18:43:32\n",
       "2370          23 days 18:48:45\n",
       "1327          21 days 17:05:35\n",
       "2376          19 days 01:35:25\n",
       "2311          18 days 15:43:20\n",
       "2343          12 days 19:48:57\n",
       "2352          12 days 00:06:47\n",
       "2369           7 days 18:35:28\n",
       "1548           5 days 14:25:40\n",
       "2297           5 days 11:41:28\n",
       "1402           3 days 15:00:58\n",
       "2358           3 days 11:26:02\n",
       "2360           2 days 22:12:24\n",
       "R1762          1 days 23:27:05\n",
       "2368           1 days 09:29:38\n",
       "2247           1 days 05:19:47\n",
       "1410           0 days 02:30:42\n",
       "2185A          0 days 00:53:47\n",
       "2359           0 days 00:02:11\n",
       "2248           0 days 00:00:01\n",
       "2238           0 days 00:00:00\n",
       "2381           0 days 00:00:00\n",
       "2380           0 days 00:00:00\n",
       "2274           0 days 00:00:00\n",
       "2298           0 days 00:00:00\n",
       "2356           0 days 00:00:00\n",
       "R1764          0 days 00:00:00"
      ]
     },
     "execution_count": 71,
     "metadata": {},
     "output_type": "execute_result"
    }
   ],
   "source": [
    "((df_no.groupby('EquipmentID_x')['EventTimeStamp'].max())-\n",
    " (df_no.groupby('EquipmentID_x')['EventTimeStamp'].min())).mean()\n",
    "\n",
    "((df_no.groupby('EquipmentID_x')['EventTimeStamp'].max())-\n",
    " (df_no.groupby('EquipmentID_x')['EventTimeStamp'].min())).to_frame().sort_values('EventTimeStamp',\n",
    "                                                                                           ascending=False).tail(50)"
   ]
  },
  {
   "cell_type": "code",
   "execution_count": 72,
   "id": "816a7014",
   "metadata": {},
   "outputs": [
    {
     "name": "stdout",
     "output_type": "stream",
     "text": [
      "<class 'pandas.core.frame.DataFrame'>\n",
      "Int64Index: 174932 entries, 444126 to 70148\n",
      "Columns: 461 entries, RecordID to target\n",
      "dtypes: bool(1), datetime64[ns](2), float64(419), int32(1), int64(6), object(32)\n",
      "memory usage: 614.8+ MB\n"
     ]
    },
    {
     "data": {
      "text/html": [
       "<div>\n",
       "<style scoped>\n",
       "    .dataframe tbody tr th:only-of-type {\n",
       "        vertical-align: middle;\n",
       "    }\n",
       "\n",
       "    .dataframe tbody tr th {\n",
       "        vertical-align: top;\n",
       "    }\n",
       "\n",
       "    .dataframe thead th {\n",
       "        text-align: right;\n",
       "    }\n",
       "</style>\n",
       "<table border=\"1\" class=\"dataframe\">\n",
       "  <thead>\n",
       "    <tr style=\"text-align: right;\">\n",
       "      <th></th>\n",
       "      <th>AcceleratorPedal</th>\n",
       "      <th>BarometricPressure</th>\n",
       "      <th>CruiseControlSetSpeed</th>\n",
       "      <th>DistanceLtd</th>\n",
       "      <th>EngineCoolantTemperature</th>\n",
       "      <th>EngineLoad</th>\n",
       "      <th>EngineOilPressure</th>\n",
       "      <th>EngineOilTemperature</th>\n",
       "      <th>EngineRpm</th>\n",
       "      <th>EngineTimeLtd</th>\n",
       "      <th>...</th>\n",
       "      <th>FuelLtd</th>\n",
       "      <th>FuelRate</th>\n",
       "      <th>FuelTemperature</th>\n",
       "      <th>IntakeManifoldTemperature</th>\n",
       "      <th>LampStatus</th>\n",
       "      <th>ServiceDistance</th>\n",
       "      <th>Speed</th>\n",
       "      <th>SwitchedBatteryVoltage</th>\n",
       "      <th>Throttle</th>\n",
       "      <th>TurboBoostPressure</th>\n",
       "    </tr>\n",
       "  </thead>\n",
       "  <tbody>\n",
       "    <tr>\n",
       "      <th>444126</th>\n",
       "      <td>0.000000</td>\n",
       "      <td>14.64500</td>\n",
       "      <td>66.486720</td>\n",
       "      <td>443434.900000</td>\n",
       "      <td>186.800000</td>\n",
       "      <td>12.000000</td>\n",
       "      <td>22.620000</td>\n",
       "      <td>203.787500</td>\n",
       "      <td>601.000000</td>\n",
       "      <td>10755.850000</td>\n",
       "      <td>...</td>\n",
       "      <td>62063.921467</td>\n",
       "      <td>0.713267</td>\n",
       "      <td>32.0</td>\n",
       "      <td>143.600000</td>\n",
       "      <td>1279.0</td>\n",
       "      <td>NaN</td>\n",
       "      <td>0.000000</td>\n",
       "      <td>NaN</td>\n",
       "      <td>100.0</td>\n",
       "      <td>0.580000</td>\n",
       "    </tr>\n",
       "    <tr>\n",
       "      <th>444127</th>\n",
       "      <td>0.000000</td>\n",
       "      <td>14.64500</td>\n",
       "      <td>66.486720</td>\n",
       "      <td>443434.900000</td>\n",
       "      <td>186.800000</td>\n",
       "      <td>12.000000</td>\n",
       "      <td>22.620000</td>\n",
       "      <td>203.787500</td>\n",
       "      <td>601.000000</td>\n",
       "      <td>10755.850000</td>\n",
       "      <td>...</td>\n",
       "      <td>62063.921467</td>\n",
       "      <td>0.713267</td>\n",
       "      <td>32.0</td>\n",
       "      <td>143.600000</td>\n",
       "      <td>1279.0</td>\n",
       "      <td>NaN</td>\n",
       "      <td>0.000000</td>\n",
       "      <td>NaN</td>\n",
       "      <td>100.0</td>\n",
       "      <td>0.580000</td>\n",
       "    </tr>\n",
       "    <tr>\n",
       "      <th>444128</th>\n",
       "      <td>0.000000</td>\n",
       "      <td>14.64500</td>\n",
       "      <td>66.486720</td>\n",
       "      <td>443434.300000</td>\n",
       "      <td>185.000000</td>\n",
       "      <td>17.000000</td>\n",
       "      <td>22.040000</td>\n",
       "      <td>208.793700</td>\n",
       "      <td>599.625000</td>\n",
       "      <td>10755.700000</td>\n",
       "      <td>...</td>\n",
       "      <td>62063.657295</td>\n",
       "      <td>0.752893</td>\n",
       "      <td>32.0</td>\n",
       "      <td>141.800000</td>\n",
       "      <td>1279.0</td>\n",
       "      <td>NaN</td>\n",
       "      <td>0.000000</td>\n",
       "      <td>NaN</td>\n",
       "      <td>100.0</td>\n",
       "      <td>0.580000</td>\n",
       "    </tr>\n",
       "    <tr>\n",
       "      <th>444129</th>\n",
       "      <td>0.000000</td>\n",
       "      <td>14.64500</td>\n",
       "      <td>66.486720</td>\n",
       "      <td>443434.300000</td>\n",
       "      <td>185.000000</td>\n",
       "      <td>17.000000</td>\n",
       "      <td>22.040000</td>\n",
       "      <td>208.793700</td>\n",
       "      <td>599.625000</td>\n",
       "      <td>10755.700000</td>\n",
       "      <td>...</td>\n",
       "      <td>62063.657295</td>\n",
       "      <td>0.752893</td>\n",
       "      <td>32.0</td>\n",
       "      <td>141.800000</td>\n",
       "      <td>1279.0</td>\n",
       "      <td>NaN</td>\n",
       "      <td>0.000000</td>\n",
       "      <td>NaN</td>\n",
       "      <td>100.0</td>\n",
       "      <td>0.580000</td>\n",
       "    </tr>\n",
       "    <tr>\n",
       "      <th>444130</th>\n",
       "      <td>0.000000</td>\n",
       "      <td>14.64500</td>\n",
       "      <td>66.486720</td>\n",
       "      <td>443424.000000</td>\n",
       "      <td>185.000000</td>\n",
       "      <td>12.000000</td>\n",
       "      <td>24.940000</td>\n",
       "      <td>193.831300</td>\n",
       "      <td>600.625000</td>\n",
       "      <td>10755.300000</td>\n",
       "      <td>...</td>\n",
       "      <td>62061.940176</td>\n",
       "      <td>0.726475</td>\n",
       "      <td>32.0</td>\n",
       "      <td>136.400000</td>\n",
       "      <td>1279.0</td>\n",
       "      <td>NaN</td>\n",
       "      <td>0.000000</td>\n",
       "      <td>NaN</td>\n",
       "      <td>100.0</td>\n",
       "      <td>0.290000</td>\n",
       "    </tr>\n",
       "    <tr>\n",
       "      <th>...</th>\n",
       "      <td>...</td>\n",
       "      <td>...</td>\n",
       "      <td>...</td>\n",
       "      <td>...</td>\n",
       "      <td>...</td>\n",
       "      <td>...</td>\n",
       "      <td>...</td>\n",
       "      <td>...</td>\n",
       "      <td>...</td>\n",
       "      <td>...</td>\n",
       "      <td>...</td>\n",
       "      <td>...</td>\n",
       "      <td>...</td>\n",
       "      <td>...</td>\n",
       "      <td>...</td>\n",
       "      <td>...</td>\n",
       "      <td>...</td>\n",
       "      <td>...</td>\n",
       "      <td>...</td>\n",
       "      <td>...</td>\n",
       "      <td>...</td>\n",
       "    </tr>\n",
       "    <tr>\n",
       "      <th>157880</th>\n",
       "      <td>37.200000</td>\n",
       "      <td>14.13750</td>\n",
       "      <td>66.486720</td>\n",
       "      <td>268575.900000</td>\n",
       "      <td>183.200000</td>\n",
       "      <td>26.000000</td>\n",
       "      <td>33.640000</td>\n",
       "      <td>217.287500</td>\n",
       "      <td>1035.500000</td>\n",
       "      <td>5004.750000</td>\n",
       "      <td>...</td>\n",
       "      <td>39450.133385</td>\n",
       "      <td>2.166218</td>\n",
       "      <td>NaN</td>\n",
       "      <td>60.800000</td>\n",
       "      <td>17407.0</td>\n",
       "      <td>NaN</td>\n",
       "      <td>36.389050</td>\n",
       "      <td>3276.75</td>\n",
       "      <td>NaN</td>\n",
       "      <td>1.160000</td>\n",
       "    </tr>\n",
       "    <tr>\n",
       "      <th>36118</th>\n",
       "      <td>57.600000</td>\n",
       "      <td>14.42750</td>\n",
       "      <td>64.622600</td>\n",
       "      <td>470383.500000</td>\n",
       "      <td>190.400000</td>\n",
       "      <td>46.000000</td>\n",
       "      <td>35.960000</td>\n",
       "      <td>211.550000</td>\n",
       "      <td>1321.875000</td>\n",
       "      <td>9480.050000</td>\n",
       "      <td>...</td>\n",
       "      <td>70350.338308</td>\n",
       "      <td>6.696783</td>\n",
       "      <td>NaN</td>\n",
       "      <td>114.800000</td>\n",
       "      <td>1023.0</td>\n",
       "      <td>NaN</td>\n",
       "      <td>62.205080</td>\n",
       "      <td>3276.75</td>\n",
       "      <td>NaN</td>\n",
       "      <td>9.570000</td>\n",
       "    </tr>\n",
       "    <tr>\n",
       "      <th>126238</th>\n",
       "      <td>0.000000</td>\n",
       "      <td>14.13750</td>\n",
       "      <td>64.622600</td>\n",
       "      <td>257885.900000</td>\n",
       "      <td>181.400000</td>\n",
       "      <td>80.000000</td>\n",
       "      <td>34.220000</td>\n",
       "      <td>218.975000</td>\n",
       "      <td>1382.375000</td>\n",
       "      <td>5085.350000</td>\n",
       "      <td>...</td>\n",
       "      <td>37724.957800</td>\n",
       "      <td>13.723780</td>\n",
       "      <td>NaN</td>\n",
       "      <td>78.800000</td>\n",
       "      <td>1023.0</td>\n",
       "      <td>NaN</td>\n",
       "      <td>64.826490</td>\n",
       "      <td>3276.75</td>\n",
       "      <td>NaN</td>\n",
       "      <td>17.690000</td>\n",
       "    </tr>\n",
       "    <tr>\n",
       "      <th>36119</th>\n",
       "      <td>48.000000</td>\n",
       "      <td>14.42750</td>\n",
       "      <td>64.622600</td>\n",
       "      <td>470381.400000</td>\n",
       "      <td>181.400000</td>\n",
       "      <td>30.000000</td>\n",
       "      <td>38.280000</td>\n",
       "      <td>196.531300</td>\n",
       "      <td>1514.500000</td>\n",
       "      <td>9480.000000</td>\n",
       "      <td>...</td>\n",
       "      <td>70349.809964</td>\n",
       "      <td>4.583399</td>\n",
       "      <td>NaN</td>\n",
       "      <td>111.200000</td>\n",
       "      <td>1023.0</td>\n",
       "      <td>NaN</td>\n",
       "      <td>13.602200</td>\n",
       "      <td>3276.75</td>\n",
       "      <td>NaN</td>\n",
       "      <td>6.670000</td>\n",
       "    </tr>\n",
       "    <tr>\n",
       "      <th>70148</th>\n",
       "      <td>47.966667</td>\n",
       "      <td>14.32412</td>\n",
       "      <td>66.337131</td>\n",
       "      <td>541743.336574</td>\n",
       "      <td>175.083333</td>\n",
       "      <td>34.134259</td>\n",
       "      <td>31.113241</td>\n",
       "      <td>195.017996</td>\n",
       "      <td>1175.247106</td>\n",
       "      <td>11471.396991</td>\n",
       "      <td>...</td>\n",
       "      <td>80808.058625</td>\n",
       "      <td>5.443184</td>\n",
       "      <td>NaN</td>\n",
       "      <td>88.516667</td>\n",
       "      <td>0.0</td>\n",
       "      <td>NaN</td>\n",
       "      <td>36.745978</td>\n",
       "      <td>3276.75</td>\n",
       "      <td>NaN</td>\n",
       "      <td>7.878333</td>\n",
       "    </tr>\n",
       "  </tbody>\n",
       "</table>\n",
       "<p>174932 rows × 21 columns</p>\n",
       "</div>"
      ],
      "text/plain": [
       "        AcceleratorPedal  BarometricPressure  CruiseControlSetSpeed  \\\n",
       "444126          0.000000            14.64500              66.486720   \n",
       "444127          0.000000            14.64500              66.486720   \n",
       "444128          0.000000            14.64500              66.486720   \n",
       "444129          0.000000            14.64500              66.486720   \n",
       "444130          0.000000            14.64500              66.486720   \n",
       "...                  ...                 ...                    ...   \n",
       "157880         37.200000            14.13750              66.486720   \n",
       "36118          57.600000            14.42750              64.622600   \n",
       "126238          0.000000            14.13750              64.622600   \n",
       "36119          48.000000            14.42750              64.622600   \n",
       "70148          47.966667            14.32412              66.337131   \n",
       "\n",
       "          DistanceLtd  EngineCoolantTemperature  EngineLoad  \\\n",
       "444126  443434.900000                186.800000   12.000000   \n",
       "444127  443434.900000                186.800000   12.000000   \n",
       "444128  443434.300000                185.000000   17.000000   \n",
       "444129  443434.300000                185.000000   17.000000   \n",
       "444130  443424.000000                185.000000   12.000000   \n",
       "...               ...                       ...         ...   \n",
       "157880  268575.900000                183.200000   26.000000   \n",
       "36118   470383.500000                190.400000   46.000000   \n",
       "126238  257885.900000                181.400000   80.000000   \n",
       "36119   470381.400000                181.400000   30.000000   \n",
       "70148   541743.336574                175.083333   34.134259   \n",
       "\n",
       "        EngineOilPressure  EngineOilTemperature    EngineRpm  EngineTimeLtd  \\\n",
       "444126          22.620000            203.787500   601.000000   10755.850000   \n",
       "444127          22.620000            203.787500   601.000000   10755.850000   \n",
       "444128          22.040000            208.793700   599.625000   10755.700000   \n",
       "444129          22.040000            208.793700   599.625000   10755.700000   \n",
       "444130          24.940000            193.831300   600.625000   10755.300000   \n",
       "...                   ...                   ...          ...            ...   \n",
       "157880          33.640000            217.287500  1035.500000    5004.750000   \n",
       "36118           35.960000            211.550000  1321.875000    9480.050000   \n",
       "126238          34.220000            218.975000  1382.375000    5085.350000   \n",
       "36119           38.280000            196.531300  1514.500000    9480.000000   \n",
       "70148           31.113241            195.017996  1175.247106   11471.396991   \n",
       "\n",
       "        ...       FuelLtd   FuelRate  FuelTemperature  \\\n",
       "444126  ...  62063.921467   0.713267             32.0   \n",
       "444127  ...  62063.921467   0.713267             32.0   \n",
       "444128  ...  62063.657295   0.752893             32.0   \n",
       "444129  ...  62063.657295   0.752893             32.0   \n",
       "444130  ...  62061.940176   0.726475             32.0   \n",
       "...     ...           ...        ...              ...   \n",
       "157880  ...  39450.133385   2.166218              NaN   \n",
       "36118   ...  70350.338308   6.696783              NaN   \n",
       "126238  ...  37724.957800  13.723780              NaN   \n",
       "36119   ...  70349.809964   4.583399              NaN   \n",
       "70148   ...  80808.058625   5.443184              NaN   \n",
       "\n",
       "        IntakeManifoldTemperature  LampStatus  ServiceDistance      Speed  \\\n",
       "444126                 143.600000      1279.0              NaN   0.000000   \n",
       "444127                 143.600000      1279.0              NaN   0.000000   \n",
       "444128                 141.800000      1279.0              NaN   0.000000   \n",
       "444129                 141.800000      1279.0              NaN   0.000000   \n",
       "444130                 136.400000      1279.0              NaN   0.000000   \n",
       "...                           ...         ...              ...        ...   \n",
       "157880                  60.800000     17407.0              NaN  36.389050   \n",
       "36118                  114.800000      1023.0              NaN  62.205080   \n",
       "126238                  78.800000      1023.0              NaN  64.826490   \n",
       "36119                  111.200000      1023.0              NaN  13.602200   \n",
       "70148                   88.516667         0.0              NaN  36.745978   \n",
       "\n",
       "        SwitchedBatteryVoltage  Throttle  TurboBoostPressure  \n",
       "444126                     NaN     100.0            0.580000  \n",
       "444127                     NaN     100.0            0.580000  \n",
       "444128                     NaN     100.0            0.580000  \n",
       "444129                     NaN     100.0            0.580000  \n",
       "444130                     NaN     100.0            0.290000  \n",
       "...                        ...       ...                 ...  \n",
       "157880                 3276.75       NaN            1.160000  \n",
       "36118                  3276.75       NaN            9.570000  \n",
       "126238                 3276.75       NaN           17.690000  \n",
       "36119                  3276.75       NaN            6.670000  \n",
       "70148                  3276.75       NaN            7.878333  \n",
       "\n",
       "[174932 rows x 21 columns]"
      ]
     },
     "execution_count": 72,
     "metadata": {},
     "output_type": "execute_result"
    }
   ],
   "source": [
    "df_derate.info()\n",
    "df_derate[['AcceleratorPedal', 'BarometricPressure', 'CruiseControlSetSpeed', 'DistanceLtd', \n",
    " 'EngineCoolantTemperature', 'EngineLoad', 'EngineOilPressure', 'EngineOilTemperature', 'EngineRpm', \n",
    " 'EngineTimeLtd', 'FuelLevel', 'FuelLtd', 'FuelRate', 'FuelTemperature', 'IntakeManifoldTemperature',\n",
    " 'LampStatus', 'ServiceDistance', 'Speed', 'SwitchedBatteryVoltage', 'Throttle', 'TurboBoostPressure']].apply(pd.to_numeric, errors ='ignore')"
   ]
  },
  {
   "cell_type": "code",
   "execution_count": 75,
   "id": "81bcfaca",
   "metadata": {},
   "outputs": [],
   "source": [
    "# df_derate_nu = df_derate.apply(pd.to_numeric, errors ='ignore')\n",
    "# df_derate_nu.info()\n",
    "# df_derate_nu.columns.to_series().groupby(df_derate_nu.dtypes).groups"
   ]
  },
  {
   "cell_type": "code",
   "execution_count": 76,
   "id": "b7fe44f6",
   "metadata": {},
   "outputs": [],
   "source": [
    "df_no_nu = df_no.apply(pd.to_numeric, errors ='ignore')"
   ]
  },
  {
   "cell_type": "code",
   "execution_count": 77,
   "id": "ea6eb606",
   "metadata": {},
   "outputs": [],
   "source": [
    "# df_no_nu.info()\n",
    "# df_no_nu.columns.to_series().groupby(df_no_nu.dtypes).groups"
   ]
  },
  {
   "cell_type": "raw",
   "id": "02c80ca9",
   "metadata": {},
   "source": [
    "# size and color:\n",
    "sizes = np.random.uniform(15, 80, len(x))\n",
    "colors = np.random.uniform(15, 80, len(x))\n",
    "\n",
    "y = ((X_train_derate.groupby('EquipmentID_x')['EventTimeStamp'].max())-\n",
    " (X_train_derate.groupby('EquipmentID_x')['EventTimeStamp'].min()))\n",
    "x = X_train_derate['EquipmentID_x'].unique()\n",
    "\n",
    "# plot\n",
    "fig, ax = plt.subplots()\n",
    "\n",
    "ax.scatter(x, y, s=sizes, c=colors, vmin=0, vmax=100)\n",
    "\n",
    "ax.set(xlim=(0, 8), xticks=np.arange(1, 8),\n",
    "       ylim=(0, 8), yticks=np.arange(1, 8))\n",
    "\n",
    "plt.show()"
   ]
  },
  {
   "cell_type": "raw",
   "id": "4cfb07ee",
   "metadata": {},
   "source": [
    "#Using Pearson Correlation\n",
    "plt.figure(figsize=(12,10))\n",
    "cor = df.corr()\n",
    "sns.heatmap(cor, annot=True, cmap=plt.cm.Reds)\n",
    "plt.show()"
   ]
  },
  {
   "cell_type": "code",
   "execution_count": null,
   "id": "d39ea44c",
   "metadata": {},
   "outputs": [],
   "source": [
    "## notice that the columns from diagnostics can not be used for mean etc as they are object so going to change them as int.\n"
   ]
  },
  {
   "cell_type": "raw",
   "id": "6d642c41",
   "metadata": {},
   "source": [
    "X_train1_short[chosen_cl] = X_train1[chosen_cl].astype(str).astype(int)"
   ]
  },
  {
   "cell_type": "code",
   "execution_count": 81,
   "id": "a59ed2f4",
   "metadata": {},
   "outputs": [],
   "source": [
    "# derate_feature.info()\n",
    "# derate_feature.columns.to_series().groupby(derate_feature.dtypes).groups"
   ]
  },
  {
   "cell_type": "code",
   "execution_count": 82,
   "id": "48c3803a",
   "metadata": {},
   "outputs": [],
   "source": [
    "derate_feature = pd.get_dummies(derate_feature, columns=['spn_fmi'], prefix='spn_fmi') #got the spn_fmi also as dummies call"
   ]
  },
  {
   "cell_type": "code",
   "execution_count": 83,
   "id": "00bd079b",
   "metadata": {},
   "outputs": [
    {
     "name": "stdout",
     "output_type": "stream",
     "text": [
      "<class 'pandas.core.frame.DataFrame'>\n",
      "Int64Index: 546674 entries, 536775 to 70148\n",
      "Columns: 1443 entries, RecordID to spn_fmi_98_5\n",
      "dtypes: bool(1), datetime64[ns](2), float64(419), int32(1), int64(6), object(31), uint8(983)\n",
      "memory usage: 2.4+ GB\n"
     ]
    },
    {
     "data": {
      "text/plain": [
       "{bool: ['active'], int64: ['RecordID', 'spn', 'fmi', 'ecuSource', 'spn', 'fmi'], float64: ['Latitude', 'Longitude', 'spn_0', 'spn_100', 'spn_101', 'spn_102', 'spn_1023', 'spn_1024', 'spn_1028', 'spn_103', 'spn_1043', 'spn_1045', 'spn_105', 'spn_1056', 'spn_1059', 'spn_1067', 'spn_1068', 'spn_107', 'spn_1071', 'spn_1072', 'spn_1075', 'spn_1078', 'spn_108', 'spn_1081', 'spn_110', 'spn_111', 'spn_1127', 'spn_114863', 'spn_116', 'spn_1172', 'spn_1176', 'spn_118', 'spn_1209', 'spn_1213', 'spn_1231', 'spn_1235', 'spn_1236', 'spn_1239', 'spn_1247', 'spn_125', 'spn_127', 'spn_1279', 'spn_1321', 'spn_1322', 'spn_1323', 'spn_1324', 'spn_1325', 'spn_1326', 'spn_1327', 'spn_1328', 'spn_1347', 'spn_1349', 'spn_13600', 'spn_139296', 'spn_1464', 'spn_1481', 'spn_1482', 'spn_1483', 'spn_1487', 'spn_153', 'spn_153931', 'spn_1569', 'spn_157', 'spn_158', 'spn_16', 'spn_160', 'spn_1612', 'spn_1659', 'spn_1668', 'spn_167', 'spn_1675', 'spn_168', 'spn_17096', 'spn_171', 'spn_173', 'spn_174', 'spn_175', 'spn_17590', 'spn_1761', 'spn_177', 'spn_1787', 'spn_1807', 'spn_1808', 'spn_1809', 'spn_1815', 'spn_184', 'spn_188', 'spn_190', 'spn_191', 'spn_196608', 'spn_2000', 'spn_2017', 'spn_2023', 'spn_2029', 'spn_228', 'spn_235', 'spn_236', 'spn_237', 'spn_245', 'spn_247', ...], datetime64[ns]: ['LocationTimeStamp', 'EventTimeStamp'], uint8: ['spn_fmi_0_0', 'spn_fmi_100_1', 'spn_fmi_100_18', 'spn_fmi_100_2', 'spn_fmi_100_3', 'spn_fmi_100_4', 'spn_fmi_101_0', 'spn_fmi_101_15', 'spn_fmi_101_16', 'spn_fmi_101_2', 'spn_fmi_101_3', 'spn_fmi_101_4', 'spn_fmi_1023_5', 'spn_fmi_1024_0', 'spn_fmi_1028_9', 'spn_fmi_102_10', 'spn_fmi_102_14', 'spn_fmi_102_15', 'spn_fmi_102_16', 'spn_fmi_102_17', 'spn_fmi_102_18', 'spn_fmi_102_2', 'spn_fmi_102_20', 'spn_fmi_102_3', 'spn_fmi_102_31', 'spn_fmi_102_4', 'spn_fmi_102_5', 'spn_fmi_103_1', 'spn_fmi_103_10', 'spn_fmi_103_16', 'spn_fmi_103_18', 'spn_fmi_103_4', 'spn_fmi_103_7', 'spn_fmi_103_9', 'spn_fmi_1043_2', 'spn_fmi_1045_2', 'spn_fmi_1045_7', 'spn_fmi_1056_2', 'spn_fmi_1056_4', 'spn_fmi_1056_5', 'spn_fmi_1059_2', 'spn_fmi_105_0', 'spn_fmi_105_17', 'spn_fmi_105_18', 'spn_fmi_105_2', 'spn_fmi_105_3', 'spn_fmi_105_5', 'spn_fmi_1067_11', 'spn_fmi_1067_2', 'spn_fmi_1067_7', 'spn_fmi_1068_2', 'spn_fmi_1071_5', 'spn_fmi_1072_1', 'spn_fmi_1072_3', 'spn_fmi_1072_5', 'spn_fmi_1075_3', 'spn_fmi_1078_4', 'spn_fmi_107_3', 'spn_fmi_107_4', 'spn_fmi_1081_9', 'spn_fmi_108_3', 'spn_fmi_108_4', 'spn_fmi_110_0', 'spn_fmi_110_16', 'spn_fmi_110_18', 'spn_fmi_110_2', 'spn_fmi_110_3', 'spn_fmi_110_31', 'spn_fmi_111_1', 'spn_fmi_111_17', 'spn_fmi_111_18', 'spn_fmi_111_3', 'spn_fmi_111_4', 'spn_fmi_111_5', 'spn_fmi_1127_14', 'spn_fmi_1127_16', 'spn_fmi_1127_18', 'spn_fmi_114863_11', 'spn_fmi_116_31', 'spn_fmi_116_4', 'spn_fmi_1172_2', 'spn_fmi_1172_3', 'spn_fmi_1172_4', 'spn_fmi_1176_1', 'spn_fmi_1176_18', 'spn_fmi_118_3', 'spn_fmi_1209_16', 'spn_fmi_1209_18', 'spn_fmi_1209_2', 'spn_fmi_1209_3', 'spn_fmi_1209_4', 'spn_fmi_1213_5', 'spn_fmi_1231_1', 'spn_fmi_1231_14', 'spn_fmi_1231_16', 'spn_fmi_1231_2', 'spn_fmi_1231_8', 'spn_fmi_1231_9', 'spn_fmi_1235_2', 'spn_fmi_1235_9', ...], int32: ['target'], object: ['AcceleratorPedal', 'BarometricPressure', 'CruiseControlSetSpeed', 'DistanceLtd', 'EngineCoolantTemperature', 'EngineLoad', 'EngineOilPressure', 'EngineOilTemperature', 'EngineRpm', 'EngineTimeLtd', 'FuelLevel', 'FuelLtd', 'FuelRate', 'FuelTemperature', 'IntakeManifoldTemperature', 'LampStatus', 'ServiceDistance', 'Speed', 'SwitchedBatteryVoltage', 'Throttle', 'TurboBoostPressure', 'eventDescription', 'ecuSoftwareVersion', 'ecuSerialNumber', 'ecuModel', 'ecuMake', 'activeTransitionCount', 'EquipmentID_x', 'MCTNumber', 'SPN_FMI', 'EquipmentID_y']}"
      ]
     },
     "execution_count": 83,
     "metadata": {},
     "output_type": "execute_result"
    }
   ],
   "source": [
    "derate_feature.info()\n",
    "derate_feature.columns.to_series().groupby(derate_feature.dtypes).groups"
   ]
  },
  {
   "cell_type": "code",
   "execution_count": 84,
   "id": "376c28bb",
   "metadata": {},
   "outputs": [
    {
     "data": {
      "text/plain": [
       "1042"
      ]
     },
     "execution_count": 84,
     "metadata": {},
     "output_type": "execute_result"
    }
   ],
   "source": [
    "derate_feature.loc[derate_feature['target']== 1]['EquipmentID_x'].nunique() #189\n",
    "derate_feature.loc[derate_feature['target']== 0]['EquipmentID_x'].nunique() #1042"
   ]
  },
  {
   "cell_type": "code",
   "execution_count": 85,
   "id": "58b38487",
   "metadata": {},
   "outputs": [],
   "source": [
    "df_all_derate = derate_feature.apply(pd.to_numeric, errors ='ignore')"
   ]
  },
  {
   "cell_type": "code",
   "execution_count": 89,
   "id": "5563caf1",
   "metadata": {},
   "outputs": [],
   "source": [
    "# df_all_derate.columns.to_series().groupby(df_all_derate.dtypes).groups"
   ]
  },
  {
   "cell_type": "code",
   "execution_count": 90,
   "id": "57334eb3",
   "metadata": {},
   "outputs": [],
   "source": [
    "# df_all_derate.columns.to_list()"
   ]
  },
  {
   "cell_type": "code",
   "execution_count": 88,
   "id": "8a331032",
   "metadata": {},
   "outputs": [],
   "source": [
    "#Droping the object column and the column with sp_5246, and spn_fmi_5246_0, to eliminate the bias\n",
    "df_all_derate = df_all_derate.drop(columns=['eventDescription', 'ecuSoftwareVersion', 'ecuSerialNumber', 'ecuModel', \n",
    "                            'ecuMake', 'EquipmentID_y', 'SPN_FMI',\n",
    "                           'ecuSource', 'spn', 'fmi', 'LocationTimeStamp', 'EventTimeStamp',\n",
    "                           'active',\n",
    "                           'spn_5246',\n",
    "                           'spn_fmi_5246_0', 'spn_fmi_5246_16',\n",
    "                           'spn_fmi_5246_15', 'spn_fmi_5246_19', 'spn_fmi_5246_14']) #546674 rows × 1428 columns"
   ]
  },
  {
   "cell_type": "code",
   "execution_count": 91,
   "id": "88c49d78",
   "metadata": {},
   "outputs": [],
   "source": [
    "# df_all_derate.columns.to_list()"
   ]
  },
  {
   "cell_type": "code",
   "execution_count": 92,
   "id": "6650aff0",
   "metadata": {},
   "outputs": [
    {
     "data": {
      "text/plain": [
       "(174932, 1422)"
      ]
     },
     "execution_count": 92,
     "metadata": {},
     "output_type": "execute_result"
    }
   ],
   "source": [
    "df_only_derate = df_all_derate[(df_all_derate['EquipmentID_x'].isin(derate_trucks))]\n",
    "df_only_derate.shape #(174932, 1422)"
   ]
  },
  {
   "cell_type": "code",
   "execution_count": 93,
   "id": "1d9e0b91",
   "metadata": {},
   "outputs": [
    {
     "data": {
      "text/plain": [
       "(371742, 1422)"
      ]
     },
     "execution_count": 93,
     "metadata": {},
     "output_type": "execute_result"
    }
   ],
   "source": [
    "df_only_no = df_all_derate[(df_all_derate['EquipmentID_x'].isin(no_derate))] #371742 rows × 1422 columns\n",
    "df_only_no.shape"
   ]
  },
  {
   "cell_type": "code",
   "execution_count": 94,
   "id": "e9c37316",
   "metadata": {},
   "outputs": [
    {
     "name": "stdout",
     "output_type": "stream",
     "text": [
      "(297393, 1420)\n",
      "(74349, 1420)\n",
      "(297393, 1)\n",
      "(74349, 1)\n"
     ]
    }
   ],
   "source": [
    "##Making the 80/20 split in the train/test among all the trucks with noderate\n",
    "\n",
    "X1_no = df_only_no.drop(columns=['target', 'EquipmentID_x'])\n",
    "y1_no= df_only_no[['target']]\n",
    "\n",
    "X1_train_noderate, X1_test_noderate, y1_train_noderate, y1_test_noderate = train_test_split(X1_no, y1_no, train_size = 0.8,\n",
    "                                                                                test_size = 0.2, \n",
    "                                                                                random_state = 321)\n",
    "\n",
    "print(X1_train_noderate.shape)\n",
    "print(X1_test_noderate.shape)\n",
    "print(y1_train_noderate.shape)\n",
    "print(y1_test_noderate.shape)"
   ]
  },
  {
   "cell_type": "code",
   "execution_count": 95,
   "id": "ff19d3f4",
   "metadata": {},
   "outputs": [
    {
     "name": "stdout",
     "output_type": "stream",
     "text": [
      "(139945, 1420)\n",
      "(34987, 1420)\n",
      "(139945, 1)\n",
      "(34987, 1)\n"
     ]
    }
   ],
   "source": [
    "##Making the 80/20 split in the train/test among all the trucks with noderate\n",
    "\n",
    "X1_yes = df_only_derate.drop(columns=['target', 'EquipmentID_x'])\n",
    "y1_yes = df_only_derate[['target']]\n",
    "\n",
    "X1_train_derate, X1_test_derate, y1_train_derate, y1_test_derate = train_test_split(X1_yes, y1_yes, train_size = 0.8,\n",
    "                                                                                test_size = 0.2, \n",
    "                                                                                random_state = 321)\n",
    "\n",
    "print(X1_train_derate.shape)\n",
    "print(X1_test_derate.shape)\n",
    "print(y1_train_derate.shape)\n",
    "print(y1_test_derate.shape)"
   ]
  },
  {
   "cell_type": "code",
   "execution_count": 96,
   "id": "48f90b73",
   "metadata": {},
   "outputs": [
    {
     "name": "stdout",
     "output_type": "stream",
     "text": [
      "(437338, 1420)\n",
      "(109336, 1420)\n",
      "(437338, 1)\n",
      "(109336, 1)\n"
     ]
    }
   ],
   "source": [
    "X1_train = pd.concat([X1_train_derate, X1_train_noderate], axis=0) #437338 rows × 460 columns\n",
    "\n",
    "X1_test = pd.concat([X1_test_derate, X1_test_noderate], axis=0) #109336 rows × 460 columns\n",
    "\n",
    "y1_train = pd.concat([y1_train_derate, y1_train_noderate], axis=0) #437338 rows × 1 columns\n",
    "\n",
    "y1_test = pd.concat([y1_test_derate, y1_test_noderate], axis=0) #109336 rows × 1 columns\n",
    "\n",
    "print(X1_train.shape)\n",
    "print(X1_test.shape)\n",
    "print(y1_train.shape)\n",
    "print(y1_test.shape)"
   ]
  },
  {
   "cell_type": "code",
   "execution_count": 116,
   "id": "58a14857",
   "metadata": {},
   "outputs": [],
   "source": [
    "X1_train.to_pickle('../data/X1_train.pk')"
   ]
  },
  {
   "cell_type": "code",
   "execution_count": 117,
   "id": "eaeb5a87",
   "metadata": {},
   "outputs": [],
   "source": [
    "X1_test.to_pickle('../data/X1_test.pk')"
   ]
  },
  {
   "cell_type": "code",
   "execution_count": 118,
   "id": "db04aa37",
   "metadata": {},
   "outputs": [],
   "source": [
    "y1_train.to_pickle('../data/y1_train.pk')"
   ]
  },
  {
   "cell_type": "code",
   "execution_count": 119,
   "id": "28b37638",
   "metadata": {},
   "outputs": [],
   "source": [
    "y1_test.to_pickle('../data/X1_test.pk')"
   ]
  },
  {
   "cell_type": "code",
   "execution_count": 126,
   "id": "aa7958e5",
   "metadata": {},
   "outputs": [],
   "source": [
    "df_only_derate.to_pickle('../data/only_derate.pk')\n",
    "df_only_no.to_pickle('../data/no_derate.pk')\n",
    "df_all_derate.to_pickle('../data/all_trucks_derate.pk')"
   ]
  },
  {
   "cell_type": "code",
   "execution_count": 97,
   "id": "5f2bf976",
   "metadata": {},
   "outputs": [],
   "source": [
    "#from sklearn.impute import SimpleImputer\n",
    "#step1\n",
    "logReg_scaler = Pipeline(\n",
    "    steps = [\n",
    "        ('impute', SimpleImputer()), #fills average of the column if there are NaN missing values\n",
    "        ('scaler', StandardScaler()),\n",
    "        ('log_reg', LogisticRegression(C = 0.01)) #started from 0.01, 0,001, \n",
    "    ]\n",
    ").fit(X1_train, y1_train)"
   ]
  },
  {
   "cell_type": "code",
   "execution_count": 98,
   "id": "9fd1ff0d",
   "metadata": {},
   "outputs": [],
   "source": [
    "# #step2\n",
    "logreg1 = logReg_scaler.predict(X1_test)"
   ]
  },
  {
   "cell_type": "code",
   "execution_count": 101,
   "id": "d8097c40",
   "metadata": {},
   "outputs": [
    {
     "data": {
      "text/plain": [
       "0.9979878539547816"
      ]
     },
     "execution_count": 101,
     "metadata": {},
     "output_type": "execute_result"
    }
   ],
   "source": [
    "# #step3\n",
    "accuracy_score(y1_test, logreg1) "
   ]
  },
  {
   "cell_type": "code",
   "execution_count": 102,
   "id": "6e2ee132",
   "metadata": {},
   "outputs": [
    {
     "data": {
      "text/plain": [
       "0.9633214213672706"
      ]
     },
     "execution_count": 102,
     "metadata": {},
     "output_type": "execute_result"
    }
   ],
   "source": [
    "# #step4 ROC_AUC \n",
    "roc_auc_score(y1_test, logReg_scaler.predict_proba(X1_test)[:,1] )"
   ]
  },
  {
   "cell_type": "code",
   "execution_count": 104,
   "id": "581c0757",
   "metadata": {},
   "outputs": [
    {
     "data": {
      "text/html": [
       "<div>\n",
       "<style scoped>\n",
       "    .dataframe tbody tr th:only-of-type {\n",
       "        vertical-align: middle;\n",
       "    }\n",
       "\n",
       "    .dataframe tbody tr th {\n",
       "        vertical-align: top;\n",
       "    }\n",
       "\n",
       "    .dataframe thead th {\n",
       "        text-align: right;\n",
       "    }\n",
       "</style>\n",
       "<table border=\"1\" class=\"dataframe\">\n",
       "  <thead>\n",
       "    <tr style=\"text-align: right;\">\n",
       "      <th></th>\n",
       "      <th>feature</th>\n",
       "      <th>coefficient</th>\n",
       "      <th>ex_coefficient</th>\n",
       "    </tr>\n",
       "  </thead>\n",
       "  <tbody>\n",
       "    <tr>\n",
       "      <th>16</th>\n",
       "      <td>LampStatus</td>\n",
       "      <td>0.675647</td>\n",
       "      <td>1.965304</td>\n",
       "    </tr>\n",
       "    <tr>\n",
       "      <th>14</th>\n",
       "      <td>FuelTemperature</td>\n",
       "      <td>0.480853</td>\n",
       "      <td>1.617453</td>\n",
       "    </tr>\n",
       "    <tr>\n",
       "      <th>167</th>\n",
       "      <td>spn_3362</td>\n",
       "      <td>0.155315</td>\n",
       "      <td>1.168025</td>\n",
       "    </tr>\n",
       "    <tr>\n",
       "      <th>4</th>\n",
       "      <td>DistanceLtd</td>\n",
       "      <td>0.142606</td>\n",
       "      <td>1.153275</td>\n",
       "    </tr>\n",
       "    <tr>\n",
       "      <th>15</th>\n",
       "      <td>IntakeManifoldTemperature</td>\n",
       "      <td>0.119376</td>\n",
       "      <td>1.126794</td>\n",
       "    </tr>\n",
       "    <tr>\n",
       "      <th>...</th>\n",
       "      <td>...</td>\n",
       "      <td>...</td>\n",
       "      <td>...</td>\n",
       "    </tr>\n",
       "    <tr>\n",
       "      <th>1358</th>\n",
       "      <td>spn_fmi_829_3</td>\n",
       "      <td>-0.507252</td>\n",
       "      <td>0.602148</td>\n",
       "    </tr>\n",
       "    <tr>\n",
       "      <th>512</th>\n",
       "      <td>spn_fmi_111_18</td>\n",
       "      <td>-0.553380</td>\n",
       "      <td>0.575003</td>\n",
       "    </tr>\n",
       "    <tr>\n",
       "      <th>1385</th>\n",
       "      <td>spn_fmi_929_9</td>\n",
       "      <td>-0.738579</td>\n",
       "      <td>0.477792</td>\n",
       "    </tr>\n",
       "    <tr>\n",
       "      <th>22</th>\n",
       "      <td>activeTransitionCount</td>\n",
       "      <td>-1.011968</td>\n",
       "      <td>0.363503</td>\n",
       "    </tr>\n",
       "    <tr>\n",
       "      <th>511</th>\n",
       "      <td>spn_fmi_111_17</td>\n",
       "      <td>-1.364233</td>\n",
       "      <td>0.255577</td>\n",
       "    </tr>\n",
       "  </tbody>\n",
       "</table>\n",
       "<p>1420 rows × 3 columns</p>\n",
       "</div>"
      ],
      "text/plain": [
       "                        feature  coefficient  ex_coefficient\n",
       "16                   LampStatus     0.675647        1.965304\n",
       "14              FuelTemperature     0.480853        1.617453\n",
       "167                    spn_3362     0.155315        1.168025\n",
       "4                   DistanceLtd     0.142606        1.153275\n",
       "15    IntakeManifoldTemperature     0.119376        1.126794\n",
       "...                         ...          ...             ...\n",
       "1358              spn_fmi_829_3    -0.507252        0.602148\n",
       "512              spn_fmi_111_18    -0.553380        0.575003\n",
       "1385              spn_fmi_929_9    -0.738579        0.477792\n",
       "22        activeTransitionCount    -1.011968        0.363503\n",
       "511              spn_fmi_111_17    -1.364233        0.255577\n",
       "\n",
       "[1420 rows x 3 columns]"
      ]
     },
     "execution_count": 104,
     "metadata": {},
     "output_type": "execute_result"
    }
   ],
   "source": [
    "# #step5\n",
    "# #extracting the features\n",
    "pd.DataFrame({'feature': logReg_scaler['impute'].get_feature_names_out(),\n",
    "                             'coefficient': logReg_scaler['log_reg'].coef_[0],\n",
    "             \"ex_coefficient\": np.exp(logReg_scaler['log_reg'].coef_[0])}).sort_values(by='coefficient', ascending =False)\n",
    "# #every drop in the x-feature affects the predicted probability by the ex_coefficient"
   ]
  },
  {
   "cell_type": "code",
   "execution_count": 106,
   "id": "b27ddd86",
   "metadata": {},
   "outputs": [
    {
     "data": {
      "text/plain": [
       "array([[109043,     21],\n",
       "       [   199,     73]], dtype=int64)"
      ]
     },
     "execution_count": 106,
     "metadata": {},
     "output_type": "execute_result"
    }
   ],
   "source": [
    "# #step6 confusion matrix\n",
    "confusion_matrix(y1_test, logReg_scaler.predict(X1_test))"
   ]
  },
  {
   "cell_type": "code",
   "execution_count": 107,
   "id": "ba4944f6",
   "metadata": {},
   "outputs": [
    {
     "data": {
      "image/png": "[encoded data removed]",
      "text/plain": [
       "<Figure size 600x600 with 1 Axes>"
      ]
     },
     "metadata": {},
     "output_type": "display_data"
    }
   ],
   "source": [
    "# ##step7 plotting matrix\n",
    "plot_confusion_matrix(y1_test, logReg_scaler.predict(X1_test), labels = ['No_Derate(0)', 'Derate(1)'], metric = 'accuracy');"
   ]
  },
  {
   "cell_type": "code",
   "execution_count": 114,
   "id": "0e82d329",
   "metadata": {},
   "outputs": [
    {
     "data": {
      "text/plain": [
       "0    545285\n",
       "1      1389\n",
       "Name: target, dtype: int64"
      ]
     },
     "execution_count": 114,
     "metadata": {},
     "output_type": "execute_result"
    }
   ],
   "source": [
    "#what are total rows predicted as derate\n",
    "\n",
    "df_all_derate['target'].value_counts() #(0=545285,1=1389)\n",
    "# df_only_derate['target'].value_counts() #(0=173543, 1=1389)\n",
    "# df_only_no['target'].value_counts() #0=371742"
   ]
  },
  {
   "cell_type": "markdown",
   "id": "979f870e",
   "metadata": {},
   "source": [
    "# Exploring Pycaret classifiers"
   ]
  },
  {
   "cell_type": "code",
   "execution_count": 122,
   "id": "4108cc3d",
   "metadata": {},
   "outputs": [
    {
     "name": "stdout",
     "output_type": "stream",
     "text": [
      "Data for Modeling: (519340, 1422)\n",
      "Unseen Data For Predictions: (27334, 1422)\n"
     ]
    }
   ],
   "source": [
    "#using pycaret breaking into train an test data\n",
    "data = df_all_derate.sample(frac=0.95, random_state=786).reset_index(drop=True)\n",
    "data_unseen = df_all_derate.drop(data.index).reset_index(drop=True)\n",
    "\n",
    "print('Data for Modeling: ' + str(data.shape))\n",
    "print('Unseen Data For Predictions: ' + str(data_unseen.shape))"
   ]
  },
  {
   "cell_type": "code",
   "execution_count": 124,
   "id": "3fb9ae09",
   "metadata": {},
   "outputs": [
    {
     "ename": "MemoryError",
     "evalue": "Unable to allocate 3.85 GiB for an array with shape (1420, 363538) and data type float64",
     "output_type": "error",
     "traceback": [
      "\u001b[1;31m---------------------------------------------------------------------------\u001b[0m",
      "\u001b[1;31mMemoryError\u001b[0m                               Traceback (most recent call last)",
      "Cell \u001b[1;32mIn[124], line 3\u001b[0m\n\u001b[0;32m      1\u001b[0m \u001b[38;5;66;03m#Setting up Environment in PyCaret\u001b[39;00m\n\u001b[0;32m      2\u001b[0m \u001b[38;5;28;01mfrom\u001b[39;00m \u001b[38;5;21;01mpycaret\u001b[39;00m\u001b[38;5;21;01m.\u001b[39;00m\u001b[38;5;21;01mclassification\u001b[39;00m \u001b[38;5;28;01mimport\u001b[39;00m \u001b[38;5;241m*\u001b[39m\n\u001b[1;32m----> 3\u001b[0m exp_clf101 \u001b[38;5;241m=\u001b[39m \u001b[43msetup\u001b[49m\u001b[43m(\u001b[49m\u001b[43mdata\u001b[49m\u001b[43m \u001b[49m\u001b[38;5;241;43m=\u001b[39;49m\u001b[43m \u001b[49m\u001b[43mdata\u001b[49m\u001b[43m,\u001b[49m\u001b[43m \u001b[49m\u001b[43mtarget\u001b[49m\u001b[43m \u001b[49m\u001b[38;5;241;43m=\u001b[39;49m\u001b[43m \u001b[49m\u001b[38;5;124;43m'\u001b[39;49m\u001b[38;5;124;43mtarget\u001b[39;49m\u001b[38;5;124;43m'\u001b[39;49m\u001b[43m,\u001b[49m\u001b[43m \u001b[49m\u001b[43msession_id\u001b[49m\u001b[38;5;241;43m=\u001b[39;49m\u001b[38;5;241;43m123\u001b[39;49m\u001b[43m)\u001b[49m\n",
      "File \u001b[1;32m~\\anaconda3\\envs\\mypycaret\\lib\\site-packages\\pycaret\\classification\\functional.py:603\u001b[0m, in \u001b[0;36msetup\u001b[1;34m(data, data_func, target, index, train_size, test_data, ordinal_features, numeric_features, categorical_features, date_features, text_features, ignore_features, keep_features, preprocess, create_date_columns, imputation_type, numeric_imputation, categorical_imputation, iterative_imputation_iters, numeric_iterative_imputer, categorical_iterative_imputer, text_features_method, max_encoding_ohe, encoding_method, rare_to_value, rare_value, polynomial_features, polynomial_degree, low_variance_threshold, group_features, group_names, drop_groups, remove_multicollinearity, multicollinearity_threshold, bin_numeric_features, remove_outliers, outliers_method, outliers_threshold, fix_imbalance, fix_imbalance_method, transformation, transformation_method, normalize, normalize_method, pca, pca_method, pca_components, feature_selection, feature_selection_method, feature_selection_estimator, n_features_to_select, custom_pipeline, custom_pipeline_position, data_split_shuffle, data_split_stratify, fold_strategy, fold, fold_shuffle, fold_groups, n_jobs, use_gpu, html, session_id, system_log, log_experiment, experiment_name, experiment_custom_tags, log_plots, log_profile, log_data, verbose, memory, profile, profile_kwargs)\u001b[0m\n\u001b[0;32m    601\u001b[0m exp \u001b[38;5;241m=\u001b[39m _EXPERIMENT_CLASS()\n\u001b[0;32m    602\u001b[0m set_current_experiment(exp)\n\u001b[1;32m--> 603\u001b[0m \u001b[38;5;28;01mreturn\u001b[39;00m \u001b[43mexp\u001b[49m\u001b[38;5;241;43m.\u001b[39;49m\u001b[43msetup\u001b[49m\u001b[43m(\u001b[49m\n\u001b[0;32m    604\u001b[0m \u001b[43m    \u001b[49m\u001b[43mdata\u001b[49m\u001b[38;5;241;43m=\u001b[39;49m\u001b[43mdata\u001b[49m\u001b[43m,\u001b[49m\n\u001b[0;32m    605\u001b[0m \u001b[43m    \u001b[49m\u001b[43mdata_func\u001b[49m\u001b[38;5;241;43m=\u001b[39;49m\u001b[43mdata_func\u001b[49m\u001b[43m,\u001b[49m\n\u001b[0;32m    606\u001b[0m \u001b[43m    \u001b[49m\u001b[43mtarget\u001b[49m\u001b[38;5;241;43m=\u001b[39;49m\u001b[43mtarget\u001b[49m\u001b[43m,\u001b[49m\n\u001b[0;32m    607\u001b[0m \u001b[43m    \u001b[49m\u001b[43mindex\u001b[49m\u001b[38;5;241;43m=\u001b[39;49m\u001b[43mindex\u001b[49m\u001b[43m,\u001b[49m\n\u001b[0;32m    608\u001b[0m \u001b[43m    \u001b[49m\u001b[43mtrain_size\u001b[49m\u001b[38;5;241;43m=\u001b[39;49m\u001b[43mtrain_size\u001b[49m\u001b[43m,\u001b[49m\n\u001b[0;32m    609\u001b[0m \u001b[43m    \u001b[49m\u001b[43mtest_data\u001b[49m\u001b[38;5;241;43m=\u001b[39;49m\u001b[43mtest_data\u001b[49m\u001b[43m,\u001b[49m\n\u001b[0;32m    610\u001b[0m \u001b[43m    \u001b[49m\u001b[43mordinal_features\u001b[49m\u001b[38;5;241;43m=\u001b[39;49m\u001b[43mordinal_features\u001b[49m\u001b[43m,\u001b[49m\n\u001b[0;32m    611\u001b[0m \u001b[43m    \u001b[49m\u001b[43mnumeric_features\u001b[49m\u001b[38;5;241;43m=\u001b[39;49m\u001b[43mnumeric_features\u001b[49m\u001b[43m,\u001b[49m\n\u001b[0;32m    612\u001b[0m \u001b[43m    \u001b[49m\u001b[43mcategorical_features\u001b[49m\u001b[38;5;241;43m=\u001b[39;49m\u001b[43mcategorical_features\u001b[49m\u001b[43m,\u001b[49m\n\u001b[0;32m    613\u001b[0m \u001b[43m    \u001b[49m\u001b[43mdate_features\u001b[49m\u001b[38;5;241;43m=\u001b[39;49m\u001b[43mdate_features\u001b[49m\u001b[43m,\u001b[49m\n\u001b[0;32m    614\u001b[0m \u001b[43m    \u001b[49m\u001b[43mtext_features\u001b[49m\u001b[38;5;241;43m=\u001b[39;49m\u001b[43mtext_features\u001b[49m\u001b[43m,\u001b[49m\n\u001b[0;32m    615\u001b[0m \u001b[43m    \u001b[49m\u001b[43mignore_features\u001b[49m\u001b[38;5;241;43m=\u001b[39;49m\u001b[43mignore_features\u001b[49m\u001b[43m,\u001b[49m\n\u001b[0;32m    616\u001b[0m \u001b[43m    \u001b[49m\u001b[43mkeep_features\u001b[49m\u001b[38;5;241;43m=\u001b[39;49m\u001b[43mkeep_features\u001b[49m\u001b[43m,\u001b[49m\n\u001b[0;32m    617\u001b[0m \u001b[43m    \u001b[49m\u001b[43mpreprocess\u001b[49m\u001b[38;5;241;43m=\u001b[39;49m\u001b[43mpreprocess\u001b[49m\u001b[43m,\u001b[49m\n\u001b[0;32m    618\u001b[0m \u001b[43m    \u001b[49m\u001b[43mcreate_date_columns\u001b[49m\u001b[38;5;241;43m=\u001b[39;49m\u001b[43mcreate_date_columns\u001b[49m\u001b[43m,\u001b[49m\n\u001b[0;32m    619\u001b[0m \u001b[43m    \u001b[49m\u001b[43mimputation_type\u001b[49m\u001b[38;5;241;43m=\u001b[39;49m\u001b[43mimputation_type\u001b[49m\u001b[43m,\u001b[49m\n\u001b[0;32m    620\u001b[0m \u001b[43m    \u001b[49m\u001b[43mnumeric_imputation\u001b[49m\u001b[38;5;241;43m=\u001b[39;49m\u001b[43mnumeric_imputation\u001b[49m\u001b[43m,\u001b[49m\n\u001b[0;32m    621\u001b[0m \u001b[43m    \u001b[49m\u001b[43mcategorical_imputation\u001b[49m\u001b[38;5;241;43m=\u001b[39;49m\u001b[43mcategorical_imputation\u001b[49m\u001b[43m,\u001b[49m\n\u001b[0;32m    622\u001b[0m \u001b[43m    \u001b[49m\u001b[43miterative_imputation_iters\u001b[49m\u001b[38;5;241;43m=\u001b[39;49m\u001b[43miterative_imputation_iters\u001b[49m\u001b[43m,\u001b[49m\n\u001b[0;32m    623\u001b[0m \u001b[43m    \u001b[49m\u001b[43mnumeric_iterative_imputer\u001b[49m\u001b[38;5;241;43m=\u001b[39;49m\u001b[43mnumeric_iterative_imputer\u001b[49m\u001b[43m,\u001b[49m\n\u001b[0;32m    624\u001b[0m \u001b[43m    \u001b[49m\u001b[43mcategorical_iterative_imputer\u001b[49m\u001b[38;5;241;43m=\u001b[39;49m\u001b[43mcategorical_iterative_imputer\u001b[49m\u001b[43m,\u001b[49m\n\u001b[0;32m    625\u001b[0m \u001b[43m    \u001b[49m\u001b[43mtext_features_method\u001b[49m\u001b[38;5;241;43m=\u001b[39;49m\u001b[43mtext_features_method\u001b[49m\u001b[43m,\u001b[49m\n\u001b[0;32m    626\u001b[0m \u001b[43m    \u001b[49m\u001b[43mmax_encoding_ohe\u001b[49m\u001b[38;5;241;43m=\u001b[39;49m\u001b[43mmax_encoding_ohe\u001b[49m\u001b[43m,\u001b[49m\n\u001b[0;32m    627\u001b[0m \u001b[43m    \u001b[49m\u001b[43mencoding_method\u001b[49m\u001b[38;5;241;43m=\u001b[39;49m\u001b[43mencoding_method\u001b[49m\u001b[43m,\u001b[49m\n\u001b[0;32m    628\u001b[0m \u001b[43m    \u001b[49m\u001b[43mrare_to_value\u001b[49m\u001b[38;5;241;43m=\u001b[39;49m\u001b[43mrare_to_value\u001b[49m\u001b[43m,\u001b[49m\n\u001b[0;32m    629\u001b[0m \u001b[43m    \u001b[49m\u001b[43mrare_value\u001b[49m\u001b[38;5;241;43m=\u001b[39;49m\u001b[43mrare_value\u001b[49m\u001b[43m,\u001b[49m\n\u001b[0;32m    630\u001b[0m \u001b[43m    \u001b[49m\u001b[43mpolynomial_features\u001b[49m\u001b[38;5;241;43m=\u001b[39;49m\u001b[43mpolynomial_features\u001b[49m\u001b[43m,\u001b[49m\n\u001b[0;32m    631\u001b[0m \u001b[43m    \u001b[49m\u001b[43mpolynomial_degree\u001b[49m\u001b[38;5;241;43m=\u001b[39;49m\u001b[43mpolynomial_degree\u001b[49m\u001b[43m,\u001b[49m\n\u001b[0;32m    632\u001b[0m \u001b[43m    \u001b[49m\u001b[43mlow_variance_threshold\u001b[49m\u001b[38;5;241;43m=\u001b[39;49m\u001b[43mlow_variance_threshold\u001b[49m\u001b[43m,\u001b[49m\n\u001b[0;32m    633\u001b[0m \u001b[43m    \u001b[49m\u001b[43mgroup_features\u001b[49m\u001b[38;5;241;43m=\u001b[39;49m\u001b[43mgroup_features\u001b[49m\u001b[43m,\u001b[49m\n\u001b[0;32m    634\u001b[0m \u001b[43m    \u001b[49m\u001b[43mgroup_names\u001b[49m\u001b[38;5;241;43m=\u001b[39;49m\u001b[43mgroup_names\u001b[49m\u001b[43m,\u001b[49m\n\u001b[0;32m    635\u001b[0m \u001b[43m    \u001b[49m\u001b[43mdrop_groups\u001b[49m\u001b[38;5;241;43m=\u001b[39;49m\u001b[43mdrop_groups\u001b[49m\u001b[43m,\u001b[49m\n\u001b[0;32m    636\u001b[0m \u001b[43m    \u001b[49m\u001b[43mremove_multicollinearity\u001b[49m\u001b[38;5;241;43m=\u001b[39;49m\u001b[43mremove_multicollinearity\u001b[49m\u001b[43m,\u001b[49m\n\u001b[0;32m    637\u001b[0m \u001b[43m    \u001b[49m\u001b[43mmulticollinearity_threshold\u001b[49m\u001b[38;5;241;43m=\u001b[39;49m\u001b[43mmulticollinearity_threshold\u001b[49m\u001b[43m,\u001b[49m\n\u001b[0;32m    638\u001b[0m \u001b[43m    \u001b[49m\u001b[43mbin_numeric_features\u001b[49m\u001b[38;5;241;43m=\u001b[39;49m\u001b[43mbin_numeric_features\u001b[49m\u001b[43m,\u001b[49m\n\u001b[0;32m    639\u001b[0m \u001b[43m    \u001b[49m\u001b[43mremove_outliers\u001b[49m\u001b[38;5;241;43m=\u001b[39;49m\u001b[43mremove_outliers\u001b[49m\u001b[43m,\u001b[49m\n\u001b[0;32m    640\u001b[0m \u001b[43m    \u001b[49m\u001b[43moutliers_method\u001b[49m\u001b[38;5;241;43m=\u001b[39;49m\u001b[43moutliers_method\u001b[49m\u001b[43m,\u001b[49m\n\u001b[0;32m    641\u001b[0m \u001b[43m    \u001b[49m\u001b[43moutliers_threshold\u001b[49m\u001b[38;5;241;43m=\u001b[39;49m\u001b[43moutliers_threshold\u001b[49m\u001b[43m,\u001b[49m\n\u001b[0;32m    642\u001b[0m \u001b[43m    \u001b[49m\u001b[43mfix_imbalance\u001b[49m\u001b[38;5;241;43m=\u001b[39;49m\u001b[43mfix_imbalance\u001b[49m\u001b[43m,\u001b[49m\n\u001b[0;32m    643\u001b[0m \u001b[43m    \u001b[49m\u001b[43mfix_imbalance_method\u001b[49m\u001b[38;5;241;43m=\u001b[39;49m\u001b[43mfix_imbalance_method\u001b[49m\u001b[43m,\u001b[49m\n\u001b[0;32m    644\u001b[0m \u001b[43m    \u001b[49m\u001b[43mtransformation\u001b[49m\u001b[38;5;241;43m=\u001b[39;49m\u001b[43mtransformation\u001b[49m\u001b[43m,\u001b[49m\n\u001b[0;32m    645\u001b[0m \u001b[43m    \u001b[49m\u001b[43mtransformation_method\u001b[49m\u001b[38;5;241;43m=\u001b[39;49m\u001b[43mtransformation_method\u001b[49m\u001b[43m,\u001b[49m\n\u001b[0;32m    646\u001b[0m \u001b[43m    \u001b[49m\u001b[43mnormalize\u001b[49m\u001b[38;5;241;43m=\u001b[39;49m\u001b[43mnormalize\u001b[49m\u001b[43m,\u001b[49m\n\u001b[0;32m    647\u001b[0m \u001b[43m    \u001b[49m\u001b[43mnormalize_method\u001b[49m\u001b[38;5;241;43m=\u001b[39;49m\u001b[43mnormalize_method\u001b[49m\u001b[43m,\u001b[49m\n\u001b[0;32m    648\u001b[0m \u001b[43m    \u001b[49m\u001b[43mpca\u001b[49m\u001b[38;5;241;43m=\u001b[39;49m\u001b[43mpca\u001b[49m\u001b[43m,\u001b[49m\n\u001b[0;32m    649\u001b[0m \u001b[43m    \u001b[49m\u001b[43mpca_method\u001b[49m\u001b[38;5;241;43m=\u001b[39;49m\u001b[43mpca_method\u001b[49m\u001b[43m,\u001b[49m\n\u001b[0;32m    650\u001b[0m \u001b[43m    \u001b[49m\u001b[43mpca_components\u001b[49m\u001b[38;5;241;43m=\u001b[39;49m\u001b[43mpca_components\u001b[49m\u001b[43m,\u001b[49m\n\u001b[0;32m    651\u001b[0m \u001b[43m    \u001b[49m\u001b[43mfeature_selection\u001b[49m\u001b[38;5;241;43m=\u001b[39;49m\u001b[43mfeature_selection\u001b[49m\u001b[43m,\u001b[49m\n\u001b[0;32m    652\u001b[0m \u001b[43m    \u001b[49m\u001b[43mfeature_selection_method\u001b[49m\u001b[38;5;241;43m=\u001b[39;49m\u001b[43mfeature_selection_method\u001b[49m\u001b[43m,\u001b[49m\n\u001b[0;32m    653\u001b[0m \u001b[43m    \u001b[49m\u001b[43mfeature_selection_estimator\u001b[49m\u001b[38;5;241;43m=\u001b[39;49m\u001b[43mfeature_selection_estimator\u001b[49m\u001b[43m,\u001b[49m\n\u001b[0;32m    654\u001b[0m \u001b[43m    \u001b[49m\u001b[43mn_features_to_select\u001b[49m\u001b[38;5;241;43m=\u001b[39;49m\u001b[43mn_features_to_select\u001b[49m\u001b[43m,\u001b[49m\n\u001b[0;32m    655\u001b[0m \u001b[43m    \u001b[49m\u001b[43mcustom_pipeline\u001b[49m\u001b[38;5;241;43m=\u001b[39;49m\u001b[43mcustom_pipeline\u001b[49m\u001b[43m,\u001b[49m\n\u001b[0;32m    656\u001b[0m \u001b[43m    \u001b[49m\u001b[43mcustom_pipeline_position\u001b[49m\u001b[38;5;241;43m=\u001b[39;49m\u001b[43mcustom_pipeline_position\u001b[49m\u001b[43m,\u001b[49m\n\u001b[0;32m    657\u001b[0m \u001b[43m    \u001b[49m\u001b[43mdata_split_shuffle\u001b[49m\u001b[38;5;241;43m=\u001b[39;49m\u001b[43mdata_split_shuffle\u001b[49m\u001b[43m,\u001b[49m\n\u001b[0;32m    658\u001b[0m \u001b[43m    \u001b[49m\u001b[43mdata_split_stratify\u001b[49m\u001b[38;5;241;43m=\u001b[39;49m\u001b[43mdata_split_stratify\u001b[49m\u001b[43m,\u001b[49m\n\u001b[0;32m    659\u001b[0m \u001b[43m    \u001b[49m\u001b[43mfold_strategy\u001b[49m\u001b[38;5;241;43m=\u001b[39;49m\u001b[43mfold_strategy\u001b[49m\u001b[43m,\u001b[49m\n\u001b[0;32m    660\u001b[0m \u001b[43m    \u001b[49m\u001b[43mfold\u001b[49m\u001b[38;5;241;43m=\u001b[39;49m\u001b[43mfold\u001b[49m\u001b[43m,\u001b[49m\n\u001b[0;32m    661\u001b[0m \u001b[43m    \u001b[49m\u001b[43mfold_shuffle\u001b[49m\u001b[38;5;241;43m=\u001b[39;49m\u001b[43mfold_shuffle\u001b[49m\u001b[43m,\u001b[49m\n\u001b[0;32m    662\u001b[0m \u001b[43m    \u001b[49m\u001b[43mfold_groups\u001b[49m\u001b[38;5;241;43m=\u001b[39;49m\u001b[43mfold_groups\u001b[49m\u001b[43m,\u001b[49m\n\u001b[0;32m    663\u001b[0m \u001b[43m    \u001b[49m\u001b[43mn_jobs\u001b[49m\u001b[38;5;241;43m=\u001b[39;49m\u001b[43mn_jobs\u001b[49m\u001b[43m,\u001b[49m\n\u001b[0;32m    664\u001b[0m \u001b[43m    \u001b[49m\u001b[43muse_gpu\u001b[49m\u001b[38;5;241;43m=\u001b[39;49m\u001b[43muse_gpu\u001b[49m\u001b[43m,\u001b[49m\n\u001b[0;32m    665\u001b[0m \u001b[43m    \u001b[49m\u001b[43mhtml\u001b[49m\u001b[38;5;241;43m=\u001b[39;49m\u001b[43mhtml\u001b[49m\u001b[43m,\u001b[49m\n\u001b[0;32m    666\u001b[0m \u001b[43m    \u001b[49m\u001b[43msession_id\u001b[49m\u001b[38;5;241;43m=\u001b[39;49m\u001b[43msession_id\u001b[49m\u001b[43m,\u001b[49m\n\u001b[0;32m    667\u001b[0m \u001b[43m    \u001b[49m\u001b[43msystem_log\u001b[49m\u001b[38;5;241;43m=\u001b[39;49m\u001b[43msystem_log\u001b[49m\u001b[43m,\u001b[49m\n\u001b[0;32m    668\u001b[0m \u001b[43m    \u001b[49m\u001b[43mlog_experiment\u001b[49m\u001b[38;5;241;43m=\u001b[39;49m\u001b[43mlog_experiment\u001b[49m\u001b[43m,\u001b[49m\n\u001b[0;32m    669\u001b[0m \u001b[43m    \u001b[49m\u001b[43mexperiment_name\u001b[49m\u001b[38;5;241;43m=\u001b[39;49m\u001b[43mexperiment_name\u001b[49m\u001b[43m,\u001b[49m\n\u001b[0;32m    670\u001b[0m \u001b[43m    \u001b[49m\u001b[43mexperiment_custom_tags\u001b[49m\u001b[38;5;241;43m=\u001b[39;49m\u001b[43mexperiment_custom_tags\u001b[49m\u001b[43m,\u001b[49m\n\u001b[0;32m    671\u001b[0m \u001b[43m    \u001b[49m\u001b[43mlog_plots\u001b[49m\u001b[38;5;241;43m=\u001b[39;49m\u001b[43mlog_plots\u001b[49m\u001b[43m,\u001b[49m\n\u001b[0;32m    672\u001b[0m \u001b[43m    \u001b[49m\u001b[43mlog_profile\u001b[49m\u001b[38;5;241;43m=\u001b[39;49m\u001b[43mlog_profile\u001b[49m\u001b[43m,\u001b[49m\n\u001b[0;32m    673\u001b[0m \u001b[43m    \u001b[49m\u001b[43mlog_data\u001b[49m\u001b[38;5;241;43m=\u001b[39;49m\u001b[43mlog_data\u001b[49m\u001b[43m,\u001b[49m\n\u001b[0;32m    674\u001b[0m \u001b[43m    \u001b[49m\u001b[43mverbose\u001b[49m\u001b[38;5;241;43m=\u001b[39;49m\u001b[43mverbose\u001b[49m\u001b[43m,\u001b[49m\n\u001b[0;32m    675\u001b[0m \u001b[43m    \u001b[49m\u001b[43mmemory\u001b[49m\u001b[38;5;241;43m=\u001b[39;49m\u001b[43mmemory\u001b[49m\u001b[43m,\u001b[49m\n\u001b[0;32m    676\u001b[0m \u001b[43m    \u001b[49m\u001b[43mprofile\u001b[49m\u001b[38;5;241;43m=\u001b[39;49m\u001b[43mprofile\u001b[49m\u001b[43m,\u001b[49m\n\u001b[0;32m    677\u001b[0m \u001b[43m    \u001b[49m\u001b[43mprofile_kwargs\u001b[49m\u001b[38;5;241;43m=\u001b[39;49m\u001b[43mprofile_kwargs\u001b[49m\u001b[43m,\u001b[49m\n\u001b[0;32m    678\u001b[0m \u001b[43m\u001b[49m\u001b[43m)\u001b[49m\n",
      "File \u001b[1;32m~\\anaconda3\\envs\\mypycaret\\lib\\site-packages\\pycaret\\classification\\oop.py:901\u001b[0m, in \u001b[0;36mClassificationExperiment.setup\u001b[1;34m(self, data, data_func, target, index, train_size, test_data, ordinal_features, numeric_features, categorical_features, date_features, text_features, ignore_features, keep_features, preprocess, create_date_columns, imputation_type, numeric_imputation, categorical_imputation, iterative_imputation_iters, numeric_iterative_imputer, categorical_iterative_imputer, text_features_method, max_encoding_ohe, encoding_method, rare_to_value, rare_value, polynomial_features, polynomial_degree, low_variance_threshold, group_features, group_names, drop_groups, remove_multicollinearity, multicollinearity_threshold, bin_numeric_features, remove_outliers, outliers_method, outliers_threshold, fix_imbalance, fix_imbalance_method, transformation, transformation_method, normalize, normalize_method, pca, pca_method, pca_components, feature_selection, feature_selection_method, feature_selection_estimator, n_features_to_select, custom_pipeline, custom_pipeline_position, data_split_shuffle, data_split_stratify, fold_strategy, fold, fold_shuffle, fold_groups, n_jobs, use_gpu, html, session_id, system_log, log_experiment, experiment_name, experiment_custom_tags, log_plots, log_profile, log_data, engine, verbose, memory, profile, profile_kwargs)\u001b[0m\n\u001b[0;32m    898\u001b[0m \u001b[38;5;28;01mif\u001b[39;00m (\u001b[38;5;124m\"\u001b[39m\u001b[38;5;124mplaceholder\u001b[39m\u001b[38;5;124m\"\u001b[39m, \u001b[38;5;28;01mNone\u001b[39;00m) \u001b[38;5;129;01min\u001b[39;00m \u001b[38;5;28mself\u001b[39m\u001b[38;5;241m.\u001b[39mpipeline\u001b[38;5;241m.\u001b[39msteps \u001b[38;5;129;01mand\u001b[39;00m \u001b[38;5;28mlen\u001b[39m(\u001b[38;5;28mself\u001b[39m\u001b[38;5;241m.\u001b[39mpipeline) \u001b[38;5;241m>\u001b[39m \u001b[38;5;241m1\u001b[39m:\n\u001b[0;32m    899\u001b[0m     \u001b[38;5;28mself\u001b[39m\u001b[38;5;241m.\u001b[39mpipeline\u001b[38;5;241m.\u001b[39msteps\u001b[38;5;241m.\u001b[39mremove((\u001b[38;5;124m\"\u001b[39m\u001b[38;5;124mplaceholder\u001b[39m\u001b[38;5;124m\"\u001b[39m, \u001b[38;5;28;01mNone\u001b[39;00m))\n\u001b[1;32m--> 901\u001b[0m \u001b[38;5;28;43mself\u001b[39;49m\u001b[38;5;241;43m.\u001b[39;49m\u001b[43mpipeline\u001b[49m\u001b[38;5;241;43m.\u001b[39;49m\u001b[43mfit\u001b[49m\u001b[43m(\u001b[49m\u001b[38;5;28;43mself\u001b[39;49m\u001b[38;5;241;43m.\u001b[39;49m\u001b[43mX_train\u001b[49m\u001b[43m,\u001b[49m\u001b[43m \u001b[49m\u001b[38;5;28;43mself\u001b[39;49m\u001b[38;5;241;43m.\u001b[39;49m\u001b[43my_train\u001b[49m\u001b[43m)\u001b[49m\n\u001b[0;32m    903\u001b[0m \u001b[38;5;28mself\u001b[39m\u001b[38;5;241m.\u001b[39mlogger\u001b[38;5;241m.\u001b[39minfo(\u001b[38;5;124m\"\u001b[39m\u001b[38;5;124mFinished creating preprocessing pipeline.\u001b[39m\u001b[38;5;124m\"\u001b[39m)\n\u001b[0;32m    904\u001b[0m \u001b[38;5;28mself\u001b[39m\u001b[38;5;241m.\u001b[39mlogger\u001b[38;5;241m.\u001b[39minfo(\u001b[38;5;124mf\u001b[39m\u001b[38;5;124m\"\u001b[39m\u001b[38;5;124mPipeline: \u001b[39m\u001b[38;5;132;01m{\u001b[39;00m\u001b[38;5;28mself\u001b[39m\u001b[38;5;241m.\u001b[39mpipeline\u001b[38;5;132;01m}\u001b[39;00m\u001b[38;5;124m\"\u001b[39m)\n",
      "File \u001b[1;32m~\\anaconda3\\envs\\mypycaret\\lib\\site-packages\\pycaret\\internal\\pipeline.py:255\u001b[0m, in \u001b[0;36mPipeline.fit\u001b[1;34m(self, X, y, **fit_params)\u001b[0m\n\u001b[0;32m    253\u001b[0m \u001b[38;5;28;01mdef\u001b[39;00m \u001b[38;5;21mfit\u001b[39m(\u001b[38;5;28mself\u001b[39m, X\u001b[38;5;241m=\u001b[39m\u001b[38;5;28;01mNone\u001b[39;00m, y\u001b[38;5;241m=\u001b[39m\u001b[38;5;28;01mNone\u001b[39;00m, \u001b[38;5;241m*\u001b[39m\u001b[38;5;241m*\u001b[39mfit_params):\n\u001b[0;32m    254\u001b[0m     fit_params_steps \u001b[38;5;241m=\u001b[39m \u001b[38;5;28mself\u001b[39m\u001b[38;5;241m.\u001b[39m_check_fit_params(\u001b[38;5;241m*\u001b[39m\u001b[38;5;241m*\u001b[39mfit_params)\n\u001b[1;32m--> 255\u001b[0m     X, y, _ \u001b[38;5;241m=\u001b[39m \u001b[38;5;28mself\u001b[39m\u001b[38;5;241m.\u001b[39m_fit(X, y, \u001b[38;5;241m*\u001b[39m\u001b[38;5;241m*\u001b[39mfit_params_steps)\n\u001b[0;32m    257\u001b[0m     \u001b[38;5;28;01mwith\u001b[39;00m _print_elapsed_time(\u001b[38;5;124m\"\u001b[39m\u001b[38;5;124mPipeline\u001b[39m\u001b[38;5;124m\"\u001b[39m, \u001b[38;5;28mself\u001b[39m\u001b[38;5;241m.\u001b[39m_log_message(\u001b[38;5;28mlen\u001b[39m(\u001b[38;5;28mself\u001b[39m\u001b[38;5;241m.\u001b[39msteps) \u001b[38;5;241m-\u001b[39m \u001b[38;5;241m1\u001b[39m)):\n\u001b[0;32m    258\u001b[0m         \u001b[38;5;28;01mif\u001b[39;00m \u001b[38;5;28mself\u001b[39m\u001b[38;5;241m.\u001b[39m_final_estimator \u001b[38;5;241m!=\u001b[39m \u001b[38;5;124m\"\u001b[39m\u001b[38;5;124mpassthrough\u001b[39m\u001b[38;5;124m\"\u001b[39m:\n",
      "File \u001b[1;32m~\\anaconda3\\envs\\mypycaret\\lib\\site-packages\\pycaret\\internal\\pipeline.py:231\u001b[0m, in \u001b[0;36mPipeline._fit\u001b[1;34m(self, X, y, **fit_params_steps)\u001b[0m\n\u001b[0;32m    228\u001b[0m         cloned\u001b[38;5;241m.\u001b[39m_cache_full_transform \u001b[38;5;241m=\u001b[39m \u001b[38;5;28;01mFalse\u001b[39;00m\n\u001b[0;32m    230\u001b[0m     \u001b[38;5;66;03m# Fit or load the current transformer from cache\u001b[39;00m\n\u001b[1;32m--> 231\u001b[0m     fitted_transformer \u001b[38;5;241m=\u001b[39m \u001b[38;5;28mself\u001b[39m\u001b[38;5;241m.\u001b[39m_memory_fit(\n\u001b[0;32m    232\u001b[0m         transformer\u001b[38;5;241m=\u001b[39mcloned,\n\u001b[0;32m    233\u001b[0m         X\u001b[38;5;241m=\u001b[39mX,\n\u001b[0;32m    234\u001b[0m         y\u001b[38;5;241m=\u001b[39my,\n\u001b[0;32m    235\u001b[0m         message\u001b[38;5;241m=\u001b[39m\u001b[38;5;28mself\u001b[39m\u001b[38;5;241m.\u001b[39m_log_message(step_idx),\n\u001b[0;32m    236\u001b[0m         \u001b[38;5;241m*\u001b[39m\u001b[38;5;241m*\u001b[39mfit_params_steps\u001b[38;5;241m.\u001b[39mget(name, {}),\n\u001b[0;32m    237\u001b[0m     )\n\u001b[0;32m    238\u001b[0m     X, y \u001b[38;5;241m=\u001b[39m \u001b[38;5;28mself\u001b[39m\u001b[38;5;241m.\u001b[39m_memory_transform(\n\u001b[0;32m    239\u001b[0m         transformer\u001b[38;5;241m=\u001b[39mfitted_transformer,\n\u001b[0;32m    240\u001b[0m         X\u001b[38;5;241m=\u001b[39mX,\n\u001b[0;32m    241\u001b[0m         y\u001b[38;5;241m=\u001b[39my,\n\u001b[0;32m    242\u001b[0m     )\n\u001b[0;32m    244\u001b[0m \u001b[38;5;66;03m# Replace the transformer of the step with the fitted\u001b[39;00m\n\u001b[0;32m    245\u001b[0m \u001b[38;5;66;03m# transformer (necessary when loading from the cache)\u001b[39;00m\n",
      "File \u001b[1;32m~\\anaconda3\\envs\\mypycaret\\lib\\site-packages\\joblib\\memory.py:594\u001b[0m, in \u001b[0;36mMemorizedFunc.__call__\u001b[1;34m(self, *args, **kwargs)\u001b[0m\n\u001b[0;32m    593\u001b[0m \u001b[38;5;28;01mdef\u001b[39;00m \u001b[38;5;21m__call__\u001b[39m(\u001b[38;5;28mself\u001b[39m, \u001b[38;5;241m*\u001b[39margs, \u001b[38;5;241m*\u001b[39m\u001b[38;5;241m*\u001b[39mkwargs):\n\u001b[1;32m--> 594\u001b[0m     \u001b[38;5;28;01mreturn\u001b[39;00m \u001b[38;5;28;43mself\u001b[39;49m\u001b[38;5;241;43m.\u001b[39;49m\u001b[43m_cached_call\u001b[49m\u001b[43m(\u001b[49m\u001b[43margs\u001b[49m\u001b[43m,\u001b[49m\u001b[43m \u001b[49m\u001b[43mkwargs\u001b[49m\u001b[43m)\u001b[49m[\u001b[38;5;241m0\u001b[39m]\n",
      "File \u001b[1;32m~\\anaconda3\\envs\\mypycaret\\lib\\site-packages\\pycaret\\internal\\memory.py:398\u001b[0m, in \u001b[0;36mFastMemorizedFunc._cached_call\u001b[1;34m(self, args, kwargs, shelving)\u001b[0m\n\u001b[0;32m    395\u001b[0m \u001b[38;5;28;01mif\u001b[39;00m must_call:\n\u001b[0;32m    396\u001b[0m     \u001b[38;5;66;03m# PYCARET CHANGES\u001b[39;00m\n\u001b[0;32m    397\u001b[0m     \u001b[38;5;28mself\u001b[39m\u001b[38;5;241m.\u001b[39m_cached_output_identifiers \u001b[38;5;241m=\u001b[39m func_id, args_id\n\u001b[1;32m--> 398\u001b[0m     out, metadata \u001b[38;5;241m=\u001b[39m \u001b[38;5;28mself\u001b[39m\u001b[38;5;241m.\u001b[39mcall(\u001b[38;5;241m*\u001b[39margs, \u001b[38;5;241m*\u001b[39m\u001b[38;5;241m*\u001b[39mkwargs)\n\u001b[0;32m    399\u001b[0m     \u001b[38;5;28;01mif\u001b[39;00m \u001b[38;5;28mself\u001b[39m\u001b[38;5;241m.\u001b[39mmmap_mode \u001b[38;5;129;01mis\u001b[39;00m \u001b[38;5;129;01mnot\u001b[39;00m \u001b[38;5;28;01mNone\u001b[39;00m \u001b[38;5;129;01mand\u001b[39;00m metadata \u001b[38;5;129;01mis\u001b[39;00m \u001b[38;5;129;01mnot\u001b[39;00m \u001b[38;5;28;01mNone\u001b[39;00m:\n\u001b[0;32m    400\u001b[0m         \u001b[38;5;66;03m# PYCARET CHANGES END\u001b[39;00m\n\u001b[0;32m    401\u001b[0m         \u001b[38;5;66;03m# Memmap the output at the first call to be consistent with\u001b[39;00m\n\u001b[0;32m    402\u001b[0m         \u001b[38;5;66;03m# later calls\u001b[39;00m\n\u001b[0;32m    403\u001b[0m         \u001b[38;5;28;01mif\u001b[39;00m \u001b[38;5;28mself\u001b[39m\u001b[38;5;241m.\u001b[39m_verbose:\n",
      "File \u001b[1;32m~\\anaconda3\\envs\\mypycaret\\lib\\site-packages\\pycaret\\internal\\memory.py:309\u001b[0m, in \u001b[0;36mFastMemorizedFunc.call\u001b[1;34m(self, *args, **kwargs)\u001b[0m\n\u001b[0;32m    307\u001b[0m \u001b[38;5;66;03m# PYCARET CHANGES\u001b[39;00m\n\u001b[0;32m    308\u001b[0m func_start_time \u001b[38;5;241m=\u001b[39m time\u001b[38;5;241m.\u001b[39mmonotonic()\n\u001b[1;32m--> 309\u001b[0m output \u001b[38;5;241m=\u001b[39m \u001b[38;5;28mself\u001b[39m\u001b[38;5;241m.\u001b[39mfunc(\u001b[38;5;241m*\u001b[39margs, \u001b[38;5;241m*\u001b[39m\u001b[38;5;241m*\u001b[39mkwargs)\n\u001b[0;32m    310\u001b[0m func_duration \u001b[38;5;241m=\u001b[39m time\u001b[38;5;241m.\u001b[39mmonotonic() \u001b[38;5;241m-\u001b[39m func_start_time\n\u001b[0;32m    311\u001b[0m \u001b[38;5;28;01mif\u001b[39;00m func_duration \u001b[38;5;241m>\u001b[39m\u001b[38;5;241m=\u001b[39m \u001b[38;5;28mself\u001b[39m\u001b[38;5;241m.\u001b[39mmin_time_to_cache:\n",
      "File \u001b[1;32m~\\anaconda3\\envs\\mypycaret\\lib\\site-packages\\pycaret\\internal\\pipeline.py:66\u001b[0m, in \u001b[0;36m_fit_one\u001b[1;34m(transformer, X, y, message, **fit_params)\u001b[0m\n\u001b[0;32m     64\u001b[0m         \u001b[38;5;28;01mif\u001b[39;00m \u001b[38;5;124m\"\u001b[39m\u001b[38;5;124my\u001b[39m\u001b[38;5;124m\"\u001b[39m \u001b[38;5;129;01min\u001b[39;00m signature(transformer\u001b[38;5;241m.\u001b[39mfit)\u001b[38;5;241m.\u001b[39mparameters:\n\u001b[0;32m     65\u001b[0m             args\u001b[38;5;241m.\u001b[39mappend(y)\n\u001b[1;32m---> 66\u001b[0m         transformer\u001b[38;5;241m.\u001b[39mfit(\u001b[38;5;241m*\u001b[39margs, \u001b[38;5;241m*\u001b[39m\u001b[38;5;241m*\u001b[39mfit_params)\n\u001b[0;32m     67\u001b[0m \u001b[38;5;28;01mreturn\u001b[39;00m transformer\n",
      "File \u001b[1;32m~\\anaconda3\\envs\\mypycaret\\lib\\site-packages\\pycaret\\internal\\preprocess\\transformers.py:219\u001b[0m, in \u001b[0;36mTransformerWrapper.fit\u001b[1;34m(self, X, y, **fit_params)\u001b[0m\n\u001b[0;32m    216\u001b[0m \u001b[38;5;28;01mif\u001b[39;00m \u001b[38;5;124m\"\u001b[39m\u001b[38;5;124my\u001b[39m\u001b[38;5;124m\"\u001b[39m \u001b[38;5;129;01min\u001b[39;00m transformer_params \u001b[38;5;129;01mand\u001b[39;00m y \u001b[38;5;129;01mis\u001b[39;00m \u001b[38;5;129;01mnot\u001b[39;00m \u001b[38;5;28;01mNone\u001b[39;00m:\n\u001b[0;32m    217\u001b[0m     args\u001b[38;5;241m.\u001b[39mappend(y)\n\u001b[1;32m--> 219\u001b[0m \u001b[38;5;28mself\u001b[39m\u001b[38;5;241m.\u001b[39mtransformer\u001b[38;5;241m.\u001b[39mfit(\u001b[38;5;241m*\u001b[39margs, \u001b[38;5;241m*\u001b[39m\u001b[38;5;241m*\u001b[39mfit_params)\n\u001b[0;32m    220\u001b[0m \u001b[38;5;28;01mreturn\u001b[39;00m \u001b[38;5;28mself\u001b[39m\n",
      "File \u001b[1;32m~\\anaconda3\\envs\\mypycaret\\lib\\site-packages\\sklearn\\impute\\_base.py:390\u001b[0m, in \u001b[0;36mSimpleImputer.fit\u001b[1;34m(self, X, y)\u001b[0m\n\u001b[0;32m    381\u001b[0m \u001b[38;5;28;01mif\u001b[39;00m \u001b[38;5;28mself\u001b[39m\u001b[38;5;241m.\u001b[39mverbose \u001b[38;5;241m!=\u001b[39m \u001b[38;5;124m\"\u001b[39m\u001b[38;5;124mdeprecated\u001b[39m\u001b[38;5;124m\"\u001b[39m:\n\u001b[0;32m    382\u001b[0m     warnings\u001b[38;5;241m.\u001b[39mwarn(\n\u001b[0;32m    383\u001b[0m         \u001b[38;5;124m\"\u001b[39m\u001b[38;5;124mThe \u001b[39m\u001b[38;5;124m'\u001b[39m\u001b[38;5;124mverbose\u001b[39m\u001b[38;5;124m'\u001b[39m\u001b[38;5;124m parameter was deprecated in version \u001b[39m\u001b[38;5;124m\"\u001b[39m\n\u001b[0;32m    384\u001b[0m         \u001b[38;5;124m\"\u001b[39m\u001b[38;5;124m1.1 and will be removed in 1.3. A warning will \u001b[39m\u001b[38;5;124m\"\u001b[39m\n\u001b[1;32m   (...)\u001b[0m\n\u001b[0;32m    387\u001b[0m         \u001b[38;5;167;01mFutureWarning\u001b[39;00m,\n\u001b[0;32m    388\u001b[0m     )\n\u001b[1;32m--> 390\u001b[0m X \u001b[38;5;241m=\u001b[39m \u001b[38;5;28;43mself\u001b[39;49m\u001b[38;5;241;43m.\u001b[39;49m\u001b[43m_validate_input\u001b[49m\u001b[43m(\u001b[49m\u001b[43mX\u001b[49m\u001b[43m,\u001b[49m\u001b[43m \u001b[49m\u001b[43min_fit\u001b[49m\u001b[38;5;241;43m=\u001b[39;49m\u001b[38;5;28;43;01mTrue\u001b[39;49;00m\u001b[43m)\u001b[49m\n\u001b[0;32m    392\u001b[0m \u001b[38;5;66;03m# default fill_value is 0 for numerical input and \"missing_value\"\u001b[39;00m\n\u001b[0;32m    393\u001b[0m \u001b[38;5;66;03m# otherwise\u001b[39;00m\n\u001b[0;32m    394\u001b[0m \u001b[38;5;28;01mif\u001b[39;00m \u001b[38;5;28mself\u001b[39m\u001b[38;5;241m.\u001b[39mfill_value \u001b[38;5;129;01mis\u001b[39;00m \u001b[38;5;28;01mNone\u001b[39;00m:\n",
      "File \u001b[1;32m~\\anaconda3\\envs\\mypycaret\\lib\\site-packages\\sklearn\\impute\\_base.py:327\u001b[0m, in \u001b[0;36mSimpleImputer._validate_input\u001b[1;34m(self, X, in_fit)\u001b[0m\n\u001b[0;32m    324\u001b[0m     force_all_finite \u001b[38;5;241m=\u001b[39m \u001b[38;5;28;01mTrue\u001b[39;00m\n\u001b[0;32m    326\u001b[0m \u001b[38;5;28;01mtry\u001b[39;00m:\n\u001b[1;32m--> 327\u001b[0m     X \u001b[38;5;241m=\u001b[39m \u001b[38;5;28;43mself\u001b[39;49m\u001b[38;5;241;43m.\u001b[39;49m\u001b[43m_validate_data\u001b[49m\u001b[43m(\u001b[49m\n\u001b[0;32m    328\u001b[0m \u001b[43m        \u001b[49m\u001b[43mX\u001b[49m\u001b[43m,\u001b[49m\n\u001b[0;32m    329\u001b[0m \u001b[43m        \u001b[49m\u001b[43mreset\u001b[49m\u001b[38;5;241;43m=\u001b[39;49m\u001b[43min_fit\u001b[49m\u001b[43m,\u001b[49m\n\u001b[0;32m    330\u001b[0m \u001b[43m        \u001b[49m\u001b[43maccept_sparse\u001b[49m\u001b[38;5;241;43m=\u001b[39;49m\u001b[38;5;124;43m\"\u001b[39;49m\u001b[38;5;124;43mcsc\u001b[39;49m\u001b[38;5;124;43m\"\u001b[39;49m\u001b[43m,\u001b[49m\n\u001b[0;32m    331\u001b[0m \u001b[43m        \u001b[49m\u001b[43mdtype\u001b[49m\u001b[38;5;241;43m=\u001b[39;49m\u001b[43mdtype\u001b[49m\u001b[43m,\u001b[49m\n\u001b[0;32m    332\u001b[0m \u001b[43m        \u001b[49m\u001b[43mforce_all_finite\u001b[49m\u001b[38;5;241;43m=\u001b[39;49m\u001b[43mforce_all_finite\u001b[49m\u001b[43m,\u001b[49m\n\u001b[0;32m    333\u001b[0m \u001b[43m        \u001b[49m\u001b[43mcopy\u001b[49m\u001b[38;5;241;43m=\u001b[39;49m\u001b[38;5;28;43mself\u001b[39;49m\u001b[38;5;241;43m.\u001b[39;49m\u001b[43mcopy\u001b[49m\u001b[43m,\u001b[49m\n\u001b[0;32m    334\u001b[0m \u001b[43m    \u001b[49m\u001b[43m)\u001b[49m\n\u001b[0;32m    335\u001b[0m \u001b[38;5;28;01mexcept\u001b[39;00m \u001b[38;5;167;01mValueError\u001b[39;00m \u001b[38;5;28;01mas\u001b[39;00m ve:\n\u001b[0;32m    336\u001b[0m     \u001b[38;5;28;01mif\u001b[39;00m \u001b[38;5;124m\"\u001b[39m\u001b[38;5;124mcould not convert\u001b[39m\u001b[38;5;124m\"\u001b[39m \u001b[38;5;129;01min\u001b[39;00m \u001b[38;5;28mstr\u001b[39m(ve):\n",
      "File \u001b[1;32m~\\anaconda3\\envs\\mypycaret\\lib\\site-packages\\sklearn\\base.py:565\u001b[0m, in \u001b[0;36mBaseEstimator._validate_data\u001b[1;34m(self, X, y, reset, validate_separately, **check_params)\u001b[0m\n\u001b[0;32m    563\u001b[0m     \u001b[38;5;28;01mraise\u001b[39;00m \u001b[38;5;167;01mValueError\u001b[39;00m(\u001b[38;5;124m\"\u001b[39m\u001b[38;5;124mValidation should be done on X, y or both.\u001b[39m\u001b[38;5;124m\"\u001b[39m)\n\u001b[0;32m    564\u001b[0m \u001b[38;5;28;01melif\u001b[39;00m \u001b[38;5;129;01mnot\u001b[39;00m no_val_X \u001b[38;5;129;01mand\u001b[39;00m no_val_y:\n\u001b[1;32m--> 565\u001b[0m     X \u001b[38;5;241m=\u001b[39m check_array(X, input_name\u001b[38;5;241m=\u001b[39m\u001b[38;5;124m\"\u001b[39m\u001b[38;5;124mX\u001b[39m\u001b[38;5;124m\"\u001b[39m, \u001b[38;5;241m*\u001b[39m\u001b[38;5;241m*\u001b[39mcheck_params)\n\u001b[0;32m    566\u001b[0m     out \u001b[38;5;241m=\u001b[39m X\n\u001b[0;32m    567\u001b[0m \u001b[38;5;28;01melif\u001b[39;00m no_val_X \u001b[38;5;129;01mand\u001b[39;00m \u001b[38;5;129;01mnot\u001b[39;00m no_val_y:\n",
      "File \u001b[1;32m~\\anaconda3\\envs\\mypycaret\\lib\\site-packages\\sklearn\\utils\\validation.py:949\u001b[0m, in \u001b[0;36mcheck_array\u001b[1;34m(array, accept_sparse, accept_large_sparse, dtype, order, copy, force_all_finite, ensure_2d, allow_nd, ensure_min_samples, ensure_min_features, estimator, input_name)\u001b[0m\n\u001b[0;32m    946\u001b[0m \u001b[38;5;28;01mif\u001b[39;00m copy:\n\u001b[0;32m    947\u001b[0m     \u001b[38;5;28;01mif\u001b[39;00m xp\u001b[38;5;241m.\u001b[39m\u001b[38;5;18m__name__\u001b[39m \u001b[38;5;129;01min\u001b[39;00m {\u001b[38;5;124m\"\u001b[39m\u001b[38;5;124mnumpy\u001b[39m\u001b[38;5;124m\"\u001b[39m, \u001b[38;5;124m\"\u001b[39m\u001b[38;5;124mnumpy.array_api\u001b[39m\u001b[38;5;124m\"\u001b[39m}:\n\u001b[0;32m    948\u001b[0m         \u001b[38;5;66;03m# only make a copy if `array` and `array_orig` may share memory`\u001b[39;00m\n\u001b[1;32m--> 949\u001b[0m         \u001b[38;5;28;01mif\u001b[39;00m \u001b[43mnp\u001b[49m\u001b[38;5;241;43m.\u001b[39;49m\u001b[43mmay_share_memory\u001b[49m\u001b[43m(\u001b[49m\u001b[43marray\u001b[49m\u001b[43m,\u001b[49m\u001b[43m \u001b[49m\u001b[43marray_orig\u001b[49m\u001b[43m)\u001b[49m:\n\u001b[0;32m    950\u001b[0m             array \u001b[38;5;241m=\u001b[39m _asarray_with_order(\n\u001b[0;32m    951\u001b[0m                 array, dtype\u001b[38;5;241m=\u001b[39mdtype, order\u001b[38;5;241m=\u001b[39morder, copy\u001b[38;5;241m=\u001b[39m\u001b[38;5;28;01mTrue\u001b[39;00m, xp\u001b[38;5;241m=\u001b[39mxp\n\u001b[0;32m    952\u001b[0m             )\n\u001b[0;32m    953\u001b[0m     \u001b[38;5;28;01melse\u001b[39;00m:\n\u001b[0;32m    954\u001b[0m         \u001b[38;5;66;03m# always make a copy for non-numpy arrays\u001b[39;00m\n",
      "File \u001b[1;32m<__array_function__ internals>:180\u001b[0m, in \u001b[0;36mmay_share_memory\u001b[1;34m(*args, **kwargs)\u001b[0m\n",
      "File \u001b[1;32m~\\anaconda3\\envs\\mypycaret\\lib\\site-packages\\pandas\\core\\generic.py:2070\u001b[0m, in \u001b[0;36mNDFrame.__array__\u001b[1;34m(self, dtype)\u001b[0m\n\u001b[0;32m   2069\u001b[0m \u001b[38;5;28;01mdef\u001b[39;00m \u001b[38;5;21m__array__\u001b[39m(\u001b[38;5;28mself\u001b[39m, dtype: npt\u001b[38;5;241m.\u001b[39mDTypeLike \u001b[38;5;241m|\u001b[39m \u001b[38;5;28;01mNone\u001b[39;00m \u001b[38;5;241m=\u001b[39m \u001b[38;5;28;01mNone\u001b[39;00m) \u001b[38;5;241m-\u001b[39m\u001b[38;5;241m>\u001b[39m np\u001b[38;5;241m.\u001b[39mndarray:\n\u001b[1;32m-> 2070\u001b[0m     \u001b[38;5;28;01mreturn\u001b[39;00m np\u001b[38;5;241m.\u001b[39masarray(\u001b[38;5;28;43mself\u001b[39;49m\u001b[38;5;241;43m.\u001b[39;49m\u001b[43m_values\u001b[49m, dtype\u001b[38;5;241m=\u001b[39mdtype)\n",
      "File \u001b[1;32m~\\anaconda3\\envs\\mypycaret\\lib\\site-packages\\pandas\\core\\frame.py:971\u001b[0m, in \u001b[0;36mDataFrame._values\u001b[1;34m(self)\u001b[0m\n\u001b[0;32m    969\u001b[0m blocks \u001b[38;5;241m=\u001b[39m mgr\u001b[38;5;241m.\u001b[39mblocks\n\u001b[0;32m    970\u001b[0m \u001b[38;5;28;01mif\u001b[39;00m \u001b[38;5;28mlen\u001b[39m(blocks) \u001b[38;5;241m!=\u001b[39m \u001b[38;5;241m1\u001b[39m:\n\u001b[1;32m--> 971\u001b[0m     \u001b[38;5;28;01mreturn\u001b[39;00m \u001b[38;5;28;43mself\u001b[39;49m\u001b[38;5;241;43m.\u001b[39;49m\u001b[43mvalues\u001b[49m\n\u001b[0;32m    973\u001b[0m arr \u001b[38;5;241m=\u001b[39m blocks[\u001b[38;5;241m0\u001b[39m]\u001b[38;5;241m.\u001b[39mvalues\n\u001b[0;32m    974\u001b[0m \u001b[38;5;28;01mif\u001b[39;00m arr\u001b[38;5;241m.\u001b[39mndim \u001b[38;5;241m==\u001b[39m \u001b[38;5;241m1\u001b[39m:\n\u001b[0;32m    975\u001b[0m     \u001b[38;5;66;03m# non-2D ExtensionArray\u001b[39;00m\n",
      "File \u001b[1;32m~\\anaconda3\\envs\\mypycaret\\lib\\site-packages\\pandas\\core\\frame.py:11739\u001b[0m, in \u001b[0;36mDataFrame.values\u001b[1;34m(self)\u001b[0m\n\u001b[0;32m  11666\u001b[0m \u001b[38;5;124;03m\"\"\"\u001b[39;00m\n\u001b[0;32m  11667\u001b[0m \u001b[38;5;124;03mReturn a Numpy representation of the DataFrame.\u001b[39;00m\n\u001b[0;32m  11668\u001b[0m \n\u001b[1;32m   (...)\u001b[0m\n\u001b[0;32m  11736\u001b[0m \u001b[38;5;124;03m       ['monkey', nan, None]], dtype=object)\u001b[39;00m\n\u001b[0;32m  11737\u001b[0m \u001b[38;5;124;03m\"\"\"\u001b[39;00m\n\u001b[0;32m  11738\u001b[0m \u001b[38;5;28mself\u001b[39m\u001b[38;5;241m.\u001b[39m_consolidate_inplace()\n\u001b[1;32m> 11739\u001b[0m \u001b[38;5;28;01mreturn\u001b[39;00m \u001b[38;5;28;43mself\u001b[39;49m\u001b[38;5;241;43m.\u001b[39;49m\u001b[43m_mgr\u001b[49m\u001b[38;5;241;43m.\u001b[39;49m\u001b[43mas_array\u001b[49m\u001b[43m(\u001b[49m\u001b[43m)\u001b[49m\n",
      "File \u001b[1;32m~\\anaconda3\\envs\\mypycaret\\lib\\site-packages\\pandas\\core\\internals\\managers.py:1770\u001b[0m, in \u001b[0;36mBlockManager.as_array\u001b[1;34m(self, dtype, copy, na_value)\u001b[0m\n\u001b[0;32m   1768\u001b[0m             arr \u001b[38;5;241m=\u001b[39m arr\u001b[38;5;241m.\u001b[39mastype(dtype, copy\u001b[38;5;241m=\u001b[39m\u001b[38;5;28;01mFalse\u001b[39;00m)\n\u001b[0;32m   1769\u001b[0m \u001b[38;5;28;01melse\u001b[39;00m:\n\u001b[1;32m-> 1770\u001b[0m     arr \u001b[38;5;241m=\u001b[39m \u001b[38;5;28;43mself\u001b[39;49m\u001b[38;5;241;43m.\u001b[39;49m\u001b[43m_interleave\u001b[49m\u001b[43m(\u001b[49m\u001b[43mdtype\u001b[49m\u001b[38;5;241;43m=\u001b[39;49m\u001b[43mdtype\u001b[49m\u001b[43m,\u001b[49m\u001b[43m \u001b[49m\u001b[43mna_value\u001b[49m\u001b[38;5;241;43m=\u001b[39;49m\u001b[43mna_value\u001b[49m\u001b[43m)\u001b[49m\n\u001b[0;32m   1771\u001b[0m     \u001b[38;5;66;03m# The underlying data was copied within _interleave\u001b[39;00m\n\u001b[0;32m   1772\u001b[0m     copy \u001b[38;5;241m=\u001b[39m \u001b[38;5;28;01mFalse\u001b[39;00m\n",
      "File \u001b[1;32m~\\anaconda3\\envs\\mypycaret\\lib\\site-packages\\pandas\\core\\internals\\managers.py:1809\u001b[0m, in \u001b[0;36mBlockManager._interleave\u001b[1;34m(self, dtype, na_value)\u001b[0m\n\u001b[0;32m   1806\u001b[0m \u001b[38;5;28;01melif\u001b[39;00m is_dtype_equal(dtype, \u001b[38;5;28mstr\u001b[39m):\n\u001b[0;32m   1807\u001b[0m     dtype \u001b[38;5;241m=\u001b[39m np\u001b[38;5;241m.\u001b[39mdtype(\u001b[38;5;124m\"\u001b[39m\u001b[38;5;124mobject\u001b[39m\u001b[38;5;124m\"\u001b[39m)\n\u001b[1;32m-> 1809\u001b[0m result \u001b[38;5;241m=\u001b[39m \u001b[43mnp\u001b[49m\u001b[38;5;241;43m.\u001b[39;49m\u001b[43mempty\u001b[49m\u001b[43m(\u001b[49m\u001b[38;5;28;43mself\u001b[39;49m\u001b[38;5;241;43m.\u001b[39;49m\u001b[43mshape\u001b[49m\u001b[43m,\u001b[49m\u001b[43m \u001b[49m\u001b[43mdtype\u001b[49m\u001b[38;5;241;43m=\u001b[39;49m\u001b[43mdtype\u001b[49m\u001b[43m)\u001b[49m\n\u001b[0;32m   1811\u001b[0m itemmask \u001b[38;5;241m=\u001b[39m np\u001b[38;5;241m.\u001b[39mzeros(\u001b[38;5;28mself\u001b[39m\u001b[38;5;241m.\u001b[39mshape[\u001b[38;5;241m0\u001b[39m])\n\u001b[0;32m   1813\u001b[0m \u001b[38;5;28;01mif\u001b[39;00m dtype \u001b[38;5;241m==\u001b[39m np\u001b[38;5;241m.\u001b[39mdtype(\u001b[38;5;124m\"\u001b[39m\u001b[38;5;124mobject\u001b[39m\u001b[38;5;124m\"\u001b[39m) \u001b[38;5;129;01mand\u001b[39;00m na_value \u001b[38;5;129;01mis\u001b[39;00m lib\u001b[38;5;241m.\u001b[39mno_default:\n\u001b[0;32m   1814\u001b[0m     \u001b[38;5;66;03m# much more performant than using to_numpy below\u001b[39;00m\n",
      "\u001b[1;31mMemoryError\u001b[0m: Unable to allocate 3.85 GiB for an array with shape (1420, 363538) and data type float64"
     ]
    }
   ],
   "source": [
    "#Setting up Environment in PyCaret\n",
    "from pycaret.classification import *\n",
    "exp_clf101 = setup(data = data, target = 'target', session_id=123) "
   ]
  }
 ],
 "metadata": {
  "kernelspec": {
   "display_name": "pybigg",
   "language": "python",
   "name": "mypycaret"
  },
  "language_info": {
   "codemirror_mode": {
    "name": "ipython",
    "version": 3
   },
   "file_extension": ".py",
   "mimetype": "text/x-python",
   "name": "python",
   "nbconvert_exporter": "python",
   "pygments_lexer": "ipython3",
   "version": "3.9.2"
  }
 },
 "nbformat": 4,
 "nbformat_minor": 5
}
