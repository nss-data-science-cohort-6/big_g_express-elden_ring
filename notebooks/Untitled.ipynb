{
 "cells": [
  {
   "cell_type": "markdown",
   "id": "95c535e5",
   "metadata": {},
   "source": [
    "### This notebook is in mypycaret environment to test the models for BigG_express data using the data merged df that were craeted in the previous notebook"
   ]
  },
  {
   "cell_type": "code",
   "execution_count": null,
   "id": "13ca9c7d",
   "metadata": {},
   "outputs": [],
   "source": []
  },
  {
   "cell_type": "code",
   "execution_count": 144,
   "id": "1b214d25",
   "metadata": {},
   "outputs": [],
   "source": [
    "#Libraries need for work\n",
    "\n",
    "import pandas as pd\n",
    "from datetime import datetime, timedelta\n",
    "\n",
    "\n",
    "\n",
    "from sklearn.linear_model import LogisticRegression\n",
    "\n",
    "from sklearn.model_selection import train_test_split\n",
    "from sklearn.cluster import KMeans\n",
    "from sklearn.pipeline import Pipeline\n",
    "from sklearn.preprocessing import StandardScaler\n",
    "from sklearn.impute import SimpleImputer\n",
    "\n",
    "#we need to create a conda environment for pycaret and then pip install the packages after activating and rerun the notebook.\n",
    "from pycaret.classification import *\n",
    "from pycaret.regression import *\n",
    "from pycaret.time_series import *\n",
    "\n",
    "import seaborn as sns\n",
    "import matplotlib.pyplot as plt\n",
    "import numpy as np\n",
    "from sklearn.metrics import classification_report, accuracy_score, confusion_matrix"
   ]
  },
  {
   "cell_type": "code",
   "execution_count": 145,
   "id": "0237e53f",
   "metadata": {},
   "outputs": [],
   "source": [
    "faults_clean = pd.read_csv(\"../data/faults_clean.csv\")"
   ]
  },
  {
   "cell_type": "code",
   "execution_count": 146,
   "id": "90d40118",
   "metadata": {},
   "outputs": [],
   "source": [
    "derate_feature = pd.read_pickle('../data/derate_features.pk')"
   ]
  },
  {
   "cell_type": "code",
   "execution_count": 147,
   "id": "6af7cf12",
   "metadata": {},
   "outputs": [],
   "source": [
    "derate_target = pd.read_pickle('../data/derate_target.pk')"
   ]
  },
  {
   "cell_type": "code",
   "execution_count": 148,
   "id": "cb332fc5",
   "metadata": {},
   "outputs": [
    {
     "data": {
      "text/plain": [
       "(546674, 2)"
      ]
     },
     "execution_count": 148,
     "metadata": {},
     "output_type": "execute_result"
    }
   ],
   "source": [
    "derate_target.shape #(546674, 2)"
   ]
  },
  {
   "cell_type": "code",
   "execution_count": 149,
   "id": "3e3a6cd6",
   "metadata": {},
   "outputs": [
    {
     "data": {
      "text/plain": [
       "(546674, 461)"
      ]
     },
     "execution_count": 149,
     "metadata": {},
     "output_type": "execute_result"
    }
   ],
   "source": [
    "derate_feature.shape #(546674, 461)"
   ]
  },
  {
   "cell_type": "code",
   "execution_count": 150,
   "id": "a59ed2f4",
   "metadata": {},
   "outputs": [
    {
     "name": "stdout",
     "output_type": "stream",
     "text": [
      "<class 'pandas.core.frame.DataFrame'>\n",
      "Int64Index: 546674 entries, 536775 to 70148\n",
      "Columns: 461 entries, RecordID to target\n",
      "dtypes: bool(1), datetime64[ns](2), float64(419), int32(1), int64(6), object(32)\n",
      "memory usage: 1.9+ GB\n"
     ]
    },
    {
     "data": {
      "text/plain": [
       "{bool: ['active'], int64: ['RecordID', 'spn', 'fmi', 'ecuSource', 'spn', 'fmi'], float64: ['Latitude', 'Longitude', 'spn_0', 'spn_100', 'spn_101', 'spn_102', 'spn_1023', 'spn_1024', 'spn_1028', 'spn_103', 'spn_1043', 'spn_1045', 'spn_105', 'spn_1056', 'spn_1059', 'spn_1067', 'spn_1068', 'spn_107', 'spn_1071', 'spn_1072', 'spn_1075', 'spn_1078', 'spn_108', 'spn_1081', 'spn_110', 'spn_111', 'spn_1127', 'spn_114863', 'spn_116', 'spn_1172', 'spn_1176', 'spn_118', 'spn_1209', 'spn_1213', 'spn_1231', 'spn_1235', 'spn_1236', 'spn_1239', 'spn_1247', 'spn_125', 'spn_127', 'spn_1279', 'spn_1321', 'spn_1322', 'spn_1323', 'spn_1324', 'spn_1325', 'spn_1326', 'spn_1327', 'spn_1328', 'spn_1347', 'spn_1349', 'spn_13600', 'spn_139296', 'spn_1464', 'spn_1481', 'spn_1482', 'spn_1483', 'spn_1487', 'spn_153', 'spn_153931', 'spn_1569', 'spn_157', 'spn_158', 'spn_16', 'spn_160', 'spn_1612', 'spn_1659', 'spn_1668', 'spn_167', 'spn_1675', 'spn_168', 'spn_17096', 'spn_171', 'spn_173', 'spn_174', 'spn_175', 'spn_17590', 'spn_1761', 'spn_177', 'spn_1787', 'spn_1807', 'spn_1808', 'spn_1809', 'spn_1815', 'spn_184', 'spn_188', 'spn_190', 'spn_191', 'spn_196608', 'spn_2000', 'spn_2017', 'spn_2023', 'spn_2029', 'spn_228', 'spn_235', 'spn_236', 'spn_237', 'spn_245', 'spn_247', ...], datetime64[ns]: ['LocationTimeStamp', 'EventTimeStamp'], int32: ['target'], object: ['AcceleratorPedal', 'BarometricPressure', 'CruiseControlSetSpeed', 'DistanceLtd', 'EngineCoolantTemperature', 'EngineLoad', 'EngineOilPressure', 'EngineOilTemperature', 'EngineRpm', 'EngineTimeLtd', 'FuelLevel', 'FuelLtd', 'FuelRate', 'FuelTemperature', 'IntakeManifoldTemperature', 'LampStatus', 'ServiceDistance', 'Speed', 'SwitchedBatteryVoltage', 'Throttle', 'TurboBoostPressure', 'eventDescription', 'ecuSoftwareVersion', 'ecuSerialNumber', 'ecuModel', 'ecuMake', 'activeTransitionCount', 'EquipmentID_x', 'MCTNumber', 'SPN_FMI', 'EquipmentID_y', 'spn_fmi']}"
      ]
     },
     "execution_count": 150,
     "metadata": {},
     "output_type": "execute_result"
    }
   ],
   "source": [
    "derate_feature.info()\n",
    "derate_feature.columns.to_series().groupby(derate_feature.dtypes).groups"
   ]
  },
  {
   "cell_type": "code",
   "execution_count": 151,
   "id": "d745b5e5",
   "metadata": {},
   "outputs": [
    {
     "data": {
      "text/plain": [
       "0"
      ]
     },
     "execution_count": 151,
     "metadata": {},
     "output_type": "execute_result"
    }
   ],
   "source": [
    "derate_feature['MCTNumber'].isna().sum()"
   ]
  },
  {
   "cell_type": "code",
   "execution_count": 152,
   "id": "04d25c0a",
   "metadata": {},
   "outputs": [],
   "source": [
    "# derate_feature.columns.to_list()\n"
   ]
  },
  {
   "cell_type": "code",
   "execution_count": 153,
   "id": "da95bcd0",
   "metadata": {},
   "outputs": [
    {
     "data": {
      "text/plain": [
       "'ecuSoftwareVersion'"
      ]
     },
     "execution_count": 153,
     "metadata": {},
     "output_type": "execute_result"
    }
   ],
   "source": [
    "#how to find a column where a particula string exists\n",
    "# word = 'Low (Severity Low) Engine Coolant Level' #this string is causing problem which is present in event description so going to drop that column as well\n",
    "word = 'unknown'\n",
    "derate_feature.columns[derate_feature[derate_feature==word].notna().sum()>0][0]"
   ]
  },
  {
   "cell_type": "code",
   "execution_count": 154,
   "id": "de2c90fd",
   "metadata": {},
   "outputs": [],
   "source": [
    "# X = derate_feature.drop(columns=['EquipmentID_y', 'eventDescription', 'ecuSoftwareVersion', 'active',\n",
    "#                                  'ecuModel', 'ecuMake', 'activeTransitionCount', 'EquipmentID_x',\n",
    "#                                  'MCTNumber', 'SPN_FMI', 'EquipmentID_y', 'spn_fmi','EventTimeStamp',\n",
    "# 'Latitude',\n",
    "#  'Longitude',\n",
    "#  'LocationTimeStamp',\n",
    "#  'SPN_FMI',\n",
    "#  'target'])\n",
    "\n",
    "X= derate_feature[['AcceleratorPedal', 'BarometricPressure', 'CruiseControlSetSpeed', 'DistanceLtd', 'EngineCoolantTemperature', 'EngineLoad', 'EngineOilPressure', 'EngineOilTemperature', 'EngineRpm', 'EngineTimeLtd', 'FuelLevel', 'FuelLtd', 'FuelRate', 'FuelTemperature', 'IntakeManifoldTemperature', \n",
    "                'LampStatus', 'ServiceDistance', 'Speed', 'SwitchedBatteryVoltage', 'Throttle', 'TurboBoostPressure',]]\n",
    "y = derate_feature[['target']]\n",
    "\n",
    "X_train, X_test, y_train, y_test = train_test_split(X, y, random_state = 321)\n",
    "\n",
    "# linreg_base = LinearRegression().fit(X_train_sm1, y_train_sm1)# \n",
    "\n",
    "# X_train_added2.columns\n",
    "# X_train_added2.head(10)"
   ]
  },
  {
   "cell_type": "code",
   "execution_count": 155,
   "id": "abad3242",
   "metadata": {},
   "outputs": [
    {
     "name": "stdout",
     "output_type": "stream",
     "text": [
      "(410005, 21)\n",
      "(136669, 21)\n",
      "(136669, 1)\n"
     ]
    }
   ],
   "source": [
    "print(X_train.shape)\n",
    "print(X_test.shape)\n",
    "print(y_test.shape)"
   ]
  },
  {
   "cell_type": "code",
   "execution_count": 156,
   "id": "055ebec6",
   "metadata": {},
   "outputs": [],
   "source": [
    "from sklearn.impute import SimpleImputer\n",
    "logReg_scaler = Pipeline(\n",
    "    steps = [\n",
    "        ('impute', SimpleImputer()), #fills average of the column if there are NaN missing values\n",
    "        ('scaler', StandardScaler()),\n",
    "        ('log_reg', LogisticRegression(C = 0.01)) #started from 0.01, 0,001, \n",
    "    ]\n",
    ").fit(X_train, y_train)"
   ]
  },
  {
   "cell_type": "code",
   "execution_count": 157,
   "id": "18b54142",
   "metadata": {},
   "outputs": [],
   "source": [
    "# fit the model on X_test data\n",
    "logreg1 = logReg_scaler.predict(X_test)"
   ]
  },
  {
   "cell_type": "code",
   "execution_count": 158,
   "id": "b849ab03",
   "metadata": {},
   "outputs": [
    {
     "data": {
      "text/plain": [
       "0.9971902918730656"
      ]
     },
     "execution_count": 158,
     "metadata": {},
     "output_type": "execute_result"
    }
   ],
   "source": [
    "#finding the accuracy score\n",
    "\n",
    "accuracy_score(y_test, logreg1)"
   ]
  },
  {
   "cell_type": "code",
   "execution_count": 159,
   "id": "b25ff50e",
   "metadata": {
    "scrolled": true
   },
   "outputs": [
    {
     "data": {
      "text/html": [
       "<div>\n",
       "<style scoped>\n",
       "    .dataframe tbody tr th:only-of-type {\n",
       "        vertical-align: middle;\n",
       "    }\n",
       "\n",
       "    .dataframe tbody tr th {\n",
       "        vertical-align: top;\n",
       "    }\n",
       "\n",
       "    .dataframe thead th {\n",
       "        text-align: right;\n",
       "    }\n",
       "</style>\n",
       "<table border=\"1\" class=\"dataframe\">\n",
       "  <thead>\n",
       "    <tr style=\"text-align: right;\">\n",
       "      <th></th>\n",
       "      <th>feature</th>\n",
       "      <th>coefficient</th>\n",
       "      <th>ex_coefficient</th>\n",
       "    </tr>\n",
       "  </thead>\n",
       "  <tbody>\n",
       "    <tr>\n",
       "      <th>8</th>\n",
       "      <td>EngineRpm</td>\n",
       "      <td>-0.395508</td>\n",
       "      <td>0.673338</td>\n",
       "    </tr>\n",
       "    <tr>\n",
       "      <th>1</th>\n",
       "      <td>BarometricPressure</td>\n",
       "      <td>-0.283382</td>\n",
       "      <td>0.753232</td>\n",
       "    </tr>\n",
       "    <tr>\n",
       "      <th>6</th>\n",
       "      <td>EngineOilPressure</td>\n",
       "      <td>-0.242197</td>\n",
       "      <td>0.784902</td>\n",
       "    </tr>\n",
       "    <tr>\n",
       "      <th>14</th>\n",
       "      <td>IntakeManifoldTemperature</td>\n",
       "      <td>-0.165102</td>\n",
       "      <td>0.847807</td>\n",
       "    </tr>\n",
       "    <tr>\n",
       "      <th>11</th>\n",
       "      <td>FuelLtd</td>\n",
       "      <td>-0.075440</td>\n",
       "      <td>0.927336</td>\n",
       "    </tr>\n",
       "    <tr>\n",
       "      <th>10</th>\n",
       "      <td>FuelLevel</td>\n",
       "      <td>-0.055616</td>\n",
       "      <td>0.945902</td>\n",
       "    </tr>\n",
       "    <tr>\n",
       "      <th>4</th>\n",
       "      <td>EngineCoolantTemperature</td>\n",
       "      <td>-0.033965</td>\n",
       "      <td>0.966606</td>\n",
       "    </tr>\n",
       "    <tr>\n",
       "      <th>0</th>\n",
       "      <td>AcceleratorPedal</td>\n",
       "      <td>-0.018691</td>\n",
       "      <td>0.981482</td>\n",
       "    </tr>\n",
       "    <tr>\n",
       "      <th>7</th>\n",
       "      <td>EngineOilTemperature</td>\n",
       "      <td>-0.010503</td>\n",
       "      <td>0.989552</td>\n",
       "    </tr>\n",
       "    <tr>\n",
       "      <th>17</th>\n",
       "      <td>Speed</td>\n",
       "      <td>-0.009411</td>\n",
       "      <td>0.990633</td>\n",
       "    </tr>\n",
       "    <tr>\n",
       "      <th>19</th>\n",
       "      <td>Throttle</td>\n",
       "      <td>-0.008737</td>\n",
       "      <td>0.991301</td>\n",
       "    </tr>\n",
       "    <tr>\n",
       "      <th>2</th>\n",
       "      <td>CruiseControlSetSpeed</td>\n",
       "      <td>0.002522</td>\n",
       "      <td>1.002525</td>\n",
       "    </tr>\n",
       "    <tr>\n",
       "      <th>12</th>\n",
       "      <td>FuelRate</td>\n",
       "      <td>0.005822</td>\n",
       "      <td>1.005839</td>\n",
       "    </tr>\n",
       "    <tr>\n",
       "      <th>16</th>\n",
       "      <td>ServiceDistance</td>\n",
       "      <td>0.006454</td>\n",
       "      <td>1.006475</td>\n",
       "    </tr>\n",
       "    <tr>\n",
       "      <th>20</th>\n",
       "      <td>TurboBoostPressure</td>\n",
       "      <td>0.021855</td>\n",
       "      <td>1.022096</td>\n",
       "    </tr>\n",
       "    <tr>\n",
       "      <th>5</th>\n",
       "      <td>EngineLoad</td>\n",
       "      <td>0.066960</td>\n",
       "      <td>1.069252</td>\n",
       "    </tr>\n",
       "    <tr>\n",
       "      <th>9</th>\n",
       "      <td>EngineTimeLtd</td>\n",
       "      <td>0.115870</td>\n",
       "      <td>1.122850</td>\n",
       "    </tr>\n",
       "    <tr>\n",
       "      <th>18</th>\n",
       "      <td>SwitchedBatteryVoltage</td>\n",
       "      <td>0.161459</td>\n",
       "      <td>1.175225</td>\n",
       "    </tr>\n",
       "    <tr>\n",
       "      <th>3</th>\n",
       "      <td>DistanceLtd</td>\n",
       "      <td>0.274643</td>\n",
       "      <td>1.316060</td>\n",
       "    </tr>\n",
       "    <tr>\n",
       "      <th>13</th>\n",
       "      <td>FuelTemperature</td>\n",
       "      <td>0.466743</td>\n",
       "      <td>1.594791</td>\n",
       "    </tr>\n",
       "    <tr>\n",
       "      <th>15</th>\n",
       "      <td>LampStatus</td>\n",
       "      <td>0.475885</td>\n",
       "      <td>1.609439</td>\n",
       "    </tr>\n",
       "  </tbody>\n",
       "</table>\n",
       "</div>"
      ],
      "text/plain": [
       "                      feature  coefficient  ex_coefficient\n",
       "8                   EngineRpm    -0.395508        0.673338\n",
       "1          BarometricPressure    -0.283382        0.753232\n",
       "6           EngineOilPressure    -0.242197        0.784902\n",
       "14  IntakeManifoldTemperature    -0.165102        0.847807\n",
       "11                    FuelLtd    -0.075440        0.927336\n",
       "10                  FuelLevel    -0.055616        0.945902\n",
       "4    EngineCoolantTemperature    -0.033965        0.966606\n",
       "0            AcceleratorPedal    -0.018691        0.981482\n",
       "7        EngineOilTemperature    -0.010503        0.989552\n",
       "17                      Speed    -0.009411        0.990633\n",
       "19                   Throttle    -0.008737        0.991301\n",
       "2       CruiseControlSetSpeed     0.002522        1.002525\n",
       "12                   FuelRate     0.005822        1.005839\n",
       "16            ServiceDistance     0.006454        1.006475\n",
       "20         TurboBoostPressure     0.021855        1.022096\n",
       "5                  EngineLoad     0.066960        1.069252\n",
       "9               EngineTimeLtd     0.115870        1.122850\n",
       "18     SwitchedBatteryVoltage     0.161459        1.175225\n",
       "3                 DistanceLtd     0.274643        1.316060\n",
       "13            FuelTemperature     0.466743        1.594791\n",
       "15                 LampStatus     0.475885        1.609439"
      ]
     },
     "execution_count": 159,
     "metadata": {},
     "output_type": "execute_result"
    }
   ],
   "source": [
    "pd.DataFrame({'feature': logReg_scaler['impute'].get_feature_names_out(),\n",
    "                             'coefficient': logReg_scaler['log_reg'].coef_[0],\n",
    "             \"ex_coefficient\": np.exp(logReg_scaler['log_reg'].coef_[0])}).sort_values(by='coefficient')\n",
    "#every drop in the x-feature affects the predicted probability by the ex_coefficient"
   ]
  },
  {
   "cell_type": "code",
   "execution_count": 161,
   "id": "e09e8769",
   "metadata": {},
   "outputs": [
    {
     "data": {
      "text/plain": [
       "array([[136285,      2],\n",
       "       [   382,      0]], dtype=int64)"
      ]
     },
     "execution_count": 161,
     "metadata": {},
     "output_type": "execute_result"
    }
   ],
   "source": [
    "confusion_matrix(y_test, logReg_scaler.predict(X_test))"
   ]
  },
  {
   "cell_type": "code",
   "execution_count": 162,
   "id": "7695e5f6",
   "metadata": {},
   "outputs": [],
   "source": [
    "from cm import plot_confusion_matrix #cm is function writen by Michael"
   ]
  },
  {
   "cell_type": "code",
   "execution_count": 163,
   "id": "1626a183",
   "metadata": {},
   "outputs": [
    {
     "data": {
      "image/png": "[encoded data removed]",
      "text/plain": [
       "<Figure size 600x600 with 1 Axes>"
      ]
     },
     "metadata": {},
     "output_type": "display_data"
    }
   ],
   "source": [
    "plot_confusion_matrix(y_test, logReg_scaler.predict(X_test), labels = ['No_Derate', 'Derate']);"
   ]
  },
  {
   "cell_type": "code",
   "execution_count": 160,
   "id": "a2361ad8",
   "metadata": {},
   "outputs": [],
   "source": [
    "from sklearn.metrics import confusion_matrix, ConfusionMatrixDisplay"
   ]
  },
  {
   "cell_type": "code",
   "execution_count": 189,
   "id": "03c7309f",
   "metadata": {},
   "outputs": [
    {
     "data": {
      "image/png": "[encoded data removed]",
      "text/plain": [
       "<Figure size 600x600 with 1 Axes>"
      ]
     },
     "metadata": {},
     "output_type": "display_data"
    }
   ],
   "source": [
    "plot_confusion_matrix(y_test, logReg_scaler.predict(X_test), labels = ['No_Derate', 'Derate'], metric = 'accuracy');"
   ]
  },
  {
   "cell_type": "code",
   "execution_count": 164,
   "id": "e769d0de",
   "metadata": {},
   "outputs": [],
   "source": [
    "from sklearn.metrics import roc_auc_score"
   ]
  },
  {
   "cell_type": "code",
   "execution_count": 165,
   "id": "8c12e5bb",
   "metadata": {},
   "outputs": [
    {
     "data": {
      "text/plain": [
       "0.8525730675299205"
      ]
     },
     "execution_count": 165,
     "metadata": {},
     "output_type": "execute_result"
    }
   ],
   "source": [
    "roc_auc_score(y_test, logReg_scaler.predict_proba(X_test)[:,1] )"
   ]
  },
  {
   "cell_type": "code",
   "execution_count": 169,
   "id": "fff70d52",
   "metadata": {},
   "outputs": [
    {
     "data": {
      "text/plain": [
       "853"
      ]
     },
     "execution_count": 169,
     "metadata": {},
     "output_type": "execute_result"
    }
   ],
   "source": [
    "derate_feature['EquipmentID_x'].nunique() #1042\n",
    "derate_feature.loc[derate_feature['target']==1]['EquipmentID_x'].nunique() #189\n",
    "\n",
    "#list of the all trucks EquipentID where derate happened\n",
    "derate_trucks = derate_feature.loc[derate_feature['target']==1]['EquipmentID_x'].unique()\n",
    "\n",
    "#list of the all trucks EquipentID in faults table\n",
    "all_trucks = derate_feature['EquipmentID_x'].unique()\n",
    "\n",
    "#list of the all trucks EquipentID which did not have any derate\n",
    "no_derate = all_trucks[np.isin(all_trucks, derate_trucks, invert=True)]\n",
    "\n",
    "len(no_derate) #853\n",
    "# derate_feature.loc[derate_feature['target']==0]['EquipmentID_x'].nunique()"
   ]
  },
  {
   "cell_type": "code",
   "execution_count": 167,
   "id": "02b42e23",
   "metadata": {},
   "outputs": [
    {
     "data": {
      "text/plain": [
       "546674"
      ]
     },
     "execution_count": 167,
     "metadata": {},
     "output_type": "execute_result"
    }
   ],
   "source": [
    "174932+371742"
   ]
  },
  {
   "cell_type": "code",
   "execution_count": 170,
   "id": "b04fe1dc",
   "metadata": {},
   "outputs": [
    {
     "data": {
      "text/plain": [
       "(174932, 461)"
      ]
     },
     "execution_count": 170,
     "metadata": {},
     "output_type": "execute_result"
    }
   ],
   "source": [
    "df_derate = derate_feature[(derate_feature['EquipmentID_x'].isin(derate_trucks))]\n",
    "df_derate.shape #(174932, 461)"
   ]
  },
  {
   "cell_type": "code",
   "execution_count": 171,
   "id": "7c4269a5",
   "metadata": {},
   "outputs": [],
   "source": [
    "df_no = derate_feature[(derate_feature['EquipmentID_x'].isin(no_derate))] #371742 rows × 461 columns"
   ]
  },
  {
   "cell_type": "code",
   "execution_count": 173,
   "id": "b877895e",
   "metadata": {},
   "outputs": [
    {
     "data": {
      "text/html": [
       "<div>\n",
       "<style scoped>\n",
       "    .dataframe tbody tr th:only-of-type {\n",
       "        vertical-align: middle;\n",
       "    }\n",
       "\n",
       "    .dataframe tbody tr th {\n",
       "        vertical-align: top;\n",
       "    }\n",
       "\n",
       "    .dataframe thead th {\n",
       "        text-align: right;\n",
       "    }\n",
       "</style>\n",
       "<table border=\"1\" class=\"dataframe\">\n",
       "  <thead>\n",
       "    <tr style=\"text-align: right;\">\n",
       "      <th></th>\n",
       "      <th>RecordID</th>\n",
       "      <th>spn</th>\n",
       "      <th>fmi</th>\n",
       "      <th>AcceleratorPedal</th>\n",
       "      <th>BarometricPressure</th>\n",
       "      <th>CruiseControlSetSpeed</th>\n",
       "      <th>DistanceLtd</th>\n",
       "      <th>EngineCoolantTemperature</th>\n",
       "      <th>EngineLoad</th>\n",
       "      <th>EngineOilPressure</th>\n",
       "      <th>...</th>\n",
       "      <th>spn_94</th>\n",
       "      <th>spn_940</th>\n",
       "      <th>spn_941</th>\n",
       "      <th>spn_95</th>\n",
       "      <th>spn_96</th>\n",
       "      <th>spn_97</th>\n",
       "      <th>spn_976</th>\n",
       "      <th>spn_98</th>\n",
       "      <th>spn_fmi</th>\n",
       "      <th>target</th>\n",
       "    </tr>\n",
       "  </thead>\n",
       "  <tbody>\n",
       "    <tr>\n",
       "      <th>444126</th>\n",
       "      <td>1248431</td>\n",
       "      <td>96</td>\n",
       "      <td>3</td>\n",
       "      <td>0.0</td>\n",
       "      <td>14.645</td>\n",
       "      <td>66.48672</td>\n",
       "      <td>443434.9</td>\n",
       "      <td>186.8</td>\n",
       "      <td>12.0</td>\n",
       "      <td>22.62</td>\n",
       "      <td>...</td>\n",
       "      <td>0.0</td>\n",
       "      <td>0.0</td>\n",
       "      <td>0.0</td>\n",
       "      <td>0.0</td>\n",
       "      <td>1.0</td>\n",
       "      <td>0.0</td>\n",
       "      <td>0.0</td>\n",
       "      <td>0.0</td>\n",
       "      <td>96_3</td>\n",
       "      <td>0</td>\n",
       "    </tr>\n",
       "    <tr>\n",
       "      <th>444127</th>\n",
       "      <td>1248432</td>\n",
       "      <td>829</td>\n",
       "      <td>3</td>\n",
       "      <td>0.0</td>\n",
       "      <td>14.645</td>\n",
       "      <td>66.48672</td>\n",
       "      <td>443434.9</td>\n",
       "      <td>186.8</td>\n",
       "      <td>12.0</td>\n",
       "      <td>22.62</td>\n",
       "      <td>...</td>\n",
       "      <td>0.0</td>\n",
       "      <td>0.0</td>\n",
       "      <td>0.0</td>\n",
       "      <td>0.0</td>\n",
       "      <td>1.0</td>\n",
       "      <td>0.0</td>\n",
       "      <td>0.0</td>\n",
       "      <td>0.0</td>\n",
       "      <td>829_3</td>\n",
       "      <td>0</td>\n",
       "    </tr>\n",
       "    <tr>\n",
       "      <th>444128</th>\n",
       "      <td>1248425</td>\n",
       "      <td>829</td>\n",
       "      <td>3</td>\n",
       "      <td>0.0</td>\n",
       "      <td>14.645</td>\n",
       "      <td>66.48672</td>\n",
       "      <td>443434.3</td>\n",
       "      <td>185.0</td>\n",
       "      <td>17.0</td>\n",
       "      <td>22.04</td>\n",
       "      <td>...</td>\n",
       "      <td>0.0</td>\n",
       "      <td>0.0</td>\n",
       "      <td>0.0</td>\n",
       "      <td>0.0</td>\n",
       "      <td>1.0</td>\n",
       "      <td>0.0</td>\n",
       "      <td>0.0</td>\n",
       "      <td>0.0</td>\n",
       "      <td>829_3</td>\n",
       "      <td>0</td>\n",
       "    </tr>\n",
       "    <tr>\n",
       "      <th>444129</th>\n",
       "      <td>1248426</td>\n",
       "      <td>96</td>\n",
       "      <td>3</td>\n",
       "      <td>0.0</td>\n",
       "      <td>14.645</td>\n",
       "      <td>66.48672</td>\n",
       "      <td>443434.3</td>\n",
       "      <td>185.0</td>\n",
       "      <td>17.0</td>\n",
       "      <td>22.04</td>\n",
       "      <td>...</td>\n",
       "      <td>0.0</td>\n",
       "      <td>0.0</td>\n",
       "      <td>0.0</td>\n",
       "      <td>0.0</td>\n",
       "      <td>2.0</td>\n",
       "      <td>0.0</td>\n",
       "      <td>0.0</td>\n",
       "      <td>0.0</td>\n",
       "      <td>96_3</td>\n",
       "      <td>0</td>\n",
       "    </tr>\n",
       "    <tr>\n",
       "      <th>444130</th>\n",
       "      <td>1248394</td>\n",
       "      <td>96</td>\n",
       "      <td>3</td>\n",
       "      <td>0.0</td>\n",
       "      <td>14.645</td>\n",
       "      <td>66.48672</td>\n",
       "      <td>443424.0</td>\n",
       "      <td>185.0</td>\n",
       "      <td>12.0</td>\n",
       "      <td>24.94</td>\n",
       "      <td>...</td>\n",
       "      <td>0.0</td>\n",
       "      <td>0.0</td>\n",
       "      <td>0.0</td>\n",
       "      <td>0.0</td>\n",
       "      <td>3.0</td>\n",
       "      <td>0.0</td>\n",
       "      <td>0.0</td>\n",
       "      <td>0.0</td>\n",
       "      <td>96_3</td>\n",
       "      <td>0</td>\n",
       "    </tr>\n",
       "    <tr>\n",
       "      <th>...</th>\n",
       "      <td>...</td>\n",
       "      <td>...</td>\n",
       "      <td>...</td>\n",
       "      <td>...</td>\n",
       "      <td>...</td>\n",
       "      <td>...</td>\n",
       "      <td>...</td>\n",
       "      <td>...</td>\n",
       "      <td>...</td>\n",
       "      <td>...</td>\n",
       "      <td>...</td>\n",
       "      <td>...</td>\n",
       "      <td>...</td>\n",
       "      <td>...</td>\n",
       "      <td>...</td>\n",
       "      <td>...</td>\n",
       "      <td>...</td>\n",
       "      <td>...</td>\n",
       "      <td>...</td>\n",
       "      <td>...</td>\n",
       "      <td>...</td>\n",
       "    </tr>\n",
       "    <tr>\n",
       "      <th>157880</th>\n",
       "      <td>17</td>\n",
       "      <td>111</td>\n",
       "      <td>17</td>\n",
       "      <td>37.2</td>\n",
       "      <td>14.1375</td>\n",
       "      <td>66.48672</td>\n",
       "      <td>268575.9</td>\n",
       "      <td>183.2</td>\n",
       "      <td>26.0</td>\n",
       "      <td>33.64</td>\n",
       "      <td>...</td>\n",
       "      <td>0.0</td>\n",
       "      <td>0.0</td>\n",
       "      <td>0.0</td>\n",
       "      <td>0.0</td>\n",
       "      <td>0.0</td>\n",
       "      <td>0.0</td>\n",
       "      <td>0.0</td>\n",
       "      <td>0.0</td>\n",
       "      <td>111_17</td>\n",
       "      <td>0</td>\n",
       "    </tr>\n",
       "    <tr>\n",
       "      <th>36118</th>\n",
       "      <td>62</td>\n",
       "      <td>111</td>\n",
       "      <td>17</td>\n",
       "      <td>57.6</td>\n",
       "      <td>14.4275</td>\n",
       "      <td>64.6226</td>\n",
       "      <td>470383.5</td>\n",
       "      <td>190.4</td>\n",
       "      <td>46.0</td>\n",
       "      <td>35.96</td>\n",
       "      <td>...</td>\n",
       "      <td>0.0</td>\n",
       "      <td>0.0</td>\n",
       "      <td>0.0</td>\n",
       "      <td>0.0</td>\n",
       "      <td>0.0</td>\n",
       "      <td>0.0</td>\n",
       "      <td>0.0</td>\n",
       "      <td>0.0</td>\n",
       "      <td>111_17</td>\n",
       "      <td>0</td>\n",
       "    </tr>\n",
       "    <tr>\n",
       "      <th>126238</th>\n",
       "      <td>11</td>\n",
       "      <td>111</td>\n",
       "      <td>17</td>\n",
       "      <td>0.0</td>\n",
       "      <td>14.1375</td>\n",
       "      <td>64.6226</td>\n",
       "      <td>257885.9</td>\n",
       "      <td>181.4</td>\n",
       "      <td>80.0</td>\n",
       "      <td>34.22</td>\n",
       "      <td>...</td>\n",
       "      <td>0.0</td>\n",
       "      <td>0.0</td>\n",
       "      <td>0.0</td>\n",
       "      <td>0.0</td>\n",
       "      <td>0.0</td>\n",
       "      <td>0.0</td>\n",
       "      <td>0.0</td>\n",
       "      <td>0.0</td>\n",
       "      <td>111_17</td>\n",
       "      <td>0</td>\n",
       "    </tr>\n",
       "    <tr>\n",
       "      <th>36119</th>\n",
       "      <td>6</td>\n",
       "      <td>111</td>\n",
       "      <td>17</td>\n",
       "      <td>48.0</td>\n",
       "      <td>14.4275</td>\n",
       "      <td>64.6226</td>\n",
       "      <td>470381.4</td>\n",
       "      <td>181.4</td>\n",
       "      <td>30.0</td>\n",
       "      <td>38.28</td>\n",
       "      <td>...</td>\n",
       "      <td>0.0</td>\n",
       "      <td>0.0</td>\n",
       "      <td>0.0</td>\n",
       "      <td>0.0</td>\n",
       "      <td>0.0</td>\n",
       "      <td>0.0</td>\n",
       "      <td>0.0</td>\n",
       "      <td>0.0</td>\n",
       "      <td>111_17</td>\n",
       "      <td>0</td>\n",
       "    </tr>\n",
       "    <tr>\n",
       "      <th>70148</th>\n",
       "      <td>1760</td>\n",
       "      <td>523530</td>\n",
       "      <td>31</td>\n",
       "      <td>47.966667</td>\n",
       "      <td>14.32412</td>\n",
       "      <td>66.337131</td>\n",
       "      <td>541743.336574</td>\n",
       "      <td>175.083333</td>\n",
       "      <td>34.134259</td>\n",
       "      <td>31.113241</td>\n",
       "      <td>...</td>\n",
       "      <td>0.0</td>\n",
       "      <td>0.0</td>\n",
       "      <td>0.0</td>\n",
       "      <td>0.0</td>\n",
       "      <td>0.0</td>\n",
       "      <td>0.0</td>\n",
       "      <td>0.0</td>\n",
       "      <td>0.0</td>\n",
       "      <td>523530_31</td>\n",
       "      <td>0</td>\n",
       "    </tr>\n",
       "  </tbody>\n",
       "</table>\n",
       "<p>174932 rows × 461 columns</p>\n",
       "</div>"
      ],
      "text/plain": [
       "        RecordID     spn  fmi AcceleratorPedal BarometricPressure  \\\n",
       "444126   1248431      96    3              0.0             14.645   \n",
       "444127   1248432     829    3              0.0             14.645   \n",
       "444128   1248425     829    3              0.0             14.645   \n",
       "444129   1248426      96    3              0.0             14.645   \n",
       "444130   1248394      96    3              0.0             14.645   \n",
       "...          ...     ...  ...              ...                ...   \n",
       "157880        17     111   17             37.2            14.1375   \n",
       "36118         62     111   17             57.6            14.4275   \n",
       "126238        11     111   17              0.0            14.1375   \n",
       "36119          6     111   17             48.0            14.4275   \n",
       "70148       1760  523530   31        47.966667           14.32412   \n",
       "\n",
       "       CruiseControlSetSpeed    DistanceLtd EngineCoolantTemperature  \\\n",
       "444126              66.48672       443434.9                    186.8   \n",
       "444127              66.48672       443434.9                    186.8   \n",
       "444128              66.48672       443434.3                    185.0   \n",
       "444129              66.48672       443434.3                    185.0   \n",
       "444130              66.48672       443424.0                    185.0   \n",
       "...                      ...            ...                      ...   \n",
       "157880              66.48672       268575.9                    183.2   \n",
       "36118                64.6226       470383.5                    190.4   \n",
       "126238               64.6226       257885.9                    181.4   \n",
       "36119                64.6226       470381.4                    181.4   \n",
       "70148              66.337131  541743.336574               175.083333   \n",
       "\n",
       "       EngineLoad EngineOilPressure  ... spn_94 spn_940 spn_941 spn_95 spn_96  \\\n",
       "444126       12.0             22.62  ...    0.0     0.0     0.0    0.0    1.0   \n",
       "444127       12.0             22.62  ...    0.0     0.0     0.0    0.0    1.0   \n",
       "444128       17.0             22.04  ...    0.0     0.0     0.0    0.0    1.0   \n",
       "444129       17.0             22.04  ...    0.0     0.0     0.0    0.0    2.0   \n",
       "444130       12.0             24.94  ...    0.0     0.0     0.0    0.0    3.0   \n",
       "...           ...               ...  ...    ...     ...     ...    ...    ...   \n",
       "157880       26.0             33.64  ...    0.0     0.0     0.0    0.0    0.0   \n",
       "36118        46.0             35.96  ...    0.0     0.0     0.0    0.0    0.0   \n",
       "126238       80.0             34.22  ...    0.0     0.0     0.0    0.0    0.0   \n",
       "36119        30.0             38.28  ...    0.0     0.0     0.0    0.0    0.0   \n",
       "70148   34.134259         31.113241  ...    0.0     0.0     0.0    0.0    0.0   \n",
       "\n",
       "       spn_97 spn_976 spn_98    spn_fmi target  \n",
       "444126    0.0     0.0    0.0       96_3      0  \n",
       "444127    0.0     0.0    0.0      829_3      0  \n",
       "444128    0.0     0.0    0.0      829_3      0  \n",
       "444129    0.0     0.0    0.0       96_3      0  \n",
       "444130    0.0     0.0    0.0       96_3      0  \n",
       "...       ...     ...    ...        ...    ...  \n",
       "157880    0.0     0.0    0.0     111_17      0  \n",
       "36118     0.0     0.0    0.0     111_17      0  \n",
       "126238    0.0     0.0    0.0     111_17      0  \n",
       "36119     0.0     0.0    0.0     111_17      0  \n",
       "70148     0.0     0.0    0.0  523530_31      0  \n",
       "\n",
       "[174932 rows x 461 columns]"
      ]
     },
     "execution_count": 173,
     "metadata": {},
     "output_type": "execute_result"
    }
   ],
   "source": [
    "df_derate"
   ]
  },
  {
   "cell_type": "code",
   "execution_count": 174,
   "id": "f0eb6c3a",
   "metadata": {},
   "outputs": [],
   "source": [
    "#Now we will divide in train test trucks with derate or noderate with each truck(EquipmentID) either in train or test not both."
   ]
  },
  {
   "cell_type": "code",
   "execution_count": 175,
   "id": "6cf8d195",
   "metadata": {},
   "outputs": [
    {
     "name": "stdout",
     "output_type": "stream",
     "text": [
      "(139945, 460)\n",
      "(34987, 460)\n",
      "(139945, 1)\n",
      "(34987, 1)\n"
     ]
    }
   ],
   "source": [
    "##Making the 80/20 split in the train/test among all the trucks with derate\n",
    "X = df_derate.drop(columns=['target'])\n",
    "y= df_derate[['target']]\n",
    "\n",
    "X_train_derate, X_test_derate, y_train_derate, y_test_derate = train_test_split(X, y, train_size = 0.8,\n",
    "                                                                                test_size = 0.2, \n",
    "                                                                                random_state = 321)\n",
    "\n",
    "print(X_train_derate.shape)\n",
    "print(X_test_derate.shape)\n",
    "print(y_train_derate.shape)\n",
    "print(y_test_derate.shape)"
   ]
  },
  {
   "cell_type": "code",
   "execution_count": 176,
   "id": "340903f6",
   "metadata": {},
   "outputs": [
    {
     "name": "stdout",
     "output_type": "stream",
     "text": [
      "(297393, 460)\n",
      "(74349, 460)\n",
      "(297393, 1)\n",
      "(74349, 1)\n"
     ]
    }
   ],
   "source": [
    "##Making the 80/20 split in the train/test among all the trucks with noderate\n",
    "\n",
    "X_no = df_no.drop(columns=['target'])\n",
    "y_no= df_no[['target']]\n",
    "\n",
    "X_train_noderate, X_test_noderate, y_train_noderate, y_test_noderate = train_test_split(X_no, y_no, train_size = 0.8,\n",
    "                                                                                test_size = 0.2, \n",
    "                                                                                random_state = 321)\n",
    "\n",
    "print(X_train_noderate.shape)\n",
    "print(X_test_noderate.shape)\n",
    "print(y_train_noderate.shape)\n",
    "print(y_test_noderate.shape)"
   ]
  },
  {
   "cell_type": "code",
   "execution_count": 132,
   "id": "531705cb",
   "metadata": {},
   "outputs": [],
   "source": [
    "## Putting the derate_train and non_derate_train together like wise doing that with the test\n",
    "# df = all_trucks[~all_trucks[['EquipmentID']].isin(derate_trucks).any(axis=1)]\n",
    "# pd.concat([data1, data2], axis=0)\n",
    "\n",
    "X_train1 = pd.concat([X_train_derate, X_train_noderate], axis=0) #437338 rows × 460 columns\n",
    "\n",
    "X_test1 = pd.concat([X_test_derate, X_test_noderate], axis=0) #109336 rows × 460 columns\n",
    "\n",
    "y_train1 = pd.concat([y_train_derate, y_train_noderate], axis=0) #437338 rows × 1 columns\n",
    "\n",
    "y_test1 = pd.concat([y_test_derate, y_test_noderate], axis=0) #109336 rows × 1 columns"
   ]
  },
  {
   "cell_type": "code",
   "execution_count": 177,
   "id": "accad953",
   "metadata": {},
   "outputs": [
    {
     "data": {
      "text/plain": [
       "0    436221\n",
       "1      1117\n",
       "Name: target, dtype: int64"
      ]
     },
     "execution_count": 177,
     "metadata": {},
     "output_type": "execute_result"
    }
   ],
   "source": [
    "#cases take out due to 25% or more missing values\n",
    "y_train1['target'].value_counts()"
   ]
  },
  {
   "cell_type": "code",
   "execution_count": 178,
   "id": "14123beb",
   "metadata": {},
   "outputs": [
    {
     "data": {
      "text/plain": [
       "0    109064\n",
       "1       272\n",
       "Name: target, dtype: int64"
      ]
     },
     "execution_count": 178,
     "metadata": {},
     "output_type": "execute_result"
    }
   ],
   "source": [
    "#cases take out due to 25% or more missing values\n",
    "y_test1['target'].value_counts()"
   ]
  },
  {
   "cell_type": "raw",
   "id": "f11913c7",
   "metadata": {},
   "source": [
    "pip install imblearn"
   ]
  },
  {
   "cell_type": "code",
   "execution_count": 179,
   "id": "fe5145ab",
   "metadata": {},
   "outputs": [
    {
     "name": "stdout",
     "output_type": "stream",
     "text": [
      "<class 'pandas.core.frame.DataFrame'>\n",
      "Int64Index: 437338 entries, 170963 to 212282\n",
      "Columns: 460 entries, RecordID to spn_fmi\n",
      "dtypes: bool(1), datetime64[ns](2), float64(419), int64(6), object(32)\n",
      "memory usage: 1.5+ GB\n"
     ]
    },
    {
     "data": {
      "text/plain": [
       "{bool: ['active'], int64: ['RecordID', 'spn', 'fmi', 'ecuSource', 'spn', 'fmi'], float64: ['Latitude', 'Longitude', 'spn_0', 'spn_100', 'spn_101', 'spn_102', 'spn_1023', 'spn_1024', 'spn_1028', 'spn_103', 'spn_1043', 'spn_1045', 'spn_105', 'spn_1056', 'spn_1059', 'spn_1067', 'spn_1068', 'spn_107', 'spn_1071', 'spn_1072', 'spn_1075', 'spn_1078', 'spn_108', 'spn_1081', 'spn_110', 'spn_111', 'spn_1127', 'spn_114863', 'spn_116', 'spn_1172', 'spn_1176', 'spn_118', 'spn_1209', 'spn_1213', 'spn_1231', 'spn_1235', 'spn_1236', 'spn_1239', 'spn_1247', 'spn_125', 'spn_127', 'spn_1279', 'spn_1321', 'spn_1322', 'spn_1323', 'spn_1324', 'spn_1325', 'spn_1326', 'spn_1327', 'spn_1328', 'spn_1347', 'spn_1349', 'spn_13600', 'spn_139296', 'spn_1464', 'spn_1481', 'spn_1482', 'spn_1483', 'spn_1487', 'spn_153', 'spn_153931', 'spn_1569', 'spn_157', 'spn_158', 'spn_16', 'spn_160', 'spn_1612', 'spn_1659', 'spn_1668', 'spn_167', 'spn_1675', 'spn_168', 'spn_17096', 'spn_171', 'spn_173', 'spn_174', 'spn_175', 'spn_17590', 'spn_1761', 'spn_177', 'spn_1787', 'spn_1807', 'spn_1808', 'spn_1809', 'spn_1815', 'spn_184', 'spn_188', 'spn_190', 'spn_191', 'spn_196608', 'spn_2000', 'spn_2017', 'spn_2023', 'spn_2029', 'spn_228', 'spn_235', 'spn_236', 'spn_237', 'spn_245', 'spn_247', ...], datetime64[ns]: ['LocationTimeStamp', 'EventTimeStamp'], object: ['AcceleratorPedal', 'BarometricPressure', 'CruiseControlSetSpeed', 'DistanceLtd', 'EngineCoolantTemperature', 'EngineLoad', 'EngineOilPressure', 'EngineOilTemperature', 'EngineRpm', 'EngineTimeLtd', 'FuelLevel', 'FuelLtd', 'FuelRate', 'FuelTemperature', 'IntakeManifoldTemperature', 'LampStatus', 'ServiceDistance', 'Speed', 'SwitchedBatteryVoltage', 'Throttle', 'TurboBoostPressure', 'eventDescription', 'ecuSoftwareVersion', 'ecuSerialNumber', 'ecuModel', 'ecuMake', 'activeTransitionCount', 'EquipmentID_x', 'MCTNumber', 'SPN_FMI', 'EquipmentID_y', 'spn_fmi']}"
      ]
     },
     "execution_count": 179,
     "metadata": {},
     "output_type": "execute_result"
    }
   ],
   "source": [
    "X_train1.info()\n",
    "X_train1.columns.to_series().groupby(X_train1.dtypes).groups"
   ]
  },
  {
   "cell_type": "code",
   "execution_count": 194,
   "id": "4629be48",
   "metadata": {},
   "outputs": [],
   "source": [
    "chosen_cl = ['RecordID', 'spn', 'fmi', 'AcceleratorPedal', 'BarometricPressure', 'CruiseControlSetSpeed', 'DistanceLtd', \n",
    " 'EngineCoolantTemperature', 'EngineLoad', 'EngineOilPressure', 'EngineOilTemperature', 'EngineRpm', \n",
    " 'EngineTimeLtd', 'FuelLevel', 'FuelLtd', 'FuelRate', 'FuelTemperature', 'IntakeManifoldTemperature',\n",
    " 'LampStatus', 'ServiceDistance', 'Speed', 'SwitchedBatteryVoltage', 'Throttle', 'TurboBoostPressure',\n",
    "  'spn_fmi'\n",
    "]"
   ]
  },
  {
   "cell_type": "code",
   "execution_count": 180,
   "id": "805c8e7d",
   "metadata": {},
   "outputs": [
    {
     "data": {
      "text/plain": [
       "{bool: ['active'], int64: ['RecordID', 'spn', 'fmi', 'ecuSource', 'spn', 'fmi'], float64: ['Latitude', 'Longitude', 'spn_0', 'spn_100', 'spn_101', 'spn_102', 'spn_1023', 'spn_1024', 'spn_1028', 'spn_103', 'spn_1043', 'spn_1045', 'spn_105', 'spn_1056', 'spn_1059', 'spn_1067', 'spn_1068', 'spn_107', 'spn_1071', 'spn_1072', 'spn_1075', 'spn_1078', 'spn_108', 'spn_1081', 'spn_110', 'spn_111', 'spn_1127', 'spn_114863', 'spn_116', 'spn_1172', 'spn_1176', 'spn_118', 'spn_1209', 'spn_1213', 'spn_1231', 'spn_1235', 'spn_1236', 'spn_1239', 'spn_1247', 'spn_125', 'spn_127', 'spn_1279', 'spn_1321', 'spn_1322', 'spn_1323', 'spn_1324', 'spn_1325', 'spn_1326', 'spn_1327', 'spn_1328', 'spn_1347', 'spn_1349', 'spn_13600', 'spn_139296', 'spn_1464', 'spn_1481', 'spn_1482', 'spn_1483', 'spn_1487', 'spn_153', 'spn_153931', 'spn_1569', 'spn_157', 'spn_158', 'spn_16', 'spn_160', 'spn_1612', 'spn_1659', 'spn_1668', 'spn_167', 'spn_1675', 'spn_168', 'spn_17096', 'spn_171', 'spn_173', 'spn_174', 'spn_175', 'spn_17590', 'spn_1761', 'spn_177', 'spn_1787', 'spn_1807', 'spn_1808', 'spn_1809', 'spn_1815', 'spn_184', 'spn_188', 'spn_190', 'spn_191', 'spn_196608', 'spn_2000', 'spn_2017', 'spn_2023', 'spn_2029', 'spn_228', 'spn_235', 'spn_236', 'spn_237', 'spn_245', 'spn_247', ...], datetime64[ns]: ['LocationTimeStamp', 'EventTimeStamp'], object: ['AcceleratorPedal', 'BarometricPressure', 'CruiseControlSetSpeed', 'DistanceLtd', 'EngineCoolantTemperature', 'EngineLoad', 'EngineOilPressure', 'EngineOilTemperature', 'EngineRpm', 'EngineTimeLtd', 'FuelLevel', 'FuelLtd', 'FuelRate', 'FuelTemperature', 'IntakeManifoldTemperature', 'LampStatus', 'ServiceDistance', 'Speed', 'SwitchedBatteryVoltage', 'Throttle', 'TurboBoostPressure', 'eventDescription', 'ecuSoftwareVersion', 'ecuSerialNumber', 'ecuModel', 'ecuMake', 'activeTransitionCount', 'EquipmentID_x', 'MCTNumber', 'SPN_FMI', 'EquipmentID_y', 'spn_fmi']}"
      ]
     },
     "execution_count": 180,
     "metadata": {},
     "output_type": "execute_result"
    }
   ],
   "source": [
    "X_train_derate.columns.to_series().groupby(X_train_derate.dtypes).groups"
   ]
  },
  {
   "cell_type": "code",
   "execution_count": 195,
   "id": "9429a1a0",
   "metadata": {},
   "outputs": [
    {
     "data": {
      "text/plain": [
       "(437338, 27)"
      ]
     },
     "execution_count": 195,
     "metadata": {},
     "output_type": "execute_result"
    }
   ],
   "source": [
    "X_train1_short = X_train1[chosen_cl]\n",
    "X_train1_short.shape #(437338, 28)"
   ]
  },
  {
   "cell_type": "code",
   "execution_count": 196,
   "id": "97416311",
   "metadata": {},
   "outputs": [
    {
     "data": {
      "text/plain": [
       "(109336, 27)"
      ]
     },
     "execution_count": 196,
     "metadata": {},
     "output_type": "execute_result"
    }
   ],
   "source": [
    "X_test1_short = X_test1[chosen_cl]\n",
    "X_test1_short.shape #(109336, 28)"
   ]
  },
  {
   "cell_type": "code",
   "execution_count": null,
   "id": "0a69de59",
   "metadata": {},
   "outputs": [],
   "source": [
    "from sklearn.preprocessing import OneHotEncoder"
   ]
  },
  {
   "cell_type": "code",
   "execution_count": 137,
   "id": "44a2f0e2",
   "metadata": {},
   "outputs": [],
   "source": []
  },
  {
   "cell_type": "code",
   "execution_count": null,
   "id": "e84f3550",
   "metadata": {},
   "outputs": [],
   "source": [
    "from imblearn.over_sampling import SMOTE\n",
    "oversampler = SMOTE(k_neighbors=5, random_state=42)\n",
    "X_smote, y_smote = oversampler.fit_resample(X_train, y_train)\n",
    "y_smote.value_counts()\n",
    "gbr_smoted = Pipeline(\n",
    "    steps = [\n",
    "        ('gb', GradientBoostingClassifier(verbose=True))#n_estimators = 1000, learning_rate=0.01\n",
    "    ]\n",
    ")\n",
    "\n",
    "gbr_smoted.fit(X_smote, y_smote)\n",
    "y_predict = gbr_smoted.predict(X_train)\n",
    "confusion_matrix(y_train, y_predict)\n",
    "confusion_matrix(y_test, gbr.predict(X_test))\n",
    "confusion_matrix(y_test, gbr_smoted.predict(X_test))\n",
    "print(classification_report(y_train, y_predict))"
   ]
  },
  {
   "cell_type": "markdown",
   "id": "7fd61a68",
   "metadata": {},
   "source": [
    "#### Running the above logReg_sclaer pipeline with the equipment clustered train test split data\n",
    "1. X_train1_short\n",
    "2. X_test1_short\n",
    "3. y_train1\n",
    "4. y_test1"
   ]
  },
  {
   "cell_type": "code",
   "execution_count": 192,
   "id": "dfc330d9",
   "metadata": {},
   "outputs": [
    {
     "data": {
      "text/html": [
       "<div>\n",
       "<style scoped>\n",
       "    .dataframe tbody tr th:only-of-type {\n",
       "        vertical-align: middle;\n",
       "    }\n",
       "\n",
       "    .dataframe tbody tr th {\n",
       "        vertical-align: top;\n",
       "    }\n",
       "\n",
       "    .dataframe thead th {\n",
       "        text-align: right;\n",
       "    }\n",
       "</style>\n",
       "<table border=\"1\" class=\"dataframe\">\n",
       "  <thead>\n",
       "    <tr style=\"text-align: right;\">\n",
       "      <th></th>\n",
       "      <th>target</th>\n",
       "    </tr>\n",
       "  </thead>\n",
       "  <tbody>\n",
       "    <tr>\n",
       "      <th>170963</th>\n",
       "      <td>0</td>\n",
       "    </tr>\n",
       "    <tr>\n",
       "      <th>423364</th>\n",
       "      <td>0</td>\n",
       "    </tr>\n",
       "    <tr>\n",
       "      <th>419070</th>\n",
       "      <td>0</td>\n",
       "    </tr>\n",
       "    <tr>\n",
       "      <th>368390</th>\n",
       "      <td>0</td>\n",
       "    </tr>\n",
       "    <tr>\n",
       "      <th>114639</th>\n",
       "      <td>0</td>\n",
       "    </tr>\n",
       "  </tbody>\n",
       "</table>\n",
       "</div>"
      ],
      "text/plain": [
       "        target\n",
       "170963       0\n",
       "423364       0\n",
       "419070       0\n",
       "368390       0\n",
       "114639       0"
      ]
     },
     "execution_count": 192,
     "metadata": {},
     "output_type": "execute_result"
    }
   ],
   "source": [
    "y_train1.head()"
   ]
  },
  {
   "cell_type": "code",
   "execution_count": 221,
   "id": "a5ac827a",
   "metadata": {},
   "outputs": [],
   "source": [
    "#from sklearn.impute import SimpleImputer\n",
    "#step1\n",
    "logReg_scaler = Pipeline(\n",
    "    steps = [\n",
    "        ('impute', SimpleImputer()), #fills average of the column if there are NaN missing values\n",
    "        ('scaler', StandardScaler()),\n",
    "        ('log_reg', LogisticRegression(C = 0.01)) #started from 0.01, 0,001, \n",
    "    ]\n",
    ").fit(X_train1_short, y_train1['target'])"
   ]
  },
  {
   "cell_type": "code",
   "execution_count": 222,
   "id": "85ecc73f",
   "metadata": {},
   "outputs": [],
   "source": [
    "#step2\n",
    "logreg1 = logReg_scaler.predict(X_test1_short)"
   ]
  },
  {
   "cell_type": "code",
   "execution_count": 223,
   "id": "77b750c5",
   "metadata": {},
   "outputs": [
    {
     "data": {
      "text/plain": [
       "0.9974939635618644"
      ]
     },
     "execution_count": 223,
     "metadata": {},
     "output_type": "execute_result"
    }
   ],
   "source": [
    "#step3\n",
    "accuracy_score(y_test1['target'], logreg1) #0.9974939635618644(c=0.01), 0.997484817443477(0.001)"
   ]
  },
  {
   "cell_type": "code",
   "execution_count": 208,
   "id": "c2261af1",
   "metadata": {},
   "outputs": [
    {
     "data": {
      "text/plain": [
       "0.8308154736991987"
      ]
     },
     "execution_count": 208,
     "metadata": {},
     "output_type": "execute_result"
    }
   ],
   "source": [
    "#step4 ROC_AUC \n",
    "roc_auc_score(y_test1['target'], logReg_scaler.predict_proba(X_test1_short)[:,1] )"
   ]
  },
  {
   "cell_type": "code",
   "execution_count": 209,
   "id": "136a15c5",
   "metadata": {},
   "outputs": [
    {
     "data": {
      "text/html": [
       "<div>\n",
       "<style scoped>\n",
       "    .dataframe tbody tr th:only-of-type {\n",
       "        vertical-align: middle;\n",
       "    }\n",
       "\n",
       "    .dataframe tbody tr th {\n",
       "        vertical-align: top;\n",
       "    }\n",
       "\n",
       "    .dataframe thead th {\n",
       "        text-align: right;\n",
       "    }\n",
       "</style>\n",
       "<table border=\"1\" class=\"dataframe\">\n",
       "  <thead>\n",
       "    <tr style=\"text-align: right;\">\n",
       "      <th></th>\n",
       "      <th>feature</th>\n",
       "      <th>coefficient</th>\n",
       "      <th>ex_coefficient</th>\n",
       "    </tr>\n",
       "  </thead>\n",
       "  <tbody>\n",
       "    <tr>\n",
       "      <th>13</th>\n",
       "      <td>EngineRpm</td>\n",
       "      <td>-0.522999</td>\n",
       "      <td>0.592740</td>\n",
       "    </tr>\n",
       "    <tr>\n",
       "      <th>6</th>\n",
       "      <td>BarometricPressure</td>\n",
       "      <td>-0.340799</td>\n",
       "      <td>0.711202</td>\n",
       "    </tr>\n",
       "    <tr>\n",
       "      <th>11</th>\n",
       "      <td>EngineOilPressure</td>\n",
       "      <td>-0.332666</td>\n",
       "      <td>0.717010</td>\n",
       "    </tr>\n",
       "    <tr>\n",
       "      <th>19</th>\n",
       "      <td>IntakeManifoldTemperature</td>\n",
       "      <td>-0.115845</td>\n",
       "      <td>0.890614</td>\n",
       "    </tr>\n",
       "    <tr>\n",
       "      <th>26</th>\n",
       "      <td>spn_fmi</td>\n",
       "      <td>-0.104665</td>\n",
       "      <td>0.900626</td>\n",
       "    </tr>\n",
       "    <tr>\n",
       "      <th>9</th>\n",
       "      <td>EngineCoolantTemperature</td>\n",
       "      <td>-0.092996</td>\n",
       "      <td>0.911197</td>\n",
       "    </tr>\n",
       "    <tr>\n",
       "      <th>24</th>\n",
       "      <td>Throttle</td>\n",
       "      <td>-0.074923</td>\n",
       "      <td>0.927815</td>\n",
       "    </tr>\n",
       "    <tr>\n",
       "      <th>16</th>\n",
       "      <td>FuelLtd</td>\n",
       "      <td>-0.072049</td>\n",
       "      <td>0.930486</td>\n",
       "    </tr>\n",
       "    <tr>\n",
       "      <th>15</th>\n",
       "      <td>FuelLevel</td>\n",
       "      <td>-0.061007</td>\n",
       "      <td>0.940817</td>\n",
       "    </tr>\n",
       "    <tr>\n",
       "      <th>22</th>\n",
       "      <td>Speed</td>\n",
       "      <td>-0.007758</td>\n",
       "      <td>0.992272</td>\n",
       "    </tr>\n",
       "    <tr>\n",
       "      <th>10</th>\n",
       "      <td>EngineLoad</td>\n",
       "      <td>-0.004745</td>\n",
       "      <td>0.995266</td>\n",
       "    </tr>\n",
       "    <tr>\n",
       "      <th>5</th>\n",
       "      <td>AcceleratorPedal</td>\n",
       "      <td>-0.001164</td>\n",
       "      <td>0.998836</td>\n",
       "    </tr>\n",
       "    <tr>\n",
       "      <th>12</th>\n",
       "      <td>EngineOilTemperature</td>\n",
       "      <td>0.002755</td>\n",
       "      <td>1.002759</td>\n",
       "    </tr>\n",
       "    <tr>\n",
       "      <th>21</th>\n",
       "      <td>ServiceDistance</td>\n",
       "      <td>0.004072</td>\n",
       "      <td>1.004081</td>\n",
       "    </tr>\n",
       "    <tr>\n",
       "      <th>25</th>\n",
       "      <td>TurboBoostPressure</td>\n",
       "      <td>0.013057</td>\n",
       "      <td>1.013142</td>\n",
       "    </tr>\n",
       "    <tr>\n",
       "      <th>17</th>\n",
       "      <td>FuelRate</td>\n",
       "      <td>0.015181</td>\n",
       "      <td>1.015297</td>\n",
       "    </tr>\n",
       "    <tr>\n",
       "      <th>1</th>\n",
       "      <td>spn</td>\n",
       "      <td>0.025919</td>\n",
       "      <td>1.026258</td>\n",
       "    </tr>\n",
       "    <tr>\n",
       "      <th>2</th>\n",
       "      <td>spn</td>\n",
       "      <td>0.025919</td>\n",
       "      <td>1.026258</td>\n",
       "    </tr>\n",
       "    <tr>\n",
       "      <th>7</th>\n",
       "      <td>CruiseControlSetSpeed</td>\n",
       "      <td>0.059964</td>\n",
       "      <td>1.061799</td>\n",
       "    </tr>\n",
       "    <tr>\n",
       "      <th>23</th>\n",
       "      <td>SwitchedBatteryVoltage</td>\n",
       "      <td>0.067207</td>\n",
       "      <td>1.069517</td>\n",
       "    </tr>\n",
       "    <tr>\n",
       "      <th>14</th>\n",
       "      <td>EngineTimeLtd</td>\n",
       "      <td>0.113770</td>\n",
       "      <td>1.120494</td>\n",
       "    </tr>\n",
       "    <tr>\n",
       "      <th>0</th>\n",
       "      <td>RecordID</td>\n",
       "      <td>0.179646</td>\n",
       "      <td>1.196794</td>\n",
       "    </tr>\n",
       "    <tr>\n",
       "      <th>4</th>\n",
       "      <td>fmi</td>\n",
       "      <td>0.230579</td>\n",
       "      <td>1.259329</td>\n",
       "    </tr>\n",
       "    <tr>\n",
       "      <th>3</th>\n",
       "      <td>fmi</td>\n",
       "      <td>0.230579</td>\n",
       "      <td>1.259329</td>\n",
       "    </tr>\n",
       "    <tr>\n",
       "      <th>8</th>\n",
       "      <td>DistanceLtd</td>\n",
       "      <td>0.264055</td>\n",
       "      <td>1.302200</td>\n",
       "    </tr>\n",
       "    <tr>\n",
       "      <th>20</th>\n",
       "      <td>LampStatus</td>\n",
       "      <td>0.478792</td>\n",
       "      <td>1.614123</td>\n",
       "    </tr>\n",
       "    <tr>\n",
       "      <th>18</th>\n",
       "      <td>FuelTemperature</td>\n",
       "      <td>0.490287</td>\n",
       "      <td>1.632784</td>\n",
       "    </tr>\n",
       "  </tbody>\n",
       "</table>\n",
       "</div>"
      ],
      "text/plain": [
       "                      feature  coefficient  ex_coefficient\n",
       "13                  EngineRpm    -0.522999        0.592740\n",
       "6          BarometricPressure    -0.340799        0.711202\n",
       "11          EngineOilPressure    -0.332666        0.717010\n",
       "19  IntakeManifoldTemperature    -0.115845        0.890614\n",
       "26                    spn_fmi    -0.104665        0.900626\n",
       "9    EngineCoolantTemperature    -0.092996        0.911197\n",
       "24                   Throttle    -0.074923        0.927815\n",
       "16                    FuelLtd    -0.072049        0.930486\n",
       "15                  FuelLevel    -0.061007        0.940817\n",
       "22                      Speed    -0.007758        0.992272\n",
       "10                 EngineLoad    -0.004745        0.995266\n",
       "5            AcceleratorPedal    -0.001164        0.998836\n",
       "12       EngineOilTemperature     0.002755        1.002759\n",
       "21            ServiceDistance     0.004072        1.004081\n",
       "25         TurboBoostPressure     0.013057        1.013142\n",
       "17                   FuelRate     0.015181        1.015297\n",
       "1                         spn     0.025919        1.026258\n",
       "2                         spn     0.025919        1.026258\n",
       "7       CruiseControlSetSpeed     0.059964        1.061799\n",
       "23     SwitchedBatteryVoltage     0.067207        1.069517\n",
       "14              EngineTimeLtd     0.113770        1.120494\n",
       "0                    RecordID     0.179646        1.196794\n",
       "4                         fmi     0.230579        1.259329\n",
       "3                         fmi     0.230579        1.259329\n",
       "8                 DistanceLtd     0.264055        1.302200\n",
       "20                 LampStatus     0.478792        1.614123\n",
       "18            FuelTemperature     0.490287        1.632784"
      ]
     },
     "execution_count": 209,
     "metadata": {},
     "output_type": "execute_result"
    }
   ],
   "source": [
    "#step5\n",
    "#extracting the features\n",
    "pd.DataFrame({'feature': logReg_scaler['impute'].get_feature_names_out(),\n",
    "                             'coefficient': logReg_scaler['log_reg'].coef_[0],\n",
    "             \"ex_coefficient\": np.exp(logReg_scaler['log_reg'].coef_[0])}).sort_values(by='coefficient')\n",
    "#every drop in the x-feature affects the predicted probability by the ex_coefficient"
   ]
  },
  {
   "cell_type": "code",
   "execution_count": 211,
   "id": "c2680fb3",
   "metadata": {},
   "outputs": [
    {
     "data": {
      "text/plain": [
       "array([[109062,      2],\n",
       "       [   272,      0]], dtype=int64)"
      ]
     },
     "execution_count": 211,
     "metadata": {},
     "output_type": "execute_result"
    }
   ],
   "source": [
    "#step6 confusion matrix\n",
    "confusion_matrix(y_test1['target'], logReg_scaler.predict(X_test1_short))"
   ]
  },
  {
   "cell_type": "code",
   "execution_count": 240,
   "id": "71931727",
   "metadata": {},
   "outputs": [
    {
     "data": {
      "image/png": "[encoded data removed]",
      "text/plain": [
       "<Figure size 600x600 with 1 Axes>"
      ]
     },
     "metadata": {},
     "output_type": "display_data"
    }
   ],
   "source": [
    "##step7 plotting matrix\n",
    "plot_confusion_matrix(y_test1['target'], logReg_scaler.predict(X_test1_short), labels = ['No_Derate(0)', 'Derate'], metric = 'accuracy');"
   ]
  },
  {
   "cell_type": "markdown",
   "id": "49174b55",
   "metadata": {},
   "source": [
    "### using the fixed train test split improved slightly and False Negative reduced reduced from 382 to 272.\n",
    "#### using OneHotEncoder on spn_fmi"
   ]
  },
  {
   "cell_type": "code",
   "execution_count": 253,
   "id": "48b4a034",
   "metadata": {},
   "outputs": [],
   "source": [
    "?OneHotEncoder"
   ]
  },
  {
   "cell_type": "code",
   "execution_count": 292,
   "id": "1c396c3f",
   "metadata": {},
   "outputs": [
    {
     "ename": "MemoryError",
     "evalue": "",
     "output_type": "error",
     "traceback": [
      "\u001b[1;31m---------------------------------------------------------------------------\u001b[0m",
      "\u001b[1;31mMemoryError\u001b[0m                               Traceback (most recent call last)",
      "Cell \u001b[1;32mIn[292], line 5\u001b[0m\n\u001b[0;32m      3\u001b[0m \u001b[38;5;28;01mfrom\u001b[39;00m \u001b[38;5;21;01msklearn\u001b[39;00m\u001b[38;5;21;01m.\u001b[39;00m\u001b[38;5;21;01mpreprocessing\u001b[39;00m \u001b[38;5;28;01mimport\u001b[39;00m OneHotEncoder\n\u001b[0;32m      4\u001b[0m \u001b[38;5;66;03m#step1\u001b[39;00m\n\u001b[1;32m----> 5\u001b[0m logReg_scaler_ohe \u001b[38;5;241m=\u001b[39m \u001b[43mPipeline\u001b[49m\u001b[43m(\u001b[49m\n\u001b[0;32m      6\u001b[0m \u001b[43m    \u001b[49m\u001b[43msteps\u001b[49m\u001b[43m \u001b[49m\u001b[38;5;241;43m=\u001b[39;49m\u001b[43m \u001b[49m\u001b[43m[\u001b[49m\n\u001b[0;32m      7\u001b[0m \u001b[43m        \u001b[49m\u001b[43m(\u001b[49m\u001b[38;5;124;43m'\u001b[39;49m\u001b[38;5;124;43mct\u001b[39;49m\u001b[38;5;124;43m'\u001b[39;49m\u001b[43m,\u001b[49m\u001b[43m \u001b[49m\u001b[43mColumnTransformer\u001b[49m\u001b[43m(\u001b[49m\n\u001b[0;32m      8\u001b[0m \u001b[43m            \u001b[49m\u001b[43mtransformers\u001b[49m\u001b[43m \u001b[49m\u001b[38;5;241;43m=\u001b[39;49m\u001b[43m \u001b[49m\u001b[43m[\u001b[49m\n\u001b[0;32m      9\u001b[0m \u001b[43m                \u001b[49m\u001b[43m(\u001b[49m\u001b[38;5;124;43m'\u001b[39;49m\u001b[38;5;124;43mohe\u001b[39;49m\u001b[38;5;124;43m'\u001b[39;49m\u001b[43m,\u001b[49m\u001b[43m \u001b[49m\u001b[43mOneHotEncoder\u001b[49m\u001b[43m(\u001b[49m\u001b[43msparse\u001b[49m\u001b[38;5;241;43m=\u001b[39;49m\u001b[38;5;28;43;01mFalse\u001b[39;49;00m\u001b[43m,\u001b[49m\u001b[43m \u001b[49m\n\u001b[0;32m     10\u001b[0m \u001b[43m                                     \u001b[49m\u001b[43mhandle_unknown\u001b[49m\u001b[38;5;241;43m=\u001b[39;49m\u001b[38;5;124;43m\"\u001b[39;49m\u001b[38;5;124;43mignore\u001b[39;49m\u001b[38;5;124;43m\"\u001b[39;49m\u001b[43m)\u001b[49m\u001b[43m,\u001b[49m\u001b[43m \u001b[49m\u001b[43m[\u001b[49m\u001b[38;5;124;43m'\u001b[39;49m\u001b[38;5;124;43mspn_fmi\u001b[39;49m\u001b[38;5;124;43m'\u001b[39;49m\u001b[43m]\u001b[49m\u001b[43m)\u001b[49m\u001b[43m]\u001b[49m\u001b[43m,\u001b[49m\u001b[43m \u001b[49m\u001b[43mremainder\u001b[49m\u001b[38;5;241;43m=\u001b[39;49m\u001b[38;5;124;43m'\u001b[39;49m\u001b[38;5;124;43mpassthrough\u001b[39;49m\u001b[38;5;124;43m'\u001b[39;49m\u001b[43m)\u001b[49m\u001b[43m)\u001b[49m\u001b[43m,\u001b[49m\n\u001b[0;32m     11\u001b[0m \u001b[43m                                                                      \u001b[49m\n\u001b[0;32m     12\u001b[0m \u001b[43m        \u001b[49m\u001b[43m(\u001b[49m\u001b[38;5;124;43m'\u001b[39;49m\u001b[38;5;124;43mimpute\u001b[39;49m\u001b[38;5;124;43m'\u001b[39;49m\u001b[43m,\u001b[49m\u001b[43m \u001b[49m\u001b[43mSimpleImputer\u001b[49m\u001b[43m(\u001b[49m\u001b[43m)\u001b[49m\u001b[43m)\u001b[49m\u001b[43m,\u001b[49m\u001b[43m \u001b[49m\u001b[38;5;66;43;03m#fills average of the column if there are NaN missing values\u001b[39;49;00m\n\u001b[0;32m     13\u001b[0m \u001b[43m        \u001b[49m\u001b[43m(\u001b[49m\u001b[38;5;124;43m'\u001b[39;49m\u001b[38;5;124;43mscaler\u001b[39;49m\u001b[38;5;124;43m'\u001b[39;49m\u001b[43m,\u001b[49m\u001b[43m \u001b[49m\u001b[43mStandardScaler\u001b[49m\u001b[43m(\u001b[49m\u001b[43m)\u001b[49m\u001b[43m)\u001b[49m\u001b[43m,\u001b[49m\n\u001b[0;32m     14\u001b[0m \u001b[43m        \u001b[49m\u001b[43m(\u001b[49m\u001b[38;5;124;43m'\u001b[39;49m\u001b[38;5;124;43mlog_reg\u001b[39;49m\u001b[38;5;124;43m'\u001b[39;49m\u001b[43m,\u001b[49m\u001b[43m \u001b[49m\u001b[43mLogisticRegression\u001b[49m\u001b[43m(\u001b[49m\u001b[43mC\u001b[49m\u001b[43m \u001b[49m\u001b[38;5;241;43m=\u001b[39;49m\u001b[43m \u001b[49m\u001b[38;5;241;43m0.01\u001b[39;49m\u001b[43m)\u001b[49m\u001b[43m)\u001b[49m\u001b[43m \u001b[49m\u001b[38;5;66;43;03m#started from 0.01, 0,001, \u001b[39;49;00m\n\u001b[0;32m     15\u001b[0m \u001b[43m    \u001b[49m\u001b[43m]\u001b[49m\n\u001b[0;32m     16\u001b[0m \u001b[43m)\u001b[49m\u001b[38;5;241;43m.\u001b[39;49m\u001b[43mfit\u001b[49m\u001b[43m(\u001b[49m\u001b[43mX_train1_short\u001b[49m\u001b[43m,\u001b[49m\u001b[43m \u001b[49m\u001b[43my_train1\u001b[49m\u001b[43m[\u001b[49m\u001b[38;5;124;43m'\u001b[39;49m\u001b[38;5;124;43mtarget\u001b[39;49m\u001b[38;5;124;43m'\u001b[39;49m\u001b[43m]\u001b[49m\u001b[43m)\u001b[49m\n",
      "File \u001b[1;32m~\\anaconda3\\envs\\mypycaret\\lib\\site-packages\\sklearn\\pipeline.py:401\u001b[0m, in \u001b[0;36mPipeline.fit\u001b[1;34m(self, X, y, **fit_params)\u001b[0m\n\u001b[0;32m    375\u001b[0m \u001b[38;5;124;03m\"\"\"Fit the model.\u001b[39;00m\n\u001b[0;32m    376\u001b[0m \n\u001b[0;32m    377\u001b[0m \u001b[38;5;124;03mFit all the transformers one after the other and transform the\u001b[39;00m\n\u001b[1;32m   (...)\u001b[0m\n\u001b[0;32m    398\u001b[0m \u001b[38;5;124;03m    Pipeline with fitted steps.\u001b[39;00m\n\u001b[0;32m    399\u001b[0m \u001b[38;5;124;03m\"\"\"\u001b[39;00m\n\u001b[0;32m    400\u001b[0m fit_params_steps \u001b[38;5;241m=\u001b[39m \u001b[38;5;28mself\u001b[39m\u001b[38;5;241m.\u001b[39m_check_fit_params(\u001b[38;5;241m*\u001b[39m\u001b[38;5;241m*\u001b[39mfit_params)\n\u001b[1;32m--> 401\u001b[0m Xt \u001b[38;5;241m=\u001b[39m \u001b[38;5;28mself\u001b[39m\u001b[38;5;241m.\u001b[39m_fit(X, y, \u001b[38;5;241m*\u001b[39m\u001b[38;5;241m*\u001b[39mfit_params_steps)\n\u001b[0;32m    402\u001b[0m \u001b[38;5;28;01mwith\u001b[39;00m _print_elapsed_time(\u001b[38;5;124m\"\u001b[39m\u001b[38;5;124mPipeline\u001b[39m\u001b[38;5;124m\"\u001b[39m, \u001b[38;5;28mself\u001b[39m\u001b[38;5;241m.\u001b[39m_log_message(\u001b[38;5;28mlen\u001b[39m(\u001b[38;5;28mself\u001b[39m\u001b[38;5;241m.\u001b[39msteps) \u001b[38;5;241m-\u001b[39m \u001b[38;5;241m1\u001b[39m)):\n\u001b[0;32m    403\u001b[0m     \u001b[38;5;28;01mif\u001b[39;00m \u001b[38;5;28mself\u001b[39m\u001b[38;5;241m.\u001b[39m_final_estimator \u001b[38;5;241m!=\u001b[39m \u001b[38;5;124m\"\u001b[39m\u001b[38;5;124mpassthrough\u001b[39m\u001b[38;5;124m\"\u001b[39m:\n",
      "File \u001b[1;32m~\\anaconda3\\envs\\mypycaret\\lib\\site-packages\\sklearn\\pipeline.py:359\u001b[0m, in \u001b[0;36mPipeline._fit\u001b[1;34m(self, X, y, **fit_params_steps)\u001b[0m\n\u001b[0;32m    357\u001b[0m     cloned_transformer \u001b[38;5;241m=\u001b[39m clone(transformer)\n\u001b[0;32m    358\u001b[0m \u001b[38;5;66;03m# Fit or load from cache the current transformer\u001b[39;00m\n\u001b[1;32m--> 359\u001b[0m X, fitted_transformer \u001b[38;5;241m=\u001b[39m fit_transform_one_cached(\n\u001b[0;32m    360\u001b[0m     cloned_transformer,\n\u001b[0;32m    361\u001b[0m     X,\n\u001b[0;32m    362\u001b[0m     y,\n\u001b[0;32m    363\u001b[0m     \u001b[38;5;28;01mNone\u001b[39;00m,\n\u001b[0;32m    364\u001b[0m     message_clsname\u001b[38;5;241m=\u001b[39m\u001b[38;5;124m\"\u001b[39m\u001b[38;5;124mPipeline\u001b[39m\u001b[38;5;124m\"\u001b[39m,\n\u001b[0;32m    365\u001b[0m     message\u001b[38;5;241m=\u001b[39m\u001b[38;5;28mself\u001b[39m\u001b[38;5;241m.\u001b[39m_log_message(step_idx),\n\u001b[0;32m    366\u001b[0m     \u001b[38;5;241m*\u001b[39m\u001b[38;5;241m*\u001b[39mfit_params_steps[name],\n\u001b[0;32m    367\u001b[0m )\n\u001b[0;32m    368\u001b[0m \u001b[38;5;66;03m# Replace the transformer of the step with the fitted\u001b[39;00m\n\u001b[0;32m    369\u001b[0m \u001b[38;5;66;03m# transformer. This is necessary when loading the transformer\u001b[39;00m\n\u001b[0;32m    370\u001b[0m \u001b[38;5;66;03m# from the cache.\u001b[39;00m\n\u001b[0;32m    371\u001b[0m \u001b[38;5;28mself\u001b[39m\u001b[38;5;241m.\u001b[39msteps[step_idx] \u001b[38;5;241m=\u001b[39m (name, fitted_transformer)\n",
      "File \u001b[1;32m~\\anaconda3\\envs\\mypycaret\\lib\\site-packages\\joblib\\memory.py:349\u001b[0m, in \u001b[0;36mNotMemorizedFunc.__call__\u001b[1;34m(self, *args, **kwargs)\u001b[0m\n\u001b[0;32m    348\u001b[0m \u001b[38;5;28;01mdef\u001b[39;00m \u001b[38;5;21m__call__\u001b[39m(\u001b[38;5;28mself\u001b[39m, \u001b[38;5;241m*\u001b[39margs, \u001b[38;5;241m*\u001b[39m\u001b[38;5;241m*\u001b[39mkwargs):\n\u001b[1;32m--> 349\u001b[0m     \u001b[38;5;28;01mreturn\u001b[39;00m \u001b[38;5;28mself\u001b[39m\u001b[38;5;241m.\u001b[39mfunc(\u001b[38;5;241m*\u001b[39margs, \u001b[38;5;241m*\u001b[39m\u001b[38;5;241m*\u001b[39mkwargs)\n",
      "File \u001b[1;32m~\\anaconda3\\envs\\mypycaret\\lib\\site-packages\\sklearn\\pipeline.py:893\u001b[0m, in \u001b[0;36m_fit_transform_one\u001b[1;34m(transformer, X, y, weight, message_clsname, message, **fit_params)\u001b[0m\n\u001b[0;32m    891\u001b[0m \u001b[38;5;28;01mwith\u001b[39;00m _print_elapsed_time(message_clsname, message):\n\u001b[0;32m    892\u001b[0m     \u001b[38;5;28;01mif\u001b[39;00m \u001b[38;5;28mhasattr\u001b[39m(transformer, \u001b[38;5;124m\"\u001b[39m\u001b[38;5;124mfit_transform\u001b[39m\u001b[38;5;124m\"\u001b[39m):\n\u001b[1;32m--> 893\u001b[0m         res \u001b[38;5;241m=\u001b[39m transformer\u001b[38;5;241m.\u001b[39mfit_transform(X, y, \u001b[38;5;241m*\u001b[39m\u001b[38;5;241m*\u001b[39mfit_params)\n\u001b[0;32m    894\u001b[0m     \u001b[38;5;28;01melse\u001b[39;00m:\n\u001b[0;32m    895\u001b[0m         res \u001b[38;5;241m=\u001b[39m transformer\u001b[38;5;241m.\u001b[39mfit(X, y, \u001b[38;5;241m*\u001b[39m\u001b[38;5;241m*\u001b[39mfit_params)\u001b[38;5;241m.\u001b[39mtransform(X)\n",
      "File \u001b[1;32m~\\anaconda3\\envs\\mypycaret\\lib\\site-packages\\sklearn\\utils\\_set_output.py:140\u001b[0m, in \u001b[0;36m_wrap_method_output.<locals>.wrapped\u001b[1;34m(self, X, *args, **kwargs)\u001b[0m\n\u001b[0;32m    138\u001b[0m \u001b[38;5;129m@wraps\u001b[39m(f)\n\u001b[0;32m    139\u001b[0m \u001b[38;5;28;01mdef\u001b[39;00m \u001b[38;5;21mwrapped\u001b[39m(\u001b[38;5;28mself\u001b[39m, X, \u001b[38;5;241m*\u001b[39margs, \u001b[38;5;241m*\u001b[39m\u001b[38;5;241m*\u001b[39mkwargs):\n\u001b[1;32m--> 140\u001b[0m     data_to_wrap \u001b[38;5;241m=\u001b[39m f(\u001b[38;5;28mself\u001b[39m, X, \u001b[38;5;241m*\u001b[39margs, \u001b[38;5;241m*\u001b[39m\u001b[38;5;241m*\u001b[39mkwargs)\n\u001b[0;32m    141\u001b[0m     \u001b[38;5;28;01mif\u001b[39;00m \u001b[38;5;28misinstance\u001b[39m(data_to_wrap, \u001b[38;5;28mtuple\u001b[39m):\n\u001b[0;32m    142\u001b[0m         \u001b[38;5;66;03m# only wrap the first output for cross decomposition\u001b[39;00m\n\u001b[0;32m    143\u001b[0m         \u001b[38;5;28;01mreturn\u001b[39;00m (\n\u001b[0;32m    144\u001b[0m             _wrap_data_with_container(method, data_to_wrap[\u001b[38;5;241m0\u001b[39m], X, \u001b[38;5;28mself\u001b[39m),\n\u001b[0;32m    145\u001b[0m             \u001b[38;5;241m*\u001b[39mdata_to_wrap[\u001b[38;5;241m1\u001b[39m:],\n\u001b[0;32m    146\u001b[0m         )\n",
      "File \u001b[1;32m~\\anaconda3\\envs\\mypycaret\\lib\\site-packages\\sklearn\\compose\\_column_transformer.py:751\u001b[0m, in \u001b[0;36mColumnTransformer.fit_transform\u001b[1;34m(self, X, y)\u001b[0m\n\u001b[0;32m    748\u001b[0m \u001b[38;5;28mself\u001b[39m\u001b[38;5;241m.\u001b[39m_validate_output(Xs)\n\u001b[0;32m    749\u001b[0m \u001b[38;5;28mself\u001b[39m\u001b[38;5;241m.\u001b[39m_record_output_indices(Xs)\n\u001b[1;32m--> 751\u001b[0m \u001b[38;5;28;01mreturn\u001b[39;00m \u001b[38;5;28;43mself\u001b[39;49m\u001b[38;5;241;43m.\u001b[39;49m\u001b[43m_hstack\u001b[49m\u001b[43m(\u001b[49m\u001b[38;5;28;43mlist\u001b[39;49m\u001b[43m(\u001b[49m\u001b[43mXs\u001b[49m\u001b[43m)\u001b[49m\u001b[43m)\u001b[49m\n",
      "File \u001b[1;32m~\\anaconda3\\envs\\mypycaret\\lib\\site-packages\\sklearn\\compose\\_column_transformer.py:868\u001b[0m, in \u001b[0;36mColumnTransformer._hstack\u001b[1;34m(self, Xs)\u001b[0m\n\u001b[0;32m    865\u001b[0m     output\u001b[38;5;241m.\u001b[39mcolumns \u001b[38;5;241m=\u001b[39m names_out\n\u001b[0;32m    866\u001b[0m     \u001b[38;5;28;01mreturn\u001b[39;00m output\n\u001b[1;32m--> 868\u001b[0m \u001b[38;5;28;01mreturn\u001b[39;00m \u001b[43mnp\u001b[49m\u001b[38;5;241;43m.\u001b[39;49m\u001b[43mhstack\u001b[49m\u001b[43m(\u001b[49m\u001b[43mXs\u001b[49m\u001b[43m)\u001b[49m\n",
      "File \u001b[1;32m<__array_function__ internals>:180\u001b[0m, in \u001b[0;36mhstack\u001b[1;34m(*args, **kwargs)\u001b[0m\n",
      "File \u001b[1;32m~\\anaconda3\\envs\\mypycaret\\lib\\site-packages\\numpy\\core\\shape_base.py:345\u001b[0m, in \u001b[0;36mhstack\u001b[1;34m(tup)\u001b[0m\n\u001b[0;32m    343\u001b[0m     \u001b[38;5;28;01mreturn\u001b[39;00m _nx\u001b[38;5;241m.\u001b[39mconcatenate(arrs, \u001b[38;5;241m0\u001b[39m)\n\u001b[0;32m    344\u001b[0m \u001b[38;5;28;01melse\u001b[39;00m:\n\u001b[1;32m--> 345\u001b[0m     \u001b[38;5;28;01mreturn\u001b[39;00m \u001b[43m_nx\u001b[49m\u001b[38;5;241;43m.\u001b[39;49m\u001b[43mconcatenate\u001b[49m\u001b[43m(\u001b[49m\u001b[43marrs\u001b[49m\u001b[43m,\u001b[49m\u001b[43m \u001b[49m\u001b[38;5;241;43m1\u001b[39;49m\u001b[43m)\u001b[49m\n",
      "File \u001b[1;32m<__array_function__ internals>:180\u001b[0m, in \u001b[0;36mconcatenate\u001b[1;34m(*args, **kwargs)\u001b[0m\n",
      "\u001b[1;31mMemoryError\u001b[0m: "
     ]
    }
   ],
   "source": [
    "#from sklearn.impute import SimpleImputer\n",
    "from sklearn.compose import ColumnTransformer\n",
    "from sklearn.preprocessing import OneHotEncoder\n",
    "#step1\n",
    "logReg_scaler_ohe = Pipeline(\n",
    "    steps = [\n",
    "        ('ct', ColumnTransformer(\n",
    "            transformers = [\n",
    "                ('ohe', OneHotEncoder(sparse=False, \n",
    "                                     handle_unknown=\"ignore\"), ['spn_fmi'])], remainder='passthrough')),\n",
    "                                                                      \n",
    "        ('impute', SimpleImputer()), #fills average of the column if there are NaN missing values\n",
    "        ('scaler', StandardScaler()),\n",
    "        ('log_reg', LogisticRegression(C = 0.01)) #started from 0.01, 0,001, \n",
    "    ]\n",
    ").fit(X_train1_short, y_train1['target'])"
   ]
  },
  {
   "cell_type": "code",
   "execution_count": 286,
   "id": "05743359",
   "metadata": {},
   "outputs": [],
   "source": [
    "ohe = logReg_scaler_ohe.predict(X_test1_short)"
   ]
  },
  {
   "cell_type": "code",
   "execution_count": 287,
   "id": "2a03b0ee",
   "metadata": {},
   "outputs": [
    {
     "data": {
      "text/plain": [
       "0.9985274749396357"
      ]
     },
     "execution_count": 287,
     "metadata": {},
     "output_type": "execute_result"
    }
   ],
   "source": [
    "accuracy_score(y_test1['target'], ohe)"
   ]
  },
  {
   "cell_type": "code",
   "execution_count": 288,
   "id": "2d474404",
   "metadata": {},
   "outputs": [
    {
     "data": {
      "text/plain": [
       "array([[109060,      4],\n",
       "       [   157,    115]], dtype=int64)"
      ]
     },
     "execution_count": 288,
     "metadata": {},
     "output_type": "execute_result"
    }
   ],
   "source": [
    "confusion_matrix(y_test1['target'], logReg_scaler_ohe.predict(X_test1_short))"
   ]
  },
  {
   "cell_type": "code",
   "execution_count": 289,
   "id": "7b352767",
   "metadata": {},
   "outputs": [
    {
     "data": {
      "image/png": "[encoded data removed]",
      "text/plain": [
       "<Figure size 600x600 with 1 Axes>"
      ]
     },
     "metadata": {},
     "output_type": "display_data"
    }
   ],
   "source": [
    "##step7 plotting matrix\n",
    "plot_confusion_matrix(y_test1['target'], logReg_scaler_ohe.predict(X_test1_short), labels = ['No_Derate(0)', 'Derate'], metric = 'accuracy');"
   ]
  },
  {
   "cell_type": "code",
   "execution_count": 290,
   "id": "cd3a8c90",
   "metadata": {},
   "outputs": [
    {
     "data": {
      "text/html": [
       "<div>\n",
       "<style scoped>\n",
       "    .dataframe tbody tr th:only-of-type {\n",
       "        vertical-align: middle;\n",
       "    }\n",
       "\n",
       "    .dataframe tbody tr th {\n",
       "        vertical-align: top;\n",
       "    }\n",
       "\n",
       "    .dataframe thead th {\n",
       "        text-align: right;\n",
       "    }\n",
       "</style>\n",
       "<table border=\"1\" class=\"dataframe\">\n",
       "  <thead>\n",
       "    <tr style=\"text-align: right;\">\n",
       "      <th></th>\n",
       "      <th>feature</th>\n",
       "      <th>coefficient</th>\n",
       "      <th>ex_coefficient</th>\n",
       "    </tr>\n",
       "  </thead>\n",
       "  <tbody>\n",
       "    <tr>\n",
       "      <th>919</th>\n",
       "      <td>ohe__spn_fmi_929_9</td>\n",
       "      <td>-0.251312</td>\n",
       "      <td>0.777780</td>\n",
       "    </tr>\n",
       "    <tr>\n",
       "      <th>893</th>\n",
       "      <td>ohe__spn_fmi_829_3</td>\n",
       "      <td>-0.099789</td>\n",
       "      <td>0.905028</td>\n",
       "    </tr>\n",
       "    <tr>\n",
       "      <th>947</th>\n",
       "      <td>ohe__spn_fmi_97_15</td>\n",
       "      <td>-0.089091</td>\n",
       "      <td>0.914762</td>\n",
       "    </tr>\n",
       "    <tr>\n",
       "      <th>949</th>\n",
       "      <td>ohe__spn_fmi_97_3</td>\n",
       "      <td>-0.063578</td>\n",
       "      <td>0.938401</td>\n",
       "    </tr>\n",
       "    <tr>\n",
       "      <th>559</th>\n",
       "      <td>ohe__spn_fmi_51923_0</td>\n",
       "      <td>-0.058184</td>\n",
       "      <td>0.943476</td>\n",
       "    </tr>\n",
       "    <tr>\n",
       "      <th>...</th>\n",
       "      <td>...</td>\n",
       "      <td>...</td>\n",
       "      <td>...</td>\n",
       "    </tr>\n",
       "    <tr>\n",
       "      <th>586</th>\n",
       "      <td>ohe__spn_fmi_5246_16</td>\n",
       "      <td>0.163377</td>\n",
       "      <td>1.177481</td>\n",
       "    </tr>\n",
       "    <tr>\n",
       "      <th>188</th>\n",
       "      <td>ohe__spn_fmi_1761_19</td>\n",
       "      <td>0.164688</td>\n",
       "      <td>1.179025</td>\n",
       "    </tr>\n",
       "    <tr>\n",
       "      <th>50</th>\n",
       "      <td>ohe__spn_fmi_1068_2</td>\n",
       "      <td>0.190217</td>\n",
       "      <td>1.209511</td>\n",
       "    </tr>\n",
       "    <tr>\n",
       "      <th>583</th>\n",
       "      <td>ohe__spn_fmi_5246_0</td>\n",
       "      <td>0.328008</td>\n",
       "      <td>1.388201</td>\n",
       "    </tr>\n",
       "    <tr>\n",
       "      <th>138</th>\n",
       "      <td>ohe__spn_fmi_1569_31</td>\n",
       "      <td>0.458046</td>\n",
       "      <td>1.580982</td>\n",
       "    </tr>\n",
       "  </tbody>\n",
       "</table>\n",
       "<p>953 rows × 3 columns</p>\n",
       "</div>"
      ],
      "text/plain": [
       "                  feature  coefficient  ex_coefficient\n",
       "919    ohe__spn_fmi_929_9    -0.251312        0.777780\n",
       "893    ohe__spn_fmi_829_3    -0.099789        0.905028\n",
       "947    ohe__spn_fmi_97_15    -0.089091        0.914762\n",
       "949     ohe__spn_fmi_97_3    -0.063578        0.938401\n",
       "559  ohe__spn_fmi_51923_0    -0.058184        0.943476\n",
       "..                    ...          ...             ...\n",
       "586  ohe__spn_fmi_5246_16     0.163377        1.177481\n",
       "188  ohe__spn_fmi_1761_19     0.164688        1.179025\n",
       "50    ohe__spn_fmi_1068_2     0.190217        1.209511\n",
       "583   ohe__spn_fmi_5246_0     0.328008        1.388201\n",
       "138  ohe__spn_fmi_1569_31     0.458046        1.580982\n",
       "\n",
       "[953 rows x 3 columns]"
      ]
     },
     "execution_count": 290,
     "metadata": {},
     "output_type": "execute_result"
    }
   ],
   "source": [
    "#step5\n",
    "#extracting the features\n",
    "pd.DataFrame({'feature': logReg_scaler_ohe['ct'].get_feature_names_out(),\n",
    "                             'coefficient': logReg_scaler_ohe['log_reg'].coef_[0],\n",
    "             \"ex_coefficient\": np.exp(logReg_scaler_ohe['log_reg'].coef_[0])}).sort_values(by='coefficient')\n",
    "#every drop in the x-feature affects the predicted probability by the ex_coefficient"
   ]
  },
  {
   "cell_type": "code",
   "execution_count": 229,
   "id": "300c4776",
   "metadata": {},
   "outputs": [
    {
     "data": {
      "text/plain": [
       "(139945, 460)"
      ]
     },
     "execution_count": 229,
     "metadata": {},
     "output_type": "execute_result"
    }
   ],
   "source": [
    "X_train_derate.shape #\n",
    "(139945, 460)"
   ]
  },
  {
   "cell_type": "code",
   "execution_count": 231,
   "id": "10474ef5",
   "metadata": {},
   "outputs": [
    {
     "data": {
      "text/plain": [
       "Timedelta('1840 days 18:29:05')"
      ]
     },
     "execution_count": 231,
     "metadata": {},
     "output_type": "execute_result"
    }
   ],
   "source": [
    "((X_train_derate['EventTimeStamp'].max())-X_train_derate['EventTimeStamp'].min()) #the entire data spans over 1840 days"
   ]
  },
  {
   "cell_type": "code",
   "execution_count": 279,
   "id": "6bf57404",
   "metadata": {},
   "outputs": [
    {
     "data": {
      "text/plain": [
       "<Axes: xlabel='EquipmentID_x'>"
      ]
     },
     "execution_count": 279,
     "metadata": {},
     "output_type": "execute_result"
    },
    {
     "data": {
      "image/png": "[encoded data removed]",
      "text/plain": [
       "<Figure size 800x550 with 1 Axes>"
      ]
     },
     "metadata": {},
     "output_type": "display_data"
    }
   ],
   "source": [
    "((X_train_derate.groupby('EquipmentID_x')['EventTimeStamp'].max())-\n",
    " (X_train_derate.groupby('EquipmentID_x')['EventTimeStamp'].min())).to_frame().sort_values('EventTimeStamp',\n",
    "                                                                                           ascending=False).plot()"
   ]
  },
  {
   "cell_type": "code",
   "execution_count": 246,
   "id": "c0be9f8e",
   "metadata": {},
   "outputs": [
    {
     "ename": "TypeError",
     "evalue": "The DType <class 'numpy.dtype[float64]'> could not be promoted by <class 'numpy.dtype[timedelta64]'>. This means that no common DType exists for the given inputs. For example they cannot be stored in a single array unless the dtype is `object`. The full list of DTypes is: (<class 'numpy.dtype[float64]'>, <class 'numpy.dtype[timedelta64]'>)",
     "output_type": "error",
     "traceback": [
      "\u001b[1;31m---------------------------------------------------------------------------\u001b[0m",
      "\u001b[1;31mTypeError\u001b[0m                                 Traceback (most recent call last)",
      "Cell \u001b[1;32mIn[246], line 12\u001b[0m\n\u001b[0;32m      9\u001b[0m \u001b[38;5;66;03m# plot\u001b[39;00m\n\u001b[0;32m     10\u001b[0m fig, ax \u001b[38;5;241m=\u001b[39m plt\u001b[38;5;241m.\u001b[39msubplots()\n\u001b[1;32m---> 12\u001b[0m \u001b[43max\u001b[49m\u001b[38;5;241;43m.\u001b[39;49m\u001b[43mscatter\u001b[49m\u001b[43m(\u001b[49m\u001b[43mx\u001b[49m\u001b[43m,\u001b[49m\u001b[43m \u001b[49m\u001b[43my\u001b[49m\u001b[43m,\u001b[49m\u001b[43m \u001b[49m\u001b[43ms\u001b[49m\u001b[38;5;241;43m=\u001b[39;49m\u001b[43msizes\u001b[49m\u001b[43m,\u001b[49m\u001b[43m \u001b[49m\u001b[43mc\u001b[49m\u001b[38;5;241;43m=\u001b[39;49m\u001b[43mcolors\u001b[49m\u001b[43m,\u001b[49m\u001b[43m \u001b[49m\u001b[43mvmin\u001b[49m\u001b[38;5;241;43m=\u001b[39;49m\u001b[38;5;241;43m0\u001b[39;49m\u001b[43m,\u001b[49m\u001b[43m \u001b[49m\u001b[43mvmax\u001b[49m\u001b[38;5;241;43m=\u001b[39;49m\u001b[38;5;241;43m100\u001b[39;49m\u001b[43m)\u001b[49m\n\u001b[0;32m     14\u001b[0m ax\u001b[38;5;241m.\u001b[39mset(xlim\u001b[38;5;241m=\u001b[39m(\u001b[38;5;241m0\u001b[39m, \u001b[38;5;241m8\u001b[39m), xticks\u001b[38;5;241m=\u001b[39mnp\u001b[38;5;241m.\u001b[39marange(\u001b[38;5;241m1\u001b[39m, \u001b[38;5;241m8\u001b[39m),\n\u001b[0;32m     15\u001b[0m        ylim\u001b[38;5;241m=\u001b[39m(\u001b[38;5;241m0\u001b[39m, \u001b[38;5;241m8\u001b[39m), yticks\u001b[38;5;241m=\u001b[39mnp\u001b[38;5;241m.\u001b[39marange(\u001b[38;5;241m1\u001b[39m, \u001b[38;5;241m8\u001b[39m))\n\u001b[0;32m     17\u001b[0m plt\u001b[38;5;241m.\u001b[39mshow()\n",
      "File \u001b[1;32m~\\anaconda3\\envs\\mypycaret\\lib\\site-packages\\matplotlib\\__init__.py:1442\u001b[0m, in \u001b[0;36m_preprocess_data.<locals>.inner\u001b[1;34m(ax, data, *args, **kwargs)\u001b[0m\n\u001b[0;32m   1439\u001b[0m \u001b[38;5;129m@functools\u001b[39m\u001b[38;5;241m.\u001b[39mwraps(func)\n\u001b[0;32m   1440\u001b[0m \u001b[38;5;28;01mdef\u001b[39;00m \u001b[38;5;21minner\u001b[39m(ax, \u001b[38;5;241m*\u001b[39margs, data\u001b[38;5;241m=\u001b[39m\u001b[38;5;28;01mNone\u001b[39;00m, \u001b[38;5;241m*\u001b[39m\u001b[38;5;241m*\u001b[39mkwargs):\n\u001b[0;32m   1441\u001b[0m     \u001b[38;5;28;01mif\u001b[39;00m data \u001b[38;5;129;01mis\u001b[39;00m \u001b[38;5;28;01mNone\u001b[39;00m:\n\u001b[1;32m-> 1442\u001b[0m         \u001b[38;5;28;01mreturn\u001b[39;00m func(ax, \u001b[38;5;241m*\u001b[39m\u001b[38;5;28mmap\u001b[39m(sanitize_sequence, args), \u001b[38;5;241m*\u001b[39m\u001b[38;5;241m*\u001b[39mkwargs)\n\u001b[0;32m   1444\u001b[0m     bound \u001b[38;5;241m=\u001b[39m new_sig\u001b[38;5;241m.\u001b[39mbind(ax, \u001b[38;5;241m*\u001b[39margs, \u001b[38;5;241m*\u001b[39m\u001b[38;5;241m*\u001b[39mkwargs)\n\u001b[0;32m   1445\u001b[0m     auto_label \u001b[38;5;241m=\u001b[39m (bound\u001b[38;5;241m.\u001b[39marguments\u001b[38;5;241m.\u001b[39mget(label_namer)\n\u001b[0;32m   1446\u001b[0m                   \u001b[38;5;129;01mor\u001b[39;00m bound\u001b[38;5;241m.\u001b[39mkwargs\u001b[38;5;241m.\u001b[39mget(label_namer))\n",
      "File \u001b[1;32m~\\anaconda3\\envs\\mypycaret\\lib\\site-packages\\matplotlib\\axes\\_axes.py:4671\u001b[0m, in \u001b[0;36mAxes.scatter\u001b[1;34m(self, x, y, s, c, marker, cmap, norm, vmin, vmax, alpha, linewidths, edgecolors, plotnonfinite, **kwargs)\u001b[0m\n\u001b[0;32m   4666\u001b[0m     \u001b[38;5;28;01melif\u001b[39;00m np\u001b[38;5;241m.\u001b[39miterable(linewidths):\n\u001b[0;32m   4667\u001b[0m         linewidths \u001b[38;5;241m=\u001b[39m [\n\u001b[0;32m   4668\u001b[0m             lw \u001b[38;5;28;01mif\u001b[39;00m lw \u001b[38;5;129;01mis\u001b[39;00m \u001b[38;5;129;01mnot\u001b[39;00m \u001b[38;5;28;01mNone\u001b[39;00m \u001b[38;5;28;01melse\u001b[39;00m mpl\u001b[38;5;241m.\u001b[39mrcParams[\u001b[38;5;124m'\u001b[39m\u001b[38;5;124mlines.linewidth\u001b[39m\u001b[38;5;124m'\u001b[39m]\n\u001b[0;32m   4669\u001b[0m             \u001b[38;5;28;01mfor\u001b[39;00m lw \u001b[38;5;129;01min\u001b[39;00m linewidths]\n\u001b[1;32m-> 4671\u001b[0m offsets \u001b[38;5;241m=\u001b[39m \u001b[43mnp\u001b[49m\u001b[38;5;241;43m.\u001b[39;49m\u001b[43mma\u001b[49m\u001b[38;5;241;43m.\u001b[39;49m\u001b[43mcolumn_stack\u001b[49m\u001b[43m(\u001b[49m\u001b[43m[\u001b[49m\u001b[43mx\u001b[49m\u001b[43m,\u001b[49m\u001b[43m \u001b[49m\u001b[43my\u001b[49m\u001b[43m]\u001b[49m\u001b[43m)\u001b[49m\n\u001b[0;32m   4673\u001b[0m collection \u001b[38;5;241m=\u001b[39m mcoll\u001b[38;5;241m.\u001b[39mPathCollection(\n\u001b[0;32m   4674\u001b[0m     (path,), scales,\n\u001b[0;32m   4675\u001b[0m     facecolors\u001b[38;5;241m=\u001b[39mcolors,\n\u001b[1;32m   (...)\u001b[0m\n\u001b[0;32m   4680\u001b[0m     alpha\u001b[38;5;241m=\u001b[39malpha,\n\u001b[0;32m   4681\u001b[0m )\n\u001b[0;32m   4682\u001b[0m collection\u001b[38;5;241m.\u001b[39mset_transform(mtransforms\u001b[38;5;241m.\u001b[39mIdentityTransform())\n",
      "File \u001b[1;32m~\\anaconda3\\envs\\mypycaret\\lib\\site-packages\\numpy\\ma\\extras.py:290\u001b[0m, in \u001b[0;36m_fromnxfunction_seq.__call__\u001b[1;34m(self, x, *args, **params)\u001b[0m\n\u001b[0;32m    288\u001b[0m \u001b[38;5;28;01mdef\u001b[39;00m \u001b[38;5;21m__call__\u001b[39m(\u001b[38;5;28mself\u001b[39m, x, \u001b[38;5;241m*\u001b[39margs, \u001b[38;5;241m*\u001b[39m\u001b[38;5;241m*\u001b[39mparams):\n\u001b[0;32m    289\u001b[0m     func \u001b[38;5;241m=\u001b[39m \u001b[38;5;28mgetattr\u001b[39m(np, \u001b[38;5;28mself\u001b[39m\u001b[38;5;241m.\u001b[39m\u001b[38;5;18m__name__\u001b[39m)\n\u001b[1;32m--> 290\u001b[0m     _d \u001b[38;5;241m=\u001b[39m func(\u001b[38;5;28mtuple\u001b[39m([np\u001b[38;5;241m.\u001b[39masarray(a) \u001b[38;5;28;01mfor\u001b[39;00m a \u001b[38;5;129;01min\u001b[39;00m x]), \u001b[38;5;241m*\u001b[39margs, \u001b[38;5;241m*\u001b[39m\u001b[38;5;241m*\u001b[39mparams)\n\u001b[0;32m    291\u001b[0m     _m \u001b[38;5;241m=\u001b[39m func(\u001b[38;5;28mtuple\u001b[39m([getmaskarray(a) \u001b[38;5;28;01mfor\u001b[39;00m a \u001b[38;5;129;01min\u001b[39;00m x]), \u001b[38;5;241m*\u001b[39margs, \u001b[38;5;241m*\u001b[39m\u001b[38;5;241m*\u001b[39mparams)\n\u001b[0;32m    292\u001b[0m     \u001b[38;5;28;01mreturn\u001b[39;00m masked_array(_d, mask\u001b[38;5;241m=\u001b[39m_m)\n",
      "File \u001b[1;32m<__array_function__ internals>:180\u001b[0m, in \u001b[0;36mcolumn_stack\u001b[1;34m(*args, **kwargs)\u001b[0m\n",
      "File \u001b[1;32m~\\anaconda3\\envs\\mypycaret\\lib\\site-packages\\numpy\\lib\\shape_base.py:656\u001b[0m, in \u001b[0;36mcolumn_stack\u001b[1;34m(tup)\u001b[0m\n\u001b[0;32m    654\u001b[0m         arr \u001b[38;5;241m=\u001b[39m array(arr, copy\u001b[38;5;241m=\u001b[39m\u001b[38;5;28;01mFalse\u001b[39;00m, subok\u001b[38;5;241m=\u001b[39m\u001b[38;5;28;01mTrue\u001b[39;00m, ndmin\u001b[38;5;241m=\u001b[39m\u001b[38;5;241m2\u001b[39m)\u001b[38;5;241m.\u001b[39mT\n\u001b[0;32m    655\u001b[0m     arrays\u001b[38;5;241m.\u001b[39mappend(arr)\n\u001b[1;32m--> 656\u001b[0m \u001b[38;5;28;01mreturn\u001b[39;00m \u001b[43m_nx\u001b[49m\u001b[38;5;241;43m.\u001b[39;49m\u001b[43mconcatenate\u001b[49m\u001b[43m(\u001b[49m\u001b[43marrays\u001b[49m\u001b[43m,\u001b[49m\u001b[43m \u001b[49m\u001b[38;5;241;43m1\u001b[39;49m\u001b[43m)\u001b[49m\n",
      "File \u001b[1;32m<__array_function__ internals>:180\u001b[0m, in \u001b[0;36mconcatenate\u001b[1;34m(*args, **kwargs)\u001b[0m\n",
      "\u001b[1;31mTypeError\u001b[0m: The DType <class 'numpy.dtype[float64]'> could not be promoted by <class 'numpy.dtype[timedelta64]'>. This means that no common DType exists for the given inputs. For example they cannot be stored in a single array unless the dtype is `object`. The full list of DTypes is: (<class 'numpy.dtype[float64]'>, <class 'numpy.dtype[timedelta64]'>)"
     ]
    },
    {
     "data": {
      "image/png": "[encoded data removed]",
      "text/plain": [
       "<Figure size 800x550 with 1 Axes>"
      ]
     },
     "metadata": {},
     "output_type": "display_data"
    }
   ],
   "source": [
    "# size and color:\n",
    "sizes = np.random.uniform(15, 80, len(x))\n",
    "colors = np.random.uniform(15, 80, len(x))\n",
    "\n",
    "y = ((X_train_derate.groupby('EquipmentID_x')['EventTimeStamp'].max())-\n",
    " (X_train_derate.groupby('EquipmentID_x')['EventTimeStamp'].min()))\n",
    "x = X_train_derate['EquipmentID_x'].unique()\n",
    "\n",
    "# plot\n",
    "fig, ax = plt.subplots()\n",
    "\n",
    "ax.scatter(x, y, s=sizes, c=colors, vmin=0, vmax=100)\n",
    "\n",
    "ax.set(xlim=(0, 8), xticks=np.arange(1, 8),\n",
    "       ylim=(0, 8), yticks=np.arange(1, 8))\n",
    "\n",
    "plt.show()"
   ]
  },
  {
   "cell_type": "code",
   "execution_count": null,
   "id": "00917998",
   "metadata": {},
   "outputs": [],
   "source": [
    "#Using Pearson Correlation\n",
    "plt.figure(figsize=(12,10))\n",
    "cor = df.corr()\n",
    "sns.heatmap(cor, annot=True, cmap=plt.cm.Reds)\n",
    "plt.show()"
   ]
  }
 ],
 "metadata": {
  "kernelspec": {
   "display_name": "pybigg",
   "language": "python",
   "name": "mypycaret"
  },
  "language_info": {
   "codemirror_mode": {
    "name": "ipython",
    "version": 3
   },
   "file_extension": ".py",
   "mimetype": "text/x-python",
   "name": "python",
   "nbconvert_exporter": "python",
   "pygments_lexer": "ipython3",
   "version": "3.9.2"
  }
 },
 "nbformat": 4,
 "nbformat_minor": 5
}
