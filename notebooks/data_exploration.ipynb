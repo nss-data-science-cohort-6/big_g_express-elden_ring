{
 "cells": [
  {
   "attachments": {},
   "cell_type": "markdown",
   "metadata": {},
   "source": [
    "# Big G Express - Data Exploration\n",
    "\n",
    "## Team: Elden Ring"
   ]
  },
  {
   "attachments": {},
   "cell_type": "markdown",
   "metadata": {},
   "source": [
    "<img src=\"https://eldenring.wiki.fextralife.com/file/Elden-Ring/mirel_pastor_of_vow.jpg\" alt=\"PRAISE DOG\" style=\"width:806px;height:600px;\"/>\n",
    "\n",
    "#### PRAISE THE DOG!"
   ]
  },
  {
   "cell_type": "code",
   "execution_count": 1,
   "metadata": {},
   "outputs": [],
   "source": [
    "import pandas as pd\n",
    "import numpy as np\n",
    "from datetime import datetime\n",
    "from sklearn.feature_selection import chi2"
   ]
  },
  {
   "cell_type": "code",
   "execution_count": 2,
   "metadata": {},
   "outputs": [
    {
     "name": "stderr",
     "output_type": "stream",
     "text": [
      "/Users/tomoumer/opt/anaconda3/lib/python3.9/site-packages/openpyxl/worksheet/_read_only.py:79: UserWarning: Data Validation extension is not supported and will be removed\n",
      "  for idx, row in parser.parse():\n"
     ]
    }
   ],
   "source": [
    "faults = pd.read_csv('../data/J1939Faults.csv', low_memory=False, parse_dates=['EventTimeStamp', 'LocationTimeStamp']) #index_col='EventTimeStamp'\n",
    "service_fault = pd.read_excel('../data/Service Fault Codes_1_0_0_167.xlsx')\n",
    "vehicle_diagnostic = pd.read_csv('../data/VehicleDiagnosticOnboardData.csv')\n"
   ]
  },
  {
   "attachments": {},
   "cell_type": "markdown",
   "metadata": {},
   "source": [
    "Few keyponts from questions to Josh Treet: \n",
    "- throw 2011 dates and older out, mistake with an integer overflow that took a few days to correct\n",
    "- any time being able to predict a derate is great (even just a few hours)\n",
    "- derates are going to be related to emissions conditions\n",
    "- coolant level codes (and some others) can often flip between on and off\n",
    "- derate + light continuing to be on, it's the same event (a pulse of it)\n",
    "- spn + fmi together determine the fault code\n",
    "- most trucks fairly similar/same (within like 4 years)\n",
    "- maybe costs about $500 if misspredicted potential derate "
   ]
  },
  {
   "attachments": {},
   "cell_type": "markdown",
   "metadata": {},
   "source": [
    "## Exploratory Data Analysis"
   ]
  },
  {
   "cell_type": "code",
   "execution_count": 3,
   "metadata": {},
   "outputs": [
    {
     "name": "stdout",
     "output_type": "stream",
     "text": [
      "(1187335, 20)\n",
      "(7124, 14)\n",
      "(12821626, 4)\n"
     ]
    }
   ],
   "source": [
    "print(faults.shape)\n",
    "print(service_fault.shape)\n",
    "print(vehicle_diagnostic.shape)"
   ]
  },
  {
   "attachments": {},
   "cell_type": "markdown",
   "metadata": {},
   "source": [
    "## Filtering out Data"
   ]
  },
  {
   "attachments": {},
   "cell_type": "markdown",
   "metadata": {},
   "source": [
    "Faults joins to vehicle_diagnostic with RecordID = FaultID\n",
    "\n",
    "Also, columns actionDescription and faultValue in the faults are unused.\n",
    "\n",
    "`faults['actionDescription'].isna().sum()`\n",
    "\n",
    "We also remove 2169 EquipmentID that have more than 5 characters"
   ]
  },
  {
   "cell_type": "code",
   "execution_count": 4,
   "metadata": {},
   "outputs": [],
   "source": [
    "faults = (\n",
    "    faults.drop(['actionDescription', 'faultValue'], axis=1)\n",
    "    [faults['EquipmentID'].str.len() <= 5]\n",
    ")"
   ]
  },
  {
   "attachments": {},
   "cell_type": "markdown",
   "metadata": {},
   "source": [
    "There are three service locations that appear in the dataset. The fault signals might be going on and off there. In order to eliminate those counts, we check if the Latitutde and Longitude coordinates of the truck are within 0.01 units (in both Lat and Long directions) next to a service location. The 0.01 represent, roughly, the distance of a mile.\n",
    "\n",
    "Doing so, we eliminate 131778 events."
   ]
  },
  {
   "cell_type": "code",
   "execution_count": 5,
   "metadata": {},
   "outputs": [],
   "source": [
    "for lat, lon in [(36.0666667, -86.4347222), (35.5883333, -86.4438888), (36.1950, -83.174722)]:\n",
    "    \n",
    "    faults = faults.loc[~((abs(lat - faults['Latitude']) <= 0.01) &\n",
    "                          (abs(lon - faults['Longitude']) <= 0.01))]"
   ]
  },
  {
   "attachments": {},
   "cell_type": "markdown",
   "metadata": {},
   "source": [
    "Also filter out all erroneous years, 2011 or earlier, (394 lines), caused by an integer error"
   ]
  },
  {
   "cell_type": "code",
   "execution_count": 6,
   "metadata": {},
   "outputs": [],
   "source": [
    "faults = faults.loc[faults['EventTimeStamp'].dt.year > 2011]"
   ]
  },
  {
   "attachments": {},
   "cell_type": "markdown",
   "metadata": {},
   "source": [
    "Finally, remove the rows where 'active' column is False -> those represent where an indicator was turned off (506690) rows.\n",
    "\n",
    "So we end up with 546674 rows in faults."
   ]
  },
  {
   "cell_type": "code",
   "execution_count": 7,
   "metadata": {},
   "outputs": [],
   "source": [
    "faults = faults.loc[faults['active'] == True]"
   ]
  },
  {
   "attachments": {},
   "cell_type": "markdown",
   "metadata": {},
   "source": [
    "## Modifying faults into rolling window"
   ]
  },
  {
   "attachments": {},
   "cell_type": "markdown",
   "metadata": {},
   "source": [
    "Next, combine the spn and fmi columns together in order to get them ready to one hot encode and use in the rolling window.\n",
    "\n",
    "> note: need to order by event time stamp in order to use the rolling window later"
   ]
  },
  {
   "cell_type": "code",
   "execution_count": 8,
   "metadata": {},
   "outputs": [],
   "source": [
    "faults['spn_fmi'] = ['_'.join(i) for i in zip(faults['spn'].astype(str), faults['fmi'].astype(str))]\n",
    "\n",
    "faults_encoded = pd.get_dummies(faults, columns=['spn_fmi'], prefix='spn_fmi')\n",
    "\n",
    "faults_encoded = faults_encoded.sort_values(by='EventTimeStamp')"
   ]
  },
  {
   "cell_type": "code",
   "execution_count": 11,
   "metadata": {},
   "outputs": [],
   "source": [
    "# to obtain the one hot encoded columns since there are so many\n",
    "spnfmi_cols = [col for col in faults_encoded.columns if 'spn_fmi' in col]\n",
    "fixed_cols = ['spn', 'fmi']"
   ]
  },
  {
   "cell_type": "code",
   "execution_count": 12,
   "metadata": {},
   "outputs": [],
   "source": [
    "# for some reason, the agg function with sum works without grouping by;\n",
    "# but when added the groupby, it just keeps running without being able to complete\n",
    "\n",
    "# d1 = dict.fromkeys(fixed_cols, lambda x: x[-1]) #this function gets the last value in group!\n",
    "# d2 = dict.fromkeys(spnfmi_cols, 'sum')\n",
    "\n",
    "# d = {**d1, **d2}\n",
    "\n",
    "# faults_encoded.groupby('EquipmentID')[['EventTimeStamp'] + fixed_cols + spnfmi_cols].rolling(window = '1d', on = \"EventTimeStamp\").agg(d)"
   ]
  },
  {
   "attachments": {},
   "cell_type": "markdown",
   "metadata": {},
   "source": [
    "Using the groupby (for each truck) and rolling window on top of that:"
   ]
  },
  {
   "cell_type": "code",
   "execution_count": 13,
   "metadata": {},
   "outputs": [],
   "source": [
    "faults_rolling = (\n",
    "    faults_encoded\n",
    "    .groupby('EquipmentID')[['EventTimeStamp'] + spnfmi_cols]\n",
    "    .rolling(window = '6h', on = \"EventTimeStamp\")\n",
    "    .sum() # originally had 1d\n",
    ")\n",
    "\n",
    "faults_rolling = faults_rolling.reset_index()"
   ]
  },
  {
   "cell_type": "code",
   "execution_count": 14,
   "metadata": {},
   "outputs": [],
   "source": [
    "# to bring in back the spn and fmi information - this was an alternative since the arg made the kernel crash!\n",
    "faults_rolling = pd.merge(faults_encoded[fixed_cols],\n",
    "                          faults_rolling,\n",
    "                          left_index= True,\n",
    "                          right_on = 'level_1').drop(columns='level_1')"
   ]
  },
  {
   "attachments": {},
   "cell_type": "markdown",
   "metadata": {},
   "source": [
    "randomly sampling 1000 rows of past 24 hrs. we see that the most common fault are:\n",
    "- 111-17, coolant level below normal, low severity\n",
    "- 929-9, abnormal update? rate tire location\n",
    "- 96-3, high voltage in fuel level\n",
    "- 829-3, high voltage left fuel level\n",
    "- 596-31, Condition Exists Cruise Control Enable Switch\n",
    "- 111-18, Low engine coolant level detected, med severity\n",
    "- 51923-0, ???????????\n",
    "- 4096-0, High (Severity High) NOx limits exceeded due t....\n",
    "- 97-15, High (Severity Low) Water In Fuel Indicator; Water has been detected in the fuel filter.\n",
    "- 639-2, Incorrect Data J1939 Network #1; The ECM has a communication error.\n",
    "- 629-12, ECM power supply errors / ECM error / ECM data lost\n",
    "- 2863-7, Not Reporting Data Front Operator Wiper Switch, \n",
    "- 1068-2, Incorrect Data Brake Signal Sensor 2, \n",
    "- 50353_0, ??????\n",
    "- 1807_2, Incorrect Data Steering Wheel Angle\n",
    "- 807_5, Low Current Dif 2 - ASR Valve\n",
    "- 611_14, Special Instructions System Diagnostic Code #1\n",
    "- 0_0, ???\n",
    "- 4276_0, ???\n",
    "- 412_0, High (Severity High) Engine Exhaust Gas Recirc...; The EGR temperature sensor indicates that the\n",
    "\n"
   ]
  },
  {
   "attachments": {},
   "cell_type": "markdown",
   "metadata": {},
   "source": [
    "Some events we couldn't find the description for.\n",
    "\n",
    "Now onto figuring out which SPN and FMI might be useful for predicting a derate. the logic here is to randomly sample rows and compare the frequency of codes present there, with respect of the frequency of codes present where a derate occured."
   ]
  },
  {
   "cell_type": "code",
   "execution_count": 15,
   "metadata": {},
   "outputs": [],
   "source": [
    "sample_codes = (\n",
    "    faults_rolling\n",
    "        .sample(5000)\n",
    "        .drop(columns=['EventTimeStamp','EquipmentID','spn', 'fmi'])\n",
    "        .sum()\n",
    ")\n",
    "\n",
    "# 928 rows have derate as current event\n",
    "derate_codes = (\n",
    "    faults_rolling\n",
    "        .loc[faults_rolling['spn'] == 5246]\n",
    "        .drop(columns=['EventTimeStamp','EquipmentID','spn', 'fmi'])\n",
    "        .sum()\n",
    ")\n",
    "\n",
    "code_differences = (derate_codes / derate_codes.sum()) - (sample_codes / sample_codes.sum())"
   ]
  },
  {
   "cell_type": "code",
   "execution_count": 16,
   "metadata": {},
   "outputs": [],
   "source": [
    "# note 5246 are all derates ... .sort_values(ascending=False).head(20)\n",
    "code_differences = (\n",
    "    code_differences\n",
    "    .to_frame()\n",
    "    .reset_index()\n",
    "    .rename(columns={'index': 'spn_fmi', 0:'rel_frequency'})\n",
    ")\n",
    "\n",
    "# I did it kinda backwards; these need to be eliminated earlier\n",
    "code_differences = code_differences.loc[~code_differences['spn_fmi'].str.contains('5246')]"
   ]
  },
  {
   "cell_type": "code",
   "execution_count": 17,
   "metadata": {},
   "outputs": [
    {
     "data": {
      "text/html": [
       "<div>\n",
       "<style scoped>\n",
       "    .dataframe tbody tr th:only-of-type {\n",
       "        vertical-align: middle;\n",
       "    }\n",
       "\n",
       "    .dataframe tbody tr th {\n",
       "        vertical-align: top;\n",
       "    }\n",
       "\n",
       "    .dataframe thead th {\n",
       "        text-align: right;\n",
       "    }\n",
       "</style>\n",
       "<table border=\"1\" class=\"dataframe\">\n",
       "  <thead>\n",
       "    <tr style=\"text-align: right;\">\n",
       "      <th></th>\n",
       "      <th>spn_fmi</th>\n",
       "      <th>rel_frequency</th>\n",
       "    </tr>\n",
       "  </thead>\n",
       "  <tbody>\n",
       "    <tr>\n",
       "      <th>142</th>\n",
       "      <td>spn_fmi_1569_31</td>\n",
       "      <td>0.115231</td>\n",
       "    </tr>\n",
       "    <tr>\n",
       "      <th>446</th>\n",
       "      <td>spn_fmi_4094_18</td>\n",
       "      <td>0.049594</td>\n",
       "    </tr>\n",
       "    <tr>\n",
       "      <th>617</th>\n",
       "      <td>spn_fmi_5394_17</td>\n",
       "      <td>0.022633</td>\n",
       "    </tr>\n",
       "    <tr>\n",
       "      <th>368</th>\n",
       "      <td>spn_fmi_3362_31</td>\n",
       "      <td>0.020105</td>\n",
       "    </tr>\n",
       "    <tr>\n",
       "      <th>620</th>\n",
       "      <td>spn_fmi_5394_5</td>\n",
       "      <td>0.016370</td>\n",
       "    </tr>\n",
       "    <tr>\n",
       "      <th>193</th>\n",
       "      <td>spn_fmi_1761_19</td>\n",
       "      <td>0.016152</td>\n",
       "    </tr>\n",
       "    <tr>\n",
       "      <th>196</th>\n",
       "      <td>spn_fmi_1761_9</td>\n",
       "      <td>0.013359</td>\n",
       "    </tr>\n",
       "    <tr>\n",
       "      <th>379</th>\n",
       "      <td>spn_fmi_3364_9</td>\n",
       "      <td>0.011733</td>\n",
       "    </tr>\n",
       "    <tr>\n",
       "      <th>809</th>\n",
       "      <td>spn_fmi_6802_31</td>\n",
       "      <td>0.010817</td>\n",
       "    </tr>\n",
       "    <tr>\n",
       "      <th>301</th>\n",
       "      <td>spn_fmi_3216_9</td>\n",
       "      <td>0.010720</td>\n",
       "    </tr>\n",
       "    <tr>\n",
       "      <th>819</th>\n",
       "      <td>spn_fmi_74_14</td>\n",
       "      <td>0.009172</td>\n",
       "    </tr>\n",
       "    <tr>\n",
       "      <th>279</th>\n",
       "      <td>spn_fmi_3031_9</td>\n",
       "      <td>0.008824</td>\n",
       "    </tr>\n",
       "    <tr>\n",
       "      <th>322</th>\n",
       "      <td>spn_fmi_3226_9</td>\n",
       "      <td>0.008385</td>\n",
       "    </tr>\n",
       "    <tr>\n",
       "      <th>447</th>\n",
       "      <td>spn_fmi_4094_31</td>\n",
       "      <td>0.007908</td>\n",
       "    </tr>\n",
       "    <tr>\n",
       "      <th>673</th>\n",
       "      <td>spn_fmi_5742_9</td>\n",
       "      <td>0.007005</td>\n",
       "    </tr>\n",
       "    <tr>\n",
       "      <th>198</th>\n",
       "      <td>spn_fmi_1787_11</td>\n",
       "      <td>0.006644</td>\n",
       "    </tr>\n",
       "    <tr>\n",
       "      <th>678</th>\n",
       "      <td>spn_fmi_5743_9</td>\n",
       "      <td>0.005167</td>\n",
       "    </tr>\n",
       "    <tr>\n",
       "      <th>50</th>\n",
       "      <td>spn_fmi_1068_2</td>\n",
       "      <td>0.005125</td>\n",
       "    </tr>\n",
       "    <tr>\n",
       "      <th>445</th>\n",
       "      <td>spn_fmi_4094_1</td>\n",
       "      <td>0.004902</td>\n",
       "    </tr>\n",
       "    <tr>\n",
       "      <th>696</th>\n",
       "      <td>spn_fmi_5848_9</td>\n",
       "      <td>0.004631</td>\n",
       "    </tr>\n",
       "  </tbody>\n",
       "</table>\n",
       "</div>"
      ],
      "text/plain": [
       "             spn_fmi  rel_frequency\n",
       "142  spn_fmi_1569_31       0.115231\n",
       "446  spn_fmi_4094_18       0.049594\n",
       "617  spn_fmi_5394_17       0.022633\n",
       "368  spn_fmi_3362_31       0.020105\n",
       "620   spn_fmi_5394_5       0.016370\n",
       "193  spn_fmi_1761_19       0.016152\n",
       "196   spn_fmi_1761_9       0.013359\n",
       "379   spn_fmi_3364_9       0.011733\n",
       "809  spn_fmi_6802_31       0.010817\n",
       "301   spn_fmi_3216_9       0.010720\n",
       "819    spn_fmi_74_14       0.009172\n",
       "279   spn_fmi_3031_9       0.008824\n",
       "322   spn_fmi_3226_9       0.008385\n",
       "447  spn_fmi_4094_31       0.007908\n",
       "673   spn_fmi_5742_9       0.007005\n",
       "198  spn_fmi_1787_11       0.006644\n",
       "678   spn_fmi_5743_9       0.005167\n",
       "50    spn_fmi_1068_2       0.005125\n",
       "445   spn_fmi_4094_1       0.004902\n",
       "696   spn_fmi_5848_9       0.004631"
      ]
     },
     "execution_count": 17,
     "metadata": {},
     "output_type": "execute_result"
    }
   ],
   "source": [
    "code_differences.sort_values(by='rel_frequency', ascending=False).head(20)"
   ]
  },
  {
   "cell_type": "code",
   "execution_count": 31,
   "metadata": {},
   "outputs": [],
   "source": [
    "# I'm not exactly sure how to interpret this\n",
    "#chi2(faults_rolling.drop(columns=['EventTimeStamp','EquipmentID','spn', 'fmi']), faults_rolling['spn'])"
   ]
  },
  {
   "attachments": {},
   "cell_type": "markdown",
   "metadata": {},
   "source": [
    "Using the codes above that have a positive frequency (more likely to be associated with a derate), their distributions are very close to 0. The ones that have a negative frequency means it is more likely to not be associated with a derate."
   ]
  },
  {
   "cell_type": "code",
   "execution_count": 44,
   "metadata": {},
   "outputs": [
    {
     "data": {
      "text/html": [
       "<div>\n",
       "<style scoped>\n",
       "    .dataframe tbody tr th:only-of-type {\n",
       "        vertical-align: middle;\n",
       "    }\n",
       "\n",
       "    .dataframe tbody tr th {\n",
       "        vertical-align: top;\n",
       "    }\n",
       "\n",
       "    .dataframe thead th {\n",
       "        text-align: right;\n",
       "    }\n",
       "</style>\n",
       "<table border=\"1\" class=\"dataframe\">\n",
       "  <thead>\n",
       "    <tr style=\"text-align: right;\">\n",
       "      <th></th>\n",
       "      <th>spn_fmi_1569_31</th>\n",
       "      <th>spn_fmi_3362_31</th>\n",
       "      <th>spn_fmi_4094_18</th>\n",
       "      <th>spn_fmi_1761_19</th>\n",
       "      <th>spn_fmi_1761_9</th>\n",
       "      <th>spn_fmi_3364_9</th>\n",
       "      <th>spn_fmi_5394_17</th>\n",
       "      <th>spn_fmi_5394_5</th>\n",
       "      <th>spn_fmi_6802_31</th>\n",
       "      <th>spn_fmi_3031_9</th>\n",
       "    </tr>\n",
       "  </thead>\n",
       "  <tbody>\n",
       "    <tr>\n",
       "      <th>count</th>\n",
       "      <td>491.000000</td>\n",
       "      <td>491.000000</td>\n",
       "      <td>491.000000</td>\n",
       "      <td>491.000000</td>\n",
       "      <td>491.000000</td>\n",
       "      <td>491.000000</td>\n",
       "      <td>491.000000</td>\n",
       "      <td>491.000000</td>\n",
       "      <td>491.000000</td>\n",
       "      <td>491.000000</td>\n",
       "    </tr>\n",
       "    <tr>\n",
       "      <th>mean</th>\n",
       "      <td>0.391039</td>\n",
       "      <td>0.067210</td>\n",
       "      <td>0.164969</td>\n",
       "      <td>0.057026</td>\n",
       "      <td>0.046843</td>\n",
       "      <td>0.040733</td>\n",
       "      <td>0.075356</td>\n",
       "      <td>0.054990</td>\n",
       "      <td>0.036660</td>\n",
       "      <td>0.030550</td>\n",
       "    </tr>\n",
       "    <tr>\n",
       "      <th>std</th>\n",
       "      <td>0.735292</td>\n",
       "      <td>0.266428</td>\n",
       "      <td>0.413145</td>\n",
       "      <td>0.307735</td>\n",
       "      <td>0.247116</td>\n",
       "      <td>0.207931</td>\n",
       "      <td>0.271849</td>\n",
       "      <td>0.253608</td>\n",
       "      <td>0.268557</td>\n",
       "      <td>0.183735</td>\n",
       "    </tr>\n",
       "    <tr>\n",
       "      <th>min</th>\n",
       "      <td>0.000000</td>\n",
       "      <td>0.000000</td>\n",
       "      <td>0.000000</td>\n",
       "      <td>0.000000</td>\n",
       "      <td>0.000000</td>\n",
       "      <td>0.000000</td>\n",
       "      <td>0.000000</td>\n",
       "      <td>0.000000</td>\n",
       "      <td>0.000000</td>\n",
       "      <td>0.000000</td>\n",
       "    </tr>\n",
       "    <tr>\n",
       "      <th>25%</th>\n",
       "      <td>0.000000</td>\n",
       "      <td>0.000000</td>\n",
       "      <td>0.000000</td>\n",
       "      <td>0.000000</td>\n",
       "      <td>0.000000</td>\n",
       "      <td>0.000000</td>\n",
       "      <td>0.000000</td>\n",
       "      <td>0.000000</td>\n",
       "      <td>0.000000</td>\n",
       "      <td>0.000000</td>\n",
       "    </tr>\n",
       "    <tr>\n",
       "      <th>50%</th>\n",
       "      <td>0.000000</td>\n",
       "      <td>0.000000</td>\n",
       "      <td>0.000000</td>\n",
       "      <td>0.000000</td>\n",
       "      <td>0.000000</td>\n",
       "      <td>0.000000</td>\n",
       "      <td>0.000000</td>\n",
       "      <td>0.000000</td>\n",
       "      <td>0.000000</td>\n",
       "      <td>0.000000</td>\n",
       "    </tr>\n",
       "    <tr>\n",
       "      <th>75%</th>\n",
       "      <td>1.000000</td>\n",
       "      <td>0.000000</td>\n",
       "      <td>0.000000</td>\n",
       "      <td>0.000000</td>\n",
       "      <td>0.000000</td>\n",
       "      <td>0.000000</td>\n",
       "      <td>0.000000</td>\n",
       "      <td>0.000000</td>\n",
       "      <td>0.000000</td>\n",
       "      <td>0.000000</td>\n",
       "    </tr>\n",
       "    <tr>\n",
       "      <th>max</th>\n",
       "      <td>5.000000</td>\n",
       "      <td>2.000000</td>\n",
       "      <td>3.000000</td>\n",
       "      <td>4.000000</td>\n",
       "      <td>3.000000</td>\n",
       "      <td>2.000000</td>\n",
       "      <td>2.000000</td>\n",
       "      <td>2.000000</td>\n",
       "      <td>4.000000</td>\n",
       "      <td>2.000000</td>\n",
       "    </tr>\n",
       "  </tbody>\n",
       "</table>\n",
       "</div>"
      ],
      "text/plain": [
       "       spn_fmi_1569_31  spn_fmi_3362_31  spn_fmi_4094_18  spn_fmi_1761_19  \\\n",
       "count       491.000000       491.000000       491.000000       491.000000   \n",
       "mean          0.391039         0.067210         0.164969         0.057026   \n",
       "std           0.735292         0.266428         0.413145         0.307735   \n",
       "min           0.000000         0.000000         0.000000         0.000000   \n",
       "25%           0.000000         0.000000         0.000000         0.000000   \n",
       "50%           0.000000         0.000000         0.000000         0.000000   \n",
       "75%           1.000000         0.000000         0.000000         0.000000   \n",
       "max           5.000000         2.000000         3.000000         4.000000   \n",
       "\n",
       "       spn_fmi_1761_9  spn_fmi_3364_9  spn_fmi_5394_17  spn_fmi_5394_5  \\\n",
       "count      491.000000      491.000000       491.000000      491.000000   \n",
       "mean         0.046843        0.040733         0.075356        0.054990   \n",
       "std          0.247116        0.207931         0.271849        0.253608   \n",
       "min          0.000000        0.000000         0.000000        0.000000   \n",
       "25%          0.000000        0.000000         0.000000        0.000000   \n",
       "50%          0.000000        0.000000         0.000000        0.000000   \n",
       "75%          0.000000        0.000000         0.000000        0.000000   \n",
       "max          3.000000        2.000000         2.000000        2.000000   \n",
       "\n",
       "       spn_fmi_6802_31  spn_fmi_3031_9  \n",
       "count       491.000000      491.000000  \n",
       "mean          0.036660        0.030550  \n",
       "std           0.268557        0.183735  \n",
       "min           0.000000        0.000000  \n",
       "25%           0.000000        0.000000  \n",
       "50%           0.000000        0.000000  \n",
       "75%           0.000000        0.000000  \n",
       "max           4.000000        2.000000  "
      ]
     },
     "execution_count": 44,
     "metadata": {},
     "output_type": "execute_result"
    }
   ],
   "source": [
    "faults_rolling.loc[(faults_rolling['spn'] == 5246)][['spn_fmi_1569_31',\n",
    "\t'spn_fmi_3362_31',\n",
    "    'spn_fmi_4094_18',\n",
    "    'spn_fmi_1761_19',\n",
    "    'spn_fmi_1761_9',\n",
    "    'spn_fmi_3364_9',\n",
    "    'spn_fmi_5394_17',\n",
    "    'spn_fmi_5394_5',\n",
    "    'spn_fmi_6802_31',\n",
    "    'spn_fmi_3031_9']].describe()\n",
    "\n",
    "#.to_csv('../data/rolling_trucks.csv')"
   ]
  },
  {
   "attachments": {},
   "cell_type": "markdown",
   "metadata": {},
   "source": [
    "For the columns in faults:\n",
    "- ESS_Id – the event subscriber service event that contained the fault\n",
    "- EventTimeStamp – when the event took place\n",
    "- eventDescription – brief text of meaning of the code (not always present)\n",
    "- actionDescription – never seen this filled in\n",
    "- ecuSoftwareVersion – version string from the reporting vehicle computer system\n",
    "- ecuSerialNumber – Serial number of the reporting Engine Control Module (ECM)\n",
    "- ecuModel -Model of the reporting ECM\n",
    "- ecuMake – Manufacturer of the reporting ECM\n",
    "- ecuSource –\n",
    "- spn – Fault code being reported\n",
    "- fmi – Failure Mode associated with the Fault Code\n",
    "- active – whether the code is being set or being removed\n",
    "- activeTransitionCount – Number of times code has been set/unset\n",
    "- faultValue – never seen used\n",
    "- EquipmentID – Assigned truck number of the unit in question - 1122 different trucks\n",
    "- MCTNumber – Communications Terminal assigned to the truck\n",
    "- Latitude – Latitude at time of event\n",
    "- Longitude – Longitude at time of event\n",
    "- LocationTimeStamp – Time latitude and longitude were obtained"
   ]
  },
  {
   "attachments": {},
   "cell_type": "markdown",
   "metadata": {},
   "source": [
    "There are 1045 trucks in the dataset, 1185166 rows; 498 have partial derail, 211 total and there's 182 with both.\n",
    "\n",
    "Finding out below the trucks that have only partial derail, total, both, or neither."
   ]
  },
  {
   "cell_type": "code",
   "execution_count": 20,
   "metadata": {},
   "outputs": [],
   "source": [
    "all_trucks = faults['EquipmentID'].unique()\n",
    "partial_derate = faults.loc[(faults['spn'] == 1569) & (faults['fmi'] == 31)]['EquipmentID'].unique()\n",
    "total_derate = faults.loc[faults['spn'] == 5246]['EquipmentID'].unique()\n",
    "\n",
    "partial_derate_only = partial_derate[np.isin(partial_derate, total_derate, invert=True)]\n",
    "total_derate_only = total_derate[np.isin(total_derate, partial_derate, invert=True)]\n",
    "partial_and_total_derate = np.intersect1d(partial_derate, total_derate)\n",
    "no_derate = all_trucks[np.isin(all_trucks, partial_derate_only, invert=True) | np.isin(all_trucks, total_derate_only, invert=True)]\n",
    "\n"
   ]
  },
  {
   "cell_type": "code",
   "execution_count": 21,
   "metadata": {},
   "outputs": [
    {
     "name": "stdout",
     "output_type": "stream",
     "text": [
      "330\n",
      "28\n",
      "161\n",
      "1042\n"
     ]
    }
   ],
   "source": [
    "print(len(partial_derate_only))\n",
    "print(len(total_derate_only))\n",
    "print(len(partial_and_total_derate))\n",
    "print(len(no_derate))"
   ]
  },
  {
   "cell_type": "code",
   "execution_count": 22,
   "metadata": {},
   "outputs": [
    {
     "data": {
      "text/plain": [
       "0     323\n",
       "16     78\n",
       "15     54\n",
       "19     32\n",
       "14      4\n",
       "Name: fmi, dtype: int64"
      ]
     },
     "execution_count": 22,
     "metadata": {},
     "output_type": "execute_result"
    }
   ],
   "source": [
    "faults.loc[faults['spn'] == 5246]['fmi'].value_counts()"
   ]
  },
  {
   "attachments": {},
   "cell_type": "markdown",
   "metadata": {},
   "source": [
    "## Vehicle Diagnostic"
   ]
  },
  {
   "attachments": {},
   "cell_type": "markdown",
   "metadata": {},
   "source": [
    "For vehicle diagnostic:\n",
    "- Id -  the record Id\n",
    "- Name – the name of the diagnostic\n",
    "- Value – the value for that diagnostic\n",
    "- FaultId – foreign key to the QCJ1939Fault record"
   ]
  },
  {
   "cell_type": "code",
   "execution_count": 23,
   "metadata": {},
   "outputs": [
    {
     "data": {
      "text/html": [
       "<div>\n",
       "<style scoped>\n",
       "    .dataframe tbody tr th:only-of-type {\n",
       "        vertical-align: middle;\n",
       "    }\n",
       "\n",
       "    .dataframe tbody tr th {\n",
       "        vertical-align: top;\n",
       "    }\n",
       "\n",
       "    .dataframe thead th {\n",
       "        text-align: right;\n",
       "    }\n",
       "</style>\n",
       "<table border=\"1\" class=\"dataframe\">\n",
       "  <thead>\n",
       "    <tr style=\"text-align: right;\">\n",
       "      <th></th>\n",
       "      <th>Id</th>\n",
       "      <th>Name</th>\n",
       "      <th>Value</th>\n",
       "      <th>FaultId</th>\n",
       "    </tr>\n",
       "  </thead>\n",
       "  <tbody>\n",
       "    <tr>\n",
       "      <th>0</th>\n",
       "      <td>1</td>\n",
       "      <td>IgnStatus</td>\n",
       "      <td>False</td>\n",
       "      <td>1</td>\n",
       "    </tr>\n",
       "    <tr>\n",
       "      <th>1</th>\n",
       "      <td>2</td>\n",
       "      <td>EngineOilPressure</td>\n",
       "      <td>0</td>\n",
       "      <td>1</td>\n",
       "    </tr>\n",
       "    <tr>\n",
       "      <th>2</th>\n",
       "      <td>3</td>\n",
       "      <td>EngineOilTemperature</td>\n",
       "      <td>96.74375</td>\n",
       "      <td>1</td>\n",
       "    </tr>\n",
       "    <tr>\n",
       "      <th>3</th>\n",
       "      <td>4</td>\n",
       "      <td>TurboBoostPressure</td>\n",
       "      <td>0</td>\n",
       "      <td>1</td>\n",
       "    </tr>\n",
       "    <tr>\n",
       "      <th>4</th>\n",
       "      <td>5</td>\n",
       "      <td>EngineLoad</td>\n",
       "      <td>11</td>\n",
       "      <td>1</td>\n",
       "    </tr>\n",
       "    <tr>\n",
       "      <th>5</th>\n",
       "      <td>6</td>\n",
       "      <td>AcceleratorPedal</td>\n",
       "      <td>0</td>\n",
       "      <td>1</td>\n",
       "    </tr>\n",
       "    <tr>\n",
       "      <th>6</th>\n",
       "      <td>7</td>\n",
       "      <td>IntakeManifoldTemperature</td>\n",
       "      <td>78.8</td>\n",
       "      <td>1</td>\n",
       "    </tr>\n",
       "    <tr>\n",
       "      <th>7</th>\n",
       "      <td>8</td>\n",
       "      <td>FuelRate</td>\n",
       "      <td>0</td>\n",
       "      <td>1</td>\n",
       "    </tr>\n",
       "    <tr>\n",
       "      <th>8</th>\n",
       "      <td>9</td>\n",
       "      <td>FuelLtd</td>\n",
       "      <td>12300.907429328</td>\n",
       "      <td>1</td>\n",
       "    </tr>\n",
       "    <tr>\n",
       "      <th>9</th>\n",
       "      <td>10</td>\n",
       "      <td>EngineRpm</td>\n",
       "      <td>0</td>\n",
       "      <td>1</td>\n",
       "    </tr>\n",
       "  </tbody>\n",
       "</table>\n",
       "</div>"
      ],
      "text/plain": [
       "   Id                       Name            Value  FaultId\n",
       "0   1                  IgnStatus            False        1\n",
       "1   2          EngineOilPressure                0        1\n",
       "2   3       EngineOilTemperature         96.74375        1\n",
       "3   4         TurboBoostPressure                0        1\n",
       "4   5                 EngineLoad               11        1\n",
       "5   6           AcceleratorPedal                0        1\n",
       "6   7  IntakeManifoldTemperature             78.8        1\n",
       "7   8                   FuelRate                0        1\n",
       "8   9                    FuelLtd  12300.907429328        1\n",
       "9  10                  EngineRpm                0        1"
      ]
     },
     "execution_count": 23,
     "metadata": {},
     "output_type": "execute_result"
    }
   ],
   "source": [
    "vehicle_diagnostic.head(10)"
   ]
  },
  {
   "cell_type": "code",
   "execution_count": 24,
   "metadata": {},
   "outputs": [
    {
     "data": {
      "text/html": [
       "<div>\n",
       "<style scoped>\n",
       "    .dataframe tbody tr th:only-of-type {\n",
       "        vertical-align: middle;\n",
       "    }\n",
       "\n",
       "    .dataframe tbody tr th {\n",
       "        vertical-align: top;\n",
       "    }\n",
       "\n",
       "    .dataframe thead th {\n",
       "        text-align: right;\n",
       "    }\n",
       "</style>\n",
       "<table border=\"1\" class=\"dataframe\">\n",
       "  <thead>\n",
       "    <tr style=\"text-align: right;\">\n",
       "      <th></th>\n",
       "      <th>Published in CES 14602</th>\n",
       "      <th>Cummins Fault Code</th>\n",
       "      <th>Revision</th>\n",
       "      <th>PID</th>\n",
       "      <th>SID</th>\n",
       "      <th>MID</th>\n",
       "      <th>J1587 FMI</th>\n",
       "      <th>SPN</th>\n",
       "      <th>J1939 FMI</th>\n",
       "      <th>J2012 Pcode</th>\n",
       "      <th>Lamp Color</th>\n",
       "      <th>Lamp Device</th>\n",
       "      <th>Cummins Description</th>\n",
       "      <th>Algorithm Description</th>\n",
       "    </tr>\n",
       "  </thead>\n",
       "  <tbody>\n",
       "    <tr>\n",
       "      <th>0</th>\n",
       "      <td>Y</td>\n",
       "      <td>111</td>\n",
       "      <td>167</td>\n",
       "      <td>Not Mapped</td>\n",
       "      <td>254</td>\n",
       "      <td>0</td>\n",
       "      <td>12</td>\n",
       "      <td>629</td>\n",
       "      <td>12</td>\n",
       "      <td>P0606</td>\n",
       "      <td>Red</td>\n",
       "      <td>Stop / Shutdown</td>\n",
       "      <td>Engine Control Module Critical Internal Failur...</td>\n",
       "      <td>Error internal to the ECM related to memory ha...</td>\n",
       "    </tr>\n",
       "    <tr>\n",
       "      <th>1</th>\n",
       "      <td>Y</td>\n",
       "      <td>112</td>\n",
       "      <td>167</td>\n",
       "      <td>Not Mapped</td>\n",
       "      <td>20</td>\n",
       "      <td>128</td>\n",
       "      <td>7</td>\n",
       "      <td>635</td>\n",
       "      <td>7</td>\n",
       "      <td>Not Mapped</td>\n",
       "      <td>Red</td>\n",
       "      <td>Stop / Shutdown</td>\n",
       "      <td>Engine Timing Actuator Driver Circuit - Mechan...</td>\n",
       "      <td>Mechanical failure in the engine timing actuat...</td>\n",
       "    </tr>\n",
       "    <tr>\n",
       "      <th>2</th>\n",
       "      <td>Y</td>\n",
       "      <td>113</td>\n",
       "      <td>167</td>\n",
       "      <td>Not Mapped</td>\n",
       "      <td>20</td>\n",
       "      <td>128</td>\n",
       "      <td>3</td>\n",
       "      <td>635</td>\n",
       "      <td>3</td>\n",
       "      <td>Not Mapped</td>\n",
       "      <td>Amber</td>\n",
       "      <td>Warning</td>\n",
       "      <td>Engine Timing Actuator Driver Circuit - Voltag...</td>\n",
       "      <td>High signal voltage detected at the engine tim...</td>\n",
       "    </tr>\n",
       "    <tr>\n",
       "      <th>3</th>\n",
       "      <td>Y</td>\n",
       "      <td>114</td>\n",
       "      <td>167</td>\n",
       "      <td>Not Mapped</td>\n",
       "      <td>20</td>\n",
       "      <td>128</td>\n",
       "      <td>4</td>\n",
       "      <td>635</td>\n",
       "      <td>4</td>\n",
       "      <td>Not Mapped</td>\n",
       "      <td>Amber</td>\n",
       "      <td>Warning</td>\n",
       "      <td>Engine Timing Actuator Driver Circuit - Voltag...</td>\n",
       "      <td>Low voltage detected at the engine timing actu...</td>\n",
       "    </tr>\n",
       "    <tr>\n",
       "      <th>4</th>\n",
       "      <td>Y</td>\n",
       "      <td>115</td>\n",
       "      <td>167</td>\n",
       "      <td>190</td>\n",
       "      <td>Not Mapped</td>\n",
       "      <td>Not Mapped</td>\n",
       "      <td>2</td>\n",
       "      <td>612</td>\n",
       "      <td>2</td>\n",
       "      <td>P0008</td>\n",
       "      <td>Red</td>\n",
       "      <td>Stop / Shutdown</td>\n",
       "      <td>Engine Magnetic Speed/Position Lost Both of Tw...</td>\n",
       "      <td>The ECM has detected that the primary and back...</td>\n",
       "    </tr>\n",
       "  </tbody>\n",
       "</table>\n",
       "</div>"
      ],
      "text/plain": [
       "  Published in CES 14602  Cummins Fault Code  Revision         PID  \\\n",
       "0                      Y                 111       167  Not Mapped   \n",
       "1                      Y                 112       167  Not Mapped   \n",
       "2                      Y                 113       167  Not Mapped   \n",
       "3                      Y                 114       167  Not Mapped   \n",
       "4                      Y                 115       167         190   \n",
       "\n",
       "          SID         MID  J1587 FMI  SPN  J1939 FMI J2012 Pcode Lamp Color  \\\n",
       "0         254           0         12  629         12       P0606        Red   \n",
       "1          20         128          7  635          7  Not Mapped        Red   \n",
       "2          20         128          3  635          3  Not Mapped      Amber   \n",
       "3          20         128          4  635          4  Not Mapped      Amber   \n",
       "4  Not Mapped  Not Mapped          2  612          2       P0008        Red   \n",
       "\n",
       "       Lamp Device                                Cummins Description  \\\n",
       "0  Stop / Shutdown  Engine Control Module Critical Internal Failur...   \n",
       "1  Stop / Shutdown  Engine Timing Actuator Driver Circuit - Mechan...   \n",
       "2          Warning  Engine Timing Actuator Driver Circuit - Voltag...   \n",
       "3          Warning  Engine Timing Actuator Driver Circuit - Voltag...   \n",
       "4  Stop / Shutdown  Engine Magnetic Speed/Position Lost Both of Tw...   \n",
       "\n",
       "                               Algorithm Description  \n",
       "0  Error internal to the ECM related to memory ha...  \n",
       "1  Mechanical failure in the engine timing actuat...  \n",
       "2  High signal voltage detected at the engine tim...  \n",
       "3  Low voltage detected at the engine timing actu...  \n",
       "4  The ECM has detected that the primary and back...  "
      ]
     },
     "execution_count": 24,
     "metadata": {},
     "output_type": "execute_result"
    }
   ],
   "source": [
    "service_fault.head()"
   ]
  },
  {
   "cell_type": "code",
   "execution_count": null,
   "metadata": {},
   "outputs": [],
   "source": []
  }
 ],
 "metadata": {
  "kernelspec": {
   "display_name": "base",
   "language": "python",
   "name": "python3"
  },
  "language_info": {
   "codemirror_mode": {
    "name": "ipython",
    "version": 3
   },
   "file_extension": ".py",
   "mimetype": "text/x-python",
   "name": "python",
   "nbconvert_exporter": "python",
   "pygments_lexer": "ipython3",
   "version": "3.9.12"
  },
  "orig_nbformat": 4
 },
 "nbformat": 4,
 "nbformat_minor": 2
}
