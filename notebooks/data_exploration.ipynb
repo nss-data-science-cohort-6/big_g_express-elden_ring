{
 "cells": [
  {
   "attachments": {},
   "cell_type": "markdown",
   "metadata": {},
   "source": [
    "# Big G Express - Data Exploration\n",
    "\n",
    "## Team: Elden Ring"
   ]
  },
  {
   "attachments": {},
   "cell_type": "markdown",
   "metadata": {},
   "source": [
    "<img src=\"https://eldenring.wiki.fextralife.com/file/Elden-Ring/mirel_pastor_of_vow.jpg\" alt=\"PRAISE DOG\" style=\"width:806px;height:600px;\"/>\n",
    "\n",
    "#### PRAISE THE DOG!"
   ]
  },
  {
   "cell_type": "code",
   "execution_count": 75,
   "metadata": {},
   "outputs": [],
   "source": [
    "import pandas as pd\n",
    "import numpy as np\n",
    "from datetime import datetime\n",
    "from sklearn.feature_selection import chi2"
   ]
  },
  {
   "cell_type": "code",
   "execution_count": 2,
   "metadata": {},
   "outputs": [
    {
     "name": "stderr",
     "output_type": "stream",
     "text": [
      "/Users/tomoumer/opt/anaconda3/lib/python3.9/site-packages/openpyxl/worksheet/_read_only.py:79: UserWarning: Data Validation extension is not supported and will be removed\n",
      "  for idx, row in parser.parse():\n"
     ]
    }
   ],
   "source": [
    "faults = pd.read_csv('../data/J1939Faults.csv', low_memory=False, parse_dates=['EventTimeStamp', 'LocationTimeStamp']) #index_col='EventTimeStamp'\n",
    "service_fault = pd.read_excel('../data/Service Fault Codes_1_0_0_167.xlsx')\n",
    "vehicle_diagnostic = pd.read_csv('../data/VehicleDiagnosticOnboardData.csv')\n"
   ]
  },
  {
   "attachments": {},
   "cell_type": "markdown",
   "metadata": {},
   "source": [
    "Few keyponts from questions to Josh Treet: \n",
    "- throw 2001 dates out (the super old), mistake with an integer overflow that took a few days to correct\n",
    "- any time telling before a derate is great\n",
    "- derates are going to be related to emissions conditions\n",
    "- coolant level codes (and some others) can often flip between on and off\n",
    "- derate + light continuing on, it's the same event (a pulse of it)\n",
    "- spn + fmi together determine the fault code\n",
    "- most trucks fairly similar/same (within like 4 years)\n",
    "- maybe costs about $500 if misspredicted potential derate "
   ]
  },
  {
   "attachments": {},
   "cell_type": "markdown",
   "metadata": {},
   "source": [
    "## Exploratory Data Analysis"
   ]
  },
  {
   "cell_type": "code",
   "execution_count": 3,
   "metadata": {},
   "outputs": [
    {
     "name": "stdout",
     "output_type": "stream",
     "text": [
      "(1187335, 20)\n",
      "(7124, 14)\n",
      "(12821626, 4)\n"
     ]
    }
   ],
   "source": [
    "print(faults.shape)\n",
    "print(service_fault.shape)\n",
    "print(vehicle_diagnostic.shape)"
   ]
  },
  {
   "attachments": {},
   "cell_type": "markdown",
   "metadata": {},
   "source": [
    "Faults joins to vehicle_diagnostic with RecordID = FaultID\n",
    "\n",
    "Also, columns actionDescription and faultValue in the faults are unused.\n",
    "\n",
    "`faults['actionDescription'].isna().sum()`\n",
    "\n",
    "We also remove 2169 EquipmentID that have more than 5 characters"
   ]
  },
  {
   "cell_type": "code",
   "execution_count": 4,
   "metadata": {},
   "outputs": [],
   "source": [
    "faults = (\n",
    "    faults.drop(['actionDescription', 'faultValue'], axis=1)\n",
    "    [faults['EquipmentID'].str.len() <= 5]\n",
    ")"
   ]
  },
  {
   "attachments": {},
   "cell_type": "markdown",
   "metadata": {},
   "source": [
    "There are three service locations that appear in the dataset. The fault signals might be going on and off there. In order to eliminate those counts, we check if the Latitutde and Longitude coordinates of the truck are within 0.01 units (in both Lat and Long directions) next to a service location. The 0.01 represent, roughly, the distance of a mile.\n",
    "\n",
    "Doing so, we eliminate 131778 events."
   ]
  },
  {
   "cell_type": "code",
   "execution_count": 5,
   "metadata": {},
   "outputs": [],
   "source": [
    "for lat, lon in [(36.0666667, -86.4347222), (35.5883333, -86.4438888), (36.1950, -83.174722)]:\n",
    "    \n",
    "    faults = faults.loc[~((abs(lat - faults['Latitude']) <= 0.01) &\n",
    "                          (abs(lon - faults['Longitude']) <= 0.01))]"
   ]
  },
  {
   "attachments": {},
   "cell_type": "markdown",
   "metadata": {},
   "source": [
    "Also filter out all erroneous years, 2011 or earlier, (394 lines), caused by an integer error"
   ]
  },
  {
   "cell_type": "code",
   "execution_count": 6,
   "metadata": {},
   "outputs": [],
   "source": [
    "faults = faults.loc[faults['EventTimeStamp'].dt.year > 2011]"
   ]
  },
  {
   "attachments": {},
   "cell_type": "markdown",
   "metadata": {},
   "source": [
    "Finally, remove the rows where 'active' column is False -> those represent where an indicator was turned off (506690) rows.\n",
    "\n",
    "So we end up with 546674 rows in faults."
   ]
  },
  {
   "cell_type": "code",
   "execution_count": 12,
   "metadata": {},
   "outputs": [],
   "source": [
    "faults = faults.loc[faults['active'] == True]"
   ]
  },
  {
   "attachments": {},
   "cell_type": "markdown",
   "metadata": {},
   "source": [
    "Next, combine the spn and fmi columns together in order to get them ready to one hot encode and use in the rolling window."
   ]
  },
  {
   "cell_type": "code",
   "execution_count": 14,
   "metadata": {},
   "outputs": [],
   "source": [
    "faults['spn_fmi'] = ['_'.join(i) for i in zip(faults['spn'].astype(str), faults['fmi'].astype(str))]"
   ]
  },
  {
   "cell_type": "code",
   "execution_count": 15,
   "metadata": {},
   "outputs": [],
   "source": [
    "faults_encoded = pd.get_dummies(faults, columns=['spn_fmi'], prefix='spn_fmi')"
   ]
  },
  {
   "cell_type": "code",
   "execution_count": 16,
   "metadata": {},
   "outputs": [],
   "source": [
    "# ordering by time in order to have the rolling window later\n",
    "faults_encoded = faults_encoded.sort_values(by='EventTimeStamp')"
   ]
  },
  {
   "cell_type": "code",
   "execution_count": 17,
   "metadata": {},
   "outputs": [],
   "source": [
    "# to obtain the one hot encoded columns since there are so many\n",
    "spnfmi_cols = [col for col in faults_encoded.columns if 'spn_fmi' in col]\n",
    "fixed_cols = ['spn', 'fmi']"
   ]
  },
  {
   "cell_type": "code",
   "execution_count": null,
   "metadata": {},
   "outputs": [],
   "source": [
    "# for some reason, the agg function with sum works without grouping by;\n",
    "# but when added the groupby, it just keeps running without being able to complete\n",
    "\n",
    "# d1 = dict.fromkeys(fixed_cols, lambda x: x[-1]) #this function gets the last value in group!\n",
    "# d2 = dict.fromkeys(spnfmi_cols, 'sum')\n",
    "\n",
    "# d = {**d1, **d2}\n",
    "\n",
    "# faults_encoded.groupby('EquipmentID')[['EventTimeStamp'] + fixed_cols + spnfmi_cols].rolling(window = '1d', on = \"EventTimeStamp\").agg(d)"
   ]
  },
  {
   "cell_type": "code",
   "execution_count": 18,
   "metadata": {},
   "outputs": [],
   "source": [
    "# note that you can use groupby and then rolling window!\n",
    "faults_rolling = faults_encoded.groupby('EquipmentID')[['EventTimeStamp'] + spnfmi_cols].rolling(window = '1d', on = \"EventTimeStamp\").sum()\n",
    "\n",
    "faults_rolling = faults_rolling.reset_index()"
   ]
  },
  {
   "cell_type": "code",
   "execution_count": 19,
   "metadata": {},
   "outputs": [],
   "source": [
    "# to bring in back the spn and fmi information - this was an alternative since the arg made the kernel crash!\n",
    "faults_rolling = pd.merge(faults_encoded[fixed_cols], faults_rolling, left_index= True, right_on = 'level_1').drop(columns='level_1')"
   ]
  },
  {
   "attachments": {},
   "cell_type": "markdown",
   "metadata": {},
   "source": [
    "randomly sampling 1000 rows of past 24 hrs. we see that the most common fault are:\n",
    "- 111-17, coolant level below normal, low severity\n",
    "- 929-9, abnormal update? rate tire location\n",
    "- 96-3, high voltage in fuel level\n",
    "- 829-3, high voltage left fuel level\n",
    "- 596-31, Condition Exists Cruise Control Enable Switch\n",
    "- 111-18, Low engine coolant level detected, med severity\n",
    "- 51923-0, ???????????\n",
    "- 4096-0, High (Severity High) NOx limits exceeded due t....\n",
    "- 97-15, High (Severity Low) Water In Fuel Indicator; Water has been detected in the fuel filter.\n",
    "- 639-2, Incorrect Data J1939 Network #1; The ECM has a communication error.\n",
    "- 629-12, ECM power supply errors / ECM error / ECM data lost\n",
    "- 2863-7, Not Reporting Data Front Operator Wiper Switch, \n",
    "- 1068-2, Incorrect Data Brake Signal Sensor 2, \n",
    "- 50353_0, ??????\n",
    "- 1807_2, Incorrect Data Steering Wheel Angle\n",
    "- 807_5, Low Current Dif 2 - ASR Valve\n",
    "- 611_14, Special Instructions System Diagnostic Code #1\n",
    "- 0_0, ???\n",
    "- 4276_0, ???\n",
    "- 412_0, High (Severity High) Engine Exhaust Gas Recirc...; The EGR temperature sensor indicates that the\n",
    "\n"
   ]
  },
  {
   "attachments": {},
   "cell_type": "markdown",
   "metadata": {},
   "source": [
    "Some events we couldn't find the description for.\n",
    "\n",
    "Now onto figuring out which SPN and FMI might be useful for predicting a derate. the logic here is to randomly sample rows and compare the frequency of codes present there, with respect of the frequency of codes present where a derate occured."
   ]
  },
  {
   "cell_type": "code",
   "execution_count": 110,
   "metadata": {},
   "outputs": [],
   "source": [
    "sample_codes = (\n",
    "    faults_rolling\n",
    "        .sample(5000)\n",
    "        .drop(columns=['EventTimeStamp','EquipmentID','spn', 'fmi'])\n",
    "        .sum()\n",
    ")\n",
    "\n",
    "# 928 rows have derate as current event\n",
    "derate_codes = (\n",
    "    faults_rolling\n",
    "        .loc[faults_rolling['spn'] == 5246]\n",
    "        .drop(columns=['EventTimeStamp','EquipmentID','spn', 'fmi'])\n",
    "        .sum()\n",
    ")\n",
    "\n",
    "code_differences = (derate_codes / derate_codes.sum()) - (sample_codes / sample_codes.sum())"
   ]
  },
  {
   "cell_type": "code",
   "execution_count": 111,
   "metadata": {},
   "outputs": [],
   "source": [
    "# note 5246 are all derates ... .sort_values(ascending=False).head(20)\n",
    "code_differences = (\n",
    "    code_differences\n",
    "    .to_frame()\n",
    "    .reset_index()\n",
    "    .rename(columns={'index': 'spn_fmi', 0:'rel_frequency'})\n",
    ")\n",
    "\n",
    "# I did it kinda backwards; these need to be eliminated earlier\n",
    "code_differences = code_differences.loc[~code_differences['spn_fmi'].str.contains('5246')]"
   ]
  },
  {
   "cell_type": "code",
   "execution_count": 113,
   "metadata": {},
   "outputs": [
    {
     "data": {
      "text/html": [
       "<div>\n",
       "<style scoped>\n",
       "    .dataframe tbody tr th:only-of-type {\n",
       "        vertical-align: middle;\n",
       "    }\n",
       "\n",
       "    .dataframe tbody tr th {\n",
       "        vertical-align: top;\n",
       "    }\n",
       "\n",
       "    .dataframe thead th {\n",
       "        text-align: right;\n",
       "    }\n",
       "</style>\n",
       "<table border=\"1\" class=\"dataframe\">\n",
       "  <thead>\n",
       "    <tr style=\"text-align: right;\">\n",
       "      <th></th>\n",
       "      <th>spn_fmi</th>\n",
       "      <th>rel_frequency</th>\n",
       "    </tr>\n",
       "  </thead>\n",
       "  <tbody>\n",
       "    <tr>\n",
       "      <th>142</th>\n",
       "      <td>spn_fmi_1569_31</td>\n",
       "      <td>0.152800</td>\n",
       "    </tr>\n",
       "    <tr>\n",
       "      <th>368</th>\n",
       "      <td>spn_fmi_3362_31</td>\n",
       "      <td>0.033332</td>\n",
       "    </tr>\n",
       "    <tr>\n",
       "      <th>446</th>\n",
       "      <td>spn_fmi_4094_18</td>\n",
       "      <td>0.031990</td>\n",
       "    </tr>\n",
       "    <tr>\n",
       "      <th>193</th>\n",
       "      <td>spn_fmi_1761_19</td>\n",
       "      <td>0.020596</td>\n",
       "    </tr>\n",
       "    <tr>\n",
       "      <th>196</th>\n",
       "      <td>spn_fmi_1761_9</td>\n",
       "      <td>0.019046</td>\n",
       "    </tr>\n",
       "    <tr>\n",
       "      <th>...</th>\n",
       "      <td>...</td>\n",
       "      <td>...</td>\n",
       "    </tr>\n",
       "    <tr>\n",
       "      <th>449</th>\n",
       "      <td>spn_fmi_4096_0</td>\n",
       "      <td>-0.089148</td>\n",
       "    </tr>\n",
       "    <tr>\n",
       "      <th>69</th>\n",
       "      <td>spn_fmi_111_17</td>\n",
       "      <td>-0.098143</td>\n",
       "    </tr>\n",
       "    <tr>\n",
       "      <th>948</th>\n",
       "      <td>spn_fmi_929_9</td>\n",
       "      <td>-0.100353</td>\n",
       "    </tr>\n",
       "    <tr>\n",
       "      <th>921</th>\n",
       "      <td>spn_fmi_829_3</td>\n",
       "      <td>-0.115545</td>\n",
       "    </tr>\n",
       "    <tr>\n",
       "      <th>973</th>\n",
       "      <td>spn_fmi_96_3</td>\n",
       "      <td>-0.147088</td>\n",
       "    </tr>\n",
       "  </tbody>\n",
       "</table>\n",
       "<p>978 rows × 2 columns</p>\n",
       "</div>"
      ],
      "text/plain": [
       "             spn_fmi  rel_frequency\n",
       "142  spn_fmi_1569_31       0.152800\n",
       "368  spn_fmi_3362_31       0.033332\n",
       "446  spn_fmi_4094_18       0.031990\n",
       "193  spn_fmi_1761_19       0.020596\n",
       "196   spn_fmi_1761_9       0.019046\n",
       "..               ...            ...\n",
       "449   spn_fmi_4096_0      -0.089148\n",
       "69    spn_fmi_111_17      -0.098143\n",
       "948    spn_fmi_929_9      -0.100353\n",
       "921    spn_fmi_829_3      -0.115545\n",
       "973     spn_fmi_96_3      -0.147088\n",
       "\n",
       "[978 rows x 2 columns]"
      ]
     },
     "execution_count": 113,
     "metadata": {},
     "output_type": "execute_result"
    }
   ],
   "source": [
    "code_differences.sort_values(by='rel_frequency', ascending=False)"
   ]
  },
  {
   "cell_type": "code",
   "execution_count": 87,
   "metadata": {},
   "outputs": [],
   "source": [
    "# I'm not exactly sure how to interpret this\n",
    "#chi2(faults_rolling.drop(columns=['EventTimeStamp','EquipmentID','spn', 'fmi']), faults_rolling['spn'])"
   ]
  },
  {
   "attachments": {},
   "cell_type": "markdown",
   "metadata": {},
   "source": [
    "The end results are these (positive numbers mean these codes occured with a derate at the end, negavitve mean the opposite - no derate at the end).\n",
    "- spn_fmi_1569_31    0.153992\n",
    "- spn_fmi_3362_31    0.033548\n",
    "- spn_fmi_4094_18    0.032013\n",
    "- spn_fmi_1761_19    0.020426\n",
    "- spn_fmi_1761_9     0.018891\n",
    "- spn_fmi_3364_9     0.016721\n",
    "- spn_fmi_5394_17    0.016165\n",
    "- spn_fmi_5394_5     0.012213\n",
    "- spn_fmi_6802_31    0.011312\n",
    "- spn_fmi_3031_9     0.010798\n",
    "\n",
    "- spn_fmi_0_0       -0.010679\n",
    "- spn_fmi_596_31    -0.015601\n",
    "- spn_fmi_4276_0    -0.021850\n",
    "- spn_fmi_51923_0   -0.072363\n",
    "- spn_fmi_4096_0    -0.074337\n",
    "- spn_fmi_111_17    -0.099292\n",
    "- spn_fmi_929_9     -0.103831\n",
    "- spn_fmi_829_3     -0.125463\n",
    "- spn_fmi_96_3      -0.163479"
   ]
  },
  {
   "attachments": {},
   "cell_type": "markdown",
   "metadata": {},
   "source": [
    "For the columns in faults:\n",
    "- ESS_Id – the event subscriber service event that contained the fault\n",
    "- EventTimeStamp – when the event took place\n",
    "- eventDescription – brief text of meaning of the code (not always present)\n",
    "- actionDescription – never seen this filled in\n",
    "- ecuSoftwareVersion – version string from the reporting vehicle computer system\n",
    "- ecuSerialNumber – Serial number of the reporting Engine Control Module (ECM)\n",
    "- ecuModel -Model of the reporting ECM\n",
    "- ecuMake – Manufacturer of the reporting ECM\n",
    "- ecuSource –\n",
    "- spn – Fault code being reported\n",
    "- fmi – Failure Mode associated with the Fault Code\n",
    "- active – whether the code is being set or being removed\n",
    "- activeTransitionCount – Number of times code has been set/unset\n",
    "- faultValue – never seen used\n",
    "- EquipmentID – Assigned truck number of the unit in question - 1122 different trucks\n",
    "- MCTNumber – Communications Terminal assigned to the truck\n",
    "- Latitude – Latitude at time of event\n",
    "- Longitude – Longitude at time of event\n",
    "- LocationTimeStamp – Time latitude and longitude were obtained"
   ]
  },
  {
   "attachments": {},
   "cell_type": "markdown",
   "metadata": {},
   "source": [
    "There are 1045 trucks in the dataset, 1185166 rows; 498 have partial derail, 211 total and there's 182 with both.\n",
    "\n",
    "Finding out below the trucks that have only partial derail, total, both, or neither."
   ]
  },
  {
   "cell_type": "code",
   "execution_count": 71,
   "metadata": {},
   "outputs": [],
   "source": [
    "all_trucks = faults['EquipmentID'].unique()\n",
    "partial_derate = faults.loc[(faults['spn'] == 1569) & (faults['fmi'] == 31)]['EquipmentID'].unique()\n",
    "total_derate = faults.loc[faults['spn'] == 5246]['EquipmentID'].unique()\n",
    "\n",
    "partial_derate_only = partial_derate[np.isin(partial_derate, total_derate, invert=True)]\n",
    "total_derate_only = total_derate[np.isin(total_derate, partial_derate, invert=True)]\n",
    "partial_and_total_derate = np.intersect1d(partial_derate, total_derate)\n",
    "no_derate = all_trucks[np.isin(all_trucks, partial_derate_only, invert=True) | np.isin(all_trucks, total_derate_only, invert=True)]\n",
    "\n"
   ]
  },
  {
   "cell_type": "code",
   "execution_count": 72,
   "metadata": {},
   "outputs": [
    {
     "name": "stdout",
     "output_type": "stream",
     "text": [
      "330\n",
      "28\n",
      "161\n",
      "1042\n"
     ]
    }
   ],
   "source": [
    "print(len(partial_derate_only))\n",
    "print(len(total_derate_only))\n",
    "print(len(partial_and_total_derate))\n",
    "print(len(no_derate))"
   ]
  },
  {
   "cell_type": "code",
   "execution_count": 73,
   "metadata": {},
   "outputs": [
    {
     "data": {
      "text/plain": [
       "0     323\n",
       "16     78\n",
       "15     54\n",
       "19     32\n",
       "14      4\n",
       "Name: fmi, dtype: int64"
      ]
     },
     "execution_count": 73,
     "metadata": {},
     "output_type": "execute_result"
    }
   ],
   "source": [
    "faults.loc[faults['spn'] == 5246]['fmi'].value_counts()"
   ]
  },
  {
   "attachments": {},
   "cell_type": "markdown",
   "metadata": {},
   "source": [
    "## Vehicle Diagnostic"
   ]
  },
  {
   "attachments": {},
   "cell_type": "markdown",
   "metadata": {},
   "source": [
    "For vehicle diagnostic:\n",
    "- Id -  the record Id\n",
    "- Name – the name of the diagnostic\n",
    "- Value – the value for that diagnostic\n",
    "- FaultId – foreign key to the QCJ1939Fault record"
   ]
  },
  {
   "cell_type": "code",
   "execution_count": null,
   "metadata": {},
   "outputs": [],
   "source": [
    "vehicle_diagnostic.head(10)"
   ]
  },
  {
   "cell_type": "code",
   "execution_count": null,
   "metadata": {},
   "outputs": [],
   "source": [
    "service_fault.head()"
   ]
  },
  {
   "cell_type": "code",
   "execution_count": null,
   "metadata": {},
   "outputs": [],
   "source": []
  }
 ],
 "metadata": {
  "kernelspec": {
   "display_name": "base",
   "language": "python",
   "name": "python3"
  },
  "language_info": {
   "codemirror_mode": {
    "name": "ipython",
    "version": 3
   },
   "file_extension": ".py",
   "mimetype": "text/x-python",
   "name": "python",
   "nbconvert_exporter": "python",
   "pygments_lexer": "ipython3",
   "version": "3.9.12"
  },
  "orig_nbformat": 4
 },
 "nbformat": 4,
 "nbformat_minor": 2
}
